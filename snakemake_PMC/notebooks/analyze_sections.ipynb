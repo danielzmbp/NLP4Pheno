{
 "cells": [
  {
   "cell_type": "code",
   "execution_count": 1,
   "metadata": {},
   "outputs": [
    {
     "name": "stderr",
     "output_type": "stream",
     "text": [
      "/scratch/slurm_tmpdir/job_23291498/ipykernel_516615/518065687.py:2: TqdmWarning: IProgress not found. Please update jupyter and ipywidgets. See https://ipywidgets.readthedocs.io/en/stable/user_install.html\n",
      "  from tqdm.autonotebook import tqdm\n"
     ]
    }
   ],
   "source": [
    "import pandas as pd\n",
    "from tqdm.autonotebook import tqdm\n",
    "from lingua import Language, LanguageDetectorBuilder\n",
    "import polars as pl"
   ]
  },
  {
   "cell_type": "markdown",
   "metadata": {},
   "source": [
    "### Imports"
   ]
  },
  {
   "cell_type": "code",
   "execution_count": null,
   "metadata": {},
   "outputs": [],
   "source": [
    "# FILEPATH: /home/gomez/biobert-pytorch/snakemake_pmc/notebooks/analyze_sections.ipynb\n",
    "df = pl.read_parquet('../pmc_tmp.parquet')"
   ]
  },
  {
   "cell_type": "code",
   "execution_count": null,
   "metadata": {},
   "outputs": [],
   "source": [
    "df"
   ]
  },
  {
   "cell_type": "code",
   "execution_count": 5,
   "metadata": {},
   "outputs": [],
   "source": [
    "df = df.filter(pl.col(\"text\").str.len_chars() >= 40)"
   ]
  },
  {
   "cell_type": "code",
   "execution_count": 7,
   "metadata": {},
   "outputs": [],
   "source": [
    "df = df.drop(['paragraph', 'sentence',\"__index_level_0__\"])\n"
   ]
  },
  {
   "cell_type": "code",
   "execution_count": 33,
   "metadata": {},
   "outputs": [],
   "source": [
    "df = pl.read_parquet('temporary.parquet')"
   ]
  },
  {
   "cell_type": "code",
   "execution_count": 39,
   "metadata": {
    "notebookRunGroups": {
     "groupValue": "2"
    }
   },
   "outputs": [],
   "source": [
    "df = df.drop(\"english_confidence_values\")"
   ]
  },
  {
   "cell_type": "markdown",
   "metadata": {},
   "source": [
    "### Data"
   ]
  },
  {
   "cell_type": "code",
   "execution_count": 40,
   "metadata": {},
   "outputs": [],
   "source": [
    "languages = [Language.ENGLISH, Language.FRENCH, Language.GERMAN, Language.SPANISH,Language.RUSSIAN,Language.CHINESE,Language.JAPANESE,Language.PORTUGUESE] \n",
    "detector = LanguageDetectorBuilder.from_languages(*languages).build()"
   ]
  },
  {
   "cell_type": "code",
   "execution_count": 41,
   "metadata": {},
   "outputs": [],
   "source": [
    "confidences = []\n",
    "texts = df[\"text\"].to_list()\n",
    "chunk_size = 2000000\n",
    "for i in tqdm(range(0, len(texts), chunk_size)):\n",
    "\tchunk = texts[i:i+chunk_size]\n",
    "\tconfidences.extend(detector.compute_language_confidence_values_in_parallel(chunk))\n"
   ]
  },
  {
   "cell_type": "code",
   "execution_count": 28,
   "metadata": {},
   "outputs": [
    {
     "ename": "AttributeError",
     "evalue": "'list' object has no attribute 'language'",
     "output_type": "error",
     "traceback": [
      "\u001b[0;31m---------------------------------------------------------------------------\u001b[0m",
      "\u001b[0;31mAttributeError\u001b[0m                            Traceback (most recent call last)",
      "Cell \u001b[0;32mIn[28], line 1\u001b[0m\n\u001b[0;32m----> 1\u001b[0m \u001b[43m[\u001b[49m\u001b[43mx\u001b[49m\u001b[38;5;241;43m.\u001b[39;49m\u001b[43mvalue\u001b[49m\u001b[43m \u001b[49m\u001b[38;5;28;43;01mfor\u001b[39;49;00m\u001b[43m \u001b[49m\u001b[43mx\u001b[49m\u001b[43m \u001b[49m\u001b[38;5;129;43;01min\u001b[39;49;00m\u001b[43m \u001b[49m\u001b[43mconfidences\u001b[49m\u001b[43m \u001b[49m\u001b[38;5;28;43;01mif\u001b[39;49;00m\u001b[43m \u001b[49m\u001b[43mx\u001b[49m\u001b[38;5;241;43m.\u001b[39;49m\u001b[43mlanguage\u001b[49m\u001b[43m \u001b[49m\u001b[38;5;241;43m==\u001b[39;49m\u001b[43m \u001b[49m\u001b[43mLanguage\u001b[49m\u001b[38;5;241;43m.\u001b[39;49m\u001b[43mENGLISH\u001b[49m\u001b[43m]\u001b[49m\n",
      "Cell \u001b[0;32mIn[28], line 1\u001b[0m, in \u001b[0;36m<listcomp>\u001b[0;34m(.0)\u001b[0m\n\u001b[0;32m----> 1\u001b[0m [x\u001b[38;5;241m.\u001b[39mvalue \u001b[38;5;28;01mfor\u001b[39;00m x \u001b[38;5;129;01min\u001b[39;00m confidences \u001b[38;5;28;01mif\u001b[39;00m \u001b[43mx\u001b[49m\u001b[38;5;241;43m.\u001b[39;49m\u001b[43mlanguage\u001b[49m \u001b[38;5;241m==\u001b[39m Language\u001b[38;5;241m.\u001b[39mENGLISH]\n",
      "\u001b[0;31mAttributeError\u001b[0m: 'list' object has no attribute 'language'"
     ]
    }
   ],
   "source": [
    "english_confidences = [x.value for sublist in confidences for x in sublist if x.language == Language.ENGLISH]"
   ]
  },
  {
   "cell_type": "code",
   "execution_count": null,
   "metadata": {},
   "outputs": [
    {
     "name": "stderr",
     "output_type": "stream",
     "text": [
      "/tmp/ipykernel_235816/1433537886.py:3: SettingWithCopyWarning: \n",
      "A value is trying to be set on a copy of a slice from a DataFrame.\n",
      "Try using .loc[row_indexer,col_indexer] = value instead\n",
      "\n",
      "See the caveats in the documentation: https://pandas.pydata.org/pandas-docs/stable/user_guide/indexing.html#returning-a-view-versus-a-copy\n",
      "  df_small['english_confidence_values'] = [x[0].value for x in confidences]\n"
     ]
    }
   ],
   "source": [
    "df.with_columns(pl.Series(name=\"english_confidence_values\", values=english_confidences)) "
   ]
  },
  {
   "cell_type": "code",
   "execution_count": null,
   "metadata": {},
   "outputs": [],
   "source": [
    "df = df.filter(pl.col(\"english_confidence_values\") > 0.4)"
   ]
  },
  {
   "cell_type": "code",
   "execution_count": 5,
   "metadata": {},
   "outputs": [],
   "source": [
    "df = df.drop(\"__index_level_0__\")"
   ]
  },
  {
   "cell_type": "code",
   "execution_count": 8,
   "metadata": {},
   "outputs": [],
   "source": [
    "df = df.filter(\n",
    "\t(pl.col(\"section\").str.starts_with(\"Declaration\") == False)\n",
    "\t& (pl.col(\"section\").str.starts_with(\"Contribut\") == False)\n",
    "\t& (pl.col(\"section\").str.starts_with(\"Author\") == False)\n",
    "\t& (pl.col(\"section\").str.starts_with(\"AUTHOR\") == False)\n",
    "\t& (pl.col(\"section\").str.starts_with(\"Title\") == False)\n",
    "\t& (pl.col(\"section\").str.starts_with(\"Conflict\") == False)\n",
    "\t& (pl.col(\"section\").str.starts_with(\"Data sharing\") == False)\n",
    "\t& (pl.col(\"section\").str.starts_with(\"Competing\") == False)\n",
    "\t& (pl.col(\"section\").str.starts_with(\"CONFLICT\") == False)\n",
    "\t& (pl.col(\"text\").str.starts_with(\"- Reply\") == False)\n",
    "\t& (pl.col(\"text\").str.starts_with(\"- Line\") == False)\n",
    "\t& (pl.col(\"section\").str.contains(\"(?i)ethic\") == False)\n",
    "\t& (pl.col(\"section\").str.contains(\"(?i)contributions\") == False)\n",
    "\t& (pl.col(\"section\").str.contains(\"(?i)abbreviations\") == False)\n",
    "\t& (pl.col(\"section\").str.contains(\"(?i)Funding\") == False)\n",
    "\t& (pl.col(\"section\").str.contains(\"(?i)interest\") == False)\n",
    "\t& (pl.col(\"section\").str.contains(\"(?i)data availability\") == False)\n",
    "\t& (pl.col(\"section\").str.contains(\"(?i)acknowledgement\") == False)\n",
    "\t& (pl.col(\"section\").str.contains(\"(?i)ACKNOWLEDGMENT\") == False)\n",
    "\t& (pl.col(\"section\").str.contains(\"(?i)contribution statement\") == False)\n",
    "\t& (pl.col(\"section\").str.contains(\"(?i)Reviewers\") == False)\n",
    "\t& (pl.col(\"section\").str.contains(\"(?i)Family\") == False)\n",
    "\t& (pl.col(\"section\").str.contains(\"(?i)publisher\") == False)\n",
    "\t& (pl.col(\"section\").str.contains(\"(?i)Consent\") == False)\n",
    "\t& (pl.col(\"section\").str.contains(\"(?i)Disclosure\") == False)\n",
    "\t& (pl.col(\"section\").str.contains(\"病例与方法\") == False)\n",
    "\t& (pl.col(\"section\").str.contains(\"(?i)Hintergrund\") == False)\n",
    "\t& (pl.col(\"section\").str.contains(\"(?i)contributor\") == False)\n",
    "\t& (pl.col(\"section\").str.contains(\"(?i)credit author\") == False)\n",
    "\t& (pl.col(\"section\").str.contains(\"(?i)Software availability\") == False)\n",
    ")"
   ]
  },
  {
   "cell_type": "code",
   "execution_count": null,
   "metadata": {},
   "outputs": [],
   "source": [
    "df.write_parquet('temporary_filtered.parquet')"
   ]
  },
  {
   "cell_type": "code",
   "execution_count": 2,
   "metadata": {},
   "outputs": [],
   "source": [
    "df = pl.read_parquet('temporary_filtered.parquet')"
   ]
  },
  {
   "cell_type": "code",
   "execution_count": 14,
   "metadata": {},
   "outputs": [
    {
     "data": {
      "text/plain": [
       "'En diversos estudios clínicos y epidemiológicos, se ha determinado que las altas concentraciones de leptina en el suero se relacionan con un mayor riesgo de desarrollar cáncer de mama en mujeres antes y después de la menopausia ^27.'"
      ]
     },
     "execution_count": 14,
     "metadata": {},
     "output_type": "execute_result"
    }
   ],
   "source": [
    "df.filter(pl.col(\"section\") == \"Discusión\")[\"text\"][0]\n"
   ]
  },
  {
   "cell_type": "code",
   "execution_count": 22,
   "metadata": {},
   "outputs": [
    {
     "data": {
      "text/plain": [
       "[[ConfidenceValue(language=Language.SPANISH, value=1),\n",
       "  ConfidenceValue(language=Language.PORTUGUESE, value=0.00000000000000000009874631357461278),\n",
       "  ConfidenceValue(language=Language.ENGLISH, value=0.000000000000000000000000000000005492987011162459),\n",
       "  ConfidenceValue(language=Language.GERMAN, value=0.00000000000000000000000000000000000000000000000003361995537115124),\n",
       "  ConfidenceValue(language=Language.FRENCH, value=0.00000000000000000000000000000000000000000000000000009797556881237097),\n",
       "  ConfidenceValue(language=Language.CHINESE, value=0),\n",
       "  ConfidenceValue(language=Language.JAPANESE, value=0),\n",
       "  ConfidenceValue(language=Language.RUSSIAN, value=0)]]"
      ]
     },
     "execution_count": 22,
     "metadata": {},
     "output_type": "execute_result"
    }
   ],
   "source": [
    "detector.compute_language_confidence_values_in_parallel([\"En diversos estudios clínicos y epidemiológicos, se ha determinado que las altas concentraciones de leptina en el suero se relacionan con un mayor riesgo de desarrollar cáncer de mama en mujeres antes y después de la menopausia ^27\"],)"
   ]
  },
  {
   "cell_type": "code",
   "execution_count": null,
   "metadata": {},
   "outputs": [],
   "source": []
  },
  {
   "cell_type": "code",
   "execution_count": null,
   "metadata": {},
   "outputs": [],
   "source": []
  }
 ],
 "metadata": {
  "kernelspec": {
   "display_name": "Python (base)",
   "language": "python",
   "name": "base"
  },
  "language_info": {
   "codemirror_mode": {
    "name": "ipython",
    "version": 3
   },
   "file_extension": ".py",
   "mimetype": "text/x-python",
   "name": "python",
   "nbconvert_exporter": "python",
   "pygments_lexer": "ipython3",
   "version": "3.11.8"
  }
 },
 "nbformat": 4,
 "nbformat_minor": 4
}
