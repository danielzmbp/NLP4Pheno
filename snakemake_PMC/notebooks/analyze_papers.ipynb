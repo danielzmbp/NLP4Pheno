{
 "cells": [
  {
   "cell_type": "code",
   "execution_count": 1,
   "metadata": {},
   "outputs": [],
   "source": [
    "import pandas as pd\n",
    "from glob import glob"
   ]
  },
  {
   "cell_type": "code",
   "execution_count": 2,
   "metadata": {},
   "outputs": [],
   "source": [
    "dfs = []\n",
    "for f in glob(\"../*.tsv\"):\n",
    "    df  = pd.read_csv(f, sep=\"\\t\")\n",
    "    dfs.append(df)"
   ]
  },
  {
   "cell_type": "code",
   "execution_count": 3,
   "metadata": {},
   "outputs": [],
   "source": [
    "d = pd.concat(dfs)"
   ]
  },
  {
   "cell_type": "code",
   "execution_count": 4,
   "metadata": {},
   "outputs": [
    {
     "data": {
      "text/html": [
       "<div>\n",
       "<style scoped>\n",
       "    .dataframe tbody tr th:only-of-type {\n",
       "        vertical-align: middle;\n",
       "    }\n",
       "\n",
       "    .dataframe tbody tr th {\n",
       "        vertical-align: top;\n",
       "    }\n",
       "\n",
       "    .dataframe thead th {\n",
       "        text-align: right;\n",
       "    }\n",
       "</style>\n",
       "<table border=\"1\" class=\"dataframe\">\n",
       "  <thead>\n",
       "    <tr style=\"text-align: right;\">\n",
       "      <th></th>\n",
       "      <th>Article File</th>\n",
       "      <th>Article Citation</th>\n",
       "      <th>AccessionID</th>\n",
       "      <th>LastUpdated (YYYY-MM-DD HH:MM:SS)</th>\n",
       "      <th>PMID</th>\n",
       "      <th>License</th>\n",
       "      <th>Retracted</th>\n",
       "    </tr>\n",
       "  </thead>\n",
       "  <tbody>\n",
       "    <tr>\n",
       "      <th>0</th>\n",
       "      <td>PMC009xxxxxx/PMC9000006.xml</td>\n",
       "      <td>J Clin Med. 2022 Mar 31; 11(7):1937</td>\n",
       "      <td>PMC9000006</td>\n",
       "      <td>2022-04-12 23:43:02</td>\n",
       "      <td>35407545</td>\n",
       "      <td>CC BY</td>\n",
       "      <td>no</td>\n",
       "    </tr>\n",
       "    <tr>\n",
       "      <th>1</th>\n",
       "      <td>PMC009xxxxxx/PMC9000007.xml</td>\n",
       "      <td>J Clin Med. 2022 Mar 27; 11(7):1855</td>\n",
       "      <td>PMC9000007</td>\n",
       "      <td>2022-04-12 23:43:02</td>\n",
       "      <td>35407463</td>\n",
       "      <td>CC BY</td>\n",
       "      <td>no</td>\n",
       "    </tr>\n",
       "    <tr>\n",
       "      <th>2</th>\n",
       "      <td>PMC009xxxxxx/PMC9000009.xml</td>\n",
       "      <td>Int J Mol Sci. 2022 Apr 6; 23(7):4058</td>\n",
       "      <td>PMC9000009</td>\n",
       "      <td>2022-04-12 23:43:02</td>\n",
       "      <td>35409416</td>\n",
       "      <td>CC BY</td>\n",
       "      <td>no</td>\n",
       "    </tr>\n",
       "    <tr>\n",
       "      <th>3</th>\n",
       "      <td>PMC009xxxxxx/PMC9000010.xml</td>\n",
       "      <td>J Clin Med. 2022 Mar 30; 11(7):1924</td>\n",
       "      <td>PMC9000010</td>\n",
       "      <td>2022-04-12 23:43:02</td>\n",
       "      <td>35407532</td>\n",
       "      <td>CC BY</td>\n",
       "      <td>no</td>\n",
       "    </tr>\n",
       "    <tr>\n",
       "      <th>4</th>\n",
       "      <td>PMC009xxxxxx/PMC9000012.xml</td>\n",
       "      <td>Int J Mol Sci. 2022 Apr 4; 23(7):4000</td>\n",
       "      <td>PMC9000012</td>\n",
       "      <td>2022-04-12 23:43:02</td>\n",
       "      <td>35409360</td>\n",
       "      <td>CC BY</td>\n",
       "      <td>no</td>\n",
       "    </tr>\n",
       "    <tr>\n",
       "      <th>...</th>\n",
       "      <td>...</td>\n",
       "      <td>...</td>\n",
       "      <td>...</td>\n",
       "      <td>...</td>\n",
       "      <td>...</td>\n",
       "      <td>...</td>\n",
       "      <td>...</td>\n",
       "    </tr>\n",
       "    <tr>\n",
       "      <th>403164</th>\n",
       "      <td>PMC006xxxxxx/PMC6999835.xml</td>\n",
       "      <td>MAbs. 2020 Jan 30; 12(1):1715705</td>\n",
       "      <td>PMC6999835</td>\n",
       "      <td>2022-01-15 02:27:28</td>\n",
       "      <td>31997712</td>\n",
       "      <td>CC BY-NC</td>\n",
       "      <td>no</td>\n",
       "    </tr>\n",
       "    <tr>\n",
       "      <th>403165</th>\n",
       "      <td>PMC006xxxxxx/PMC6999838.xml</td>\n",
       "      <td>MAbs. 2020 Jan 24; 12(1):1717265</td>\n",
       "      <td>PMC6999838</td>\n",
       "      <td>2022-01-15 02:27:28</td>\n",
       "      <td>31980006</td>\n",
       "      <td>CC BY-NC</td>\n",
       "      <td>no</td>\n",
       "    </tr>\n",
       "    <tr>\n",
       "      <th>403166</th>\n",
       "      <td>PMC006xxxxxx/PMC6999842.xml</td>\n",
       "      <td>MAbs. 2020 Feb 3; 12(1):1714371</td>\n",
       "      <td>PMC6999842</td>\n",
       "      <td>2022-01-15 02:27:28</td>\n",
       "      <td>31928310</td>\n",
       "      <td>CC BY-NC</td>\n",
       "      <td>no</td>\n",
       "    </tr>\n",
       "    <tr>\n",
       "      <th>403167</th>\n",
       "      <td>PMC006xxxxxx/PMC6999846.xml</td>\n",
       "      <td>MAbs. 2020 Jan 25; 12(1):1718440</td>\n",
       "      <td>PMC6999846</td>\n",
       "      <td>2022-01-15 02:27:28</td>\n",
       "      <td>31983280</td>\n",
       "      <td>CC BY-NC</td>\n",
       "      <td>no</td>\n",
       "    </tr>\n",
       "    <tr>\n",
       "      <th>403168</th>\n",
       "      <td>PMC006xxxxxx/PMC6999847.xml</td>\n",
       "      <td>Gut. 2019 Sep 7; 68(9):1701-1715</td>\n",
       "      <td>PMC6999847</td>\n",
       "      <td>2022-01-14 03:06:03</td>\n",
       "      <td>31175206</td>\n",
       "      <td>CC BY-NC</td>\n",
       "      <td>no</td>\n",
       "    </tr>\n",
       "  </tbody>\n",
       "</table>\n",
       "<p>3333516 rows × 7 columns</p>\n",
       "</div>"
      ],
      "text/plain": [
       "                       Article File                       Article Citation  \\\n",
       "0       PMC009xxxxxx/PMC9000006.xml    J Clin Med. 2022 Mar 31; 11(7):1937   \n",
       "1       PMC009xxxxxx/PMC9000007.xml    J Clin Med. 2022 Mar 27; 11(7):1855   \n",
       "2       PMC009xxxxxx/PMC9000009.xml  Int J Mol Sci. 2022 Apr 6; 23(7):4058   \n",
       "3       PMC009xxxxxx/PMC9000010.xml    J Clin Med. 2022 Mar 30; 11(7):1924   \n",
       "4       PMC009xxxxxx/PMC9000012.xml  Int J Mol Sci. 2022 Apr 4; 23(7):4000   \n",
       "...                             ...                                    ...   \n",
       "403164  PMC006xxxxxx/PMC6999835.xml       MAbs. 2020 Jan 30; 12(1):1715705   \n",
       "403165  PMC006xxxxxx/PMC6999838.xml       MAbs. 2020 Jan 24; 12(1):1717265   \n",
       "403166  PMC006xxxxxx/PMC6999842.xml        MAbs. 2020 Feb 3; 12(1):1714371   \n",
       "403167  PMC006xxxxxx/PMC6999846.xml       MAbs. 2020 Jan 25; 12(1):1718440   \n",
       "403168  PMC006xxxxxx/PMC6999847.xml       Gut. 2019 Sep 7; 68(9):1701-1715   \n",
       "\n",
       "       AccessionID LastUpdated (YYYY-MM-DD HH:MM:SS)      PMID   License  \\\n",
       "0       PMC9000006               2022-04-12 23:43:02  35407545     CC BY   \n",
       "1       PMC9000007               2022-04-12 23:43:02  35407463     CC BY   \n",
       "2       PMC9000009               2022-04-12 23:43:02  35409416     CC BY   \n",
       "3       PMC9000010               2022-04-12 23:43:02  35407532     CC BY   \n",
       "4       PMC9000012               2022-04-12 23:43:02  35409360     CC BY   \n",
       "...            ...                               ...       ...       ...   \n",
       "403164  PMC6999835               2022-01-15 02:27:28  31997712  CC BY-NC   \n",
       "403165  PMC6999838               2022-01-15 02:27:28  31980006  CC BY-NC   \n",
       "403166  PMC6999842               2022-01-15 02:27:28  31928310  CC BY-NC   \n",
       "403167  PMC6999846               2022-01-15 02:27:28  31983280  CC BY-NC   \n",
       "403168  PMC6999847               2022-01-14 03:06:03  31175206  CC BY-NC   \n",
       "\n",
       "       Retracted  \n",
       "0             no  \n",
       "1             no  \n",
       "2             no  \n",
       "3             no  \n",
       "4             no  \n",
       "...          ...  \n",
       "403164        no  \n",
       "403165        no  \n",
       "403166        no  \n",
       "403167        no  \n",
       "403168        no  \n",
       "\n",
       "[3333516 rows x 7 columns]"
      ]
     },
     "execution_count": 4,
     "metadata": {},
     "output_type": "execute_result"
    }
   ],
   "source": [
    "d"
   ]
  },
  {
   "cell_type": "code",
   "execution_count": 6,
   "metadata": {},
   "outputs": [],
   "source": [
    "journal_counts = d[\"Article Citation\"].str.split(\".\",expand=True)[0].value_counts()\n"
   ]
  },
  {
   "cell_type": "code",
   "execution_count": 8,
   "metadata": {},
   "outputs": [
    {
     "data": {
      "text/plain": [
       "3333516"
      ]
     },
     "execution_count": 8,
     "metadata": {},
     "output_type": "execute_result"
    }
   ],
   "source": [
    "journal_counts.sum()"
   ]
  },
  {
   "cell_type": "code",
   "execution_count": 12,
   "metadata": {},
   "outputs": [],
   "source": [
    "journal_counts.to_csv(\"journal_counts.tsv\",sep=\"\\t\")"
   ]
  },
  {
   "cell_type": "code",
   "execution_count": 98,
   "metadata": {},
   "outputs": [
    {
     "data": {
      "text/plain": [
       "0\n",
       "Microsyst Nanoeng         698\n",
       "Microsyst Technol           2\n",
       "Microprocess Microsyst      1\n",
       "Name: count, dtype: int64"
      ]
     },
     "execution_count": 98,
     "metadata": {},
     "output_type": "execute_result"
    }
   ],
   "source": [
    "journal_counts[journal_counts.index.str.contains(\"Microsyst\")]"
   ]
  },
  {
   "cell_type": "markdown",
   "metadata": {},
   "source": [
    "### Date counts"
   ]
  },
  {
   "cell_type": "code",
   "execution_count": 49,
   "metadata": {},
   "outputs": [],
   "source": [
    "date_counts = d[\"Article Citation\"].str.split(\".\",expand=True)[1].str.strip().str.split(\" \",expand=True)[0].value_counts()"
   ]
  },
  {
   "cell_type": "code",
   "execution_count": 50,
   "metadata": {},
   "outputs": [
    {
     "data": {
      "text/plain": [
       "0\n",
       "2022       328003\n",
       "2023       291322\n",
       "2021       287939\n",
       "2020       227683\n",
       "2019       175427\n",
       "            ...  \n",
       "Nuovo           1\n",
       "Scand           1\n",
       ";:1-21          1\n",
       ";:11-11         1\n",
       "&Nanopl         1\n",
       "Name: count, Length: 281, dtype: int64"
      ]
     },
     "execution_count": 50,
     "metadata": {},
     "output_type": "execute_result"
    }
   ],
   "source": [
    "date_counts"
   ]
  }
 ],
 "metadata": {
  "kernelspec": {
   "display_name": "Python 3 (ipykernel)",
   "language": "python",
   "name": "python3"
  },
  "language_info": {
   "codemirror_mode": {
    "name": "ipython",
    "version": 3
   },
   "file_extension": ".py",
   "mimetype": "text/x-python",
   "name": "python",
   "nbconvert_exporter": "python",
   "pygments_lexer": "ipython3",
   "version": "3.9.16"
  }
 },
 "nbformat": 4,
 "nbformat_minor": 4
}
