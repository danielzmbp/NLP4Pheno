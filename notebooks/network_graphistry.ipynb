{
 "cells": [
  {
   "cell_type": "code",
   "execution_count": 2,
   "metadata": {},
   "outputs": [],
   "source": [
    "import graphistry\n",
    "import pandas as pd\n",
    "graphistry.register(api=3, protocol=\"https\", server=\"hub.graphistry.com\", personal_key_id=\"YIB753L14J\", personal_key_secret=\"LDQ0JZUKMJYTVWNY\")\n"
   ]
  },
  {
   "cell_type": "code",
   "execution_count": 3,
   "metadata": {},
   "outputs": [],
   "source": [
    "df = pd.read_csv('./network_files/network1.csv',sep=\"\\t\")"
   ]
  },
  {
   "cell_type": "code",
   "execution_count": 4,
   "metadata": {},
   "outputs": [],
   "source": [
    "df[\"source_ner\"] = df.rel.str.split(\"-\",expand=True)[0]"
   ]
  },
  {
   "cell_type": "code",
   "execution_count": 5,
   "metadata": {},
   "outputs": [],
   "source": [
    "df[\"target_ner\"] = df.rel.str.split(\"-\",expand=True)[1].str.split(\":\",expand=True)[0]"
   ]
  },
  {
   "cell_type": "code",
   "execution_count": 6,
   "metadata": {},
   "outputs": [
    {
     "data": {
      "text/html": [
       "<div>\n",
       "<style scoped>\n",
       "    .dataframe tbody tr th:only-of-type {\n",
       "        vertical-align: middle;\n",
       "    }\n",
       "\n",
       "    .dataframe tbody tr th {\n",
       "        vertical-align: top;\n",
       "    }\n",
       "\n",
       "    .dataframe thead th {\n",
       "        text-align: right;\n",
       "    }\n",
       "</style>\n",
       "<table border=\"1\" class=\"dataframe\">\n",
       "  <thead>\n",
       "    <tr style=\"text-align: right;\">\n",
       "      <th></th>\n",
       "      <th>source</th>\n",
       "      <th>target</th>\n",
       "      <th>rel</th>\n",
       "      <th>re</th>\n",
       "      <th>source_ner</th>\n",
       "      <th>target_ner</th>\n",
       "    </tr>\n",
       "  </thead>\n",
       "  <tbody>\n",
       "    <tr>\n",
       "      <th>0</th>\n",
       "      <td>csur p902</td>\n",
       "      <td>feces of a patient</td>\n",
       "      <td>STRAIN-ISOLATE:INHABITS</td>\n",
       "      <td>INHABITS</td>\n",
       "      <td>STRAIN</td>\n",
       "      <td>ISOLATE</td>\n",
       "    </tr>\n",
       "    <tr>\n",
       "      <th>1</th>\n",
       "      <td>csur p902</td>\n",
       "      <td>intensive care</td>\n",
       "      <td>STRAIN-ISOLATE:INHABITS</td>\n",
       "      <td>INHABITS</td>\n",
       "      <td>STRAIN</td>\n",
       "      <td>ISOLATE</td>\n",
       "    </tr>\n",
       "    <tr>\n",
       "      <th>2</th>\n",
       "      <td>prevotella intermedia 17</td>\n",
       "      <td>human periodontal pocket</td>\n",
       "      <td>STRAIN-ISOLATE:INHABITS</td>\n",
       "      <td>INHABITS</td>\n",
       "      <td>STRAIN</td>\n",
       "      <td>ISOLATE</td>\n",
       "    </tr>\n",
       "    <tr>\n",
       "      <th>3</th>\n",
       "      <td>prevotella intermedia atcc 25611</td>\n",
       "      <td>human periodontal pocket</td>\n",
       "      <td>STRAIN-ISOLATE:INHABITS</td>\n",
       "      <td>INHABITS</td>\n",
       "      <td>STRAIN</td>\n",
       "      <td>ISOLATE</td>\n",
       "    </tr>\n",
       "    <tr>\n",
       "      <th>4</th>\n",
       "      <td>nccp 16833</td>\n",
       "      <td>clinical specimen</td>\n",
       "      <td>STRAIN-ISOLATE:INHABITS</td>\n",
       "      <td>INHABITS</td>\n",
       "      <td>STRAIN</td>\n",
       "      <td>ISOLATE</td>\n",
       "    </tr>\n",
       "    <tr>\n",
       "      <th>...</th>\n",
       "      <td>...</td>\n",
       "      <td>...</td>\n",
       "      <td>...</td>\n",
       "      <td>...</td>\n",
       "      <td>...</td>\n",
       "      <td>...</td>\n",
       "    </tr>\n",
       "    <tr>\n",
       "      <th>36821</th>\n",
       "      <td>shewanella oneidensis mr 1</td>\n",
       "      <td>palladium (</td>\n",
       "      <td>STRAIN-COMPOUND:PRODUCES</td>\n",
       "      <td>PRODUCES</td>\n",
       "      <td>STRAIN</td>\n",
       "      <td>COMPOUND</td>\n",
       "    </tr>\n",
       "    <tr>\n",
       "      <th>36822</th>\n",
       "      <td>methylosinus trichosporium ob3b</td>\n",
       "      <td>copper</td>\n",
       "      <td>STRAIN-COMPOUND:PRODUCES</td>\n",
       "      <td>PRODUCES</td>\n",
       "      <td>STRAIN</td>\n",
       "      <td>COMPOUND</td>\n",
       "    </tr>\n",
       "    <tr>\n",
       "      <th>36823</th>\n",
       "      <td>bifidobacterium animalis subsp lactis bb 12</td>\n",
       "      <td>te</td>\n",
       "      <td>STRAIN-COMPOUND:PRODUCES</td>\n",
       "      <td>PRODUCES</td>\n",
       "      <td>STRAIN</td>\n",
       "      <td>COMPOUND</td>\n",
       "    </tr>\n",
       "    <tr>\n",
       "      <th>36824</th>\n",
       "      <td>bifidobacterium animalis subsp lactis bb 12</td>\n",
       "      <td>n</td>\n",
       "      <td>STRAIN-COMPOUND:PRODUCES</td>\n",
       "      <td>PRODUCES</td>\n",
       "      <td>STRAIN</td>\n",
       "      <td>COMPOUND</td>\n",
       "    </tr>\n",
       "    <tr>\n",
       "      <th>36825</th>\n",
       "      <td>arthrospira platensis nies 46</td>\n",
       "      <td>hydrogen</td>\n",
       "      <td>STRAIN-COMPOUND:PRODUCES</td>\n",
       "      <td>PRODUCES</td>\n",
       "      <td>STRAIN</td>\n",
       "      <td>COMPOUND</td>\n",
       "    </tr>\n",
       "  </tbody>\n",
       "</table>\n",
       "<p>36826 rows × 6 columns</p>\n",
       "</div>"
      ],
      "text/plain": [
       "                                            source                    target  \\\n",
       "0                                        csur p902        feces of a patient   \n",
       "1                                        csur p902            intensive care   \n",
       "2                         prevotella intermedia 17  human periodontal pocket   \n",
       "3                 prevotella intermedia atcc 25611  human periodontal pocket   \n",
       "4                                       nccp 16833         clinical specimen   \n",
       "...                                            ...                       ...   \n",
       "36821                   shewanella oneidensis mr 1               palladium (   \n",
       "36822              methylosinus trichosporium ob3b                    copper   \n",
       "36823  bifidobacterium animalis subsp lactis bb 12                        te   \n",
       "36824  bifidobacterium animalis subsp lactis bb 12                         n   \n",
       "36825                arthrospira platensis nies 46                  hydrogen   \n",
       "\n",
       "                            rel        re source_ner target_ner  \n",
       "0       STRAIN-ISOLATE:INHABITS  INHABITS     STRAIN    ISOLATE  \n",
       "1       STRAIN-ISOLATE:INHABITS  INHABITS     STRAIN    ISOLATE  \n",
       "2       STRAIN-ISOLATE:INHABITS  INHABITS     STRAIN    ISOLATE  \n",
       "3       STRAIN-ISOLATE:INHABITS  INHABITS     STRAIN    ISOLATE  \n",
       "4       STRAIN-ISOLATE:INHABITS  INHABITS     STRAIN    ISOLATE  \n",
       "...                         ...       ...        ...        ...  \n",
       "36821  STRAIN-COMPOUND:PRODUCES  PRODUCES     STRAIN   COMPOUND  \n",
       "36822  STRAIN-COMPOUND:PRODUCES  PRODUCES     STRAIN   COMPOUND  \n",
       "36823  STRAIN-COMPOUND:PRODUCES  PRODUCES     STRAIN   COMPOUND  \n",
       "36824  STRAIN-COMPOUND:PRODUCES  PRODUCES     STRAIN   COMPOUND  \n",
       "36825  STRAIN-COMPOUND:PRODUCES  PRODUCES     STRAIN   COMPOUND  \n",
       "\n",
       "[36826 rows x 6 columns]"
      ]
     },
     "execution_count": 6,
     "metadata": {},
     "output_type": "execute_result"
    }
   ],
   "source": [
    "df"
   ]
  },
  {
   "cell_type": "code",
   "execution_count": 7,
   "metadata": {},
   "outputs": [],
   "source": [
    "g = graphistry.edges(df, 'source', 'target',directed=True)"
   ]
  },
  {
   "cell_type": "code",
   "execution_count": 8,
   "metadata": {},
   "outputs": [],
   "source": [
    "nodes_df = pd.concat([\n",
    "\tdf[[\"source\",\"source_ner\"]].rename(columns={\"source\":\"node_id\",\"source_ner\":\"type\"}),\n",
    "\tdf[['target','target_ner']].rename(columns={\"target\":\"node_id\",\"target_ner\":\"type\"})\n",
    "\t])"
   ]
  },
  {
   "cell_type": "code",
   "execution_count": 12,
   "metadata": {},
   "outputs": [
    {
     "name": "stdout",
     "output_type": "stream",
     "text": [
      "((0.5529411764705883, 0.8274509803921568, 0.7803921568627451), (1.0, 1.0, 0.7019607843137254), (0.7450980392156863, 0.7294117647058823, 0.8549019607843137), (0.984313725490196, 0.5019607843137255, 0.4470588235294118), (0.5019607843137255, 0.6941176470588235, 0.8274509803921568), (0.9921568627450981, 0.7058823529411765, 0.3843137254901961), (0.7019607843137254, 0.8705882352941177, 0.4117647058823529), (0.9882352941176471, 0.803921568627451, 0.8980392156862745), (0.8509803921568627, 0.8509803921568627, 0.8509803921568627), (0.7372549019607844, 0.5019607843137255, 0.7411764705882353), (0.8, 0.9215686274509803, 0.7725490196078432), (1.0, 0.9294117647058824, 0.43529411764705883))\n"
     ]
    },
    {
     "name": "stderr",
     "output_type": "stream",
     "text": [
      "/tmp/ipykernel_202051/989688878.py:3: MatplotlibDeprecationWarning: The get_cmap function was deprecated in Matplotlib 3.7 and will be removed two minor releases later. Use ``matplotlib.colormaps[name]`` or ``matplotlib.colormaps.get_cmap(obj)`` instead.\n",
      "  colors = cm.get_cmap('Set3').colors\n"
     ]
    }
   ],
   "source": [
    "import matplotlib.cm as cm\n",
    "\n",
    "colors = cm.get_cmap('Set3').colors\n",
    "print(colors)\n"
   ]
  },
  {
   "cell_type": "code",
   "execution_count": 13,
   "metadata": {},
   "outputs": [
    {
     "name": "stdout",
     "output_type": "stream",
     "text": [
      "['#8dd3c7', '#ffffb3', '#bebada', '#fb8072', '#80b1d3', '#fdb462', '#b3de69', '#fccde5', '#d9d9d9', '#bc80bd', '#ccebc5', '#ffed6f']\n"
     ]
    }
   ],
   "source": [
    "color_codes = [matplotlib.colors.rgb2hex(color) for color in colors]\n",
    "print(color_codes)\n"
   ]
  },
  {
   "cell_type": "code",
   "execution_count": 15,
   "metadata": {},
   "outputs": [
    {
     "data": {
      "text/html": [
       "\n",
       "            <iframe id=\"b02aa8b9-b881-406b-a947-f515cdc8deae\" src=\"https://hub.graphistry.com/graph/graph.html?dataset=6bf5b5c922564927a0b169935a5b0fc4&type=arrow&viztoken=ba711346-1f18-4c40-9fd0-253384e594a5&usertag=cce17234-pygraphistry-0.33.2&splashAfter=1709208918&info=true&play=1000&pointSize=0.5\"\n",
       "                    allowfullscreen=\"true\" webkitallowfullscreen=\"true\" mozallowfullscreen=\"true\"\n",
       "                    oallowfullscreen=\"true\" msallowfullscreen=\"true\"\n",
       "                    style=\"width:100%; height:500px; border: 1px solid #DDD; overflow: hidden\"\n",
       "                    \n",
       "            >\n",
       "            </iframe>\n",
       "        \n",
       "            <script>\n",
       "                try {\n",
       "                  $(\"#b02aa8b9-b881-406b-a947-f515cdc8deae\").bind('mousewheel', function(e) { e.preventDefault(); });\n",
       "                } catch (e) { console.error('exn catching scroll', e); }\n",
       "            </script>\n",
       "        "
      ],
      "text/plain": [
       "<IPython.core.display.HTML object>"
      ]
     },
     "execution_count": 15,
     "metadata": {},
     "output_type": "execute_result"
    }
   ],
   "source": [
    "g2 = (g\n",
    "      .nodes(nodes_df, 'node_id')\n",
    "\n",
    "      # 'red', '#f00', '#ff0000'\n",
    "      .encode_point_color('type', categorical_mapping={\n",
    "          'STRAIN': 'blue',\n",
    "          'ISOLATE': 'darkblue',\n",
    "          'METABOLITE': 'yellow',\n",
    "          'MEDIUM': 'orange',\n",
    "          'DISEASE':\"purple\",\n",
    "          'COMPOUND': \"lightpurple\",\n",
    "          'PHENOTYPE': \"red\",\n",
    "          'MORPHOLOGY': 'darkgreen',\n",
    "          'EFFECT': 'green',\n",
    "          'PROTEIN': 'lightblue',\n",
    "            'GENE': 'lightgreen',\n",
    "            'ORGANISM': 'lightyellow',\n",
    "            'SPECIES': 'pink'\n",
    "      }, default_mapping='red')\n",
    "\n",
    "      # Gradient\n",
    "      .encode_edge_color('re', palette=color_codes, as_continuous=False)\n",
    "\n",
    "\n",
    "      .addStyle(bg={'color': '#eee'}, page={'title': 'My Graph'})\n",
    "\n",
    "      # Options: https://hub.graphistry.com/docs/api/1/rest/url/\n",
    "      .settings(url_params={'play': 1000, 'pointSize': 0.5})\n",
    ")\n",
    "\n",
    "g2.plot(as_files=True)"
   ]
  },
  {
   "cell_type": "code",
   "execution_count": null,
   "metadata": {},
   "outputs": [],
   "source": []
  }
 ],
 "metadata": {
  "kernelspec": {
   "display_name": "base",
   "language": "python",
   "name": "python3"
  },
  "language_info": {
   "codemirror_mode": {
    "name": "ipython",
    "version": 3
   },
   "file_extension": ".py",
   "mimetype": "text/x-python",
   "name": "python",
   "nbconvert_exporter": "python",
   "pygments_lexer": "ipython3",
   "version": "3.11.8"
  }
 },
 "nbformat": 4,
 "nbformat_minor": 2
}
