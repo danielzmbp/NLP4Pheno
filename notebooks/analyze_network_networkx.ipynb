{
 "cells": [
  {
   "cell_type": "code",
   "execution_count": 1,
   "metadata": {},
   "outputs": [],
   "source": [
    "import networkx as nx\n",
    "import pandas as pd\n"
   ]
  },
  {
   "cell_type": "code",
   "execution_count": 2,
   "metadata": {},
   "outputs": [],
   "source": [
    "network_df = pd.read_csv(\"network_files/main_network_labeled.csv\", sep=\"\\t\")"
   ]
  },
  {
   "cell_type": "code",
   "execution_count": 3,
   "metadata": {},
   "outputs": [
    {
     "data": {
      "text/html": [
       "<div>\n",
       "<style scoped>\n",
       "    .dataframe tbody tr th:only-of-type {\n",
       "        vertical-align: middle;\n",
       "    }\n",
       "\n",
       "    .dataframe tbody tr th {\n",
       "        vertical-align: top;\n",
       "    }\n",
       "\n",
       "    .dataframe thead th {\n",
       "        text-align: right;\n",
       "    }\n",
       "</style>\n",
       "<table border=\"1\" class=\"dataframe\">\n",
       "  <thead>\n",
       "    <tr style=\"text-align: right;\">\n",
       "      <th></th>\n",
       "      <th>source</th>\n",
       "      <th>target</th>\n",
       "      <th>re</th>\n",
       "      <th>source_ner</th>\n",
       "      <th>target_ner</th>\n",
       "    </tr>\n",
       "  </thead>\n",
       "  <tbody>\n",
       "    <tr>\n",
       "      <th>0</th>\n",
       "      <td>csur p902</td>\n",
       "      <td>feces of a patient</td>\n",
       "      <td>INHABITS</td>\n",
       "      <td>STRAIN</td>\n",
       "      <td>ISOLATE</td>\n",
       "    </tr>\n",
       "    <tr>\n",
       "      <th>1</th>\n",
       "      <td>csur p902</td>\n",
       "      <td>intensive care</td>\n",
       "      <td>INHABITS</td>\n",
       "      <td>STRAIN</td>\n",
       "      <td>ISOLATE</td>\n",
       "    </tr>\n",
       "    <tr>\n",
       "      <th>2</th>\n",
       "      <td>prevotella intermedia 17</td>\n",
       "      <td>human periodontal pocket</td>\n",
       "      <td>INHABITS</td>\n",
       "      <td>STRAIN</td>\n",
       "      <td>ISOLATE</td>\n",
       "    </tr>\n",
       "    <tr>\n",
       "      <th>3</th>\n",
       "      <td>prevotella intermedia atcc 25611</td>\n",
       "      <td>human periodontal pocket</td>\n",
       "      <td>INHABITS</td>\n",
       "      <td>STRAIN</td>\n",
       "      <td>ISOLATE</td>\n",
       "    </tr>\n",
       "    <tr>\n",
       "      <th>4</th>\n",
       "      <td>nccp 16833</td>\n",
       "      <td>clinical specimen</td>\n",
       "      <td>INHABITS</td>\n",
       "      <td>STRAIN</td>\n",
       "      <td>ISOLATE</td>\n",
       "    </tr>\n",
       "    <tr>\n",
       "      <th>...</th>\n",
       "      <td>...</td>\n",
       "      <td>...</td>\n",
       "      <td>...</td>\n",
       "      <td>...</td>\n",
       "      <td>...</td>\n",
       "    </tr>\n",
       "    <tr>\n",
       "      <th>36821</th>\n",
       "      <td>shewanella oneidensis mr 1</td>\n",
       "      <td>palladium (</td>\n",
       "      <td>PRODUCES</td>\n",
       "      <td>STRAIN</td>\n",
       "      <td>COMPOUND</td>\n",
       "    </tr>\n",
       "    <tr>\n",
       "      <th>36822</th>\n",
       "      <td>methylosinus trichosporium ob3b</td>\n",
       "      <td>copper</td>\n",
       "      <td>PRODUCES</td>\n",
       "      <td>STRAIN</td>\n",
       "      <td>COMPOUND</td>\n",
       "    </tr>\n",
       "    <tr>\n",
       "      <th>36823</th>\n",
       "      <td>bifidobacterium animalis subsp lactis bb 12</td>\n",
       "      <td>te</td>\n",
       "      <td>PRODUCES</td>\n",
       "      <td>STRAIN</td>\n",
       "      <td>COMPOUND</td>\n",
       "    </tr>\n",
       "    <tr>\n",
       "      <th>36824</th>\n",
       "      <td>bifidobacterium animalis subsp lactis bb 12</td>\n",
       "      <td>n</td>\n",
       "      <td>PRODUCES</td>\n",
       "      <td>STRAIN</td>\n",
       "      <td>COMPOUND</td>\n",
       "    </tr>\n",
       "    <tr>\n",
       "      <th>36825</th>\n",
       "      <td>arthrospira platensis nies 46</td>\n",
       "      <td>hydrogen</td>\n",
       "      <td>PRODUCES</td>\n",
       "      <td>STRAIN</td>\n",
       "      <td>COMPOUND</td>\n",
       "    </tr>\n",
       "  </tbody>\n",
       "</table>\n",
       "<p>36826 rows × 5 columns</p>\n",
       "</div>"
      ],
      "text/plain": [
       "                                            source                    target  \\\n",
       "0                                        csur p902        feces of a patient   \n",
       "1                                        csur p902            intensive care   \n",
       "2                         prevotella intermedia 17  human periodontal pocket   \n",
       "3                 prevotella intermedia atcc 25611  human periodontal pocket   \n",
       "4                                       nccp 16833         clinical specimen   \n",
       "...                                            ...                       ...   \n",
       "36821                   shewanella oneidensis mr 1               palladium (   \n",
       "36822              methylosinus trichosporium ob3b                    copper   \n",
       "36823  bifidobacterium animalis subsp lactis bb 12                        te   \n",
       "36824  bifidobacterium animalis subsp lactis bb 12                         n   \n",
       "36825                arthrospira platensis nies 46                  hydrogen   \n",
       "\n",
       "             re source_ner target_ner  \n",
       "0      INHABITS     STRAIN    ISOLATE  \n",
       "1      INHABITS     STRAIN    ISOLATE  \n",
       "2      INHABITS     STRAIN    ISOLATE  \n",
       "3      INHABITS     STRAIN    ISOLATE  \n",
       "4      INHABITS     STRAIN    ISOLATE  \n",
       "...         ...        ...        ...  \n",
       "36821  PRODUCES     STRAIN   COMPOUND  \n",
       "36822  PRODUCES     STRAIN   COMPOUND  \n",
       "36823  PRODUCES     STRAIN   COMPOUND  \n",
       "36824  PRODUCES     STRAIN   COMPOUND  \n",
       "36825  PRODUCES     STRAIN   COMPOUND  \n",
       "\n",
       "[36826 rows x 5 columns]"
      ]
     },
     "execution_count": 3,
     "metadata": {},
     "output_type": "execute_result"
    }
   ],
   "source": [
    "network_df"
   ]
  },
  {
   "cell_type": "code",
   "execution_count": 4,
   "metadata": {},
   "outputs": [],
   "source": [
    "G = nx.from_pandas_edgelist(network_df, 'source', 'target')"
   ]
  },
  {
   "cell_type": "code",
   "execution_count": 5,
   "metadata": {},
   "outputs": [],
   "source": [
    "for _, row in network_df.iterrows():\n",
    "\tG.add_edge(row['source'], row['target'], re=row['re'], source_ner=row['source_ner'], target_ner=row['target_ner'])\n"
   ]
  },
  {
   "cell_type": "code",
   "execution_count": 6,
   "metadata": {},
   "outputs": [],
   "source": [
    "G = nx.DiGraph(G)"
   ]
  },
  {
   "cell_type": "code",
   "execution_count": 7,
   "metadata": {},
   "outputs": [],
   "source": [
    "betweenness_centrality = nx.betweenness_centrality(G)\n",
    "top_nodes = sorted(betweenness_centrality, key=betweenness_centrality.get, reverse=True)[:5]\n",
    "print(\"Top nodes by betweenness centrality:\")\n",
    "for node in top_nodes:\n",
    "    print(node)"
   ]
  },
  {
   "cell_type": "code",
   "execution_count": null,
   "metadata": {},
   "outputs": [],
   "source": []
  }
 ],
 "metadata": {
  "kernelspec": {
   "display_name": "base",
   "language": "python",
   "name": "python3"
  },
  "language_info": {
   "codemirror_mode": {
    "name": "ipython",
    "version": 3
   },
   "file_extension": ".py",
   "mimetype": "text/x-python",
   "name": "python",
   "nbconvert_exporter": "python",
   "pygments_lexer": "ipython3",
   "version": "3.11.8"
  }
 },
 "nbformat": 4,
 "nbformat_minor": 2
}
