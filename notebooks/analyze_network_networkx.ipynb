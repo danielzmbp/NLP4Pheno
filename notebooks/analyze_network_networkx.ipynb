{
 "cells": [
  {
   "cell_type": "code",
   "execution_count": null,
   "metadata": {},
   "outputs": [],
   "source": [
    "import networkx as nx\n",
    "import pandas as pd"
   ]
  },
  {
   "cell_type": "code",
   "execution_count": 4,
   "metadata": {},
   "outputs": [],
   "source": [
    "network_df = pd.read_csv(\"network_files/network.tsv\", sep=\"\\t\")"
   ]
  },
  {
   "cell_type": "code",
   "execution_count": 5,
   "metadata": {},
   "outputs": [
    {
     "data": {
      "text/html": [
       "<div>\n",
       "<style scoped>\n",
       "    .dataframe tbody tr th:only-of-type {\n",
       "        vertical-align: middle;\n",
       "    }\n",
       "\n",
       "    .dataframe tbody tr th {\n",
       "        vertical-align: top;\n",
       "    }\n",
       "\n",
       "    .dataframe thead th {\n",
       "        text-align: right;\n",
       "    }\n",
       "</style>\n",
       "<table border=\"1\" class=\"dataframe\">\n",
       "  <thead>\n",
       "    <tr style=\"text-align: right;\">\n",
       "      <th></th>\n",
       "      <th>source</th>\n",
       "      <th>target</th>\n",
       "      <th>rel</th>\n",
       "      <th>source_ner</th>\n",
       "      <th>target_ner</th>\n",
       "    </tr>\n",
       "  </thead>\n",
       "  <tbody>\n",
       "    <tr>\n",
       "      <th>0</th>\n",
       "      <td>t__511889</td>\n",
       "      <td>shellfish</td>\n",
       "      <td>INHABITS</td>\n",
       "      <td>STRAIN</td>\n",
       "      <td>ISOLATE</td>\n",
       "    </tr>\n",
       "    <tr>\n",
       "      <th>1</th>\n",
       "      <td>t__179987</td>\n",
       "      <td>korean kimchi</td>\n",
       "      <td>INHABITS</td>\n",
       "      <td>STRAIN</td>\n",
       "      <td>ISOLATE</td>\n",
       "    </tr>\n",
       "    <tr>\n",
       "      <th>2</th>\n",
       "      <td>t__507092</td>\n",
       "      <td>agricultural soils</td>\n",
       "      <td>INHABITS</td>\n",
       "      <td>STRAIN</td>\n",
       "      <td>ISOLATE</td>\n",
       "    </tr>\n",
       "    <tr>\n",
       "      <th>3</th>\n",
       "      <td>t__569449</td>\n",
       "      <td>hot spring</td>\n",
       "      <td>INHABITS</td>\n",
       "      <td>STRAIN</td>\n",
       "      <td>ISOLATE</td>\n",
       "    </tr>\n",
       "    <tr>\n",
       "      <th>4</th>\n",
       "      <td>t__621358</td>\n",
       "      <td>chinese cereal fermented drink</td>\n",
       "      <td>INHABITS</td>\n",
       "      <td>STRAIN</td>\n",
       "      <td>ISOLATE</td>\n",
       "    </tr>\n",
       "    <tr>\n",
       "      <th>...</th>\n",
       "      <td>...</td>\n",
       "      <td>...</td>\n",
       "      <td>...</td>\n",
       "      <td>...</td>\n",
       "      <td>...</td>\n",
       "    </tr>\n",
       "    <tr>\n",
       "      <th>520092</th>\n",
       "      <td>t__706660</td>\n",
       "      <td>atopic dermatitis</td>\n",
       "      <td>INHIBITS</td>\n",
       "      <td>STRAIN</td>\n",
       "      <td>DISEASE</td>\n",
       "    </tr>\n",
       "    <tr>\n",
       "      <th>520093</th>\n",
       "      <td>t__263602</td>\n",
       "      <td>atopic dermatitis</td>\n",
       "      <td>INHIBITS</td>\n",
       "      <td>STRAIN</td>\n",
       "      <td>DISEASE</td>\n",
       "    </tr>\n",
       "    <tr>\n",
       "      <th>520094</th>\n",
       "      <td>t__123156</td>\n",
       "      <td>eae</td>\n",
       "      <td>INHIBITS</td>\n",
       "      <td>STRAIN</td>\n",
       "      <td>DISEASE</td>\n",
       "    </tr>\n",
       "    <tr>\n",
       "      <th>520095</th>\n",
       "      <td>t__478624</td>\n",
       "      <td>colitis</td>\n",
       "      <td>INHIBITS</td>\n",
       "      <td>STRAIN</td>\n",
       "      <td>DISEASE</td>\n",
       "    </tr>\n",
       "    <tr>\n",
       "      <th>520096</th>\n",
       "      <td>t__382343</td>\n",
       "      <td>colitis</td>\n",
       "      <td>INHIBITS</td>\n",
       "      <td>STRAIN</td>\n",
       "      <td>DISEASE</td>\n",
       "    </tr>\n",
       "  </tbody>\n",
       "</table>\n",
       "<p>520097 rows × 5 columns</p>\n",
       "</div>"
      ],
      "text/plain": [
       "           source                          target       rel source_ner  \\\n",
       "0       t__511889                       shellfish  INHABITS     STRAIN   \n",
       "1       t__179987                   korean kimchi  INHABITS     STRAIN   \n",
       "2       t__507092              agricultural soils  INHABITS     STRAIN   \n",
       "3       t__569449                      hot spring  INHABITS     STRAIN   \n",
       "4       t__621358  chinese cereal fermented drink  INHABITS     STRAIN   \n",
       "...           ...                             ...       ...        ...   \n",
       "520092  t__706660               atopic dermatitis  INHIBITS     STRAIN   \n",
       "520093  t__263602               atopic dermatitis  INHIBITS     STRAIN   \n",
       "520094  t__123156                             eae  INHIBITS     STRAIN   \n",
       "520095  t__478624                         colitis  INHIBITS     STRAIN   \n",
       "520096  t__382343                         colitis  INHIBITS     STRAIN   \n",
       "\n",
       "       target_ner  \n",
       "0         ISOLATE  \n",
       "1         ISOLATE  \n",
       "2         ISOLATE  \n",
       "3         ISOLATE  \n",
       "4         ISOLATE  \n",
       "...           ...  \n",
       "520092    DISEASE  \n",
       "520093    DISEASE  \n",
       "520094    DISEASE  \n",
       "520095    DISEASE  \n",
       "520096    DISEASE  \n",
       "\n",
       "[520097 rows x 5 columns]"
      ]
     },
     "execution_count": 5,
     "metadata": {},
     "output_type": "execute_result"
    }
   ],
   "source": [
    "network_df"
   ]
  },
  {
   "cell_type": "code",
   "execution_count": 6,
   "metadata": {},
   "outputs": [],
   "source": [
    "G = nx.from_pandas_edgelist(network_df, 'source', 'target')"
   ]
  },
  {
   "cell_type": "code",
   "execution_count": null,
   "metadata": {},
   "outputs": [],
   "source": [
    "#for _, row in network_df.iterrows():\n",
    "#\tG.add_edge(row['source'], row['target'], re=row['re'], source_ner=row['source_ner'], target_ner=row['target_ner'])"
   ]
  },
  {
   "cell_type": "code",
   "execution_count": 10,
   "metadata": {},
   "outputs": [],
   "source": [
    "G = nx.DiGraph(G)"
   ]
  },
  {
   "cell_type": "code",
   "execution_count": null,
   "metadata": {},
   "outputs": [],
   "source": [
    "betweenness_centrality = nx.betweenness_centrality(G)\n",
    "top_nodes = sorted(betweenness_centrality, key=betweenness_centrality.get, reverse=True)[:5]\n",
    "print(\"Top nodes by betweenness centrality:\")\n",
    "for node in top_nodes:\n",
    "    print(node)"
   ]
  },
  {
   "cell_type": "code",
   "execution_count": null,
   "metadata": {},
   "outputs": [],
   "source": []
  }
 ],
 "metadata": {
  "kernelspec": {
   "display_name": "Python 3 (ipykernel)",
   "language": "python",
   "name": "python3"
  },
  "language_info": {
   "codemirror_mode": {
    "name": "ipython",
    "version": 3
   },
   "file_extension": ".py",
   "mimetype": "text/x-python",
   "name": "python",
   "nbconvert_exporter": "python",
   "pygments_lexer": "ipython3",
   "version": "3.9.16"
  }
 },
 "nbformat": 4,
 "nbformat_minor": 4
}
