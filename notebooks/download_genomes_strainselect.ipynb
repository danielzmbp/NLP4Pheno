{
 "cells": [
  {
   "cell_type": "code",
   "execution_count": 28,
   "id": "644961ad-0db6-4fc1-9c9b-e7876667226f",
   "metadata": {},
   "outputs": [],
   "source": [
    "from Bio import Entrez\n",
    "from Bio import SeqIO\n",
    "import os\n",
    "import subprocess"
   ]
  },
  {
   "cell_type": "code",
   "execution_count": 4,
   "id": "185de307-a95b-4398-accb-39ef05dea938",
   "metadata": {},
   "outputs": [],
   "source": [
    "def download_genome(assembly_accession):\n",
    "    \"\"\"Downloads a genome from NCBI based on its assembly accession.\n",
    "\n",
    "    Args:\n",
    "        assembly_accession (str): The NCBI assembly accession (e.g., \"GCA_000001405.29\")\n",
    "\n",
    "    Returns:\n",
    "        str: The path to the downloaded FASTA file.\n",
    "    \"\"\"\n",
    "\n",
    "    Entrez.email = \"d.gomez@lmu.de\"  # Replace with your actual email address\n",
    "    Entrez.api_key = \"71c734bb92382389e17af918de877c12b308\"\n",
    "\n",
    "    # Search for the assembly summary using Entrez\n",
    "    handle = Entrez.esearch(db=\"assembly\", term = assembly_to_download,retmax=20)\n",
    "    record = Entrez.read(handle)\n",
    "    assembly_summary_id = record[\"IdList\"][0]\n",
    "\n",
    "    # Fetch the download link for the FASTA file\n",
    "    esummary_handle = Entrez.esummary(db=\"assembly\", id=assembly_summary_id)\n",
    "    esummary_record = Entrez.read(esummary_handle)\n",
    "    url = esummary_record[\"DocumentSummarySet\"][\"DocumentSummary\"][0][\"FtpPath_RefSeq\"]\n",
    "    \n",
    "    # Determine the filename based on the assembly accession\n",
    "    label = os.path.basename(url)\n",
    "    genomic = os.path.join(url, label + \"_genomic.fna.gz\")\n",
    "    protein = os.path.join(url, label + \"_protein.faa.gz\")\n",
    "    annotation = os.path.join(url, label + \"_genomic.gff.gz\")\n",
    "    cds = os.path.join(url, label + \"_cds_from_genomic.fna.gz\") \n",
    "    \n",
    "    ## problem here, should just download the ftp and not use entrez efetch\n",
    "    # Download the genome\n",
    "    output_path = f\"{label}.fna.gz\"\n",
    "    subprocess.Popen([\"wget\", \"-q\", \"-O\", output_path, genomic])\n",
    "\n",
    "    return output_path"
   ]
  },
  {
   "cell_type": "code",
   "execution_count": 32,
   "id": "839e9e8a-8f26-42e6-8f6f-a4589465991e",
   "metadata": {
    "scrolled": true
   },
   "outputs": [
    {
     "ename": "HTTPError",
     "evalue": "HTTP Error 400: Bad Request",
     "output_type": "error",
     "traceback": [
      "\u001b[0;31m---------------------------------------------------------------------------\u001b[0m",
      "\u001b[0;31mHTTPError\u001b[0m                                 Traceback (most recent call last)",
      "Cell \u001b[0;32mIn[32], line 2\u001b[0m\n\u001b[1;32m      1\u001b[0m assembly_to_download \u001b[38;5;241m=\u001b[39m \u001b[38;5;124m\"\u001b[39m\u001b[38;5;124mGCF_019443545\u001b[39m\u001b[38;5;124m\"\u001b[39m \n\u001b[0;32m----> 2\u001b[0m downloaded_file_path \u001b[38;5;241m=\u001b[39m \u001b[43mdownload_genome\u001b[49m\u001b[43m(\u001b[49m\u001b[43massembly_to_download\u001b[49m\u001b[43m)\u001b[49m\n\u001b[1;32m      3\u001b[0m \u001b[38;5;28mprint\u001b[39m(\u001b[38;5;124mf\u001b[39m\u001b[38;5;124m\"\u001b[39m\u001b[38;5;124mGenome downloaded to: \u001b[39m\u001b[38;5;132;01m{\u001b[39;00mdownloaded_file_path\u001b[38;5;132;01m}\u001b[39;00m\u001b[38;5;124m\"\u001b[39m) \n",
      "Cell \u001b[0;32mIn[4], line 30\u001b[0m, in \u001b[0;36mdownload_genome\u001b[0;34m(assembly_accession)\u001b[0m\n\u001b[1;32m     26\u001b[0m output_path \u001b[38;5;241m=\u001b[39m os\u001b[38;5;241m.\u001b[39mpath\u001b[38;5;241m.\u001b[39mjoin(\u001b[38;5;124m\"\u001b[39m\u001b[38;5;124mdownloaded_genomes\u001b[39m\u001b[38;5;124m\"\u001b[39m, filename)  \u001b[38;5;66;03m# Customize the output directory\u001b[39;00m\n\u001b[1;32m     28\u001b[0m \u001b[38;5;66;03m## problem here, should just download the ftp and not use entrez efetch\u001b[39;00m\n\u001b[1;32m     29\u001b[0m \u001b[38;5;66;03m# Download the genome\u001b[39;00m\n\u001b[0;32m---> 30\u001b[0m download_result \u001b[38;5;241m=\u001b[39m \u001b[43mEntrez\u001b[49m\u001b[38;5;241;43m.\u001b[39;49m\u001b[43mefetch\u001b[49m\u001b[43m(\u001b[49m\u001b[43mdb\u001b[49m\u001b[38;5;241;43m=\u001b[39;49m\u001b[38;5;124;43m\"\u001b[39;49m\u001b[38;5;124;43mnucleotide\u001b[39;49m\u001b[38;5;124;43m\"\u001b[39;49m\u001b[43m,\u001b[49m\u001b[43m \u001b[49m\n\u001b[1;32m     31\u001b[0m \u001b[43m                                \u001b[49m\u001b[43mrettype\u001b[49m\u001b[38;5;241;43m=\u001b[39;49m\u001b[38;5;124;43m\"\u001b[39;49m\u001b[38;5;124;43mfasta\u001b[39;49m\u001b[38;5;124;43m\"\u001b[39;49m\u001b[43m,\u001b[49m\u001b[43m \u001b[49m\n\u001b[1;32m     32\u001b[0m \u001b[43m                                \u001b[49m\u001b[43mretmode\u001b[49m\u001b[38;5;241;43m=\u001b[39;49m\u001b[38;5;124;43m\"\u001b[39;49m\u001b[38;5;124;43mtext\u001b[39;49m\u001b[38;5;124;43m\"\u001b[39;49m\u001b[43m,\u001b[49m\u001b[43m \u001b[49m\n\u001b[1;32m     33\u001b[0m \u001b[43m                                \u001b[49m\u001b[38;5;28;43mid\u001b[39;49m\u001b[38;5;241;43m=\u001b[39;49m\u001b[43mfasta_download_url\u001b[49m\u001b[43m)\u001b[49m\n\u001b[1;32m     35\u001b[0m \u001b[38;5;66;03m# Save the downloaded genome\u001b[39;00m\n\u001b[1;32m     36\u001b[0m \u001b[38;5;28;01mwith\u001b[39;00m \u001b[38;5;28mopen\u001b[39m(output_path, \u001b[38;5;124m\"\u001b[39m\u001b[38;5;124mw\u001b[39m\u001b[38;5;124m\"\u001b[39m) \u001b[38;5;28;01mas\u001b[39;00m f:\n",
      "File \u001b[0;32m~/miniconda3/lib/python3.11/site-packages/Bio/Entrez/__init__.py:197\u001b[0m, in \u001b[0;36mefetch\u001b[0;34m(db, **keywords)\u001b[0m\n\u001b[1;32m    195\u001b[0m variables\u001b[38;5;241m.\u001b[39mupdate(keywords)\n\u001b[1;32m    196\u001b[0m request \u001b[38;5;241m=\u001b[39m _build_request(cgi, variables)\n\u001b[0;32m--> 197\u001b[0m \u001b[38;5;28;01mreturn\u001b[39;00m \u001b[43m_open\u001b[49m\u001b[43m(\u001b[49m\u001b[43mrequest\u001b[49m\u001b[43m)\u001b[49m\n",
      "File \u001b[0;32m~/miniconda3/lib/python3.11/site-packages/Bio/Entrez/__init__.py:623\u001b[0m, in \u001b[0;36m_open\u001b[0;34m(request)\u001b[0m\n\u001b[1;32m    621\u001b[0m \u001b[38;5;28;01mfor\u001b[39;00m i \u001b[38;5;129;01min\u001b[39;00m \u001b[38;5;28mrange\u001b[39m(max_tries):\n\u001b[1;32m    622\u001b[0m     \u001b[38;5;28;01mtry\u001b[39;00m:\n\u001b[0;32m--> 623\u001b[0m         handle \u001b[38;5;241m=\u001b[39m \u001b[43murlopen\u001b[49m\u001b[43m(\u001b[49m\u001b[43mrequest\u001b[49m\u001b[43m)\u001b[49m\n\u001b[1;32m    624\u001b[0m     \u001b[38;5;28;01mexcept\u001b[39;00m HTTPError \u001b[38;5;28;01mas\u001b[39;00m exception:\n\u001b[1;32m    625\u001b[0m         \u001b[38;5;66;03m# Reraise if the final try fails\u001b[39;00m\n\u001b[1;32m    626\u001b[0m         \u001b[38;5;28;01mif\u001b[39;00m i \u001b[38;5;241m>\u001b[39m\u001b[38;5;241m=\u001b[39m max_tries \u001b[38;5;241m-\u001b[39m \u001b[38;5;241m1\u001b[39m:\n",
      "File \u001b[0;32m~/miniconda3/lib/python3.11/urllib/request.py:216\u001b[0m, in \u001b[0;36murlopen\u001b[0;34m(url, data, timeout, cafile, capath, cadefault, context)\u001b[0m\n\u001b[1;32m    214\u001b[0m \u001b[38;5;28;01melse\u001b[39;00m:\n\u001b[1;32m    215\u001b[0m     opener \u001b[38;5;241m=\u001b[39m _opener\n\u001b[0;32m--> 216\u001b[0m \u001b[38;5;28;01mreturn\u001b[39;00m \u001b[43mopener\u001b[49m\u001b[38;5;241;43m.\u001b[39;49m\u001b[43mopen\u001b[49m\u001b[43m(\u001b[49m\u001b[43murl\u001b[49m\u001b[43m,\u001b[49m\u001b[43m \u001b[49m\u001b[43mdata\u001b[49m\u001b[43m,\u001b[49m\u001b[43m \u001b[49m\u001b[43mtimeout\u001b[49m\u001b[43m)\u001b[49m\n",
      "File \u001b[0;32m~/miniconda3/lib/python3.11/urllib/request.py:525\u001b[0m, in \u001b[0;36mOpenerDirector.open\u001b[0;34m(self, fullurl, data, timeout)\u001b[0m\n\u001b[1;32m    523\u001b[0m \u001b[38;5;28;01mfor\u001b[39;00m processor \u001b[38;5;129;01min\u001b[39;00m \u001b[38;5;28mself\u001b[39m\u001b[38;5;241m.\u001b[39mprocess_response\u001b[38;5;241m.\u001b[39mget(protocol, []):\n\u001b[1;32m    524\u001b[0m     meth \u001b[38;5;241m=\u001b[39m \u001b[38;5;28mgetattr\u001b[39m(processor, meth_name)\n\u001b[0;32m--> 525\u001b[0m     response \u001b[38;5;241m=\u001b[39m \u001b[43mmeth\u001b[49m\u001b[43m(\u001b[49m\u001b[43mreq\u001b[49m\u001b[43m,\u001b[49m\u001b[43m \u001b[49m\u001b[43mresponse\u001b[49m\u001b[43m)\u001b[49m\n\u001b[1;32m    527\u001b[0m \u001b[38;5;28;01mreturn\u001b[39;00m response\n",
      "File \u001b[0;32m~/miniconda3/lib/python3.11/urllib/request.py:634\u001b[0m, in \u001b[0;36mHTTPErrorProcessor.http_response\u001b[0;34m(self, request, response)\u001b[0m\n\u001b[1;32m    631\u001b[0m \u001b[38;5;66;03m# According to RFC 2616, \"2xx\" code indicates that the client's\u001b[39;00m\n\u001b[1;32m    632\u001b[0m \u001b[38;5;66;03m# request was successfully received, understood, and accepted.\u001b[39;00m\n\u001b[1;32m    633\u001b[0m \u001b[38;5;28;01mif\u001b[39;00m \u001b[38;5;129;01mnot\u001b[39;00m (\u001b[38;5;241m200\u001b[39m \u001b[38;5;241m<\u001b[39m\u001b[38;5;241m=\u001b[39m code \u001b[38;5;241m<\u001b[39m \u001b[38;5;241m300\u001b[39m):\n\u001b[0;32m--> 634\u001b[0m     response \u001b[38;5;241m=\u001b[39m \u001b[38;5;28;43mself\u001b[39;49m\u001b[38;5;241;43m.\u001b[39;49m\u001b[43mparent\u001b[49m\u001b[38;5;241;43m.\u001b[39;49m\u001b[43merror\u001b[49m\u001b[43m(\u001b[49m\n\u001b[1;32m    635\u001b[0m \u001b[43m        \u001b[49m\u001b[38;5;124;43m'\u001b[39;49m\u001b[38;5;124;43mhttp\u001b[39;49m\u001b[38;5;124;43m'\u001b[39;49m\u001b[43m,\u001b[49m\u001b[43m \u001b[49m\u001b[43mrequest\u001b[49m\u001b[43m,\u001b[49m\u001b[43m \u001b[49m\u001b[43mresponse\u001b[49m\u001b[43m,\u001b[49m\u001b[43m \u001b[49m\u001b[43mcode\u001b[49m\u001b[43m,\u001b[49m\u001b[43m \u001b[49m\u001b[43mmsg\u001b[49m\u001b[43m,\u001b[49m\u001b[43m \u001b[49m\u001b[43mhdrs\u001b[49m\u001b[43m)\u001b[49m\n\u001b[1;32m    637\u001b[0m \u001b[38;5;28;01mreturn\u001b[39;00m response\n",
      "File \u001b[0;32m~/miniconda3/lib/python3.11/urllib/request.py:563\u001b[0m, in \u001b[0;36mOpenerDirector.error\u001b[0;34m(self, proto, *args)\u001b[0m\n\u001b[1;32m    561\u001b[0m \u001b[38;5;28;01mif\u001b[39;00m http_err:\n\u001b[1;32m    562\u001b[0m     args \u001b[38;5;241m=\u001b[39m (\u001b[38;5;28mdict\u001b[39m, \u001b[38;5;124m'\u001b[39m\u001b[38;5;124mdefault\u001b[39m\u001b[38;5;124m'\u001b[39m, \u001b[38;5;124m'\u001b[39m\u001b[38;5;124mhttp_error_default\u001b[39m\u001b[38;5;124m'\u001b[39m) \u001b[38;5;241m+\u001b[39m orig_args\n\u001b[0;32m--> 563\u001b[0m     \u001b[38;5;28;01mreturn\u001b[39;00m \u001b[38;5;28;43mself\u001b[39;49m\u001b[38;5;241;43m.\u001b[39;49m\u001b[43m_call_chain\u001b[49m\u001b[43m(\u001b[49m\u001b[38;5;241;43m*\u001b[39;49m\u001b[43margs\u001b[49m\u001b[43m)\u001b[49m\n",
      "File \u001b[0;32m~/miniconda3/lib/python3.11/urllib/request.py:496\u001b[0m, in \u001b[0;36mOpenerDirector._call_chain\u001b[0;34m(self, chain, kind, meth_name, *args)\u001b[0m\n\u001b[1;32m    494\u001b[0m \u001b[38;5;28;01mfor\u001b[39;00m handler \u001b[38;5;129;01min\u001b[39;00m handlers:\n\u001b[1;32m    495\u001b[0m     func \u001b[38;5;241m=\u001b[39m \u001b[38;5;28mgetattr\u001b[39m(handler, meth_name)\n\u001b[0;32m--> 496\u001b[0m     result \u001b[38;5;241m=\u001b[39m \u001b[43mfunc\u001b[49m\u001b[43m(\u001b[49m\u001b[38;5;241;43m*\u001b[39;49m\u001b[43margs\u001b[49m\u001b[43m)\u001b[49m\n\u001b[1;32m    497\u001b[0m     \u001b[38;5;28;01mif\u001b[39;00m result \u001b[38;5;129;01mis\u001b[39;00m \u001b[38;5;129;01mnot\u001b[39;00m \u001b[38;5;28;01mNone\u001b[39;00m:\n\u001b[1;32m    498\u001b[0m         \u001b[38;5;28;01mreturn\u001b[39;00m result\n",
      "File \u001b[0;32m~/miniconda3/lib/python3.11/urllib/request.py:643\u001b[0m, in \u001b[0;36mHTTPDefaultErrorHandler.http_error_default\u001b[0;34m(self, req, fp, code, msg, hdrs)\u001b[0m\n\u001b[1;32m    642\u001b[0m \u001b[38;5;28;01mdef\u001b[39;00m \u001b[38;5;21mhttp_error_default\u001b[39m(\u001b[38;5;28mself\u001b[39m, req, fp, code, msg, hdrs):\n\u001b[0;32m--> 643\u001b[0m     \u001b[38;5;28;01mraise\u001b[39;00m HTTPError(req\u001b[38;5;241m.\u001b[39mfull_url, code, msg, hdrs, fp)\n",
      "\u001b[0;31mHTTPError\u001b[0m: HTTP Error 400: Bad Request"
     ]
    }
   ],
   "source": [
    "downloaded_file_path = download_genome(assembly_to_download)\n",
    "print(f\"Genome downloaded to: {downloaded_file_path}\") \n"
   ]
  },
  {
   "cell_type": "code",
   "execution_count": 83,
   "id": "99d0333c-cdd8-4a2e-82a3-a37829f90e48",
   "metadata": {},
   "outputs": [],
   "source": [
    "assembly_to_download = \"GCF_000738735\" "
   ]
  },
  {
   "cell_type": "code",
   "execution_count": 84,
   "id": "25f4ce5c-9c0d-4dc1-8200-123c16c03974",
   "metadata": {},
   "outputs": [],
   "source": [
    "handle = Entrez.esearch(db=\"assembly\", term = assembly_to_download)\n",
    "record = Entrez.read(handle)\n",
    "assembly_summary_id = record[\"IdList\"][0]"
   ]
  },
  {
   "cell_type": "code",
   "execution_count": 85,
   "id": "3e47eb11-44cc-4f0c-af61-a3b43cd7233d",
   "metadata": {},
   "outputs": [],
   "source": [
    "esummary_handle = Entrez.esummary(db=\"assembly\", id=assembly_summary_id)\n",
    "esummary_record = Entrez.read(esummary_handle)\n",
    "url = esummary_record[\"DocumentSummarySet\"][\"DocumentSummary\"][0][\"FtpPath_RefSeq\"]"
   ]
  },
  {
   "cell_type": "code",
   "execution_count": 86,
   "id": "4411b05b-782b-4679-a5bd-dd5ac33c0cdd",
   "metadata": {},
   "outputs": [
    {
     "data": {
      "text/plain": [
       "'ftp://ftp.ncbi.nlm.nih.gov/genomes/all/GCF/000/738/735/GCF_000738735.6_ASM73873v6'"
      ]
     },
     "execution_count": 86,
     "metadata": {},
     "output_type": "execute_result"
    }
   ],
   "source": [
    "url"
   ]
  },
  {
   "cell_type": "code",
   "execution_count": 29,
   "id": "5cd4f3d4-7598-42c1-ad16-c02dd21cdcb2",
   "metadata": {},
   "outputs": [],
   "source": [
    "label = os.path.basename(url)\n",
    "genomic = os.path.join(url, label + \"_genomic.fna.gz\")\n",
    "protein = os.path.join(url, label + \"_protein.faa.gz\")\n",
    "annotation = os.path.join(url, label + \"_genomic.gff.gz\")\n",
    "cds = os.path.join(url, label + \"_cds_from_genomic.fna.gz\") "
   ]
  },
  {
   "cell_type": "code",
   "execution_count": 31,
   "id": "dc09dc0a-2200-4cf0-b2ff-459000bf1756",
   "metadata": {},
   "outputs": [
    {
     "data": {
      "text/plain": [
       "<Popen: returncode: None args: ['wget', '-q', '-O', 'GCF_003143915.1_ASM3143...>"
      ]
     },
     "execution_count": 31,
     "metadata": {},
     "output_type": "execute_result"
    }
   ],
   "source": [
    "subprocess.Popen([\"wget\", \"-q\", \"-O\", f\"{label}.fna.gz\", genomic])"
   ]
  },
  {
   "cell_type": "code",
   "execution_count": null,
   "id": "ae746e73-3c9d-443a-82bd-7747f2fb7f95",
   "metadata": {},
   "outputs": [],
   "source": []
  }
 ],
 "metadata": {
  "kernelspec": {
   "display_name": "Python (base)",
   "language": "python",
   "name": "base"
  },
  "language_info": {
   "codemirror_mode": {
    "name": "ipython",
    "version": 3
   },
   "file_extension": ".py",
   "mimetype": "text/x-python",
   "name": "python",
   "nbconvert_exporter": "python",
   "pygments_lexer": "ipython3",
   "version": "3.11.8"
  }
 },
 "nbformat": 4,
 "nbformat_minor": 5
}
