{
 "cells": [
  {
   "cell_type": "code",
   "execution_count": 1,
   "metadata": {},
   "outputs": [],
   "source": [
    "import pandas as pd\n",
    "import os\n",
    "from glob import glob\n",
    "import shutil\n",
    "from tqdm.auto import tqdm"
   ]
  },
  {
   "cell_type": "code",
   "execution_count": 2,
   "metadata": {},
   "outputs": [],
   "source": [
    "data = \"810\"\n",
    "path = \"/home/gomez/gomez\"\n",
    "max_assembly = \"7\""
   ]
  },
  {
   "cell_type": "code",
   "execution_count": 3,
   "metadata": {},
   "outputs": [],
   "source": [
    "df = pd.read_parquet(f\"{path}/preds{data}/REL_output/preds.parquet\")"
   ]
  },
  {
   "cell_type": "code",
   "execution_count": 4,
   "metadata": {},
   "outputs": [
    {
     "data": {
      "text/plain": [
       "rel\n",
       "COMPOUND-STRAIN:INHIBITS            28365\n",
       "METABOLITE-STRAIN:INHIBITS          46502\n",
       "STRAIN-COMPOUND:DEGRADES            30286\n",
       "STRAIN-COMPOUND:PRODUCES            12104\n",
       "STRAIN-COMPOUND:RESISTS            141991\n",
       "STRAIN-DISEASE:ASSOCIATED_WITH      68193\n",
       "STRAIN-EFFECT:ASSOCIATED_WITH         277\n",
       "STRAIN-EFFECT:PRESENTS              22507\n",
       "STRAIN-EFFECT:PROMOTES              72065\n",
       "STRAIN-ISOLATE:INHABITS            124349\n",
       "STRAIN-MEDIUM:GROWS_ON            1244750\n",
       "STRAIN-METABOLITE:DEGRADES          42942\n",
       "STRAIN-METABOLITE:PRODUCES        1008953\n",
       "STRAIN-METABOLITE:RESISTS          154690\n",
       "STRAIN-MORPHOLOGY:FORMS            156753\n",
       "STRAIN-ORGANISM:INFECTS            122860\n",
       "STRAIN-ORGANISM:INHABITS           118785\n",
       "STRAIN-ORGANISM:SYMBIONT_OF           625\n",
       "STRAIN-PHENOTYPE:PRESENTS          280690\n",
       "STRAIN-PROTEIN:PRODUCES           1238810\n",
       "STRAIN-SPECIES:INHIBITS             15329\n",
       "dtype: int64"
      ]
     },
     "execution_count": 4,
     "metadata": {},
     "output_type": "execute_result"
    }
   ],
   "source": [
    "df.groupby(\"rel\").size()"
   ]
  },
  {
   "cell_type": "markdown",
   "metadata": {},
   "source": [
    "get which strains belong to which category"
   ]
  },
  {
   "cell_type": "code",
   "execution_count": 5,
   "metadata": {},
   "outputs": [],
   "source": [
    "df.loc[:,\"term\"]  = df.word_strain_qc.str.replace('/', '_').str.replace(\")\", \"_\").str.replace(' ', '_').str.replace(\n",
    "                            \"(\", \"_\").str.replace(\"=\", \"_\").str.replace(\"'\", \"_\").str.replace(\";\", \"_\").str.replace(\",\", \"_\").str.replace(\"|\", \"_\").str.replace('.', '_').str.replace('-', '_').str.replace('___', '_').str.replace('__', '_').str.lstrip('_').str.rstrip('_')"
   ]
  },
  {
   "cell_type": "code",
   "execution_count": 6,
   "metadata": {},
   "outputs": [],
   "source": [
    "# Create a new directory\n",
    "rel_dir = f\"{path}/assembly_rel_{max_assembly}\"\n",
    "os.makedirs(rel_dir, exist_ok=True)\n",
    "\n",
    "# Get the list of strains\n",
    "rels = df.rel.unique()"
   ]
  },
  {
   "cell_type": "code",
   "execution_count": 7,
   "metadata": {},
   "outputs": [
    {
     "data": {
      "application/vnd.jupyter.widget-view+json": {
       "model_id": "fcfc357e8a1c44959264b69a789b0cb8",
       "version_major": 2,
       "version_minor": 0
      },
      "text/plain": [
       "  0%|          | 0/21 [00:00<?, ?it/s]"
      ]
     },
     "metadata": {},
     "output_type": "display_data"
    },
    {
     "data": {
      "application/vnd.jupyter.widget-view+json": {
       "model_id": "5fe57f9aa9d24a36bd591102369acf71",
       "version_major": 2,
       "version_minor": 0
      },
      "text/plain": [
       "Processing STRAIN-ISOLATE:INHABITS:   0%|          | 0/79168 [00:00<?, ?it/s]"
      ]
     },
     "metadata": {},
     "output_type": "display_data"
    },
    {
     "data": {
      "application/vnd.jupyter.widget-view+json": {
       "model_id": "0c91651c7b89417fbf378f7d94fce91e",
       "version_major": 2,
       "version_minor": 0
      },
      "text/plain": [
       "Processing STRAIN-METABOLITE:PRODUCES:   0%|          | 0/177905 [00:00<?, ?it/s]"
      ]
     },
     "metadata": {},
     "output_type": "display_data"
    },
    {
     "data": {
      "application/vnd.jupyter.widget-view+json": {
       "model_id": "9369aeae8ce84f61a3b20e88a27107cc",
       "version_major": 2,
       "version_minor": 0
      },
      "text/plain": [
       "Processing STRAIN-MEDIUM:GROWS_ON:   0%|          | 0/168709 [00:00<?, ?it/s]"
      ]
     },
     "metadata": {},
     "output_type": "display_data"
    },
    {
     "data": {
      "application/vnd.jupyter.widget-view+json": {
       "model_id": "d27d1040458c41b281359f2b0ad7898c",
       "version_major": 2,
       "version_minor": 0
      },
      "text/plain": [
       "Processing STRAIN-PHENOTYPE:PRESENTS:   0%|          | 0/103584 [00:00<?, ?it/s]"
      ]
     },
     "metadata": {},
     "output_type": "display_data"
    },
    {
     "data": {
      "application/vnd.jupyter.widget-view+json": {
       "model_id": "11a49510ed074591acd4a7875446afc8",
       "version_major": 2,
       "version_minor": 0
      },
      "text/plain": [
       "Processing STRAIN-PROTEIN:PRODUCES:   0%|          | 0/149660 [00:00<?, ?it/s]"
      ]
     },
     "metadata": {},
     "output_type": "display_data"
    },
    {
     "data": {
      "application/vnd.jupyter.widget-view+json": {
       "model_id": "62777915e2c043f2b328dad0a74e0c2b",
       "version_major": 2,
       "version_minor": 0
      },
      "text/plain": [
       "Processing STRAIN-ORGANISM:INHABITS:   0%|          | 0/56203 [00:00<?, ?it/s]"
      ]
     },
     "metadata": {},
     "output_type": "display_data"
    },
    {
     "data": {
      "application/vnd.jupyter.widget-view+json": {
       "model_id": "ffaa6acd8b1f4cedb51fe01d98f17804",
       "version_major": 2,
       "version_minor": 0
      },
      "text/plain": [
       "Processing STRAIN-MORPHOLOGY:FORMS:   0%|          | 0/42606 [00:00<?, ?it/s]"
      ]
     },
     "metadata": {},
     "output_type": "display_data"
    },
    {
     "data": {
      "application/vnd.jupyter.widget-view+json": {
       "model_id": "902b044d295c475691a85fdef3830ab2",
       "version_major": 2,
       "version_minor": 0
      },
      "text/plain": [
       "Processing STRAIN-COMPOUND:RESISTS:   0%|          | 0/42824 [00:00<?, ?it/s]"
      ]
     },
     "metadata": {},
     "output_type": "display_data"
    },
    {
     "data": {
      "application/vnd.jupyter.widget-view+json": {
       "model_id": "a9d26576df60427b897633987aa46a4c",
       "version_major": 2,
       "version_minor": 0
      },
      "text/plain": [
       "Processing STRAIN-METABOLITE:RESISTS:   0%|          | 0/39047 [00:00<?, ?it/s]"
      ]
     },
     "metadata": {},
     "output_type": "display_data"
    },
    {
     "data": {
      "application/vnd.jupyter.widget-view+json": {
       "model_id": "b8559e19176f4ee7b6fb8c3957af4a2e",
       "version_major": 2,
       "version_minor": 0
      },
      "text/plain": [
       "Processing STRAIN-EFFECT:PROMOTES:   0%|          | 0/24568 [00:00<?, ?it/s]"
      ]
     },
     "metadata": {},
     "output_type": "display_data"
    },
    {
     "data": {
      "application/vnd.jupyter.widget-view+json": {
       "model_id": "9f4762c634074e478a2c0deed93f745a",
       "version_major": 2,
       "version_minor": 0
      },
      "text/plain": [
       "Processing STRAIN-ORGANISM:INFECTS:   0%|          | 0/31161 [00:00<?, ?it/s]"
      ]
     },
     "metadata": {},
     "output_type": "display_data"
    },
    {
     "data": {
      "application/vnd.jupyter.widget-view+json": {
       "model_id": "bb071af0312543b8ae6b7a666d913777",
       "version_major": 2,
       "version_minor": 0
      },
      "text/plain": [
       "Processing COMPOUND-STRAIN:INHIBITS:   0%|          | 0/10280 [00:00<?, ?it/s]"
      ]
     },
     "metadata": {},
     "output_type": "display_data"
    },
    {
     "data": {
      "application/vnd.jupyter.widget-view+json": {
       "model_id": "833392d8c28c449cacb00b8fc13b8153",
       "version_major": 2,
       "version_minor": 0
      },
      "text/plain": [
       "Processing STRAIN-EFFECT:PRESENTS:   0%|          | 0/14133 [00:00<?, ?it/s]"
      ]
     },
     "metadata": {},
     "output_type": "display_data"
    },
    {
     "data": {
      "application/vnd.jupyter.widget-view+json": {
       "model_id": "53fea3f05da84d689f57eabb1dd42712",
       "version_major": 2,
       "version_minor": 0
      },
      "text/plain": [
       "Processing STRAIN-METABOLITE:DEGRADES:   0%|          | 0/14612 [00:00<?, ?it/s]"
      ]
     },
     "metadata": {},
     "output_type": "display_data"
    },
    {
     "data": {
      "application/vnd.jupyter.widget-view+json": {
       "model_id": "a2603076034a43cf9a922f3a5ad99e44",
       "version_major": 2,
       "version_minor": 0
      },
      "text/plain": [
       "Processing STRAIN-DISEASE:ASSOCIATED_WITH:   0%|          | 0/17747 [00:00<?, ?it/s]"
      ]
     },
     "metadata": {},
     "output_type": "display_data"
    },
    {
     "data": {
      "application/vnd.jupyter.widget-view+json": {
       "model_id": "79933a9c75b34a90931eb4d038d1b9eb",
       "version_major": 2,
       "version_minor": 0
      },
      "text/plain": [
       "Processing STRAIN-COMPOUND:DEGRADES:   0%|          | 0/10664 [00:00<?, ?it/s]"
      ]
     },
     "metadata": {},
     "output_type": "display_data"
    },
    {
     "data": {
      "application/vnd.jupyter.widget-view+json": {
       "model_id": "562da387edfd47cf80bd106e1a46f49c",
       "version_major": 2,
       "version_minor": 0
      },
      "text/plain": [
       "Processing METABOLITE-STRAIN:INHIBITS:   0%|          | 0/16210 [00:00<?, ?it/s]"
      ]
     },
     "metadata": {},
     "output_type": "display_data"
    },
    {
     "data": {
      "application/vnd.jupyter.widget-view+json": {
       "model_id": "2b54eb3217804cb48cfcc4511f3e6a4f",
       "version_major": 2,
       "version_minor": 0
      },
      "text/plain": [
       "Processing STRAIN-ORGANISM:SYMBIONT_OF:   0%|          | 0/446 [00:00<?, ?it/s]"
      ]
     },
     "metadata": {},
     "output_type": "display_data"
    },
    {
     "data": {
      "application/vnd.jupyter.widget-view+json": {
       "model_id": "f2b4548a020b4b9da04cbf6e51b2baa7",
       "version_major": 2,
       "version_minor": 0
      },
      "text/plain": [
       "Processing STRAIN-EFFECT:ASSOCIATED_WITH:   0%|          | 0/171 [00:00<?, ?it/s]"
      ]
     },
     "metadata": {},
     "output_type": "display_data"
    },
    {
     "data": {
      "application/vnd.jupyter.widget-view+json": {
       "model_id": "2c2170472900453ab7ffe5c58220409f",
       "version_major": 2,
       "version_minor": 0
      },
      "text/plain": [
       "Processing STRAIN-SPECIES:INHIBITS:   0%|          | 0/8542 [00:00<?, ?it/s]"
      ]
     },
     "metadata": {},
     "output_type": "display_data"
    },
    {
     "data": {
      "application/vnd.jupyter.widget-view+json": {
       "model_id": "6fc242d0761e4d578d0c35e61614352a",
       "version_major": 2,
       "version_minor": 0
      },
      "text/plain": [
       "Processing STRAIN-COMPOUND:PRODUCES:   0%|          | 0/7337 [00:00<?, ?it/s]"
      ]
     },
     "metadata": {},
     "output_type": "display_data"
    }
   ],
   "source": [
    "for rel in tqdm(rels):\n",
    "\tos.makedirs(f\"{rel_dir}/{rel}\", exist_ok=True)\n",
    "\tdf_rel = df[df.rel == rel]\n",
    "\tfor assembly in tqdm(df_rel.term.unique(), desc=f\"Processing {rel}\"):\n",
    "\t\tif assembly.strip() != \"\":\n",
    "\t\t\tsource_dir = f\"{path}/assemblies_linkbert_{max_assembly}_backup/assemblies_linkbert_{max_assembly}/{assembly}\"\n",
    "\t\t\tif os.path.exists(source_dir):\n",
    "\t\t\t\ttarget_dir = f\"{rel_dir}/{rel}/{assembly}\"\n",
    "\t\t\t\tshutil.copytree(source_dir, target_dir, dirs_exist_ok=True)"
   ]
  },
  {
   "cell_type": "code",
   "execution_count": null,
   "metadata": {},
   "outputs": [],
   "source": []
  },
  {
   "cell_type": "code",
   "execution_count": null,
   "metadata": {},
   "outputs": [],
   "source": []
  },
  {
   "cell_type": "code",
   "execution_count": null,
   "metadata": {},
   "outputs": [],
   "source": []
  }
 ],
 "metadata": {
  "kernelspec": {
   "display_name": "base",
   "language": "python",
   "name": "python3"
  },
  "language_info": {
   "codemirror_mode": {
    "name": "ipython",
    "version": 3
   },
   "file_extension": ".py",
   "mimetype": "text/x-python",
   "name": "python",
   "nbconvert_exporter": "python",
   "pygments_lexer": "ipython3",
   "version": "3.11.7"
  }
 },
 "nbformat": 4,
 "nbformat_minor": 2
}
