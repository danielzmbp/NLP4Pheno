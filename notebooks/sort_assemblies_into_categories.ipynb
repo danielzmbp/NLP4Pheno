{
 "cells": [
  {
   "cell_type": "code",
   "execution_count": 19,
   "metadata": {},
   "outputs": [],
   "source": [
    "import pandas as pd\n",
    "import os\n",
    "from glob import glob\n",
    "import shutil\n",
    "from tqdm import tqdm"
   ]
  },
  {
   "cell_type": "code",
   "execution_count": 13,
   "metadata": {},
   "outputs": [],
   "source": [
    "data = \"810\"\n",
    "path = \"/home/gomez/gomez\"\n",
    "max_assembly = \"15\""
   ]
  },
  {
   "cell_type": "code",
   "execution_count": 4,
   "metadata": {},
   "outputs": [],
   "source": [
    "df = pd.read_parquet(f\"{path}/preds{data}/REL_output/preds.parquet\")"
   ]
  },
  {
   "cell_type": "markdown",
   "metadata": {},
   "source": [
    "get which strains belong to which category"
   ]
  },
  {
   "cell_type": "code",
   "execution_count": 9,
   "metadata": {},
   "outputs": [],
   "source": [
    "df.loc[:,\"term\"]  = df.word_strain_qc.str.replace('/', '_').str.replace(\")\", \"_\").str.replace(' ', '_').str.replace(\n",
    "                            \"(\", \"_\").str.replace(\"=\", \"_\").str.replace(\"'\", \"_\").str.replace(\";\", \"_\").str.replace(\",\", \"_\").str.replace(\"|\", \"_\").str.replace('.', '_').str.replace('-', '_').str.replace('___', '_').str.replace('__', '_').str.lstrip('_').str.rstrip('_')"
   ]
  },
  {
   "cell_type": "code",
   "execution_count": 22,
   "metadata": {},
   "outputs": [],
   "source": [
    "# Create a new directory\n",
    "rel_dir = f\"{path}/assembly_rel_{max_assembly}\"\n",
    "os.makedirs(rel_dir, exist_ok=True)\n",
    "\n",
    "# Get the list of strains\n",
    "rels = df.rel.unique()\n"
   ]
  },
  {
   "cell_type": "code",
   "execution_count": 29,
   "metadata": {},
   "outputs": [
    {
     "ename": "SyntaxError",
     "evalue": "f-string expression part cannot include a backslash (267750599.py, line 10)",
     "output_type": "error",
     "traceback": [
      "\u001b[0;36m  Cell \u001b[0;32mIn[29], line 10\u001b[0;36m\u001b[0m\n\u001b[0;31m    target_dir = f\"{rel_dir}/{rel}/{re.sub(r'[<>:\\\"/\\\\\\\\|?*]', '_', assembly)}\"\u001b[0m\n\u001b[0m                                                                               ^\u001b[0m\n\u001b[0;31mSyntaxError\u001b[0m\u001b[0;31m:\u001b[0m f-string expression part cannot include a backslash\n"
     ]
    }
   ],
   "source": [
    "# FILEPATH: /nvme/home/gomez/LinkBERT/linkbert_pipeline/notebooks/sort_assemblies_into_categories.ipynb\n",
    "for rel in tqdm(rels):\n",
    "\tos.makedirs(f\"{rel_dir}/{rel}\", exist_ok=True)\n",
    "\tdf_rel = df[df.rel == rel]\n",
    "\tfor assembly in tqdm(df_rel.term.unique(), desc=f\"Processing {rel}\"):\n",
    "\t\tsource_dir = f\"{path}/assemblies_linkbert_{max_assembly}/{assembly}\"\n",
    "\t\tif os.path.exists(source_dir):\n",
    "\t\t\ttarget_dir = f\"{rel_dir}/{rel}/{assembly}\"\n",
    "\t\t\tshutil.copytree(source_dir, target_dir, dirs_exist_ok=True)\n",
    "\t\telse:\n",
    "\t\t\tpass\n"
   ]
  },
  {
   "cell_type": "code",
   "execution_count": null,
   "metadata": {},
   "outputs": [],
   "source": []
  },
  {
   "cell_type": "code",
   "execution_count": null,
   "metadata": {},
   "outputs": [],
   "source": []
  },
  {
   "cell_type": "code",
   "execution_count": null,
   "metadata": {},
   "outputs": [],
   "source": []
  }
 ],
 "metadata": {
  "kernelspec": {
   "display_name": "base",
   "language": "python",
   "name": "python3"
  },
  "language_info": {
   "codemirror_mode": {
    "name": "ipython",
    "version": 3
   },
   "file_extension": ".py",
   "mimetype": "text/x-python",
   "name": "python",
   "nbconvert_exporter": "python",
   "pygments_lexer": "ipython3",
   "version": "3.11.7"
  }
 },
 "nbformat": 4,
 "nbformat_minor": 2
}
