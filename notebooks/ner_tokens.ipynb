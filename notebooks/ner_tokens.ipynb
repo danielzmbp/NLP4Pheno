{
 "cells": [
  {
   "cell_type": "code",
   "execution_count": 1,
   "metadata": {},
   "outputs": [],
   "source": [
    "import pandas as pd\n",
    "import os\n",
    "import json\n",
    "import numpy as np\n",
    "import re\n",
    "from operator import itemgetter\n",
    "from glob import glob\n",
    "import itertools\n",
    "import csv\n"
   ]
  },
  {
   "cell_type": "markdown",
   "metadata": {},
   "source": [
    "## Tokens"
   ]
  },
  {
   "cell_type": "code",
   "execution_count": 4,
   "metadata": {},
   "outputs": [],
   "source": [
    "strains = \"/home/gomez/gomez/preds2/NER_output/STRAIN/805.parquet\""
   ]
  },
  {
   "cell_type": "code",
   "execution_count": 5,
   "metadata": {},
   "outputs": [
    {
     "ename": "FileNotFoundError",
     "evalue": "[Errno 2] No such file or directory: '/home/gomez/gomez/preds2/NER_output/STRAIN/805.parquet'",
     "output_type": "error",
     "traceback": [
      "\u001b[0;31m---------------------------------------------------------------------------\u001b[0m",
      "\u001b[0;31mFileNotFoundError\u001b[0m                         Traceback (most recent call last)",
      "Cell \u001b[0;32mIn[5], line 1\u001b[0m\n\u001b[0;32m----> 1\u001b[0m df \u001b[38;5;241m=\u001b[39m \u001b[43mpd\u001b[49m\u001b[38;5;241;43m.\u001b[39;49m\u001b[43mread_parquet\u001b[49m\u001b[43m(\u001b[49m\u001b[43mstrains\u001b[49m\u001b[43m)\u001b[49m\u001b[38;5;241m.\u001b[39mexplode(\u001b[38;5;124m\"\u001b[39m\u001b[38;5;124mner\u001b[39m\u001b[38;5;124m\"\u001b[39m)\u001b[38;5;241m.\u001b[39mdropna()\n",
      "File \u001b[0;32m~/miniconda3/lib/python3.11/site-packages/pandas/io/parquet.py:670\u001b[0m, in \u001b[0;36mread_parquet\u001b[0;34m(path, engine, columns, storage_options, use_nullable_dtypes, dtype_backend, filesystem, filters, **kwargs)\u001b[0m\n\u001b[1;32m    667\u001b[0m     use_nullable_dtypes \u001b[38;5;241m=\u001b[39m \u001b[38;5;28;01mFalse\u001b[39;00m\n\u001b[1;32m    668\u001b[0m check_dtype_backend(dtype_backend)\n\u001b[0;32m--> 670\u001b[0m \u001b[38;5;28;01mreturn\u001b[39;00m \u001b[43mimpl\u001b[49m\u001b[38;5;241;43m.\u001b[39;49m\u001b[43mread\u001b[49m\u001b[43m(\u001b[49m\n\u001b[1;32m    671\u001b[0m \u001b[43m    \u001b[49m\u001b[43mpath\u001b[49m\u001b[43m,\u001b[49m\n\u001b[1;32m    672\u001b[0m \u001b[43m    \u001b[49m\u001b[43mcolumns\u001b[49m\u001b[38;5;241;43m=\u001b[39;49m\u001b[43mcolumns\u001b[49m\u001b[43m,\u001b[49m\n\u001b[1;32m    673\u001b[0m \u001b[43m    \u001b[49m\u001b[43mfilters\u001b[49m\u001b[38;5;241;43m=\u001b[39;49m\u001b[43mfilters\u001b[49m\u001b[43m,\u001b[49m\n\u001b[1;32m    674\u001b[0m \u001b[43m    \u001b[49m\u001b[43mstorage_options\u001b[49m\u001b[38;5;241;43m=\u001b[39;49m\u001b[43mstorage_options\u001b[49m\u001b[43m,\u001b[49m\n\u001b[1;32m    675\u001b[0m \u001b[43m    \u001b[49m\u001b[43muse_nullable_dtypes\u001b[49m\u001b[38;5;241;43m=\u001b[39;49m\u001b[43muse_nullable_dtypes\u001b[49m\u001b[43m,\u001b[49m\n\u001b[1;32m    676\u001b[0m \u001b[43m    \u001b[49m\u001b[43mdtype_backend\u001b[49m\u001b[38;5;241;43m=\u001b[39;49m\u001b[43mdtype_backend\u001b[49m\u001b[43m,\u001b[49m\n\u001b[1;32m    677\u001b[0m \u001b[43m    \u001b[49m\u001b[43mfilesystem\u001b[49m\u001b[38;5;241;43m=\u001b[39;49m\u001b[43mfilesystem\u001b[49m\u001b[43m,\u001b[49m\n\u001b[1;32m    678\u001b[0m \u001b[43m    \u001b[49m\u001b[38;5;241;43m*\u001b[39;49m\u001b[38;5;241;43m*\u001b[39;49m\u001b[43mkwargs\u001b[49m\u001b[43m,\u001b[49m\n\u001b[1;32m    679\u001b[0m \u001b[43m\u001b[49m\u001b[43m)\u001b[49m\n",
      "File \u001b[0;32m~/miniconda3/lib/python3.11/site-packages/pandas/io/parquet.py:265\u001b[0m, in \u001b[0;36mPyArrowImpl.read\u001b[0;34m(self, path, columns, filters, use_nullable_dtypes, dtype_backend, storage_options, filesystem, **kwargs)\u001b[0m\n\u001b[1;32m    262\u001b[0m \u001b[38;5;28;01mif\u001b[39;00m manager \u001b[38;5;241m==\u001b[39m \u001b[38;5;124m\"\u001b[39m\u001b[38;5;124marray\u001b[39m\u001b[38;5;124m\"\u001b[39m:\n\u001b[1;32m    263\u001b[0m     to_pandas_kwargs[\u001b[38;5;124m\"\u001b[39m\u001b[38;5;124msplit_blocks\u001b[39m\u001b[38;5;124m\"\u001b[39m] \u001b[38;5;241m=\u001b[39m \u001b[38;5;28;01mTrue\u001b[39;00m  \u001b[38;5;66;03m# type: ignore[assignment]\u001b[39;00m\n\u001b[0;32m--> 265\u001b[0m path_or_handle, handles, filesystem \u001b[38;5;241m=\u001b[39m \u001b[43m_get_path_or_handle\u001b[49m\u001b[43m(\u001b[49m\n\u001b[1;32m    266\u001b[0m \u001b[43m    \u001b[49m\u001b[43mpath\u001b[49m\u001b[43m,\u001b[49m\n\u001b[1;32m    267\u001b[0m \u001b[43m    \u001b[49m\u001b[43mfilesystem\u001b[49m\u001b[43m,\u001b[49m\n\u001b[1;32m    268\u001b[0m \u001b[43m    \u001b[49m\u001b[43mstorage_options\u001b[49m\u001b[38;5;241;43m=\u001b[39;49m\u001b[43mstorage_options\u001b[49m\u001b[43m,\u001b[49m\n\u001b[1;32m    269\u001b[0m \u001b[43m    \u001b[49m\u001b[43mmode\u001b[49m\u001b[38;5;241;43m=\u001b[39;49m\u001b[38;5;124;43m\"\u001b[39;49m\u001b[38;5;124;43mrb\u001b[39;49m\u001b[38;5;124;43m\"\u001b[39;49m\u001b[43m,\u001b[49m\n\u001b[1;32m    270\u001b[0m \u001b[43m\u001b[49m\u001b[43m)\u001b[49m\n\u001b[1;32m    271\u001b[0m \u001b[38;5;28;01mtry\u001b[39;00m:\n\u001b[1;32m    272\u001b[0m     pa_table \u001b[38;5;241m=\u001b[39m \u001b[38;5;28mself\u001b[39m\u001b[38;5;241m.\u001b[39mapi\u001b[38;5;241m.\u001b[39mparquet\u001b[38;5;241m.\u001b[39mread_table(\n\u001b[1;32m    273\u001b[0m         path_or_handle,\n\u001b[1;32m    274\u001b[0m         columns\u001b[38;5;241m=\u001b[39mcolumns,\n\u001b[0;32m   (...)\u001b[0m\n\u001b[1;32m    277\u001b[0m         \u001b[38;5;241m*\u001b[39m\u001b[38;5;241m*\u001b[39mkwargs,\n\u001b[1;32m    278\u001b[0m     )\n",
      "File \u001b[0;32m~/miniconda3/lib/python3.11/site-packages/pandas/io/parquet.py:139\u001b[0m, in \u001b[0;36m_get_path_or_handle\u001b[0;34m(path, fs, storage_options, mode, is_dir)\u001b[0m\n\u001b[1;32m    129\u001b[0m handles \u001b[38;5;241m=\u001b[39m \u001b[38;5;28;01mNone\u001b[39;00m\n\u001b[1;32m    130\u001b[0m \u001b[38;5;28;01mif\u001b[39;00m (\n\u001b[1;32m    131\u001b[0m     \u001b[38;5;129;01mnot\u001b[39;00m fs\n\u001b[1;32m    132\u001b[0m     \u001b[38;5;129;01mand\u001b[39;00m \u001b[38;5;129;01mnot\u001b[39;00m is_dir\n\u001b[0;32m   (...)\u001b[0m\n\u001b[1;32m    137\u001b[0m     \u001b[38;5;66;03m# fsspec resources can also point to directories\u001b[39;00m\n\u001b[1;32m    138\u001b[0m     \u001b[38;5;66;03m# this branch is used for example when reading from non-fsspec URLs\u001b[39;00m\n\u001b[0;32m--> 139\u001b[0m     handles \u001b[38;5;241m=\u001b[39m \u001b[43mget_handle\u001b[49m\u001b[43m(\u001b[49m\n\u001b[1;32m    140\u001b[0m \u001b[43m        \u001b[49m\u001b[43mpath_or_handle\u001b[49m\u001b[43m,\u001b[49m\u001b[43m \u001b[49m\u001b[43mmode\u001b[49m\u001b[43m,\u001b[49m\u001b[43m \u001b[49m\u001b[43mis_text\u001b[49m\u001b[38;5;241;43m=\u001b[39;49m\u001b[38;5;28;43;01mFalse\u001b[39;49;00m\u001b[43m,\u001b[49m\u001b[43m \u001b[49m\u001b[43mstorage_options\u001b[49m\u001b[38;5;241;43m=\u001b[39;49m\u001b[43mstorage_options\u001b[49m\n\u001b[1;32m    141\u001b[0m \u001b[43m    \u001b[49m\u001b[43m)\u001b[49m\n\u001b[1;32m    142\u001b[0m     fs \u001b[38;5;241m=\u001b[39m \u001b[38;5;28;01mNone\u001b[39;00m\n\u001b[1;32m    143\u001b[0m     path_or_handle \u001b[38;5;241m=\u001b[39m handles\u001b[38;5;241m.\u001b[39mhandle\n",
      "File \u001b[0;32m~/miniconda3/lib/python3.11/site-packages/pandas/io/common.py:872\u001b[0m, in \u001b[0;36mget_handle\u001b[0;34m(path_or_buf, mode, encoding, compression, memory_map, is_text, errors, storage_options)\u001b[0m\n\u001b[1;32m    863\u001b[0m         handle \u001b[38;5;241m=\u001b[39m \u001b[38;5;28mopen\u001b[39m(\n\u001b[1;32m    864\u001b[0m             handle,\n\u001b[1;32m    865\u001b[0m             ioargs\u001b[38;5;241m.\u001b[39mmode,\n\u001b[0;32m   (...)\u001b[0m\n\u001b[1;32m    868\u001b[0m             newline\u001b[38;5;241m=\u001b[39m\u001b[38;5;124m\"\u001b[39m\u001b[38;5;124m\"\u001b[39m,\n\u001b[1;32m    869\u001b[0m         )\n\u001b[1;32m    870\u001b[0m     \u001b[38;5;28;01melse\u001b[39;00m:\n\u001b[1;32m    871\u001b[0m         \u001b[38;5;66;03m# Binary mode\u001b[39;00m\n\u001b[0;32m--> 872\u001b[0m         handle \u001b[38;5;241m=\u001b[39m \u001b[38;5;28;43mopen\u001b[39;49m\u001b[43m(\u001b[49m\u001b[43mhandle\u001b[49m\u001b[43m,\u001b[49m\u001b[43m \u001b[49m\u001b[43mioargs\u001b[49m\u001b[38;5;241;43m.\u001b[39;49m\u001b[43mmode\u001b[49m\u001b[43m)\u001b[49m\n\u001b[1;32m    873\u001b[0m     handles\u001b[38;5;241m.\u001b[39mappend(handle)\n\u001b[1;32m    875\u001b[0m \u001b[38;5;66;03m# Convert BytesIO or file objects passed with an encoding\u001b[39;00m\n",
      "\u001b[0;31mFileNotFoundError\u001b[0m: [Errno 2] No such file or directory: '/home/gomez/gomez/preds2/NER_output/STRAIN/805.parquet'"
     ]
    }
   ],
   "source": [
    "df = pd.read_parquet(strains).explode(\"ner\").dropna()"
   ]
  },
  {
   "cell_type": "code",
   "execution_count": 201,
   "metadata": {},
   "outputs": [],
   "source": [
    "grouped = df.groupby(\"text\").agg({\"ner\": lambda x: list(x)}).reset_index()"
   ]
  },
  {
   "cell_type": "code",
   "execution_count": 203,
   "metadata": {},
   "outputs": [],
   "source": [
    "def merge_entities(entity_list):\n",
    "    merged_list = []\n",
    "    skip = False\n",
    "\n",
    "    for i in range(len(entity_list)):\n",
    "        if skip:\n",
    "            skip = False\n",
    "            continue\n",
    "\n",
    "        current_entity = entity_list[i]\n",
    "        current_entity.pop('word', None)  # Remove 'word' entry\n",
    "        if current_entity['entity_group'] == 'B':\n",
    "            scores = [current_entity['score']]\n",
    "            # Look ahead to find contiguous 'I' entities\n",
    "            next_idx = i + 1\n",
    "            while next_idx < len(entity_list) and \\\n",
    "                  entity_list[next_idx]['entity_group'] == 'I' and \\\n",
    "                  (entity_list[next_idx]['start'] - current_entity['end']) <= 4:\n",
    "                scores.append(entity_list[next_idx]['score'])\n",
    "                current_entity['end'] = entity_list[next_idx]['end']  # Update end value\n",
    "                skip = True\n",
    "                next_idx += 1\n",
    "\n",
    "            # Average the scores\n",
    "            current_entity['score'] = sum(scores) / len(scores)\n",
    "\n",
    "        merged_list.append(current_entity)\n",
    "\n",
    "    return merged_list\n"
   ]
  },
  {
   "cell_type": "code",
   "execution_count": 204,
   "metadata": {},
   "outputs": [],
   "source": [
    "grouped['ner'] = grouped['ner'].apply(merge_entities)\n"
   ]
  },
  {
   "cell_type": "code",
   "execution_count": 206,
   "metadata": {},
   "outputs": [],
   "source": [
    "grouped = grouped.explode(\"ner\")"
   ]
  },
  {
   "cell_type": "code",
   "execution_count": 207,
   "metadata": {},
   "outputs": [
    {
     "data": {
      "text/html": [
       "<div>\n",
       "<style scoped>\n",
       "    .dataframe tbody tr th:only-of-type {\n",
       "        vertical-align: middle;\n",
       "    }\n",
       "\n",
       "    .dataframe tbody tr th {\n",
       "        vertical-align: top;\n",
       "    }\n",
       "\n",
       "    .dataframe thead th {\n",
       "        text-align: right;\n",
       "    }\n",
       "</style>\n",
       "<table border=\"1\" class=\"dataframe\">\n",
       "  <thead>\n",
       "    <tr style=\"text-align: right;\">\n",
       "      <th></th>\n",
       "      <th>text</th>\n",
       "      <th>ner</th>\n",
       "    </tr>\n",
       "  </thead>\n",
       "  <tbody>\n",
       "    <tr>\n",
       "      <th>0</th>\n",
       "      <td>\"Coordinate positions or positions of three re...</td>\n",
       "      <td>{'end': 159, 'entity_group': 'B', 'score': 0.6...</td>\n",
       "    </tr>\n",
       "    <tr>\n",
       "      <th>1</th>\n",
       "      <td>#MW113) were used, and stored in 0.5-0.75 mL o...</td>\n",
       "      <td>{'end': 6, 'entity_group': 'B', 'score': 0.880...</td>\n",
       "    </tr>\n",
       "    <tr>\n",
       "      <th>2</th>\n",
       "      <td>&amp; Hur (paratype: KBA-L-0001037); South Korea, ...</td>\n",
       "      <td>{'end': 27, 'entity_group': 'B', 'score': 0.78...</td>\n",
       "    </tr>\n",
       "    <tr>\n",
       "      <th>3</th>\n",
       "      <td>(1) With ectopic NSP1 expression, we observed ...</td>\n",
       "      <td>{'end': 161, 'entity_group': 'B', 'score': 0.7...</td>\n",
       "    </tr>\n",
       "    <tr>\n",
       "      <th>4</th>\n",
       "      <td>(1)Culture Pmet3-CDC20 Pgal-CEN3-tetOs TetR-GF...</td>\n",
       "      <td>{'end': 66, 'entity_group': 'B', 'score': 0.75...</td>\n",
       "    </tr>\n",
       "    <tr>\n",
       "      <th>...</th>\n",
       "      <td>...</td>\n",
       "      <td>...</td>\n",
       "    </tr>\n",
       "    <tr>\n",
       "      <th>9410</th>\n",
       "      <td>经Xho1、EcoR1酶切图筛选Track-Eazyp53(del)、Track-Easy-...</td>\n",
       "      <td>{'end': 9, 'entity_group': 'B', 'score': 0.658...</td>\n",
       "    </tr>\n",
       "    <tr>\n",
       "      <th>9411</th>\n",
       "      <td>继发T790M突变建议的主要检测手段有cobas、AMRS、ddPCR甚至二代测序（next...</td>\n",
       "      <td>{'end': 4, 'entity_group': 'B', 'score': 0.632...</td>\n",
       "    </tr>\n",
       "    <tr>\n",
       "      <th>9412</th>\n",
       "      <td>考虑到MPOG-463A在不同种族的差异分布(http://www.ncbi.nlm.nih...</td>\n",
       "      <td>{'end': 12, 'entity_group': 'B', 'score': 0.78...</td>\n",
       "    </tr>\n",
       "    <tr>\n",
       "      <th>9413</th>\n",
       "      <td>肺癌细胞系A549（CCL#185）购自American Type Culture Coll...</td>\n",
       "      <td>{'end': 9, 'entity_group': 'B', 'score': 0.773...</td>\n",
       "    </tr>\n",
       "    <tr>\n",
       "      <th>9413</th>\n",
       "      <td>肺癌细胞系A549（CCL#185）购自American Type Culture Coll...</td>\n",
       "      <td>{'end': 17, 'entity_group': 'B', 'score': 0.79...</td>\n",
       "    </tr>\n",
       "  </tbody>\n",
       "</table>\n",
       "<p>12790 rows × 2 columns</p>\n",
       "</div>"
      ],
      "text/plain": [
       "                                                   text  \\\n",
       "0     \"Coordinate positions or positions of three re...   \n",
       "1     #MW113) were used, and stored in 0.5-0.75 mL o...   \n",
       "2     & Hur (paratype: KBA-L-0001037); South Korea, ...   \n",
       "3     (1) With ectopic NSP1 expression, we observed ...   \n",
       "4     (1)Culture Pmet3-CDC20 Pgal-CEN3-tetOs TetR-GF...   \n",
       "...                                                 ...   \n",
       "9410  经Xho1、EcoR1酶切图筛选Track-Eazyp53(del)、Track-Easy-...   \n",
       "9411  继发T790M突变建议的主要检测手段有cobas、AMRS、ddPCR甚至二代测序（next...   \n",
       "9412  考虑到MPOG-463A在不同种族的差异分布(http://www.ncbi.nlm.nih...   \n",
       "9413  肺癌细胞系A549（CCL#185）购自American Type Culture Coll...   \n",
       "9413  肺癌细胞系A549（CCL#185）购自American Type Culture Coll...   \n",
       "\n",
       "                                                    ner  \n",
       "0     {'end': 159, 'entity_group': 'B', 'score': 0.6...  \n",
       "1     {'end': 6, 'entity_group': 'B', 'score': 0.880...  \n",
       "2     {'end': 27, 'entity_group': 'B', 'score': 0.78...  \n",
       "3     {'end': 161, 'entity_group': 'B', 'score': 0.7...  \n",
       "4     {'end': 66, 'entity_group': 'B', 'score': 0.75...  \n",
       "...                                                 ...  \n",
       "9410  {'end': 9, 'entity_group': 'B', 'score': 0.658...  \n",
       "9411  {'end': 4, 'entity_group': 'B', 'score': 0.632...  \n",
       "9412  {'end': 12, 'entity_group': 'B', 'score': 0.78...  \n",
       "9413  {'end': 9, 'entity_group': 'B', 'score': 0.773...  \n",
       "9413  {'end': 17, 'entity_group': 'B', 'score': 0.79...  \n",
       "\n",
       "[12790 rows x 2 columns]"
      ]
     },
     "execution_count": 207,
     "metadata": {},
     "output_type": "execute_result"
    }
   ],
   "source": [
    "grouped"
   ]
  },
  {
   "cell_type": "code",
   "execution_count": 208,
   "metadata": {},
   "outputs": [],
   "source": [
    "grouped = pd.concat(\n",
    "                [grouped.drop(columns=\"ner\"), grouped.ner.apply(pd.Series)], axis=1\n",
    "            )"
   ]
  },
  {
   "cell_type": "code",
   "execution_count": 209,
   "metadata": {},
   "outputs": [
    {
     "data": {
      "text/html": [
       "<div>\n",
       "<style scoped>\n",
       "    .dataframe tbody tr th:only-of-type {\n",
       "        vertical-align: middle;\n",
       "    }\n",
       "\n",
       "    .dataframe tbody tr th {\n",
       "        vertical-align: top;\n",
       "    }\n",
       "\n",
       "    .dataframe thead th {\n",
       "        text-align: right;\n",
       "    }\n",
       "</style>\n",
       "<table border=\"1\" class=\"dataframe\">\n",
       "  <thead>\n",
       "    <tr style=\"text-align: right;\">\n",
       "      <th></th>\n",
       "      <th>text</th>\n",
       "      <th>end</th>\n",
       "      <th>entity_group</th>\n",
       "      <th>score</th>\n",
       "      <th>start</th>\n",
       "    </tr>\n",
       "  </thead>\n",
       "  <tbody>\n",
       "    <tr>\n",
       "      <th>0</th>\n",
       "      <td>\"Coordinate positions or positions of three re...</td>\n",
       "      <td>159</td>\n",
       "      <td>B</td>\n",
       "      <td>0.652696</td>\n",
       "      <td>153</td>\n",
       "    </tr>\n",
       "    <tr>\n",
       "      <th>1</th>\n",
       "      <td>#MW113) were used, and stored in 0.5-0.75 mL o...</td>\n",
       "      <td>6</td>\n",
       "      <td>B</td>\n",
       "      <td>0.880458</td>\n",
       "      <td>1</td>\n",
       "    </tr>\n",
       "    <tr>\n",
       "      <th>2</th>\n",
       "      <td>&amp; Hur (paratype: KBA-L-0001037); South Korea, ...</td>\n",
       "      <td>27</td>\n",
       "      <td>B</td>\n",
       "      <td>0.789787</td>\n",
       "      <td>17</td>\n",
       "    </tr>\n",
       "    <tr>\n",
       "      <th>3</th>\n",
       "      <td>(1) With ectopic NSP1 expression, we observed ...</td>\n",
       "      <td>161</td>\n",
       "      <td>B</td>\n",
       "      <td>0.705191</td>\n",
       "      <td>158</td>\n",
       "    </tr>\n",
       "    <tr>\n",
       "      <th>4</th>\n",
       "      <td>(1)Culture Pmet3-CDC20 Pgal-CEN3-tetOs TetR-GF...</td>\n",
       "      <td>66</td>\n",
       "      <td>B</td>\n",
       "      <td>0.757170</td>\n",
       "      <td>64</td>\n",
       "    </tr>\n",
       "    <tr>\n",
       "      <th>...</th>\n",
       "      <td>...</td>\n",
       "      <td>...</td>\n",
       "      <td>...</td>\n",
       "      <td>...</td>\n",
       "      <td>...</td>\n",
       "    </tr>\n",
       "    <tr>\n",
       "      <th>9410</th>\n",
       "      <td>经Xho1、EcoR1酶切图筛选Track-Eazyp53(del)、Track-Easy-...</td>\n",
       "      <td>9</td>\n",
       "      <td>B</td>\n",
       "      <td>0.658696</td>\n",
       "      <td>6</td>\n",
       "    </tr>\n",
       "    <tr>\n",
       "      <th>9411</th>\n",
       "      <td>继发T790M突变建议的主要检测手段有cobas、AMRS、ddPCR甚至二代测序（next...</td>\n",
       "      <td>4</td>\n",
       "      <td>B</td>\n",
       "      <td>0.632785</td>\n",
       "      <td>2</td>\n",
       "    </tr>\n",
       "    <tr>\n",
       "      <th>9412</th>\n",
       "      <td>考虑到MPOG-463A在不同种族的差异分布(http://www.ncbi.nlm.nih...</td>\n",
       "      <td>12</td>\n",
       "      <td>B</td>\n",
       "      <td>0.780138</td>\n",
       "      <td>3</td>\n",
       "    </tr>\n",
       "    <tr>\n",
       "      <th>9413</th>\n",
       "      <td>肺癌细胞系A549（CCL#185）购自American Type Culture Coll...</td>\n",
       "      <td>9</td>\n",
       "      <td>B</td>\n",
       "      <td>0.773091</td>\n",
       "      <td>5</td>\n",
       "    </tr>\n",
       "    <tr>\n",
       "      <th>9413</th>\n",
       "      <td>肺癌细胞系A549（CCL#185）购自American Type Culture Coll...</td>\n",
       "      <td>17</td>\n",
       "      <td>B</td>\n",
       "      <td>0.791303</td>\n",
       "      <td>10</td>\n",
       "    </tr>\n",
       "  </tbody>\n",
       "</table>\n",
       "<p>12790 rows × 5 columns</p>\n",
       "</div>"
      ],
      "text/plain": [
       "                                                   text  end entity_group  \\\n",
       "0     \"Coordinate positions or positions of three re...  159            B   \n",
       "1     #MW113) were used, and stored in 0.5-0.75 mL o...    6            B   \n",
       "2     & Hur (paratype: KBA-L-0001037); South Korea, ...   27            B   \n",
       "3     (1) With ectopic NSP1 expression, we observed ...  161            B   \n",
       "4     (1)Culture Pmet3-CDC20 Pgal-CEN3-tetOs TetR-GF...   66            B   \n",
       "...                                                 ...  ...          ...   \n",
       "9410  经Xho1、EcoR1酶切图筛选Track-Eazyp53(del)、Track-Easy-...    9            B   \n",
       "9411  继发T790M突变建议的主要检测手段有cobas、AMRS、ddPCR甚至二代测序（next...    4            B   \n",
       "9412  考虑到MPOG-463A在不同种族的差异分布(http://www.ncbi.nlm.nih...   12            B   \n",
       "9413  肺癌细胞系A549（CCL#185）购自American Type Culture Coll...    9            B   \n",
       "9413  肺癌细胞系A549（CCL#185）购自American Type Culture Coll...   17            B   \n",
       "\n",
       "         score  start  \n",
       "0     0.652696    153  \n",
       "1     0.880458      1  \n",
       "2     0.789787     17  \n",
       "3     0.705191    158  \n",
       "4     0.757170     64  \n",
       "...        ...    ...  \n",
       "9410  0.658696      6  \n",
       "9411  0.632785      2  \n",
       "9412  0.780138      3  \n",
       "9413  0.773091      5  \n",
       "9413  0.791303     10  \n",
       "\n",
       "[12790 rows x 5 columns]"
      ]
     },
     "execution_count": 209,
     "metadata": {},
     "output_type": "execute_result"
    }
   ],
   "source": [
    "grouped"
   ]
  },
  {
   "cell_type": "code",
   "execution_count": 210,
   "metadata": {},
   "outputs": [],
   "source": [
    "grouped['word'] = grouped.apply(lambda row: row['text'][row['start']:row['end']], axis=1)\n"
   ]
  },
  {
   "cell_type": "code",
   "execution_count": 212,
   "metadata": {},
   "outputs": [],
   "source": [
    "grouped[\"word\"] = grouped[\"word\"].str.lower()"
   ]
  },
  {
   "cell_type": "code",
   "execution_count": 214,
   "metadata": {},
   "outputs": [],
   "source": [
    "grouped.to_csv(\"test.csv\")"
   ]
  },
  {
   "cell_type": "markdown",
   "metadata": {},
   "source": [
    "---"
   ]
  },
  {
   "cell_type": "code",
   "execution_count": 4,
   "metadata": {},
   "outputs": [],
   "source": [
    "data = \"810\"\n",
    "strains = glob(f\"/home/gomez/gomez/preds{data}/NER_output/STRAIN/*.parquet\")"
   ]
  },
  {
   "cell_type": "code",
   "execution_count": 7,
   "metadata": {},
   "outputs": [],
   "source": [
    "def merge_entities(entity_list):\n",
    "    merged_list = []\n",
    "    skip = False\n",
    "\n",
    "    for i in range(len(entity_list)):\n",
    "        if skip:\n",
    "            skip = False\n",
    "            continue\n",
    "\n",
    "        current_entity = entity_list[i]\n",
    "        current_entity.pop(\"word\", None)  # Remove 'word' entry\n",
    "        if current_entity[\"entity_group\"] == \"B\":\n",
    "            scores = [current_entity[\"score\"]]\n",
    "            # Look ahead to find contiguous 'I' entities\n",
    "            next_idx = i + 1\n",
    "            while (\n",
    "                next_idx < len(entity_list)\n",
    "                and entity_list[next_idx][\"entity_group\"] == \"I\"\n",
    "                and (entity_list[next_idx][\"start\"] - current_entity[\"end\"]) <= 4\n",
    "            ):\n",
    "                scores.append(entity_list[next_idx][\"score\"])\n",
    "                current_entity[\"end\"] = entity_list[next_idx][\"end\"]  # Update end value\n",
    "                skip = True\n",
    "                next_idx += 1\n",
    "\n",
    "            # Average the scores\n",
    "            current_entity[\"score\"] = sum(scores) / len(scores)\n",
    "\n",
    "        merged_list.append(current_entity)\n",
    "\n",
    "    return merged_list"
   ]
  },
  {
   "cell_type": "code",
   "execution_count": 8,
   "metadata": {},
   "outputs": [],
   "source": [
    "l = []\n",
    "for file in tqdm(strains):\n",
    "\td = pd.read_parquet(file).explode(\"ner\").dropna()\n",
    "\tgrouped = d.groupby(\"text\").agg({\"ner\": lambda x: list(x)}).reset_index()\n",
    "\tgrouped[\"ner\"] = grouped[\"ner\"].apply(merge_entities)\n",
    "\tgrouped = grouped.explode(\"ner\")\n",
    "\tgrouped = pd.concat(\n",
    "\t\t[grouped.drop(columns=\"ner\"), grouped.ner.apply(pd.Series)], axis=1\n",
    "\t)\n",
    "\tl.append(grouped)\n",
    "df = pd.concat(l)"
   ]
  },
  {
   "cell_type": "code",
   "execution_count": 10,
   "metadata": {},
   "outputs": [],
   "source": [
    "df[\"word\"] = df.apply(\n",
    "\tlambda row: row[\"text\"][row[\"start\"] : row[\"end\"]], axis=2\n",
    ")"
   ]
  },
  {
   "cell_type": "code",
   "execution_count": 15,
   "metadata": {},
   "outputs": [],
   "source": [
    "df_sorted = df.sort_values(\"word\")"
   ]
  },
  {
   "cell_type": "code",
   "execution_count": 20,
   "metadata": {},
   "outputs": [],
   "source": [
    "df[\"word\"] = df[\"word\"].str.lower()"
   ]
  },
  {
   "cell_type": "code",
   "execution_count": 23,
   "metadata": {},
   "outputs": [
    {
     "data": {
      "text/plain": [
       "'\"64-111 K 2D pass reads (compared with 21 K for the typical R7.3 experiment)\".'"
      ]
     },
     "execution_count": 23,
     "metadata": {},
     "output_type": "execute_result"
    }
   ],
   "source": [
    "df.sort_values(\"text\").iloc[0,0]"
   ]
  },
  {
   "cell_type": "markdown",
   "metadata": {},
   "source": [
    "## Check most common entities per category"
   ]
  },
  {
   "cell_type": "code",
   "execution_count": 2,
   "metadata": {},
   "outputs": [],
   "source": [
    "data = \"1500\"\n",
    "def merge_entities(entity_list):\n",
    "    merged_list = []\n",
    "    skip = False\n",
    "\n",
    "    for i in range(len(entity_list)):\n",
    "        if skip:\n",
    "            skip = False\n",
    "            continue\n",
    "\n",
    "        current_entity = entity_list[i]\n",
    "        current_entity.pop(\"word\", None)  # Remove 'word' entry\n",
    "        if current_entity[\"entity_group\"] == \"B\":\n",
    "            scores = [current_entity[\"score\"]]\n",
    "            # Look ahead to find contiguous 'I' entities\n",
    "            next_idx = i + 1\n",
    "            while (\n",
    "                next_idx < len(entity_list)\n",
    "                and entity_list[next_idx][\"entity_group\"] == \"I\"\n",
    "                and (entity_list[next_idx][\"start\"] - current_entity[\"end\"]) <= 4\n",
    "            ):\n",
    "                scores.append(entity_list[next_idx][\"score\"])\n",
    "                current_entity[\"end\"] = entity_list[next_idx][\"end\"]  # Update end value\n",
    "                skip = True\n",
    "                next_idx += 1\n",
    "\n",
    "            # Average the scores\n",
    "            current_entity[\"score\"] = sum(scores) / len(scores)\n",
    "\n",
    "        merged_list.append(current_entity)\n",
    "\n",
    "    return merged_list\n",
    "path = f\"/home/gomez/gomez/preds{data}/NER_output\""
   ]
  },
  {
   "cell_type": "code",
   "execution_count": 3,
   "metadata": {},
   "outputs": [],
   "source": [
    "d = pd.read_parquet(f\"{path}/COMPOUND.parquet\").explode(\"ner\").dropna()"
   ]
  },
  {
   "cell_type": "code",
   "execution_count": 4,
   "metadata": {},
   "outputs": [],
   "source": [
    "grouped = d.groupby(\"text\").agg({\"ner\": lambda x: list(x)}).reset_index()\n",
    "grouped[\"ner\"] = grouped[\"ner\"].apply(merge_entities)\n",
    "grouped = grouped.explode(\"ner\")\n",
    "grouped = pd.concat(\n",
    "                [grouped.drop(columns=\"ner\"), grouped.ner.apply(pd.Series)], axis=1\n",
    "            )"
   ]
  },
  {
   "cell_type": "code",
   "execution_count": 5,
   "metadata": {},
   "outputs": [],
   "source": [
    "grouped[\"word\"] = grouped.apply(\n",
    "            lambda row: row[\"text\"][row[\"start\"] : row[\"end\"]], axis=1\n",
    "        )"
   ]
  },
  {
   "cell_type": "code",
   "execution_count": 6,
   "metadata": {},
   "outputs": [
    {
     "data": {
      "text/plain": [
       "array(['CO_2', '2', 'NaCl', 'H_2O_2', 'cisplatin', 'DMSO', 'IPTG',\n",
       "       '% CO_2', 'PBS', 'Cd', 'ciprofloxacin', 'EDTA', 'colistin',\n",
       "       'doxorubicin', 'H_', 'HEPES', '4', 'tetracycline', 'N', 'DOX', 'P',\n",
       "       'copper', 'CaCl_2', 'O_2', '5-FU', 'gentamicin', 'TMZ', 'HCl',\n",
       "       'CO', 'Tris', '3', 'phosphate', 'Fe', '5', 'Cu', 'CO_',\n",
       "       'paclitaxel', 'Ca', 'Zn', 'ampicillin', 'vancomycin',\n",
       "       'chloroquine', 'KH_2PO_4', 'Dox', 'H_2', 'iron', 'KCl',\n",
       "       'doxycycline', 'SDS', 'N_2', 'H', 'Al', 'MgCl_2',\n",
       "       'paraformaldehyde', 'MgSO_4', '2O', 'CQ', '2O_2', 'oxygen', 'H_2O',\n",
       "       'hydrogen peroxide', 'nitrate', 'K', 'fluconazole', 'meropenem',\n",
       "       'Na', 'metal', 'zinc', 'gefitinib', 'PTX', 'MeOH', 'rifampicin',\n",
       "       'PI', 'CDDP', 'PEG', 'Ca^2+', 'Ni', 'curcumin', 'gemcitabine',\n",
       "       'tigecycline', 'Mn', 'DSS', 'ethanol', 'nitrogen', 'Pb',\n",
       "       'ceftazidime', 'DTT', 'CO2', 'phenol', 'imipenem', '6', 'MgCl_',\n",
       "       'cadmium', 'bile', 'C', 'Tris-HCl', '2+', 'carbenicillin',\n",
       "       'methanol', 'NO', 'NAC', 'S', 'H_2O_', 'Tween', 'nitrite',\n",
       "       'NaHCO_3', 'oxacillin', 'trimethoprim', 'K_2HPO_4',\n",
       "       'chloramphenicol', 'sodium', 'carbapenem', 'CA', 'tobramycin', 'O',\n",
       "       'formaldehyde', 'ammonium', 'AgNPs', 'Cr(VI)', 'NaOH', 'TRIzol',\n",
       "       'salt', 'heavy metal', 'NH_4Cl', 'DDP', 'PMA', 'calcium',\n",
       "       'sodium bicarbonate', 'FLC', 'erlotinib', 'DON', 'sorafenib',\n",
       "       'DHA', 'urea', 'oxaliplatin', '1', 'Mg^2+', 'Ni-NTA',\n",
       "       'clindamycin', 'EGCG', 'arsenic', 'tamoxifen', 'amikacin',\n",
       "       'mercury', 'Zn^2+', 'chloroform', 'kanamycin', 'UV', 'etoposide',\n",
       "       'hydrogen', 'CIP', 'dimethyl sulfoxide', 'docetaxel',\n",
       "       'sodium chloride', 'GA', 'NH_', 'CHX', 'INH', 'Mg', 'levofloxacin',\n",
       "       'heavy metals', 'nalidixic acid', 'MG132', 'Na^+', 'Cu^2+',\n",
       "       'sodium azide', '-', 'Tween 80', 'Cr', 'BA', 'nickel', 'H_2S', 'D',\n",
       "       'penicillin', '7', 'isopropyl', 'erythromycin', 'fosfomycin', 'β',\n",
       "       'lithium acetate', 'Se', 'Na_2HPO_4', 'polymyxin', 'EtOAc',\n",
       "       'Mn^2+', 'metronidazole', 'crystal violet', 'streptomycin', 'ABTS',\n",
       "       'HA', 'amoxicillin', 'water', 'fluoroquinolone', 'sulfur',\n",
       "       'mitomycin C', 'selenite', 'As', 'carboplatin', 'CS',\n",
       "       'carbon dioxide', 'norfloxacin', 'polymyxin B', 'trastuzumab',\n",
       "       'cefotaxime', 'TiO_2', 'ammonium sulfate', 'PEI', 'G418', 'Triton',\n",
       "       'PA', 'sulfamethoxazole', 'amphotericin B', 'Cd^2+', 'MB',\n",
       "       'ammonia', 'CaCO_3', 'metformin', 'daptomycin', 'propidium iodide',\n",
       "       'Trizol', 'CuSO_4', 'ceftriaxone', 'CPT', 'linezolid', 'BSA',\n",
       "       'Triton X-100', 'Hg', 'CTAB', 'DAP', 'HG', 'JC-1', 'quercetin',\n",
       "       'CH_4', 'azole', 'O_', 'DPPH', 'PFA', 'liquid nitrogen',\n",
       "       'glutaraldehyde', 'BPA', 'azithromycin', 'distilled water', 'CMC',\n",
       "       'Fe^2+', 'CCCP', 'EGTA', 'As(III)', 'polybrene', 'LiCl',\n",
       "       'oseltamivir', 'aztreonam', 'B', 'CH_', 'Fe^3+', 'cefoxitin',\n",
       "       'toluene', 'PB', 'SAHA', 'MMC', 'MgSO_4·7H_2O', 'isoniazid', 'TQ',\n",
       "       'CoCl_2', 'IR', 'PMSF', 'CH', 'platinum', 'n', 'sulfate', 'II',\n",
       "       '2S', 'Co', 'bortezomib', 'LA', 'isoflurane', 'RIF', 'paraquat',\n",
       "       'FeSO_4', 'II)', 'T', 'MTT', 'FA', 'lead', 'osimertinib',\n",
       "       'Fe(III)', 'silver', 'FeCl_3', 'Cl', 'EtOH', 'Cisplatin', 'CTX',\n",
       "       'ZnO', 'CBD', 'NH_4^+', 'carbapenems', 'NP', 'F', 'MTX',\n",
       "       'bile salts', 'TC'], dtype=object)"
      ]
     },
     "execution_count": 6,
     "metadata": {},
     "output_type": "execute_result"
    }
   ],
   "source": [
    "grouped.value_counts(\"word\").head(300).reset_index().word.values"
   ]
  },
  {
   "cell_type": "code",
   "execution_count": 7,
   "metadata": {},
   "outputs": [
    {
     "name": "stderr",
     "output_type": "stream",
     "text": [
      "/tmp/ipykernel_19331/1100839408.py:2: DeprecationWarning: DataFrameGroupBy.apply operated on the grouping columns. This behavior is deprecated, and in a future version of pandas the grouping columns will be excluded from the operation. Either pass `include_groups=False` to exclude the groupings or explicitly select the grouping columns after groupby to silence this warning.\n",
      "  sample_row = grouped[grouped['word'].isin(word_list)].groupby(\"word\").apply(lambda df: df.sample(1))\n"
     ]
    }
   ],
   "source": [
    "word_list = ['2', 'CO_', 'H_', \"UV\", \"% CO_2\",\"3\", \"6\", \"1\",\"7\",\"D\",'β', 'MgCl_','H_2O_',\"NH_\",\"II)\", \"-\"]\n",
    "sample_row = grouped[grouped['word'].isin(word_list)].groupby(\"word\").apply(lambda df: df.sample(1))\n",
    "\n",
    "\n"
   ]
  },
  {
   "cell_type": "code",
   "execution_count": 8,
   "metadata": {},
   "outputs": [],
   "source": [
    "with open(\"sentences.txt\", \"w\") as file:\n",
    "\tfor sentence in sample_row[\"text\"].values:\n",
    "\t\tfile.write(sentence + \"\\n\")"
   ]
  },
  {
   "cell_type": "markdown",
   "metadata": {},
   "source": [
    "---"
   ]
  },
  {
   "cell_type": "code",
   "execution_count": 9,
   "metadata": {},
   "outputs": [],
   "source": [
    "d = pd.read_parquet(f\"{path}/ISOLATE.parquet\").explode(\"ner\").dropna()\n",
    "grouped = d.groupby(\"text\").agg({\"ner\": lambda x: list(x)}).reset_index()\n",
    "grouped[\"ner\"] = grouped[\"ner\"].apply(merge_entities)\n",
    "grouped = grouped.explode(\"ner\")\n",
    "grouped = pd.concat(\n",
    "                [grouped.drop(columns=\"ner\"), grouped.ner.apply(pd.Series)], axis=1\n",
    "            )\n",
    "grouped[\"word\"] = grouped.apply(\n",
    "            lambda row: row[\"text\"][row[\"start\"] : row[\"end\"]], axis=1\n",
    "        )"
   ]
  },
  {
   "cell_type": "code",
   "execution_count": 10,
   "metadata": {},
   "outputs": [
    {
     "data": {
      "text/plain": [
       "array(['soil', 'blood', 'soil sample', 'rhizosphere', 'soil samples',\n",
       "       'seawater', 'patient', 'water', 'mangrove', 'kimchi', 'sediment',\n",
       "       'milk', 'cheese', 'rhizosphere soil', 'urine', 'marine sediment',\n",
       "       'hot spring', 'freshwater', 'human feces', 'wastewater', 'roots',\n",
       "       'sewage', 'fecal', 'feces', 'food', 'marine', 'deep-sea', 'leaves',\n",
       "       'human', 'deep-sea sediment', 'sputum', 'skin', 'wine', 'root',\n",
       "       'marine sediments', 'gut', 'sourdough', 'stool', 'soils',\n",
       "       'fecal samples', 'environmental', 'leaf', 'sediments',\n",
       "       'activated sludge', 'dairy', 'rumen', 'tissue', 'forest soil',\n",
       "       'meat', 'raw milk', 'hot springs', 'Sea', 'compost', 'human gut',\n",
       "       'of', 'blood culture', 'surface', 'pig', 'nasal', 'surface water',\n",
       "       'lymph node', 'human patient', 'human blood', 'rhizospheric soil',\n",
       "       'patients', 'water samples', 'chicken', 'vineyard', 'chicken meat',\n",
       "       'spleen', 'river water', 'wound', 'water sample', 'deep-',\n",
       "       'infant feces', 'agricultural soil', 'sediment sample', 'yogurt',\n",
       "       'cattle feces', 'lymph nodes', 'human skin', 'deep-sea sediments',\n",
       "       'lung', 'hospital sewage', 'nodules', 'kefir', 'sponge',\n",
       "       'stool samples', 'brain', 'Lake', 'poultry', 'river',\n",
       "       'urinary tract infection', 'bovine mastitis', 'dairy products',\n",
       "       'wastewater treatment plant', 'stem', 'lymph node metastasis',\n",
       "       'River', 'bone marrow', 'groundwater', 'liver', 'marine sponge',\n",
       "       'field', 'saline soil', 'human faeces', 'breast milk',\n",
       "       'fecal sample', 'fruit', 'blood sample', 'plant', 'tract',\n",
       "       'marine sediment sample', 'cerebrospinal fluid',\n",
       "       'wheat rhizosphere', 'garden soil', 'mangrove soil',\n",
       "       'contaminated soil', 'fish', 'tumor', 'forest', 'deep',\n",
       "       'coastal waters', 'mangrove sediment', 'permafrost',\n",
       "       'fermented milk', 'pig farm', '-', 'rice rhizosphere', 'diarrhea',\n",
       "       'marine environment', 'clinical samples', 'wheat', 'environment',\n",
       "       'faeces', 'tomato rhizosphere', 'dog', 'rhizospheric', 'cattle',\n",
       "       'sea water', 'decaying wood', 'intestine', 'seeds', 'seafood',\n",
       "       'cabbage', 'plants', 'surface seawater', 'pond',\n",
       "       'oil-contaminated soil', 'stems', 'silage', 'fermented food',\n",
       "       'freshwater lake', 'tissues', 'lake', 'Soil', 'pleural effusion',\n",
       "       'kefir grains', 'sewage sample', 'rectal swab', 'farm', 'pigs',\n",
       "       'rice', 'stool sample', 'Antarctic soil', 'foreskin', 'cancer',\n",
       "       'hydrothermal vent', 'sewage water', 'fresh water', 'ground beef',\n",
       "       'manure', 'deep sea', 'vaginal', 'old', 'urine sample',\n",
       "       'diseased pig', 'maize rhizosphere', 'faecal', 'saliva',\n",
       "       'pig feces', 'fermented foods', 'lung tissue', 'seed', 'nodule',\n",
       "       'paddy soil', 'sewage sludge', 'coastal', 'human saliva', 'paddy',\n",
       "       'sludge', 'human breast milk', 'fluid',\n",
       "       'deep-sea hydrothermal vent', 'ascites', 'kidney', 'disease',\n",
       "       'sewage samples', 'mangrove sediments', 'samples'], dtype=object)"
      ]
     },
     "execution_count": 10,
     "metadata": {},
     "output_type": "execute_result"
    }
   ],
   "source": [
    "grouped.value_counts(\"word\").head(200).reset_index().word.values"
   ]
  },
  {
   "cell_type": "code",
   "execution_count": 11,
   "metadata": {},
   "outputs": [
    {
     "name": "stderr",
     "output_type": "stream",
     "text": [
      "/tmp/ipykernel_19331/2439090487.py:2: DeprecationWarning: DataFrameGroupBy.apply operated on the grouping columns. This behavior is deprecated, and in a future version of pandas the grouping columns will be excluded from the operation. Either pass `include_groups=False` to exclude the groupings or explicitly select the grouping columns after groupby to silence this warning.\n",
      "  sample_row = grouped[grouped['word'].isin(word_list)].groupby(\"word\").apply(lambda df: df.sample(1))\n"
     ]
    }
   ],
   "source": [
    "word_list = [\"-\",\"deep-\", \"lymph node metastasis\",\"bovine mastitis\",\"of\", \"deep\", \"old\"]\n",
    "sample_row = grouped[grouped['word'].isin(word_list)].groupby(\"word\").apply(lambda df: df.sample(1))\n"
   ]
  },
  {
   "cell_type": "code",
   "execution_count": 12,
   "metadata": {},
   "outputs": [],
   "source": [
    "with open(\"sentences.txt\", \"w\") as file:\n",
    "\tfor sentence in sample_row[\"text\"].values:\n",
    "\t\tfile.write(sentence + \"\\n\")"
   ]
  },
  {
   "cell_type": "markdown",
   "metadata": {},
   "source": [
    "---"
   ]
  },
  {
   "cell_type": "code",
   "execution_count": 13,
   "metadata": {},
   "outputs": [],
   "source": [
    "d = pd.read_parquet(f\"{path}/SPECIES.parquet\").explode(\"ner\").dropna()\n",
    "grouped = d.groupby(\"text\").agg({\"ner\": lambda x: list(x)}).reset_index()\n",
    "grouped[\"ner\"] = grouped[\"ner\"].apply(merge_entities)\n",
    "grouped = grouped.explode(\"ner\")\n",
    "grouped = pd.concat(\n",
    "                [grouped.drop(columns=\"ner\"), grouped.ner.apply(pd.Series)], axis=1\n",
    "            )\n",
    "grouped[\"word\"] = grouped.apply(\n",
    "            lambda row: row[\"text\"][row[\"start\"] : row[\"end\"]], axis=1\n",
    "        )"
   ]
  },
  {
   "cell_type": "code",
   "execution_count": 14,
   "metadata": {},
   "outputs": [
    {
     "data": {
      "text/plain": [
       "array(['E. coli', 'S. aureus', 'P. aeruginosa', 'Escherichia coli', '.',\n",
       "       'coli', 'K. pneumoniae', 'S', 'Staphylococcus aureus', 'S.', 'P',\n",
       "       'B. subtilis', 'L. monocytogenes', 'A. baumannii', 'A',\n",
       "       'C. albicans', 'Pseudomonas aeruginosa', 'B', 'C. difficile',\n",
       "       'H. pylori', 'C. jejuni', 'V. cholerae', 'E. faecalis', 'sp.', 'E',\n",
       "       'C', 'M. tuberculosis', 'Bacillus subtilis', 'S. pneumoniae',\n",
       "       'B. cereus', 'P.', 'L. plantarum', 'A.', 'Typhimurium', 'sp',\n",
       "       'S. epidermidis', 'S. cerevisiae', 'S. mutans', 'S. flexneri',\n",
       "       'S. enterica', 'Salmonella enterica serovar Typhimurium',\n",
       "       'P. falciparum', 'A. fumigatus', 'B.', 'M. smegmatis',\n",
       "       'L. pneumophila', 'C.', 'P. gingivalis', 'Klebsiella pneumoniae',\n",
       "       'L', 'H', 'R', 'Listeria monocytogenes', 'V. parahaemolyticus',\n",
       "       'B. pseudomallei', 'E. faecium', 'C. perfringens', 'P. putida',\n",
       "       'Candida albicans', 'M', 'S. typhimurium', 'M.', 'P. fluorescens',\n",
       "       'aureus', 'F. oxysporum', 'A. flavus', 'M. bovis', 'B. anthracis',\n",
       "       'L. reuteri', 'L. lactis', 'R. solanacearum', 'Bacillus cereus',\n",
       "       'T.', 'Enterococcus faecalis', 'F', 'Escherichia', 'Y. pestis',\n",
       "       'L.', 'Pseudomonas sp.', 'spp', 'Salmonella typhimurium',\n",
       "       'L. casei', 'T', 'Bacillus sp.', 'A. hydrophila', 'Salmonella',\n",
       "       'E.', 'Salmonella Typhimurium', 'C. glutamicum', 'S. suis',\n",
       "       'N. meningitidis', 'C. neoformans', 'B. amyloliquefaciens', 'N',\n",
       "       'A. tumefaciens', 'B. burgdorferi', 'S. marcescens', 'P. syringae',\n",
       "       'S. pyogenes', 'Salmonella enterica', 'L. infantum', 'H.',\n",
       "       'B. cenocepacia', 'L. rhamnosus', 'B. abortus', 'E.coli',\n",
       "       'C. glabrata', 'F. tularensis', 'V. cholerae O1', 'S. maltophilia',\n",
       "       'aeruginosa', 'Agrobacterium tumefaciens', 'L. acidophilus',\n",
       "       'C. trachomatis', 'B. pertussis', 'C. auris', 'N. gonorrhoeae',\n",
       "       'S. sonnei', 'Y. enterocolitica',\n",
       "       'S. enterica serovar Typhimurium', 'B. velezensis', 'R.',\n",
       "       'Staphylococcus epidermidis', 'Streptomyces sp.', 'Pseudomonas',\n",
       "       'L. donovani', 'P. multocida', 'L. paracasei', 'V. dahliae',\n",
       "       'E. cloacae', 'P. mirabilis', 'T. cruzi',\n",
       "       'Acinetobacter baumannii', 'S. agalactiae', 'H. influenzae',\n",
       "       'Bacillus', 'cholerae', 'C. burnetii', 'pneumoniae',\n",
       "       'Streptococcus pneumoniae', 'F. nucleatum', 'spp.', 'subtilis',\n",
       "       'B. bassiana', 'Vibrio cholerae', 'C. coli', 'B. licheniformis',\n",
       "       'B. thuringiensis', 'Pseudomonas fluorescens', 'C. parapsilosis',\n",
       "       'Mycobacterium tuberculosis', 'Lactobacillus plantarum', 'V',\n",
       "       'L. innocua', 'M. abscessus', 'Enteritidis', 'Fusarium oxysporum',\n",
       "       'B. longum', 'V. vulnificus', 'F. novicida', 'S. thermophilus',\n",
       "       'S. mitis', 'T. gondii', 'A. niger', 'C. tropicalis',\n",
       "       'S. oneidensis', 'A. actinomycetemcomitans', 'F. graminearum',\n",
       "       'V. harveyi', 'Pseudomonas putida', 'N.', 'C. gattii',\n",
       "       'B. melitensis', 'Paratyphi', 'albicans', 'C. sakazakii',\n",
       "       'B. fragilis', 'Saccharomyces cerevisiae', 'Enterococcus faecium',\n",
       "       'Enterobacter cloacae'], dtype=object)"
      ]
     },
     "execution_count": 14,
     "metadata": {},
     "output_type": "execute_result"
    }
   ],
   "source": [
    "grouped.value_counts(\"word\").head(180).reset_index().word.values"
   ]
  },
  {
   "cell_type": "code",
   "execution_count": 15,
   "metadata": {},
   "outputs": [
    {
     "name": "stderr",
     "output_type": "stream",
     "text": [
      "/tmp/ipykernel_19331/2332379159.py:2: DeprecationWarning: DataFrameGroupBy.apply operated on the grouping columns. This behavior is deprecated, and in a future version of pandas the grouping columns will be excluded from the operation. Either pass `include_groups=False` to exclude the groupings or explicitly select the grouping columns after groupby to silence this warning.\n",
      "  sample_row = grouped[grouped['word'].isin(word_list)].groupby(\"word\").apply(lambda df: df.sample(1))\n"
     ]
    }
   ],
   "source": [
    "word_list = [\"spp.\", \"coli\", \"S\",\"S.\",\"P\",\"C\",\"M\",\"E.\",\"E\",\"B\",\"T\",\"V\",\"N\",\"H\",\"R\",\"B\",\"B.\",\"C.\",\"sp\"]\n",
    "sample_row = grouped[grouped['word'].isin(word_list)].groupby(\"word\").apply(lambda df: df.sample(1))"
   ]
  },
  {
   "cell_type": "code",
   "execution_count": 16,
   "metadata": {},
   "outputs": [],
   "source": [
    "with open(\"sentences.txt\", \"w\") as file:\n",
    "\tfor sentence in sample_row[\"text\"].values:\n",
    "\t\tfile.write(sentence + \"\\n\")"
   ]
  },
  {
   "cell_type": "markdown",
   "metadata": {},
   "source": [
    "---"
   ]
  },
  {
   "cell_type": "code",
   "execution_count": 21,
   "metadata": {},
   "outputs": [],
   "source": [
    "d = pd.read_parquet(f\"{path}/METABOLITE.parquet\").explode(\"ner\").dropna()\n",
    "grouped = d.groupby(\"text\").agg({\"ner\": lambda x: list(x)}).reset_index()\n",
    "grouped[\"ner\"] = grouped[\"ner\"].apply(merge_entities)\n",
    "grouped = grouped.explode(\"ner\")\n",
    "grouped = pd.concat(\n",
    "                [grouped.drop(columns=\"ner\"), grouped.ner.apply(pd.Series)], axis=1\n",
    "            )\n",
    "grouped[\"word\"] = grouped.apply(\n",
    "            lambda row: row[\"text\"][row[\"start\"] : row[\"end\"]], axis=1\n",
    "        )"
   ]
  },
  {
   "cell_type": "code",
   "execution_count": 22,
   "metadata": {},
   "outputs": [
    {
     "data": {
      "text/plain": [
       "array(['streptomycin', 'penicillin', 'glucose', 'LPS', 'glycerol',\n",
       "       'ampicillin', 'EPS', 'ethanol', 'glutamine', 'sucrose',\n",
       "       'kanamycin', 'L-glutamine', 'xylose', 'acetate', 'amino', 'IAA',\n",
       "       'chloramphenicol', 'pyruvate', 'gentamicin', 'starch', 'ATP', 'L',\n",
       "       'lactate', '2', 'ABA', 'arabinose', 'galactose', 'proline', 'SA',\n",
       "       'fructose', 'acetic acid', 'lactose', 'erythromycin',\n",
       "       'tetracycline', 'lactic acid', 'cellulose', '-', 'tryptophan',\n",
       "       'lysine', 'vancomycin', '3', 'glutamate', 'PHB', 'butyrate',\n",
       "       'arginine', '5', 'lipopolysaccharide', 'Streptomycin',\n",
       "       'cholesterol', 'Penicillin', 'GABA', 'l-glutamine', 'GA', 'β',\n",
       "       'siderophore', 'lignin', 'fatty', 'AHL', 'insulin', 'glycine',\n",
       "       'maltose', 'leucine', 'chlorophyll', 'surfactin', 'JA',\n",
       "       'succinate', 'rifampicin', 'D', 'PHA', 'trehalose', 'colistin',\n",
       "       'nisin', 'sodium pyruvate', 'mannose', 'DON', 'sugar',\n",
       "       'bacteriocin', 'EGF', '4', 'curcumin', 'cellobiose', 'methionine',\n",
       "       'DHA', 'serine', 'ciprofloxacin', 'resveratrol', '1', 'alanine',\n",
       "       'quercetin', 'chitin', 'fatty acids', 'alginate', 'spectinomycin',\n",
       "       'auxin', 'sugars', 'histidine', 'butanol', 'carotenoid', 'lipid',\n",
       "       'GSH', 'mannitol', 'uracil', 'methanol', 'oleic acid', 'ethylene',\n",
       "       'indole', 'xylan', 'lipid A', 'PA', 'Trp', 'AHLs', 'l',\n",
       "       'propionate', 'FA', 'polymyxin', 'PG', 'carbenicillin',\n",
       "       'hygromycin', 'C', 'Leu', 'pyocyanin', 'siderophores', 'tyrosine',\n",
       "       'fatty acid', 'melanin', 'polysaccharide', 'N', 'anthocyanin',\n",
       "       'bile', 'α', 'cysteine', 'citrate', 'β-carotene', 'carotenoids',\n",
       "       'metformin', 'LA', 'CoA', 'phenylalanine', 'inulin', 'rhamnose',\n",
       "       'riboflavin', 'L-', 'glycogen', 'GlcNAc', 'cAMP', 'HA',\n",
       "       'threonine', 'formate', 'pectin', 'gentamycin', 'trimethoprim',\n",
       "       'B', 'AA', 'TAG', 'furfural', 'flavonoids', 'valine', 'paclitaxel',\n",
       "       'SCFAs', 'heme', 'imipenem', 'violacein', 'citric acid',\n",
       "       'sialic acid', '6', 'exopolysaccharide', 'phenol', 'adenine',\n",
       "       'NAD', 'MDA', 'glucan', 'peptidoglycan', 'clindamycin', 'ACC',\n",
       "       'chitosan', 'AMP', 'Glu', 'oxacillin', 'isoleucine', 'ergosterol',\n",
       "       'acetoin', 'puromycin', 'collagen', 'sorbitol', 'EGCG', 'biotin',\n",
       "       'hydrocortisone', 'PS', 'LTA', 'SCFA', 'meropenem', 'putrescine',\n",
       "       'pyoverdine', 'gemcitabine', 'glutathione', 'thiamine', 'D-',\n",
       "       'D-glucose', 'urea', 'DAP', '3-', 'malate', 'amikacin', 'xylitol',\n",
       "       'amoxicillin', 'NADH', 'melatonin', 'raffinose', 'Lys',\n",
       "       'flavonoid', 'OA', 'CA', 'O', 'ectoine', 'Phe', 'glutamic acid',\n",
       "       'fengycin', 'acetic', 'PC', 'butyric acid', 'PE', 'amphotericin',\n",
       "       'di-GMP', 'acid', 'aspartate', 'lycopene', 'ascorbic acid',\n",
       "       'fluconazole', 'PCA', 'isobutanol', 'ammonia', 'Gly',\n",
       "       'L-arabinose', 'polysaccharides', 'L-Glutamine', 'nicotine', 'Ala',\n",
       "       'fosfomycin', 'Ser', 'amylose', 'OTA', 'hemicellulose', 'ZEN', 'n',\n",
       "       'β-glucan', 'lipopeptide', 'fucose', 'amphotericin B', 'EPA',\n",
       "       'vanillin', 'aflatoxin', 'NADPH', 'rhamnolipid', 'mucin', 'FOS',\n",
       "       'poly', 'ceftazidime', 'rapamycin', 'prodigiosin', 'asparagine',\n",
       "       'lipopeptides', 'vitamin', 'd', 'astaxanthin', 'anthocyanins',\n",
       "       'Met', 'BA', 'flagellin', 'genistein', 'ALA', 'α-', 'spermidine',\n",
       "       'β-', 'naringenin', 'heparin', 'endotoxin', 'Glucose', 'Aβ', 'Pro',\n",
       "       'salicylic acid'], dtype=object)"
      ]
     },
     "execution_count": 22,
     "metadata": {},
     "output_type": "execute_result"
    }
   ],
   "source": [
    "grouped.value_counts(\"word\").head(280).reset_index().word.values"
   ]
  },
  {
   "cell_type": "code",
   "execution_count": 23,
   "metadata": {},
   "outputs": [
    {
     "name": "stderr",
     "output_type": "stream",
     "text": [
      "/tmp/ipykernel_19331/2523062150.py:2: DeprecationWarning: DataFrameGroupBy.apply operated on the grouping columns. This behavior is deprecated, and in a future version of pandas the grouping columns will be excluded from the operation. Either pass `include_groups=False` to exclude the groupings or explicitly select the grouping columns after groupby to silence this warning.\n",
      "  sample_row = grouped[grouped['word'].isin(word_list)].groupby(\"word\").apply(lambda df: df.sample(1))\n"
     ]
    }
   ],
   "source": [
    "word_list = [\"-\",\"2\",\"5\",\"L\",\"3\",\"β\",\"6\",\"fatty\",\"1\",\"α\",\"L-\",\"C\",\"B\",\"D-\",\"3-\",\"poly\",\"n\",\"O\"]\n",
    "sample_row = grouped[grouped['word'].isin(word_list)].groupby(\"word\").apply(lambda df: df.sample(1))"
   ]
  },
  {
   "cell_type": "code",
   "execution_count": 24,
   "metadata": {},
   "outputs": [],
   "source": [
    "with open(\"sentences.txt\", \"w\") as file:\n",
    "\tfor sentence in sample_row[\"text\"].values:\n",
    "\t\tfile.write(sentence + \"\\n\")"
   ]
  },
  {
   "cell_type": "markdown",
   "metadata": {},
   "source": [
    "---"
   ]
  },
  {
   "cell_type": "code",
   "execution_count": 25,
   "metadata": {},
   "outputs": [],
   "source": [
    "d = pd.read_parquet(f\"{path}/ORGANISM.parquet\").explode(\"ner\").dropna()\n",
    "grouped = d.groupby(\"text\").agg({\"ner\": lambda x: list(x)}).reset_index()\n",
    "grouped[\"ner\"] = grouped[\"ner\"].apply(merge_entities)\n",
    "grouped = grouped.explode(\"ner\")\n",
    "grouped = pd.concat(\n",
    "                [grouped.drop(columns=\"ner\"), grouped.ner.apply(pd.Series)], axis=1\n",
    "            )\n",
    "grouped[\"word\"] = grouped.apply(\n",
    "            lambda row: row[\"text\"][row[\"start\"] : row[\"end\"]], axis=1\n",
    "        )"
   ]
  },
  {
   "cell_type": "code",
   "execution_count": 26,
   "metadata": {},
   "outputs": [
    {
     "data": {
      "text/plain": [
       "array(['mice', 'MDA-MB-231', 'MCF-7', 'MDA', 'A549', 'HCT116', 'S', 'T',\n",
       "       'mouse', 'human', 'C', 'P', 'MCF', 'MCF7', 'NCI', 'RAW 264.7',\n",
       "       'Vero', 'rice', 'HeLa', 'SH-SY5Y', 'A', 'HepG2', 'C. elegans',\n",
       "       'Caco-2', 'wheat', 'Huh7', 'HCT', 'tomato', 'Caco', 'MB', 'maize',\n",
       "       'Mice', 'H1299', 'HEK293T', 'HT-29', 'HT29', 'pigs', 'A2780',\n",
       "       'S. cerevisiae', 'B', 'nude mice', 'F', 'T47D', 'U87', 'chickens',\n",
       "       'HT', 'U251', 'Arabidopsis', 'THP-1', 'BALB/c mice', 'CCL', 'A375',\n",
       "       'SW480', 'CRL', 'soybean', 'RAW264.7', 'Col-0', 'cattle', 'PC-3',\n",
       "       'L', 'SK', '293T', 'C. albicans', 'HEK', 'C57BL/6 mice', 'MDA-MB-',\n",
       "       'MB-231', 'MDA-MB-468', 'Vero E6', 'HEK293', 'PC', 'PC3', 'CHO',\n",
       "       'Col', 'larvae', 'chicken', 'worms', 'LNCaP', 'D', 'yeast', 'U',\n",
       "       'A. thaliana', 'SKOV3', 'THP', 'M', 'MDCK', 'tobacco', 'U2OS',\n",
       "       'WT', 'humans', 'N', 'HTR-8/SVneo', 'HL', 'piglets', 'murine',\n",
       "       'H1975', 'breast', 'rat', 'flies', 'rats', 'CHO-K1', 'MCF10A', 'H',\n",
       "       'IPEC', 'T24', 'SW620', 'ATCC', '4T1', 'N. benthamiana', 'H460',\n",
       "       'breast cancer', 'HCC', 'IPEC-J2', 'animals', 'HCT-116', 'sheep',\n",
       "       'Jurkat', 'C57BL/6', 'C6/36', 'Hep3B', 'BC', 'B16F10', 'PANC',\n",
       "       'DU145', 'HaCaT', '2', 'CT26', 'B16', 'SCC', 'B73', 'hamsters',\n",
       "       'J774A.1', 'G', 'MRC-5', 'MDA-MB', 'fish', 'cotton', '5',\n",
       "       'sugarcane', 'MB-', 'SK-BR-3', 'HCC827', 'mosquitoes', 'Huh7.5',\n",
       "       'Vero E6 cells', 'A431', 'potato', 'SMMC', 'HepG2.2.15', '1',\n",
       "       'K562', 'wild', 'MIA PaCa-2', 'B16-F10', 'Vero cells', 'EA.hy926',\n",
       "       'HTB', 'SGC', 'RPMI', 'HL-60', 'zebrafish', 'SNU', 'MCF-', 'T98G',\n",
       "       'B6', 'HEK 293T', 'BT474', 'nematodes', 'old', 'U87MG', 'cucumber',\n",
       "       'PC9', 'Cat', 'BT549', 'Drosophila', 'C57BL/6J', 'BEAS-2B', 'L929',\n",
       "       'DF-1', 'Nipponbare', 'w', 'Human', 'pig', 'EA', 'wild-type',\n",
       "       'BHK-21', 'MDA‐MB‐231', 'Arabidopsis thaliana', 'MCF-10A',\n",
       "       'cancer', 'SKBR3', 'BALB/c', '6', 'mosquito', 'BT', 'Sf9', 'PI',\n",
       "       'DLD', 'DLD1', 'Huh-7', 'HK-2', 'Huh', 'swine', 'BA', 'cat', 'OCI',\n",
       "       'HEK-293', 'bovine', 'AGS', 'HEK-293T', 'C2C12', 'poultry',\n",
       "       'D. melanogaster', 'RAW264', 'Hep', 'PLC/PRF/5', 'banana',\n",
       "       'Ae. aegypti', 'MC3T3-E1', 'Saccharomyces cerevisiae', 'barley',\n",
       "       'RAW 264', 'CEM', 'birds', 'MC3T3', '-', 'LN229', 'MDA-MB231',\n",
       "       'nematode', '786', 'ferrets', 'R', 'MRC', 'Huh-7.5', 'guinea pigs',\n",
       "       '293', 'chickpea', '5637', 'rabbits', 'porcine', '3', 'N2', 'MG',\n",
       "       'rabbit', 'Candida albicans', '7', 'C6', 'Calu-3', 'SW',\n",
       "       'C57BL/6J mice', 'SKOV-3', 'macrophages', 'pepper', 'B. napus',\n",
       "       'PANC-1', 'RKO', 'dogs', 'Candida', 'insect', 'broilers', 'OE',\n",
       "       'VeroE6', 'Calu', 'hCMEC', 'HCCLM3', 'HEK 293', 'male', 'S2',\n",
       "       'w^1118', 'C4-2', 'SVneo', 'Aspergillus', 'grapevine', 'HSC',\n",
       "       '22Rv1', 'SK-OV-3', 'U266', 'SGC-7901', 'MKN', 'MGC', 'fungi', 'K',\n",
       "       'MG-63', 'J774A', 'bat', 'ACHN', 'G. mellonella', 'NIH3T3', 'UM',\n",
       "       'WT mice', 'BGC', 'MDA-MB-453', 'HGC', '4', 'HCC1937', 'MHCC',\n",
       "       'A172', 'human embryonic kidney', 'ZR-75-1', 'fungal', 'sorghum',\n",
       "       'Williams', 'O', 'MARC-145', 'cassava', 'Mouse', 'M. truncatula',\n",
       "       'BT-549', 'T. brucei', 'BT-474', 'calves', 'DU', 'CCD', 'SH',\n",
       "       '3T3-L1', 'PK-15', 'NK', 'female', 'U937', 'CAL', 'macaques',\n",
       "       'SW1990', 'MCF‐7', 'SK-MEL-28', 'H9', 'nude', 'J774', 'N2a',\n",
       "       'Saccharomyces', 'ducks'], dtype=object)"
      ]
     },
     "execution_count": 26,
     "metadata": {},
     "output_type": "execute_result"
    }
   ],
   "source": [
    "grouped.value_counts(\"word\").head(330).reset_index().word.values"
   ]
  },
  {
   "cell_type": "code",
   "execution_count": 27,
   "metadata": {},
   "outputs": [
    {
     "name": "stderr",
     "output_type": "stream",
     "text": [
      "/tmp/ipykernel_19331/4235904294.py:2: DeprecationWarning: DataFrameGroupBy.apply operated on the grouping columns. This behavior is deprecated, and in a future version of pandas the grouping columns will be excluded from the operation. Either pass `include_groups=False` to exclude the groupings or explicitly select the grouping columns after groupby to silence this warning.\n",
      "  sample_row = grouped[grouped['word'].isin(word_list)].groupby(\"word\").apply(lambda df: df.sample(1))\n"
     ]
    }
   ],
   "source": [
    "word_list = [\"N\",\"S\",\"A\",\"6\",\"7\",\"T\",\"nude\",\"2\",\"O\",\"G\",\"4\",\"293\",\"5\",\"3\",\"M\",\"H\"]\n",
    "sample_row = grouped[grouped['word'].isin(word_list)].groupby(\"word\").apply(lambda df: df.sample(1))"
   ]
  },
  {
   "cell_type": "code",
   "execution_count": 28,
   "metadata": {},
   "outputs": [],
   "source": [
    "with open(\"sentences.txt\", \"w\") as file:\n",
    "\tfor sentence in sample_row[\"text\"].values:\n",
    "\t\tfile.write(sentence + \"\\n\")"
   ]
  },
  {
   "cell_type": "markdown",
   "metadata": {},
   "source": [
    "---"
   ]
  },
  {
   "cell_type": "code",
   "execution_count": 29,
   "metadata": {},
   "outputs": [],
   "source": [
    "d = pd.read_parquet(f\"{path}/MEDIUM.parquet\").explode(\"ner\").dropna()\n",
    "grouped = d.groupby(\"text\").agg({\"ner\": lambda x: list(x)}).reset_index()\n",
    "grouped[\"ner\"] = grouped[\"ner\"].apply(merge_entities)\n",
    "grouped = grouped.explode(\"ner\")\n",
    "grouped = pd.concat(\n",
    "                [grouped.drop(columns=\"ner\"), grouped.ner.apply(pd.Series)], axis=1\n",
    "            )\n",
    "grouped[\"word\"] = grouped.apply(\n",
    "            lambda row: row[\"text\"][row[\"start\"] : row[\"end\"]], axis=1\n",
    "        )"
   ]
  },
  {
   "cell_type": "code",
   "execution_count": 30,
   "metadata": {},
   "outputs": [
    {
     "data": {
      "text/plain": [
       "array(['DMEM', 'LB', 'PBS', 'RPMI 1640', 'RPMI-1640', 'RPMI',\n",
       "       'Dulbecco’s modified Eagle’s medium', 'TSB', 'LB broth', 'MEM',\n",
       "       'PDA', 'Luria-Bertani', 'YPD', 'LB agar', 'NGM', 'BHI', 'M9',\n",
       "       'serum', 'FBS', 'Dulbecco’s Modified Eagle Medium', 'MRS',\n",
       "       \"Dulbecco's modified Eagle's medium\", 'DMEM/F12',\n",
       "       'phosphate-buffered saline', 'Dulbecco’s Modified Eagle’s Medium',\n",
       "       'serum-free', 'RPMI1640', 'fetal bovine serum', 'EMEM',\n",
       "       'Dulbecco’s modified Eagle medium', 'TSA', 'MRS broth', 'F12',\n",
       "       'MS', 'agar', 'potato dextrose agar', 'SD', 'minimal',\n",
       "       'bovine serum', 'IMDM', 'minimal medium',\n",
       "       'Roswell Park Memorial Institute', 'F-12', 'glucose',\n",
       "       'tryptic soy broth', 'lysogeny broth', 'MHB', 'PDB', 'LB medium',\n",
       "       'BHI broth', 'nutrient broth', 'McCoy’s 5A', 'CDM', 'Tris-HCl',\n",
       "       'HBSS', 'NB', 'phosphate buffered saline', 'BG11', 'TB', '7H9',\n",
       "       'α-MEM', '10% FBS', 'LB plates', 'M9 minimal', 'MM',\n",
       "       'Luria Bertani', 'RIPA', 'HEPES', 'Middlebrook 7H9',\n",
       "       \"Dulbecco's Modified Eagle Medium\", 'nematode growth medium',\n",
       "       'Luria-Bertani broth', 'liquid', 'Luria broth', 'Tris', '1640',\n",
       "       'minimum essential medium', 'rich', 'brain heart infusion',\n",
       "       'DMEM-F12', 'TBS', 'LB liquid', 'phosphate', 'broth',\n",
       "       'Middlebrook 7H9 broth', 'complete', 'blood agar',\n",
       "       'Minimum Essential Medium', 'BG-11', 'MSM', 'YNB', 'Ham’s F12',\n",
       "       'nutrient agar', \"Dulbecco's Modified Eagle's Medium\",\n",
       "       'Eagle’s Minimum Essential Medium', 'OP50', 'Terrific Broth',\n",
       "       'LB)', 'LB agar plates', 'Luria-Bertani (', 'L-15',\n",
       "       'minimal essential medium', \"Dulbecco's modified Eagle medium\",\n",
       "       'Opti-MEM', 'Ham’s F-12', 'Luria Broth', 'NGM agar', 'CM',\n",
       "       'complete DMEM', 'M199', 'DPBS', 'RPMI) 1640', 'RPMI‐1640',\n",
       "       'tryptic soy agar', 'Eagle’s minimum essential medium', 'SC',\n",
       "       'MRS agar', 'MEA', 'SFM', 's', 'MH', 'DMEM/', 'soft agar', 'M17',\n",
       "       'R2A', 'THB', 'agar plates', 'D-MEM', 'NA',\n",
       "       'Dulbecco’s modified eagle medium', 'SM', 'LB-', 'liquid LB',\n",
       "       'NGM plates', 's medium', 'potato dextrose broth', 'YEPD', 'GM17',\n",
       "       'Roswell Park Memorial Institute 1640', 'the', 'yeast extract',\n",
       "       'vermiculite', 'MH broth', 'BHI agar', \"McCoy's 5A\", 'MHA', 'TY',\n",
       "       'high-glucose DMEM', 'KB', 'minimal media', 'LB-agar',\n",
       "       'serum-free medium', 'Dulbecco’s modified Eagle’s medium (DMEM',\n",
       "       'PBST', 'F-12K', 'MOPS', 'high glucose DMEM',\n",
       "       'Brain Heart Infusion', 'Mueller-Hinton agar', 'SD/',\n",
       "       'Tryptic Soy Broth', 'TAP', 'glycerol', 'LB) broth',\n",
       "       'Mueller-Hinton broth', 'SDA', 'Leibovitz’s L-15', 'Trp',\n",
       "       'sterile PBS', '2xYT', 'Lysogeny Broth', 'MacConkey agar',\n",
       "       'Dulbecco modified Eagle medium', 'soft', 'complete medium',\n",
       "       'fetal', 'nematode growth media', 'synthetic', 'phosphate buffer',\n",
       "       'Dulbecco’s Modified Eagle’s medium', 'basal',\n",
       "       'Dulbecco’s modified Eagle’s', 'F12K', 'MB', 'Murashige and Skoog',\n",
       "       'LBA', 'f/2', 'YP', 'tryptose phosphate broth', 'YPG'],\n",
       "      dtype=object)"
      ]
     },
     "execution_count": 30,
     "metadata": {},
     "output_type": "execute_result"
    }
   ],
   "source": [
    "grouped.value_counts(\"word\").head(190).reset_index().word.values"
   ]
  },
  {
   "cell_type": "code",
   "execution_count": 31,
   "metadata": {},
   "outputs": [
    {
     "name": "stderr",
     "output_type": "stream",
     "text": [
      "/tmp/ipykernel_19331/1973350780.py:2: DeprecationWarning: DataFrameGroupBy.apply operated on the grouping columns. This behavior is deprecated, and in a future version of pandas the grouping columns will be excluded from the operation. Either pass `include_groups=False` to exclude the groupings or explicitly select the grouping columns after groupby to silence this warning.\n",
      "  sample_row = grouped[grouped['word'].isin(word_list)].groupby(\"word\").apply(lambda df: df.sample(1))\n"
     ]
    }
   ],
   "source": [
    "word_list = [\"Luria-Bertani (\",\"serum\",\"LB)\",\"Dulbecco’s modified Eagle’s medium (DMEM\", \"LB) broth\",\"the\",\"basal\", \"LB-\",\"DMEM/\",\"SD/\",\"f/2\"]\n",
    "sample_row = grouped[grouped['word'].isin(word_list)].groupby(\"word\").apply(lambda df: df.sample(1))"
   ]
  },
  {
   "cell_type": "code",
   "execution_count": 32,
   "metadata": {},
   "outputs": [],
   "source": [
    "with open(\"sentences.txt\", \"w\") as file:\n",
    "\tfor sentence in sample_row[\"text\"].values:\n",
    "\t\tfile.write(sentence + \"\\n\")"
   ]
  },
  {
   "cell_type": "markdown",
   "metadata": {},
   "source": [
    "---"
   ]
  },
  {
   "cell_type": "code",
   "execution_count": 33,
   "metadata": {},
   "outputs": [],
   "source": [
    "d = pd.read_parquet(f\"{path}/PHENOTYPE.parquet\").explode(\"ner\").dropna()\n",
    "grouped = d.groupby(\"text\").agg({\"ner\": lambda x: list(x)}).reset_index()\n",
    "grouped[\"ner\"] = grouped[\"ner\"].apply(merge_entities)\n",
    "grouped = grouped.explode(\"ner\")\n",
    "grouped = pd.concat(\n",
    "                [grouped.drop(columns=\"ner\"), grouped.ner.apply(pd.Series)], axis=1\n",
    "            )\n",
    "grouped[\"word\"] = grouped.apply(\n",
    "            lambda row: row[\"text\"][row[\"start\"] : row[\"end\"]], axis=1\n",
    "        )"
   ]
  },
  {
   "cell_type": "code",
   "execution_count": 34,
   "metadata": {},
   "outputs": [
    {
     "data": {
      "text/plain": [
       "array(['Gram-negative', 'Gram-positive', 'pathogenic', 'probiotic',\n",
       "       'non-pathogenic', 'non', 'endophytic', 'hypervirulent', 'virulent',\n",
       "       'thermophilic', 'gram-negative', 'anaerobic', 'aerobic',\n",
       "       'gram-positive', 'motile', 'aerobically', 'multidrug',\n",
       "       'mesophilic', 'anaerobically', 'nonpathogenic', 'toxigenic',\n",
       "       'halophilic', 'non-motile', 'methicillin', 'nitrogen-fixing',\n",
       "       'auxotrophic', 'highly pathogenic', 'uropathogenic',\n",
       "       'Gram negative', 'Gram positive', 'rod', 'Gram', 'nitrogen',\n",
       "       'white', 'non-', 'rod-shaped', 'halotolerant', 'green',\n",
       "       'phytopathogenic', 'prototrophic', 'yellow', 'MDR',\n",
       "       'multidrug-resistant', 'negative', 'nitrogen fixation',\n",
       "       'psychrophilic', 'drug', 'non-toxigenic', 'thermostable',\n",
       "       'avirulent', 'thermotolerant', 'heterotrophic', 'autotrophic',\n",
       "       'mucoid', 'free-living', 'salt', 'double-stranded', 'lytic',\n",
       "       'cold', 'resistant', 'positive', 'smooth', 'unicellular',\n",
       "       'diazotrophic', 'alkaliphilic', 'filamentous', 'marine',\n",
       "       'microaerophilic', 'heat', 'carbapenem', 'growth', 'temperate',\n",
       "       'beneficial', 'methylotrophic', 'vancomycin', 'sulfate-reducing',\n",
       "       'necrotrophic', 'photoautotrophic', 'cellulolytic', 'conjugative',\n",
       "       'entomopathogenic', 'facultative', 'commensal', 'denitrifying',\n",
       "       'facultative anaerobic', 'psychrotolerant', 'tolerant',\n",
       "       'photosynthetic', 'enteropathogenic', 'nontoxigenic',\n",
       "       'non-invasive', 'mixotrophic', 'pigmented', 'brown',\n",
       "       'hydrogenotrophic', 'symbiotic', 'hyperthermophilic', 'oleaginous',\n",
       "       'hypovirulent', 'methanogenic', 'non-encapsulated', 'nonmotile',\n",
       "       'phototrophic', 'acidophilic', 'fermentative', 'diploid',\n",
       "       'non-pigmented', 'obligate', 'fast-growing', 'enterohemorrhagic',\n",
       "       'psychrotrophic', 'oligotrophic', 'strictly anaerobic',\n",
       "       'biotrophic', 'red', 'PGPR', 'haploid', 'spore', 'spore-forming',\n",
       "       'shaped', 'antibiotic', 'gram negative', 'Gram-', 'dark',\n",
       "       'human pathogenic', 'neurotropic', 'opportunistic',\n",
       "       'non-hemolytic', 'Probiotic', 'rough', 'free', 'invasive',\n",
       "       'non-virulent', 'fixing', 'dissimilatory', 'male', 'multi',\n",
       "       'low pathogenic', 'hemibiotrophic', 'saprophytic', 'drought',\n",
       "       'biocontrol', 'gram positive', 'antagonistic', 'round', 'opaque',\n",
       "       'forming', 'ESBL', 'temperature', 'multidrug resistant',\n",
       "       'methanotrophic', 'Pathogenic', 'dark brown', 'hemolytic', 'N',\n",
       "       'purple', 'methicillin-resistant', 'oncolytic', 'fluorescent',\n",
       "       'slow-growing', 'enterotoxigenic', 'broad', 'plant pathogenic',\n",
       "       'non-contractile', 'cold-adapted', 'Gram‐negative', 'yellowish',\n",
       "       'Non', 'lactic acid', 'circular', 'neurovirulent', 'plant',\n",
       "       'chemolithoautotrophic', 'fast', 'microaerobic', 'translucent',\n",
       "       'colorless', 'sensitive', 'Methicillin', 'orange', 'replication',\n",
       "       'extraintestinal pathogenic', 'methanotroph', 'photoheterotrophic',\n",
       "       'susceptible', 'light', 'moderately halophilic', 'Gram‐positive',\n",
       "       'dark green', 'non-adherent', 'non-mucoid', 'low', 'slow',\n",
       "       'lactic', 'self', 'adherent', 'unencapsulated', 'heterothallic',\n",
       "       'non-photosynthetic', 'potential probiotic'], dtype=object)"
      ]
     },
     "execution_count": 34,
     "metadata": {},
     "output_type": "execute_result"
    }
   ],
   "source": [
    "grouped.value_counts(\"word\").head(200).reset_index().word.values"
   ]
  },
  {
   "cell_type": "code",
   "execution_count": 35,
   "metadata": {},
   "outputs": [
    {
     "name": "stderr",
     "output_type": "stream",
     "text": [
      "/tmp/ipykernel_19331/1676419202.py:2: DeprecationWarning: DataFrameGroupBy.apply operated on the grouping columns. This behavior is deprecated, and in a future version of pandas the grouping columns will be excluded from the operation. Either pass `include_groups=False` to exclude the groupings or explicitly select the grouping columns after groupby to silence this warning.\n",
      "  sample_row = grouped[grouped['word'].isin(word_list)].groupby(\"word\").apply(lambda df: df.sample(1))\n"
     ]
    }
   ],
   "source": [
    "word_list = [\"non\",\"non-\",\"N\",\"methicillin\",\"Gram\",\"Gram-\",\"multidrug\",\"self\",\"cold\"]\n",
    "sample_row = grouped[grouped['word'].isin(word_list)].groupby(\"word\").apply(lambda df: df.sample(1))"
   ]
  },
  {
   "cell_type": "code",
   "execution_count": 36,
   "metadata": {},
   "outputs": [],
   "source": [
    "with open(\"sentences.txt\", \"w\") as file:\n",
    "\tfor sentence in sample_row[\"text\"].values:\n",
    "\t\tfile.write(sentence + \"\\n\")"
   ]
  },
  {
   "cell_type": "markdown",
   "metadata": {},
   "source": [
    "---"
   ]
  },
  {
   "cell_type": "code",
   "execution_count": 37,
   "metadata": {},
   "outputs": [],
   "source": [
    "d = pd.read_parquet(f\"{path}/MORPHOLOGY.parquet\").explode(\"ner\").dropna()\n",
    "grouped = d.groupby(\"text\").agg({\"ner\": lambda x: list(x)}).reset_index()\n",
    "grouped[\"ner\"] = grouped[\"ner\"].apply(merge_entities)\n",
    "grouped = grouped.explode(\"ner\")\n",
    "grouped = pd.concat(\n",
    "                [grouped.drop(columns=\"ner\"), grouped.ner.apply(pd.Series)], axis=1\n",
    "            )\n",
    "grouped[\"word\"] = grouped.apply(\n",
    "            lambda row: row[\"text\"][row[\"start\"] : row[\"end\"]], axis=1\n",
    "        )"
   ]
  },
  {
   "cell_type": "code",
   "execution_count": 38,
   "metadata": {},
   "outputs": [
    {
     "data": {
      "text/plain": [
       "array(['biofilm', 'biofilms', 'spores', 'spore', 'conidia', 'hyphae',\n",
       "       'colonies', 'planktonic', 'spheroids', 'hyphal', 'plaques',\n",
       "       'colony', 'Biofilm', 'aggregates', 'mycelial', 'sporulation',\n",
       "       'filamentous', 'filaments', 'flagella', 'mycelia', 'rod',\n",
       "       'mycelium', 'conidial', 'microcolonies', 'Biofilms', 'Spores',\n",
       "       'pili', 'ascospores', 'pellicle', 'zoospores', 'cysts',\n",
       "       'vegetative', 'aerial hyphae', 'fruiting bodies', 'endospore',\n",
       "       'spheres', 'aerial mycelium', 'sphere', 'rods', 'fimbriae',\n",
       "       'sessile', 'pilus', 'filament', 'Spore', 'spheroid', 'Conidia',\n",
       "       'plaque', 'fruiting', 'fibrils', 'heterocysts', 'conidiophores',\n",
       "       'appressoria', 'endospores', 'sporangia', 'hypha', 'microcolony',\n",
       "       'pseudohyphae', 'appressorium', 'blastospores', 'germ tubes',\n",
       "       'chlamydospores', 'spore germination', 'conidiation', 'clumps',\n",
       "       'aerial mycelia', 'coccoid', 'sporulating', 'swarming', 'spindle',\n",
       "       'pellicles', 'yeast', 'basidiospores', 'non-spore', 'heterocyst',\n",
       "       'cocci', 'planktonic cells', 'clusters', 'germ tube',\n",
       "       'colony biofilms', 'septa', 'tetrads', 'multicellular',\n",
       "       'conidiospores', 'flagellar', 'sclerotia', 'fungal hyphae',\n",
       "       'sporozoites', 'mucoid', 'rosette', 'perithecia', 'Planktonic',\n",
       "       'mucoid colonies', 'tube', 'flagellum', 'vegetative cells',\n",
       "       'sporulated', 'colony biofilm', 'smooth colonies',\n",
       "       'sporangiospores', 'cyst', 'flagellar filaments', 'microsclerotia',\n",
       "       'filamentation', 'stalk', 'aerial', 'zoospore', 'oocysts',\n",
       "       'Mycelial', 'sporulate', 'icosahedral', 'fruiting body', 'smooth',\n",
       "       'pellicle biofilm', 'vegetative hyphae', 'peritrichous flagella',\n",
       "       'turbid plaques', 'chains', 'Spheroids', 'germinated spores',\n",
       "       'ring', 'trophozoites', 'ascospore', 'crystals', 'spherical',\n",
       "       'microconidia', 'septum', 'macrocolonies', 'pseudopodia',\n",
       "       'invasive hyphae', 'preformed biofilms', 'shaped', 'swarm',\n",
       "       'multicellular spheroids', 'biofilm matrix', 'tails', 'spore-',\n",
       "       'colonial', 'tubes', 'tail', 'Hyphal', 'asci', 'conidiogenous',\n",
       "       'gametocytes', 'multicellular aggregates', 'flocs', 'round',\n",
       "       'capsule', 'filamentous cells', 'blebs', 'fungal spores',\n",
       "       'spore-forming', 'oospores', 'cells', 'chlamydospore', 'pycnidia',\n",
       "       'trophozoite', 'macroconidia', 'biofilm formation', 'fimbrial',\n",
       "       'aggregate', 'sporangiophores', 'non', 'coccus', 'conidiophore',\n",
       "       'piliated', 'round plaques', 'Hyphae', 'mushroom',\n",
       "       'rough colonies', 'mature biofilms', 'smooth colony',\n",
       "       'flagellated', 'urediospores', 'spiral', 'mucoid colony',\n",
       "       'capsules', 'monolayers', 'lamellipodia', 'opaque colonies',\n",
       "       'biofilm biomass', 'conidial germination', 'asexual spores',\n",
       "       'floc', 'halo', 'branches', 'germ', 'swimming', 'branched',\n",
       "       'syncytia', 'hyphal tips', 'aggregated', 'white colonies',\n",
       "       'Sporulation', 'teliospores', 'neurites', 'rough', 'sporidia',\n",
       "       'biofilm cells', 'rings', 'Colony', 'bundles', 'trichomes',\n",
       "       'wrinkled colonies', 'virions', 'spore chains', 'spindles',\n",
       "       'structured biofilms', 'budded', 'dormant spores',\n",
       "       'thick biofilms'], dtype=object)"
      ]
     },
     "execution_count": 38,
     "metadata": {},
     "output_type": "execute_result"
    }
   ],
   "source": [
    "grouped.value_counts(\"word\").head(210).reset_index().word.values"
   ]
  },
  {
   "cell_type": "code",
   "execution_count": 39,
   "metadata": {},
   "outputs": [
    {
     "name": "stderr",
     "output_type": "stream",
     "text": [
      "/tmp/ipykernel_19331/1222242915.py:2: DeprecationWarning: DataFrameGroupBy.apply operated on the grouping columns. This behavior is deprecated, and in a future version of pandas the grouping columns will be excluded from the operation. Either pass `include_groups=False` to exclude the groupings or explicitly select the grouping columns after groupby to silence this warning.\n",
      "  sample_row = grouped[grouped['word'].isin(word_list)].groupby(\"word\").apply(lambda df: df.sample(1))\n"
     ]
    }
   ],
   "source": [
    "word_list = [\"non\", \"spore-\",\"sporulation\"]\n",
    "sample_row = grouped[grouped['word'].isin(word_list)].groupby(\"word\").apply(lambda df: df.sample(1))"
   ]
  },
  {
   "cell_type": "code",
   "execution_count": 40,
   "metadata": {},
   "outputs": [],
   "source": [
    "with open(\"sentences.txt\", \"w\") as file:\n",
    "\tfor sentence in sample_row[\"text\"].values:\n",
    "\t\tfile.write(sentence + \"\\n\")"
   ]
  },
  {
   "cell_type": "markdown",
   "metadata": {},
   "source": [
    "---"
   ]
  },
  {
   "cell_type": "code",
   "execution_count": 41,
   "metadata": {},
   "outputs": [],
   "source": [
    "d = pd.read_parquet(f\"{path}/EFFECT.parquet\").explode(\"ner\").dropna()\n",
    "grouped = d.groupby(\"text\").agg({\"ner\": lambda x: list(x)}).reset_index()\n",
    "grouped[\"ner\"] = grouped[\"ner\"].apply(merge_entities)\n",
    "grouped = grouped.explode(\"ner\")\n",
    "grouped = pd.concat(\n",
    "                [grouped.drop(columns=\"ner\"), grouped.ner.apply(pd.Series)], axis=1\n",
    "            )\n",
    "grouped[\"word\"] = grouped.apply(\n",
    "            lambda row: row[\"text\"][row[\"start\"] : row[\"end\"]], axis=1\n",
    "        )"
   ]
  },
  {
   "cell_type": "code",
   "execution_count": 42,
   "metadata": {},
   "outputs": [
    {
     "data": {
      "text/plain": [
       "array(['growth', 'apoptosis', '-', 'formation', 'of', 'proliferation',\n",
       "       'antimicrobial', 'stress', 'expression', 'inhibitory',\n",
       "       'cell death', 'viability', 'cytotoxicity', 'resistance',\n",
       "       'production', 'antibacterial', 'cytotoxic', 'survival',\n",
       "       'infection', 'cells', 'tolerance', 'accumulation', 'antifungal',\n",
       "       'expression of', 'cell viability', 'invasion',\n",
       "       'cell proliferation', 'degradation', 'protection', 'development',\n",
       "       'oxidative stress', 'toxicity', 'uptake', 'biocontrol', 'activity',\n",
       "       'gene expression', 'virulence', 'metabolism', 'migration',\n",
       "       'replication', 'death', 'antiviral', 'drought stress', 'damage',\n",
       "       'yield', 'protective', 'tumor growth', 'colonization',\n",
       "       'plant growth', 'mortality', 'differentiation', 'antioxidant',\n",
       "       'biosynthesis', 'anti', 'bactericidal', 'germination',\n",
       "       'cell growth', 'inhibition', 'autophagy', 'sensitivity',\n",
       "       'salt stress', 'activation', 'release', 'pathogenicity',\n",
       "       'neutralization', 'synergistic', 'response', 'inflammation',\n",
       "       'genes', 'susceptibility', 'antagonistic', 'transport', 'disease',\n",
       "       'growth inhibition', 'regulation', 'antiproliferative', 'killing',\n",
       "       'cell', 'immune response', 'the', 'drought', 'synthesis',\n",
       "       'antimicrobial activity', 'anticancer', 'cell cycle arrest', ')',\n",
       "       'loss', 'signaling', 'salt tolerance', 'plants', 'stability',\n",
       "       'cell migration', 'rate', 'secretion', 'reduction',\n",
       "       'biofilm formation', 'phosphorylation', 'cycle', 'antitumor',\n",
       "       'anti-inflammatory', 'entry', 'effects', 'adhesion', 'toxic',\n",
       "       'necrosis', 'consumption', 'neutralizing', 'proteins',\n",
       "       'metastasis', 'cytotoxic effect', 'binding', 'growth of',\n",
       "       'transmission', 'function', 'survival rate', 'weight', 'responses',\n",
       "       'effect', 'cancer', 'colony formation', 'acid',\n",
       "       'drought tolerance', 'plant', 'protective effect',\n",
       "       'stress response', 'cell apoptosis', 'production of',\n",
       "       'phagocytosis', 'cell cycle', 'inflammatory response',\n",
       "       'scavenging', 'inflammatory', 'accumulation of', 'protein', 'IL-',\n",
       "       'oxidation', 'immunity', 'transcription', 'aggregation',\n",
       "       'morphology', 'immune responses', 'lysis', 'treatment',\n",
       "       'depletion', 'photosynthesis', 'transfer', 'therapeutic',\n",
       "       'fitness', 'changes', 'adaptation', 'drug resistance',\n",
       "       'antibiofilm', 'translocation', 'defense', 'pathogens',\n",
       "       'cell survival', 'generation', 'lethality', 'DNA damage',\n",
       "       'progression', 'IFN', 'gene', 'bioremediation', 'membrane',\n",
       "       'pathogenesis', 'ability', 'phosphorylation of', 'resistance to',\n",
       "       'removal', 'nodulation', 'activation of', 'induction of apoptosis',\n",
       "       'IL', 'antibacterial activity', 'levels', 'salinity', 'size',\n",
       "       'apoptotic', 'salt', 'solubilization', 'internalization', 'IFN-',\n",
       "       'challenge', 'disease resistance', 'control', 'seed germination',\n",
       "       'spread', 'degradation of', 'ROS production', 'ferroptosis'],\n",
       "      dtype=object)"
      ]
     },
     "execution_count": 42,
     "metadata": {},
     "output_type": "execute_result"
    }
   ],
   "source": [
    "grouped.value_counts(\"word\").head(190).reset_index().word.values"
   ]
  },
  {
   "cell_type": "code",
   "execution_count": 43,
   "metadata": {},
   "outputs": [
    {
     "name": "stderr",
     "output_type": "stream",
     "text": [
      "/tmp/ipykernel_19331/3709673889.py:2: DeprecationWarning: DataFrameGroupBy.apply operated on the grouping columns. This behavior is deprecated, and in a future version of pandas the grouping columns will be excluded from the operation. Either pass `include_groups=False` to exclude the groupings or explicitly select the grouping columns after groupby to silence this warning.\n",
      "  sample_row = grouped[grouped['word'].isin(word_list)].groupby(\"word\").apply(lambda df: df.sample(1))\n"
     ]
    }
   ],
   "source": [
    "word_list = [\"cell\",\"cells\",\"effect\",\"effects\",\"-\",\"cycle\",\"activity\",\"cell cycle\",\"gene\",\"acid\",\"genes\",\"IL-\",\"challenge\",\"anti\",\"membrane\",\"IFN-\", \"the\", \")\"]\n",
    "sample_row = grouped[grouped['word'].isin(word_list)].groupby(\"word\").apply(lambda df: df.sample(1))"
   ]
  },
  {
   "cell_type": "code",
   "execution_count": 44,
   "metadata": {},
   "outputs": [],
   "source": [
    "with open(\"sentences.txt\", \"w\") as file:\n",
    "\tfor sentence in sample_row[\"text\"].values:\n",
    "\t\tfile.write(sentence + \"\\n\")"
   ]
  },
  {
   "cell_type": "markdown",
   "metadata": {},
   "source": [
    "---"
   ]
  },
  {
   "cell_type": "code",
   "execution_count": 45,
   "metadata": {},
   "outputs": [],
   "source": [
    "d = pd.read_parquet(f\"{path}/PROTEIN.parquet\").explode(\"ner\").dropna()\n",
    "grouped = d.groupby(\"text\").agg({\"ner\": lambda x: list(x)}).reset_index()\n",
    "grouped[\"ner\"] = grouped[\"ner\"].apply(merge_entities)\n",
    "grouped = grouped.explode(\"ner\")\n",
    "grouped = pd.concat(\n",
    "                [grouped.drop(columns=\"ner\"), grouped.ner.apply(pd.Series)], axis=1\n",
    "            )\n",
    "grouped[\"word\"] = grouped.apply(\n",
    "            lambda row: row[\"text\"][row[\"start\"] : row[\"end\"]], axis=1\n",
    "        )"
   ]
  },
  {
   "cell_type": "code",
   "execution_count": 46,
   "metadata": {},
   "outputs": [
    {
     "data": {
      "text/plain": [
       "array(['IL', 'GFP', 'anti', 'His', 'TNF', 'GST', 'PE', 'IFN', 'HA',\n",
       "       'EGFR', 'S', 'protease', 'p53', 'NF', 'CD4', 'β', 'ACE2',\n",
       "       'mCherry', 'spike', 'SOD', 'APC', 'α', 'CD3', 'N', 'E-cadherin',\n",
       "       '1', 'AKT', 'IL-1β', 'β-galactosidase', 'Akt', 'IL-', 'NF-κB',\n",
       "       'RBD', 'CAT', 'β-catenin', 'FITC', 'PD-L1', 'cellulase', 'FLAG',\n",
       "       'STAT3', 'TLR4', 'HER2', 'EGFP', 'CD8', 'catalase', 'TGF', 'E',\n",
       "       'xylanase', '2', 'CD44', 'caspase-3', 'ERK', 'Env', 'MBP', 'Cas9',\n",
       "       'luciferase', 'HLA', 'CD45', 'NS1', 'c', 'laccase', 'chitinase',\n",
       "       'β-glucosidase', 'IL-6', 'CD11b', 'YFP', 'PI3K', 'NP', 'IgG',\n",
       "       'VEGF', 'TLR2', '6', 'NA', 'gp120', 'PrP', 'GAPDH', 'HRP', 'JNK',\n",
       "       'Bcl-2', 'lipase', 'p21', 'C', 'Bax', 'RFP', 'p', 'AR', 'P-gp',\n",
       "       'vimentin', 'POD', 'Fc', 'ERK1/2', 'S1', 'β-', 'CXCR4', 'LC3',\n",
       "       'eGFP', 'M', 'PTEN', 'trypsin', 'KPC', 'Flag', '3', 'p38', 'LDH',\n",
       "       'CD19', 'E2', 'H', 'mTOR', 'iNOS', 'β-actin', 'TNF-α', 'α-amylase',\n",
       "       'PD-1', 'HIF-1α', 'OXA', 'MMP-9', 'NDM', 'Nrf2', 'ZO-1', 'IgG1',\n",
       "       'PR', 'IFN-γ', 'Cy7', 'F', 'G', 'NRPS', 'PARP', 'YAP', 'IL-8',\n",
       "       'CD14', 'p65', 'RdRp', 'P', 'β-lactamase', 'protein', 'TNFα', 'PA',\n",
       "       'NLRP3', 'B', 'ER', 'gfp', 'peroxidase', 'COX-2', 'N-cadherin',\n",
       "       'Myc', 'IFNγ', 'AMPK', 'M^pro', 'T6SS', 'CD11c', 'endolysin',\n",
       "       'amylase', 'SOSIP', 'STAT1', 'ABC', 'ALP', 'CD25', 'p62', '4',\n",
       "       'caspase', 'HIF', 'PD', 'CD86', 'proteases', 'integrase', 'APX',\n",
       "       'MMP-2', 'RT', 'TMPRSS2', 'VP1', 'MMP', 'ERα', 'CCR5', 'A',\n",
       "       'urease', 'MHC', 'ACC deaminase', 'actin', 'Nef', 'AP', 'T3SS',\n",
       "       'IgM', 'gp41', 'IL-10', 'flagellin', 'ABCG2', 'sc', 'EpCAM', 'M1',\n",
       "       'SUMO', 'ABCB1', 'PKS', 'Tat', 'scFv', 'occludin', 'Spike', 'CTX',\n",
       "       'PB2', 'FAK', '5', 'superoxide dismutase', 'CD16', 'GR', 'ICAM-1',\n",
       "       'RNase', 'RIG-I', '-', 'CAR', 'lysozyme', 'BRCA1', 'HIV', 'PerCP',\n",
       "       'PB1', 'I', 'TP53', 'CP', 'cyclin D1', 'alkaline phosphatase',\n",
       "       'CD80', 'CFTR', '6xHis', 'phytase', 'MAPK', 'TRAIL', 'MMP9',\n",
       "       'STING', 'caspase-1', 'E1', 'EZH2', 'MCP', 'p24', 'DNase', 'OmpA',\n",
       "       'DNA', 'NS5A', '7', 'Abcam', 'Anti', 'CD69', 'F4/80', 'α-', 'NS3',\n",
       "       'MyD88', 'BRAF', 'esterase', 'VP2', 'phospho', 'KRAS', 'HMGB1',\n",
       "       'B220', 'PCNA', 'GUS', 'L', 'CD28', 'γH2AX', 'DNA polymerase',\n",
       "       'FtsZ', 'IgA', 'carbapenemase', 'ATM', 'endoglucanase', 'pro',\n",
       "       'EC', 'Ly6G', 'CD31', 'CD81', 'CD40', 'phosphatase', 'gp140',\n",
       "       'T7 RNA polymerase', 'firefly luciferase', 'GRP78', 'GFAP', 'HO-1',\n",
       "       'sfGFP', 'gB', 'MYC', 'DsRed', 'TLR3', 'ATPase', 'hydrogenase',\n",
       "       'pectinase', 'green fluorescent', 'PAL', 'IκBα', 'HLA-DR', 'hTERT',\n",
       "       'Cy5', 'green fluorescent protein', 'CCL2', 'M2', 'p38 MAPK',\n",
       "       'Src', 'tubulin', 'Wnt', 'GS', 'GroEL', 'myc', 'type', 'MEK',\n",
       "       'LMP1', 'K', 'survivin', 'caspase 3', 'sialidase', 'MCP-1',\n",
       "       'HSP70', 'p27', 'IRF3', 'γ'], dtype=object)"
      ]
     },
     "execution_count": 46,
     "metadata": {},
     "output_type": "execute_result"
    }
   ],
   "source": [
    "grouped.value_counts(\"word\").head(310).reset_index().word.values"
   ]
  },
  {
   "cell_type": "code",
   "execution_count": 47,
   "metadata": {},
   "outputs": [
    {
     "name": "stderr",
     "output_type": "stream",
     "text": [
      "/tmp/ipykernel_19331/1758371248.py:2: DeprecationWarning: DataFrameGroupBy.apply operated on the grouping columns. This behavior is deprecated, and in a future version of pandas the grouping columns will be excluded from the operation. Either pass `include_groups=False` to exclude the groupings or explicitly select the grouping columns after groupby to silence this warning.\n",
      "  sample_row = grouped[grouped['word'].isin(word_list)].groupby(\"word\").apply(lambda df: df.sample(1))\n"
     ]
    }
   ],
   "source": [
    "word_list = [\"M\",\"C\",\"6\",\"N\",\"1\",\"H\",\"β-\",\"3\",\"5\",\"pro\",\"I\",\"P\",\"p\",\"2\",\"E\",\"B\",\"-\"]\n",
    "sample_row = grouped[grouped['word'].isin(word_list)].groupby(\"word\").apply(lambda df: df.sample(1))"
   ]
  },
  {
   "cell_type": "code",
   "execution_count": 48,
   "metadata": {},
   "outputs": [],
   "source": [
    "with open(\"sentences.txt\", \"w\") as file:\n",
    "\tfor sentence in sample_row[\"text\"].values:\n",
    "\t\tfile.write(sentence + \"\\n\")"
   ]
  },
  {
   "cell_type": "markdown",
   "metadata": {},
   "source": [
    "---"
   ]
  },
  {
   "cell_type": "code",
   "execution_count": 50,
   "metadata": {},
   "outputs": [],
   "source": [
    "d = pd.read_parquet(f\"{path}/DISEASE.parquet\").explode(\"ner\").dropna()\n",
    "grouped = d.groupby(\"text\").agg({\"ner\": lambda x: list(x)}).reset_index()\n",
    "grouped[\"ner\"] = grouped[\"ner\"].apply(merge_entities)\n",
    "grouped = grouped.explode(\"ner\")\n",
    "grouped = pd.concat(\n",
    "                [grouped.drop(columns=\"ner\"), grouped.ner.apply(pd.Series)], axis=1\n",
    "            )\n",
    "grouped[\"word\"] = grouped.apply(\n",
    "            lambda row: row[\"text\"][row[\"start\"] : row[\"end\"]], axis=1\n",
    "        )"
   ]
  },
  {
   "cell_type": "code",
   "execution_count": 52,
   "metadata": {},
   "outputs": [
    {
     "data": {
      "text/plain": [
       "array(['breast cancer', 'melanoma', 'cancer', 'COVID', 'colon cancer',\n",
       "       'HCC', 'lung cancer', 'tumor', 'CRC', 'ovarian cancer', 'NSCLC',\n",
       "       'glioblastoma', 'glioma', 'prostate cancer', 'neuroblastoma',\n",
       "       'TNBC', 'human breast cancer', 'gastric cancer', 'GBM',\n",
       "       'pancreatic cancer', 'colorectal cancer', 'osteosarcoma',\n",
       "       'outbreak', 'colitis', 'GC', 'hepatoma', 'leukemia',\n",
       "       'hepatocellular carcinoma', 'breast', 'bladder cancer',\n",
       "       'human melanoma', 'AML', 'diarrhea', 'cervical cancer',\n",
       "       'lung adenocarcinoma', '19', 'colon carcinoma', 'MM', 'BC', 'NPC',\n",
       "       'human colon cancer', 'human cancer', 'COVID-19', 'PDAC',\n",
       "       'liver cancer', 'HUS', 'powdery mildew', 'AD', 'obesity', 'HNSCC',\n",
       "       'OSCC', 'Human breast cancer', 'human glioblastoma', 'lung',\n",
       "       'influenza', 'breast adenocarcinoma', 'ESCC', 'lymphoma', 'colon',\n",
       "       'PCa', 'pneumonia', 'meningitis', 'lung carcinoma', 'SARS',\n",
       "       'cholera', 'human lung cancer', 'human neuroblastoma',\n",
       "       'colorectal adenocarcinoma', 'breast carcinoma',\n",
       "       'colorectal carcinoma', 'metastatic', 'adenocarcinoma',\n",
       "       'colon adenocarcinoma', 'carcinoma', 'sepsis',\n",
       "       'human ovarian cancer', 'disease', 'pandemic', 'LUAD',\n",
       "       'non-small cell lung cancer', 'tumors', 'human osteosarcoma',\n",
       "       'human gastric cancer', 'human hepatocellular carcinoma',\n",
       "       'human prostate cancer', 'fibrosarcoma', 'human glioma',\n",
       "       'murine melanoma', 'human lung adenocarcinoma',\n",
       "       'human pancreatic cancer', 'triple-negative breast cancer',\n",
       "       'Breast cancer', 'tumour', 'Fusarium wilt', 'DLBCL',\n",
       "       'human breast adenocarcinoma', 'oral cancer', 'multiple myeloma',\n",
       "       'RCC', 'CF', 'TB', 'CDI', 'human colorectal cancer', 'FHB',\n",
       "       'colorectal', 'Human neuroblastoma', 'myeloma', 'malaria', 'ccRCC',\n",
       "       'human hepatoma', 'prostate', 'PD', 'SCLC', 'mouse melanoma',\n",
       "       'ovarian carcinoma', 'human CRC', 'OC', 'anthracnose',\n",
       "       'cervical carcinoma', 'gastric', 'mastitis', 'human HCC', 'NAFLD',\n",
       "       'metastatic melanoma', 'IBD', 'human colon adenocarcinoma',\n",
       "       'human colon carcinoma', 'metastasis', 'UC',\n",
       "       'squamous cell carcinoma', 'leukemic',\n",
       "       'human colorectal adenocarcinoma', 'ovarian', 'pancreatic', 'NB',\n",
       "       'malignant melanoma', 'OS', 'outbreaks', 'PC',\n",
       "       'human lung carcinoma', '19 infection', 'CCA', 'IBS',\n",
       "       'esophageal cancer', 'lung metastasis', 'stripe rust', 'liver',\n",
       "       'human tumor', 'HIV', 'human colorectal carcinoma', 'CML', 'DSS',\n",
       "       'CRPC', 'human cervical cancer', 'bacteremia',\n",
       "       'nasopharyngeal carcinoma', 'scrapie', 'human NSCLC',\n",
       "       'brucellosis', 'gastric carcinoma', 'Human colon cancer',\n",
       "       'renal cancer', 'hepatocarcinoma', 'EAE', 'diabetes',\n",
       "       'triple negative breast cancer', 'Tumor', 'thyroid cancer',\n",
       "       'hemolytic uremic syndrome', 'wilt', 'Cancer',\n",
       "       'human breast carcinoma', 'CD', 'periodontitis', 'constipation',\n",
       "       'Human melanoma', 'Melanoma', 'choriocarcinoma',\n",
       "       'human bladder cancer', 'bacterial wilt'], dtype=object)"
      ]
     },
     "execution_count": 52,
     "metadata": {},
     "output_type": "execute_result"
    }
   ],
   "source": [
    "grouped.value_counts(\"word\").head(180).reset_index().word.values"
   ]
  },
  {
   "cell_type": "code",
   "execution_count": 53,
   "metadata": {},
   "outputs": [
    {
     "name": "stderr",
     "output_type": "stream",
     "text": [
      "/tmp/ipykernel_19331/3734180366.py:2: DeprecationWarning: DataFrameGroupBy.apply operated on the grouping columns. This behavior is deprecated, and in a future version of pandas the grouping columns will be excluded from the operation. Either pass `include_groups=False` to exclude the groupings or explicitly select the grouping columns after groupby to silence this warning.\n",
      "  sample_row = grouped[grouped['word'].isin(word_list)].groupby(\"word\").apply(lambda df: df.sample(1))\n"
     ]
    }
   ],
   "source": [
    "word_list = [\"19\",\"19 infection\",\"colon\",\"disease\"]\n",
    "sample_row = grouped[grouped['word'].isin(word_list)].groupby(\"word\").apply(lambda df: df.sample(1))"
   ]
  },
  {
   "cell_type": "code",
   "execution_count": 54,
   "metadata": {},
   "outputs": [],
   "source": [
    "with open(\"sentences.txt\", \"w\") as file:\n",
    "\tfor sentence in sample_row[\"text\"].values:\n",
    "\t\tfile.write(sentence + \"\\n\")"
   ]
  },
  {
   "cell_type": "markdown",
   "metadata": {},
   "source": [
    "## Check strains"
   ]
  },
  {
   "cell_type": "code",
   "execution_count": 55,
   "metadata": {},
   "outputs": [],
   "source": [
    "d = pd.read_parquet(f\"{path}/STRAIN/strains.parquet\")"
   ]
  },
  {
   "cell_type": "code",
   "execution_count": 62,
   "metadata": {},
   "outputs": [],
   "source": [
    "strain_counts = d.value_counts(\"word\")"
   ]
  },
  {
   "cell_type": "code",
   "execution_count": 63,
   "metadata": {},
   "outputs": [],
   "source": [
    "words = [\"antarcticum\", \"aquificae\", \"arthrobacter\", \"1\", \"-\",\"7\",\"2\",\"sh\",\"3\",\"n2\", \"coli\",\"a\",\"vero\",\"sars-cov-2\",\"-2\",\"bl21 (de3\",\"hek293t\",\". coli\",\"atcc\",\"/\"]"
   ]
  },
  {
   "cell_type": "code",
   "execution_count": 64,
   "metadata": {},
   "outputs": [
    {
     "name": "stderr",
     "output_type": "stream",
     "text": [
      "/tmp/ipykernel_19331/3058888984.py:1: DeprecationWarning: DataFrameGroupBy.apply operated on the grouping columns. This behavior is deprecated, and in a future version of pandas the grouping columns will be excluded from the operation. Either pass `include_groups=False` to exclude the groupings or explicitly select the grouping columns after groupby to silence this warning.\n",
      "  sample_row = d[d['word'].isin(words)].groupby(\"word\").apply(lambda df: df.sample(1))\n"
     ]
    }
   ],
   "source": [
    "sample_row = d[d['word'].isin(words)].groupby(\"word\").apply(lambda df: df.sample(1))"
   ]
  },
  {
   "cell_type": "code",
   "execution_count": 65,
   "metadata": {},
   "outputs": [],
   "source": [
    "with open(\"sentences.txt\", \"w\") as file:\n",
    "\tfor sentence in sample_row[\"text\"].values:\n",
    "\t\tfile.write(sentence + \"\\n\")"
   ]
  },
  {
   "cell_type": "code",
   "execution_count": null,
   "metadata": {},
   "outputs": [],
   "source": []
  }
 ],
 "metadata": {
  "kernelspec": {
   "display_name": "base",
   "language": "python",
   "name": "python3"
  },
  "language_info": {
   "codemirror_mode": {
    "name": "ipython",
    "version": 3
   },
   "file_extension": ".py",
   "mimetype": "text/x-python",
   "name": "python",
   "nbconvert_exporter": "python",
   "pygments_lexer": "ipython3",
   "version": "3.11.8"
  }
 },
 "nbformat": 4,
 "nbformat_minor": 2
}
