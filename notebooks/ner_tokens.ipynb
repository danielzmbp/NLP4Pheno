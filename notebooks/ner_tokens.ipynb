{
 "cells": [
  {
   "cell_type": "code",
   "execution_count": 1,
   "metadata": {},
   "outputs": [],
   "source": [
    "import pandas as pd\n",
    "import os\n",
    "import json\n",
    "import numpy as np\n",
    "import re\n",
    "from operator import itemgetter\n",
    "from glob import glob\n",
    "import itertools\n",
    "import csv\n"
   ]
  },
  {
   "cell_type": "markdown",
   "metadata": {},
   "source": [
    "## Tokens"
   ]
  },
  {
   "cell_type": "code",
   "execution_count": 4,
   "metadata": {},
   "outputs": [],
   "source": [
    "strains = \"/home/gomez/gomez/preds2/NER_output/STRAIN/805.parquet\""
   ]
  },
  {
   "cell_type": "code",
   "execution_count": 5,
   "metadata": {},
   "outputs": [
    {
     "ename": "FileNotFoundError",
     "evalue": "[Errno 2] No such file or directory: '/home/gomez/gomez/preds2/NER_output/STRAIN/805.parquet'",
     "output_type": "error",
     "traceback": [
      "\u001b[0;31m---------------------------------------------------------------------------\u001b[0m",
      "\u001b[0;31mFileNotFoundError\u001b[0m                         Traceback (most recent call last)",
      "Cell \u001b[0;32mIn[5], line 1\u001b[0m\n\u001b[0;32m----> 1\u001b[0m df \u001b[38;5;241m=\u001b[39m \u001b[43mpd\u001b[49m\u001b[38;5;241;43m.\u001b[39;49m\u001b[43mread_parquet\u001b[49m\u001b[43m(\u001b[49m\u001b[43mstrains\u001b[49m\u001b[43m)\u001b[49m\u001b[38;5;241m.\u001b[39mexplode(\u001b[38;5;124m\"\u001b[39m\u001b[38;5;124mner\u001b[39m\u001b[38;5;124m\"\u001b[39m)\u001b[38;5;241m.\u001b[39mdropna()\n",
      "File \u001b[0;32m~/miniconda3/lib/python3.11/site-packages/pandas/io/parquet.py:670\u001b[0m, in \u001b[0;36mread_parquet\u001b[0;34m(path, engine, columns, storage_options, use_nullable_dtypes, dtype_backend, filesystem, filters, **kwargs)\u001b[0m\n\u001b[1;32m    667\u001b[0m     use_nullable_dtypes \u001b[38;5;241m=\u001b[39m \u001b[38;5;28;01mFalse\u001b[39;00m\n\u001b[1;32m    668\u001b[0m check_dtype_backend(dtype_backend)\n\u001b[0;32m--> 670\u001b[0m \u001b[38;5;28;01mreturn\u001b[39;00m \u001b[43mimpl\u001b[49m\u001b[38;5;241;43m.\u001b[39;49m\u001b[43mread\u001b[49m\u001b[43m(\u001b[49m\n\u001b[1;32m    671\u001b[0m \u001b[43m    \u001b[49m\u001b[43mpath\u001b[49m\u001b[43m,\u001b[49m\n\u001b[1;32m    672\u001b[0m \u001b[43m    \u001b[49m\u001b[43mcolumns\u001b[49m\u001b[38;5;241;43m=\u001b[39;49m\u001b[43mcolumns\u001b[49m\u001b[43m,\u001b[49m\n\u001b[1;32m    673\u001b[0m \u001b[43m    \u001b[49m\u001b[43mfilters\u001b[49m\u001b[38;5;241;43m=\u001b[39;49m\u001b[43mfilters\u001b[49m\u001b[43m,\u001b[49m\n\u001b[1;32m    674\u001b[0m \u001b[43m    \u001b[49m\u001b[43mstorage_options\u001b[49m\u001b[38;5;241;43m=\u001b[39;49m\u001b[43mstorage_options\u001b[49m\u001b[43m,\u001b[49m\n\u001b[1;32m    675\u001b[0m \u001b[43m    \u001b[49m\u001b[43muse_nullable_dtypes\u001b[49m\u001b[38;5;241;43m=\u001b[39;49m\u001b[43muse_nullable_dtypes\u001b[49m\u001b[43m,\u001b[49m\n\u001b[1;32m    676\u001b[0m \u001b[43m    \u001b[49m\u001b[43mdtype_backend\u001b[49m\u001b[38;5;241;43m=\u001b[39;49m\u001b[43mdtype_backend\u001b[49m\u001b[43m,\u001b[49m\n\u001b[1;32m    677\u001b[0m \u001b[43m    \u001b[49m\u001b[43mfilesystem\u001b[49m\u001b[38;5;241;43m=\u001b[39;49m\u001b[43mfilesystem\u001b[49m\u001b[43m,\u001b[49m\n\u001b[1;32m    678\u001b[0m \u001b[43m    \u001b[49m\u001b[38;5;241;43m*\u001b[39;49m\u001b[38;5;241;43m*\u001b[39;49m\u001b[43mkwargs\u001b[49m\u001b[43m,\u001b[49m\n\u001b[1;32m    679\u001b[0m \u001b[43m\u001b[49m\u001b[43m)\u001b[49m\n",
      "File \u001b[0;32m~/miniconda3/lib/python3.11/site-packages/pandas/io/parquet.py:265\u001b[0m, in \u001b[0;36mPyArrowImpl.read\u001b[0;34m(self, path, columns, filters, use_nullable_dtypes, dtype_backend, storage_options, filesystem, **kwargs)\u001b[0m\n\u001b[1;32m    262\u001b[0m \u001b[38;5;28;01mif\u001b[39;00m manager \u001b[38;5;241m==\u001b[39m \u001b[38;5;124m\"\u001b[39m\u001b[38;5;124marray\u001b[39m\u001b[38;5;124m\"\u001b[39m:\n\u001b[1;32m    263\u001b[0m     to_pandas_kwargs[\u001b[38;5;124m\"\u001b[39m\u001b[38;5;124msplit_blocks\u001b[39m\u001b[38;5;124m\"\u001b[39m] \u001b[38;5;241m=\u001b[39m \u001b[38;5;28;01mTrue\u001b[39;00m  \u001b[38;5;66;03m# type: ignore[assignment]\u001b[39;00m\n\u001b[0;32m--> 265\u001b[0m path_or_handle, handles, filesystem \u001b[38;5;241m=\u001b[39m \u001b[43m_get_path_or_handle\u001b[49m\u001b[43m(\u001b[49m\n\u001b[1;32m    266\u001b[0m \u001b[43m    \u001b[49m\u001b[43mpath\u001b[49m\u001b[43m,\u001b[49m\n\u001b[1;32m    267\u001b[0m \u001b[43m    \u001b[49m\u001b[43mfilesystem\u001b[49m\u001b[43m,\u001b[49m\n\u001b[1;32m    268\u001b[0m \u001b[43m    \u001b[49m\u001b[43mstorage_options\u001b[49m\u001b[38;5;241;43m=\u001b[39;49m\u001b[43mstorage_options\u001b[49m\u001b[43m,\u001b[49m\n\u001b[1;32m    269\u001b[0m \u001b[43m    \u001b[49m\u001b[43mmode\u001b[49m\u001b[38;5;241;43m=\u001b[39;49m\u001b[38;5;124;43m\"\u001b[39;49m\u001b[38;5;124;43mrb\u001b[39;49m\u001b[38;5;124;43m\"\u001b[39;49m\u001b[43m,\u001b[49m\n\u001b[1;32m    270\u001b[0m \u001b[43m\u001b[49m\u001b[43m)\u001b[49m\n\u001b[1;32m    271\u001b[0m \u001b[38;5;28;01mtry\u001b[39;00m:\n\u001b[1;32m    272\u001b[0m     pa_table \u001b[38;5;241m=\u001b[39m \u001b[38;5;28mself\u001b[39m\u001b[38;5;241m.\u001b[39mapi\u001b[38;5;241m.\u001b[39mparquet\u001b[38;5;241m.\u001b[39mread_table(\n\u001b[1;32m    273\u001b[0m         path_or_handle,\n\u001b[1;32m    274\u001b[0m         columns\u001b[38;5;241m=\u001b[39mcolumns,\n\u001b[0;32m   (...)\u001b[0m\n\u001b[1;32m    277\u001b[0m         \u001b[38;5;241m*\u001b[39m\u001b[38;5;241m*\u001b[39mkwargs,\n\u001b[1;32m    278\u001b[0m     )\n",
      "File \u001b[0;32m~/miniconda3/lib/python3.11/site-packages/pandas/io/parquet.py:139\u001b[0m, in \u001b[0;36m_get_path_or_handle\u001b[0;34m(path, fs, storage_options, mode, is_dir)\u001b[0m\n\u001b[1;32m    129\u001b[0m handles \u001b[38;5;241m=\u001b[39m \u001b[38;5;28;01mNone\u001b[39;00m\n\u001b[1;32m    130\u001b[0m \u001b[38;5;28;01mif\u001b[39;00m (\n\u001b[1;32m    131\u001b[0m     \u001b[38;5;129;01mnot\u001b[39;00m fs\n\u001b[1;32m    132\u001b[0m     \u001b[38;5;129;01mand\u001b[39;00m \u001b[38;5;129;01mnot\u001b[39;00m is_dir\n\u001b[0;32m   (...)\u001b[0m\n\u001b[1;32m    137\u001b[0m     \u001b[38;5;66;03m# fsspec resources can also point to directories\u001b[39;00m\n\u001b[1;32m    138\u001b[0m     \u001b[38;5;66;03m# this branch is used for example when reading from non-fsspec URLs\u001b[39;00m\n\u001b[0;32m--> 139\u001b[0m     handles \u001b[38;5;241m=\u001b[39m \u001b[43mget_handle\u001b[49m\u001b[43m(\u001b[49m\n\u001b[1;32m    140\u001b[0m \u001b[43m        \u001b[49m\u001b[43mpath_or_handle\u001b[49m\u001b[43m,\u001b[49m\u001b[43m \u001b[49m\u001b[43mmode\u001b[49m\u001b[43m,\u001b[49m\u001b[43m \u001b[49m\u001b[43mis_text\u001b[49m\u001b[38;5;241;43m=\u001b[39;49m\u001b[38;5;28;43;01mFalse\u001b[39;49;00m\u001b[43m,\u001b[49m\u001b[43m \u001b[49m\u001b[43mstorage_options\u001b[49m\u001b[38;5;241;43m=\u001b[39;49m\u001b[43mstorage_options\u001b[49m\n\u001b[1;32m    141\u001b[0m \u001b[43m    \u001b[49m\u001b[43m)\u001b[49m\n\u001b[1;32m    142\u001b[0m     fs \u001b[38;5;241m=\u001b[39m \u001b[38;5;28;01mNone\u001b[39;00m\n\u001b[1;32m    143\u001b[0m     path_or_handle \u001b[38;5;241m=\u001b[39m handles\u001b[38;5;241m.\u001b[39mhandle\n",
      "File \u001b[0;32m~/miniconda3/lib/python3.11/site-packages/pandas/io/common.py:872\u001b[0m, in \u001b[0;36mget_handle\u001b[0;34m(path_or_buf, mode, encoding, compression, memory_map, is_text, errors, storage_options)\u001b[0m\n\u001b[1;32m    863\u001b[0m         handle \u001b[38;5;241m=\u001b[39m \u001b[38;5;28mopen\u001b[39m(\n\u001b[1;32m    864\u001b[0m             handle,\n\u001b[1;32m    865\u001b[0m             ioargs\u001b[38;5;241m.\u001b[39mmode,\n\u001b[0;32m   (...)\u001b[0m\n\u001b[1;32m    868\u001b[0m             newline\u001b[38;5;241m=\u001b[39m\u001b[38;5;124m\"\u001b[39m\u001b[38;5;124m\"\u001b[39m,\n\u001b[1;32m    869\u001b[0m         )\n\u001b[1;32m    870\u001b[0m     \u001b[38;5;28;01melse\u001b[39;00m:\n\u001b[1;32m    871\u001b[0m         \u001b[38;5;66;03m# Binary mode\u001b[39;00m\n\u001b[0;32m--> 872\u001b[0m         handle \u001b[38;5;241m=\u001b[39m \u001b[38;5;28;43mopen\u001b[39;49m\u001b[43m(\u001b[49m\u001b[43mhandle\u001b[49m\u001b[43m,\u001b[49m\u001b[43m \u001b[49m\u001b[43mioargs\u001b[49m\u001b[38;5;241;43m.\u001b[39;49m\u001b[43mmode\u001b[49m\u001b[43m)\u001b[49m\n\u001b[1;32m    873\u001b[0m     handles\u001b[38;5;241m.\u001b[39mappend(handle)\n\u001b[1;32m    875\u001b[0m \u001b[38;5;66;03m# Convert BytesIO or file objects passed with an encoding\u001b[39;00m\n",
      "\u001b[0;31mFileNotFoundError\u001b[0m: [Errno 2] No such file or directory: '/home/gomez/gomez/preds2/NER_output/STRAIN/805.parquet'"
     ]
    }
   ],
   "source": [
    "df = pd.read_parquet(strains).explode(\"ner\").dropna()"
   ]
  },
  {
   "cell_type": "code",
   "execution_count": 201,
   "metadata": {},
   "outputs": [],
   "source": [
    "grouped = df.groupby(\"text\").agg({\"ner\": lambda x: list(x)}).reset_index()"
   ]
  },
  {
   "cell_type": "code",
   "execution_count": 203,
   "metadata": {},
   "outputs": [],
   "source": [
    "def merge_entities(entity_list):\n",
    "    merged_list = []\n",
    "    skip = False\n",
    "\n",
    "    for i in range(len(entity_list)):\n",
    "        if skip:\n",
    "            skip = False\n",
    "            continue\n",
    "\n",
    "        current_entity = entity_list[i]\n",
    "        current_entity.pop('word', None)  # Remove 'word' entry\n",
    "        if current_entity['entity_group'] == 'B':\n",
    "            scores = [current_entity['score']]\n",
    "            # Look ahead to find contiguous 'I' entities\n",
    "            next_idx = i + 1\n",
    "            while next_idx < len(entity_list) and \\\n",
    "                  entity_list[next_idx]['entity_group'] == 'I' and \\\n",
    "                  (entity_list[next_idx]['start'] - current_entity['end']) <= 4:\n",
    "                scores.append(entity_list[next_idx]['score'])\n",
    "                current_entity['end'] = entity_list[next_idx]['end']  # Update end value\n",
    "                skip = True\n",
    "                next_idx += 1\n",
    "\n",
    "            # Average the scores\n",
    "            current_entity['score'] = sum(scores) / len(scores)\n",
    "\n",
    "        merged_list.append(current_entity)\n",
    "\n",
    "    return merged_list\n"
   ]
  },
  {
   "cell_type": "code",
   "execution_count": 204,
   "metadata": {},
   "outputs": [],
   "source": [
    "grouped['ner'] = grouped['ner'].apply(merge_entities)\n"
   ]
  },
  {
   "cell_type": "code",
   "execution_count": 206,
   "metadata": {},
   "outputs": [],
   "source": [
    "grouped = grouped.explode(\"ner\")"
   ]
  },
  {
   "cell_type": "code",
   "execution_count": 207,
   "metadata": {},
   "outputs": [
    {
     "data": {
      "text/html": [
       "<div>\n",
       "<style scoped>\n",
       "    .dataframe tbody tr th:only-of-type {\n",
       "        vertical-align: middle;\n",
       "    }\n",
       "\n",
       "    .dataframe tbody tr th {\n",
       "        vertical-align: top;\n",
       "    }\n",
       "\n",
       "    .dataframe thead th {\n",
       "        text-align: right;\n",
       "    }\n",
       "</style>\n",
       "<table border=\"1\" class=\"dataframe\">\n",
       "  <thead>\n",
       "    <tr style=\"text-align: right;\">\n",
       "      <th></th>\n",
       "      <th>text</th>\n",
       "      <th>ner</th>\n",
       "    </tr>\n",
       "  </thead>\n",
       "  <tbody>\n",
       "    <tr>\n",
       "      <th>0</th>\n",
       "      <td>\"Coordinate positions or positions of three re...</td>\n",
       "      <td>{'end': 159, 'entity_group': 'B', 'score': 0.6...</td>\n",
       "    </tr>\n",
       "    <tr>\n",
       "      <th>1</th>\n",
       "      <td>#MW113) were used, and stored in 0.5-0.75 mL o...</td>\n",
       "      <td>{'end': 6, 'entity_group': 'B', 'score': 0.880...</td>\n",
       "    </tr>\n",
       "    <tr>\n",
       "      <th>2</th>\n",
       "      <td>&amp; Hur (paratype: KBA-L-0001037); South Korea, ...</td>\n",
       "      <td>{'end': 27, 'entity_group': 'B', 'score': 0.78...</td>\n",
       "    </tr>\n",
       "    <tr>\n",
       "      <th>3</th>\n",
       "      <td>(1) With ectopic NSP1 expression, we observed ...</td>\n",
       "      <td>{'end': 161, 'entity_group': 'B', 'score': 0.7...</td>\n",
       "    </tr>\n",
       "    <tr>\n",
       "      <th>4</th>\n",
       "      <td>(1)Culture Pmet3-CDC20 Pgal-CEN3-tetOs TetR-GF...</td>\n",
       "      <td>{'end': 66, 'entity_group': 'B', 'score': 0.75...</td>\n",
       "    </tr>\n",
       "    <tr>\n",
       "      <th>...</th>\n",
       "      <td>...</td>\n",
       "      <td>...</td>\n",
       "    </tr>\n",
       "    <tr>\n",
       "      <th>9410</th>\n",
       "      <td>经Xho1、EcoR1酶切图筛选Track-Eazyp53(del)、Track-Easy-...</td>\n",
       "      <td>{'end': 9, 'entity_group': 'B', 'score': 0.658...</td>\n",
       "    </tr>\n",
       "    <tr>\n",
       "      <th>9411</th>\n",
       "      <td>继发T790M突变建议的主要检测手段有cobas、AMRS、ddPCR甚至二代测序（next...</td>\n",
       "      <td>{'end': 4, 'entity_group': 'B', 'score': 0.632...</td>\n",
       "    </tr>\n",
       "    <tr>\n",
       "      <th>9412</th>\n",
       "      <td>考虑到MPOG-463A在不同种族的差异分布(http://www.ncbi.nlm.nih...</td>\n",
       "      <td>{'end': 12, 'entity_group': 'B', 'score': 0.78...</td>\n",
       "    </tr>\n",
       "    <tr>\n",
       "      <th>9413</th>\n",
       "      <td>肺癌细胞系A549（CCL#185）购自American Type Culture Coll...</td>\n",
       "      <td>{'end': 9, 'entity_group': 'B', 'score': 0.773...</td>\n",
       "    </tr>\n",
       "    <tr>\n",
       "      <th>9413</th>\n",
       "      <td>肺癌细胞系A549（CCL#185）购自American Type Culture Coll...</td>\n",
       "      <td>{'end': 17, 'entity_group': 'B', 'score': 0.79...</td>\n",
       "    </tr>\n",
       "  </tbody>\n",
       "</table>\n",
       "<p>12790 rows × 2 columns</p>\n",
       "</div>"
      ],
      "text/plain": [
       "                                                   text  \\\n",
       "0     \"Coordinate positions or positions of three re...   \n",
       "1     #MW113) were used, and stored in 0.5-0.75 mL o...   \n",
       "2     & Hur (paratype: KBA-L-0001037); South Korea, ...   \n",
       "3     (1) With ectopic NSP1 expression, we observed ...   \n",
       "4     (1)Culture Pmet3-CDC20 Pgal-CEN3-tetOs TetR-GF...   \n",
       "...                                                 ...   \n",
       "9410  经Xho1、EcoR1酶切图筛选Track-Eazyp53(del)、Track-Easy-...   \n",
       "9411  继发T790M突变建议的主要检测手段有cobas、AMRS、ddPCR甚至二代测序（next...   \n",
       "9412  考虑到MPOG-463A在不同种族的差异分布(http://www.ncbi.nlm.nih...   \n",
       "9413  肺癌细胞系A549（CCL#185）购自American Type Culture Coll...   \n",
       "9413  肺癌细胞系A549（CCL#185）购自American Type Culture Coll...   \n",
       "\n",
       "                                                    ner  \n",
       "0     {'end': 159, 'entity_group': 'B', 'score': 0.6...  \n",
       "1     {'end': 6, 'entity_group': 'B', 'score': 0.880...  \n",
       "2     {'end': 27, 'entity_group': 'B', 'score': 0.78...  \n",
       "3     {'end': 161, 'entity_group': 'B', 'score': 0.7...  \n",
       "4     {'end': 66, 'entity_group': 'B', 'score': 0.75...  \n",
       "...                                                 ...  \n",
       "9410  {'end': 9, 'entity_group': 'B', 'score': 0.658...  \n",
       "9411  {'end': 4, 'entity_group': 'B', 'score': 0.632...  \n",
       "9412  {'end': 12, 'entity_group': 'B', 'score': 0.78...  \n",
       "9413  {'end': 9, 'entity_group': 'B', 'score': 0.773...  \n",
       "9413  {'end': 17, 'entity_group': 'B', 'score': 0.79...  \n",
       "\n",
       "[12790 rows x 2 columns]"
      ]
     },
     "execution_count": 207,
     "metadata": {},
     "output_type": "execute_result"
    }
   ],
   "source": [
    "grouped"
   ]
  },
  {
   "cell_type": "code",
   "execution_count": 208,
   "metadata": {},
   "outputs": [],
   "source": [
    "grouped = pd.concat(\n",
    "                [grouped.drop(columns=\"ner\"), grouped.ner.apply(pd.Series)], axis=1\n",
    "            )"
   ]
  },
  {
   "cell_type": "code",
   "execution_count": 209,
   "metadata": {},
   "outputs": [
    {
     "data": {
      "text/html": [
       "<div>\n",
       "<style scoped>\n",
       "    .dataframe tbody tr th:only-of-type {\n",
       "        vertical-align: middle;\n",
       "    }\n",
       "\n",
       "    .dataframe tbody tr th {\n",
       "        vertical-align: top;\n",
       "    }\n",
       "\n",
       "    .dataframe thead th {\n",
       "        text-align: right;\n",
       "    }\n",
       "</style>\n",
       "<table border=\"1\" class=\"dataframe\">\n",
       "  <thead>\n",
       "    <tr style=\"text-align: right;\">\n",
       "      <th></th>\n",
       "      <th>text</th>\n",
       "      <th>end</th>\n",
       "      <th>entity_group</th>\n",
       "      <th>score</th>\n",
       "      <th>start</th>\n",
       "    </tr>\n",
       "  </thead>\n",
       "  <tbody>\n",
       "    <tr>\n",
       "      <th>0</th>\n",
       "      <td>\"Coordinate positions or positions of three re...</td>\n",
       "      <td>159</td>\n",
       "      <td>B</td>\n",
       "      <td>0.652696</td>\n",
       "      <td>153</td>\n",
       "    </tr>\n",
       "    <tr>\n",
       "      <th>1</th>\n",
       "      <td>#MW113) were used, and stored in 0.5-0.75 mL o...</td>\n",
       "      <td>6</td>\n",
       "      <td>B</td>\n",
       "      <td>0.880458</td>\n",
       "      <td>1</td>\n",
       "    </tr>\n",
       "    <tr>\n",
       "      <th>2</th>\n",
       "      <td>&amp; Hur (paratype: KBA-L-0001037); South Korea, ...</td>\n",
       "      <td>27</td>\n",
       "      <td>B</td>\n",
       "      <td>0.789787</td>\n",
       "      <td>17</td>\n",
       "    </tr>\n",
       "    <tr>\n",
       "      <th>3</th>\n",
       "      <td>(1) With ectopic NSP1 expression, we observed ...</td>\n",
       "      <td>161</td>\n",
       "      <td>B</td>\n",
       "      <td>0.705191</td>\n",
       "      <td>158</td>\n",
       "    </tr>\n",
       "    <tr>\n",
       "      <th>4</th>\n",
       "      <td>(1)Culture Pmet3-CDC20 Pgal-CEN3-tetOs TetR-GF...</td>\n",
       "      <td>66</td>\n",
       "      <td>B</td>\n",
       "      <td>0.757170</td>\n",
       "      <td>64</td>\n",
       "    </tr>\n",
       "    <tr>\n",
       "      <th>...</th>\n",
       "      <td>...</td>\n",
       "      <td>...</td>\n",
       "      <td>...</td>\n",
       "      <td>...</td>\n",
       "      <td>...</td>\n",
       "    </tr>\n",
       "    <tr>\n",
       "      <th>9410</th>\n",
       "      <td>经Xho1、EcoR1酶切图筛选Track-Eazyp53(del)、Track-Easy-...</td>\n",
       "      <td>9</td>\n",
       "      <td>B</td>\n",
       "      <td>0.658696</td>\n",
       "      <td>6</td>\n",
       "    </tr>\n",
       "    <tr>\n",
       "      <th>9411</th>\n",
       "      <td>继发T790M突变建议的主要检测手段有cobas、AMRS、ddPCR甚至二代测序（next...</td>\n",
       "      <td>4</td>\n",
       "      <td>B</td>\n",
       "      <td>0.632785</td>\n",
       "      <td>2</td>\n",
       "    </tr>\n",
       "    <tr>\n",
       "      <th>9412</th>\n",
       "      <td>考虑到MPOG-463A在不同种族的差异分布(http://www.ncbi.nlm.nih...</td>\n",
       "      <td>12</td>\n",
       "      <td>B</td>\n",
       "      <td>0.780138</td>\n",
       "      <td>3</td>\n",
       "    </tr>\n",
       "    <tr>\n",
       "      <th>9413</th>\n",
       "      <td>肺癌细胞系A549（CCL#185）购自American Type Culture Coll...</td>\n",
       "      <td>9</td>\n",
       "      <td>B</td>\n",
       "      <td>0.773091</td>\n",
       "      <td>5</td>\n",
       "    </tr>\n",
       "    <tr>\n",
       "      <th>9413</th>\n",
       "      <td>肺癌细胞系A549（CCL#185）购自American Type Culture Coll...</td>\n",
       "      <td>17</td>\n",
       "      <td>B</td>\n",
       "      <td>0.791303</td>\n",
       "      <td>10</td>\n",
       "    </tr>\n",
       "  </tbody>\n",
       "</table>\n",
       "<p>12790 rows × 5 columns</p>\n",
       "</div>"
      ],
      "text/plain": [
       "                                                   text  end entity_group  \\\n",
       "0     \"Coordinate positions or positions of three re...  159            B   \n",
       "1     #MW113) were used, and stored in 0.5-0.75 mL o...    6            B   \n",
       "2     & Hur (paratype: KBA-L-0001037); South Korea, ...   27            B   \n",
       "3     (1) With ectopic NSP1 expression, we observed ...  161            B   \n",
       "4     (1)Culture Pmet3-CDC20 Pgal-CEN3-tetOs TetR-GF...   66            B   \n",
       "...                                                 ...  ...          ...   \n",
       "9410  经Xho1、EcoR1酶切图筛选Track-Eazyp53(del)、Track-Easy-...    9            B   \n",
       "9411  继发T790M突变建议的主要检测手段有cobas、AMRS、ddPCR甚至二代测序（next...    4            B   \n",
       "9412  考虑到MPOG-463A在不同种族的差异分布(http://www.ncbi.nlm.nih...   12            B   \n",
       "9413  肺癌细胞系A549（CCL#185）购自American Type Culture Coll...    9            B   \n",
       "9413  肺癌细胞系A549（CCL#185）购自American Type Culture Coll...   17            B   \n",
       "\n",
       "         score  start  \n",
       "0     0.652696    153  \n",
       "1     0.880458      1  \n",
       "2     0.789787     17  \n",
       "3     0.705191    158  \n",
       "4     0.757170     64  \n",
       "...        ...    ...  \n",
       "9410  0.658696      6  \n",
       "9411  0.632785      2  \n",
       "9412  0.780138      3  \n",
       "9413  0.773091      5  \n",
       "9413  0.791303     10  \n",
       "\n",
       "[12790 rows x 5 columns]"
      ]
     },
     "execution_count": 209,
     "metadata": {},
     "output_type": "execute_result"
    }
   ],
   "source": [
    "grouped"
   ]
  },
  {
   "cell_type": "code",
   "execution_count": 210,
   "metadata": {},
   "outputs": [],
   "source": [
    "grouped['word'] = grouped.apply(lambda row: row['text'][row['start']:row['end']], axis=1)\n"
   ]
  },
  {
   "cell_type": "code",
   "execution_count": 212,
   "metadata": {},
   "outputs": [],
   "source": [
    "grouped[\"word\"] = grouped[\"word\"].str.lower()"
   ]
  },
  {
   "cell_type": "code",
   "execution_count": 214,
   "metadata": {},
   "outputs": [],
   "source": [
    "grouped.to_csv(\"test.csv\")"
   ]
  },
  {
   "cell_type": "markdown",
   "metadata": {},
   "source": [
    "---"
   ]
  },
  {
   "cell_type": "code",
   "execution_count": 4,
   "metadata": {},
   "outputs": [],
   "source": [
    "data = \"810\"\n",
    "strains = glob(f\"/home/gomez/gomez/preds{data}/NER_output/STRAIN/*.parquet\")"
   ]
  },
  {
   "cell_type": "code",
   "execution_count": 7,
   "metadata": {},
   "outputs": [],
   "source": [
    "def merge_entities(entity_list):\n",
    "    merged_list = []\n",
    "    skip = False\n",
    "\n",
    "    for i in range(len(entity_list)):\n",
    "        if skip:\n",
    "            skip = False\n",
    "            continue\n",
    "\n",
    "        current_entity = entity_list[i]\n",
    "        current_entity.pop(\"word\", None)  # Remove 'word' entry\n",
    "        if current_entity[\"entity_group\"] == \"B\":\n",
    "            scores = [current_entity[\"score\"]]\n",
    "            # Look ahead to find contiguous 'I' entities\n",
    "            next_idx = i + 1\n",
    "            while (\n",
    "                next_idx < len(entity_list)\n",
    "                and entity_list[next_idx][\"entity_group\"] == \"I\"\n",
    "                and (entity_list[next_idx][\"start\"] - current_entity[\"end\"]) <= 4\n",
    "            ):\n",
    "                scores.append(entity_list[next_idx][\"score\"])\n",
    "                current_entity[\"end\"] = entity_list[next_idx][\"end\"]  # Update end value\n",
    "                skip = True\n",
    "                next_idx += 1\n",
    "\n",
    "            # Average the scores\n",
    "            current_entity[\"score\"] = sum(scores) / len(scores)\n",
    "\n",
    "        merged_list.append(current_entity)\n",
    "\n",
    "    return merged_list"
   ]
  },
  {
   "cell_type": "code",
   "execution_count": 8,
   "metadata": {},
   "outputs": [],
   "source": [
    "l = []\n",
    "for file in tqdm(strains):\n",
    "\td = pd.read_parquet(file).explode(\"ner\").dropna()\n",
    "\tgrouped = d.groupby(\"text\").agg({\"ner\": lambda x: list(x)}).reset_index()\n",
    "\tgrouped[\"ner\"] = grouped[\"ner\"].apply(merge_entities)\n",
    "\tgrouped = grouped.explode(\"ner\")\n",
    "\tgrouped = pd.concat(\n",
    "\t\t[grouped.drop(columns=\"ner\"), grouped.ner.apply(pd.Series)], axis=1\n",
    "\t)\n",
    "\tl.append(grouped)\n",
    "df = pd.concat(l)"
   ]
  },
  {
   "cell_type": "code",
   "execution_count": 10,
   "metadata": {},
   "outputs": [],
   "source": [
    "df[\"word\"] = df.apply(\n",
    "\tlambda row: row[\"text\"][row[\"start\"] : row[\"end\"]], axis=2\n",
    ")"
   ]
  },
  {
   "cell_type": "code",
   "execution_count": 15,
   "metadata": {},
   "outputs": [],
   "source": [
    "df_sorted = df.sort_values(\"word\")"
   ]
  },
  {
   "cell_type": "code",
   "execution_count": 20,
   "metadata": {},
   "outputs": [],
   "source": [
    "df[\"word\"] = df[\"word\"].str.lower()"
   ]
  },
  {
   "cell_type": "code",
   "execution_count": 23,
   "metadata": {},
   "outputs": [
    {
     "data": {
      "text/plain": [
       "'\"64-111 K 2D pass reads (compared with 21 K for the typical R7.3 experiment)\".'"
      ]
     },
     "execution_count": 23,
     "metadata": {},
     "output_type": "execute_result"
    }
   ],
   "source": [
    "df.sort_values(\"text\").iloc[0,0]"
   ]
  },
  {
   "cell_type": "markdown",
   "metadata": {},
   "source": [
    "## Check most common entities per category"
   ]
  },
  {
   "cell_type": "code",
   "execution_count": 2,
   "metadata": {},
   "outputs": [],
   "source": [
    "data = \"810\"\n",
    "def merge_entities(entity_list):\n",
    "    merged_list = []\n",
    "    skip = False\n",
    "\n",
    "    for i in range(len(entity_list)):\n",
    "        if skip:\n",
    "            skip = False\n",
    "            continue\n",
    "\n",
    "        current_entity = entity_list[i]\n",
    "        current_entity.pop(\"word\", None)  # Remove 'word' entry\n",
    "        if current_entity[\"entity_group\"] == \"B\":\n",
    "            scores = [current_entity[\"score\"]]\n",
    "            # Look ahead to find contiguous 'I' entities\n",
    "            next_idx = i + 1\n",
    "            while (\n",
    "                next_idx < len(entity_list)\n",
    "                and entity_list[next_idx][\"entity_group\"] == \"I\"\n",
    "                and (entity_list[next_idx][\"start\"] - current_entity[\"end\"]) <= 4\n",
    "            ):\n",
    "                scores.append(entity_list[next_idx][\"score\"])\n",
    "                current_entity[\"end\"] = entity_list[next_idx][\"end\"]  # Update end value\n",
    "                skip = True\n",
    "                next_idx += 1\n",
    "\n",
    "            # Average the scores\n",
    "            current_entity[\"score\"] = sum(scores) / len(scores)\n",
    "\n",
    "        merged_list.append(current_entity)\n",
    "\n",
    "    return merged_list\n",
    "path = f\"/home/gomez/gomez/preds{data}/NER_output\""
   ]
  },
  {
   "cell_type": "code",
   "execution_count": 7,
   "metadata": {},
   "outputs": [],
   "source": [
    "d = pd.read_parquet(f\"{path}/COMPOUND.parquet\").explode(\"ner\").dropna()"
   ]
  },
  {
   "cell_type": "code",
   "execution_count": 8,
   "metadata": {},
   "outputs": [],
   "source": [
    "grouped = d.groupby(\"text\").agg({\"ner\": lambda x: list(x)}).reset_index()\n",
    "grouped[\"ner\"] = grouped[\"ner\"].apply(merge_entities)\n",
    "grouped = grouped.explode(\"ner\")\n",
    "grouped = pd.concat(\n",
    "                [grouped.drop(columns=\"ner\"), grouped.ner.apply(pd.Series)], axis=1\n",
    "            )"
   ]
  },
  {
   "cell_type": "code",
   "execution_count": 10,
   "metadata": {},
   "outputs": [],
   "source": [
    "grouped[\"word\"] = grouped.apply(\n",
    "            lambda row: row[\"text\"][row[\"start\"] : row[\"end\"]], axis=1\n",
    "        )"
   ]
  },
  {
   "cell_type": "code",
   "execution_count": 31,
   "metadata": {},
   "outputs": [
    {
     "data": {
      "text/plain": [
       "array(['2', 'CO_', 'PBS', 'CO_2', 'NaCl', 'H_2O_2', 'DMSO', 'cisplatin',\n",
       "       'DOX', 'doxorubicin', 'EDTA', 'HEPES', 'iron', 'Cd', 'PMA', '5-FU',\n",
       "       'phosphate', 'P', 'N', 'H_', 'TMZ', 'Fe', 'oxygen', 'Dox', '4',\n",
       "       'ciprofloxacin', 'HCl', 'ethanol', 'paclitaxel', 'PI', 'water',\n",
       "       'paraformaldehyde', 'SDS', 'ROS', 'gentamicin', 'Ca^2+',\n",
       "       'tetracycline', 'Tris', 'methanol', 'nitrogen', 'copper', 'KCl',\n",
       "       'Zn', 'CaCl_2', 'curcumin', 'PTX', 'MgCl_2', 'Triton X-100',\n",
       "       'FITC', 'Cu', 'colistin', '3', 'O_2', 'chloroquine', '5', 'BSA',\n",
       "       'doxycycline', 'PEG', '2O', 'LPS', 'hydrogen peroxide', 'NAC',\n",
       "       'CDDP', 'CQ', 'gemcitabine', 'DTT', 'formaldehyde', 'K', 'zinc',\n",
       "       'EGCG', 'MeOH', 'nitrate', 'O_', 'CO', 'gefitinib', 'MgSO_4',\n",
       "       'salt', 'ampicillin', 'NO', '-', 'AgNPs', 'rifampicin', 'Na', 'Al',\n",
       "       'calcium', 'Mn', 'Lipofectamine', 'quercetin', 'Ca', 'Tris-',\n",
       "       'phenol', 'tamoxifen', '% CO_2', 'PE', 'propidium iodide', 'metal',\n",
       "       'H_2O', 'IPTG', 'CO2', 'CA', 'etoposide', 'S', 'DHA', 'KH_2PO_4',\n",
       "       'H', 'C', 'docetaxel', 'HA', '6', 'vancomycin', 'Ca^2',\n",
       "       'fluconazole', 'PEI', 'sorafenib', 'PA', 'Pb', 'N_', 'oxaliplatin',\n",
       "       'DSS', 'DDP', 'DON', 'Ni', 'DAPI', 'Se', '1', 'MG132', 'polybrene',\n",
       "       'CHX', 'metformin', 'meropenem', 'GA', 'H_2', 'dexamethasone',\n",
       "       'Mg^2+', 'NaHCO_3', 'sodium bicarbonate', 'PMSF', 'trimethoprim',\n",
       "       'Tris-HCl', 'chloroform', 'MTT', 'HG', 'sulfur', 'sucrose', 'NPs',\n",
       "       'cholesterol', 'UV', 'resveratrol', 'cadmium', 'chloramphenicol',\n",
       "       'FA', '6-OHDA', 'dimethyl sulfoxide', 'nitrite', 'Tween 80',\n",
       "       'NaOH', 'arsenic', 'glutaraldehyde', 'BA', 'carbon', 'erlotinib',\n",
       "       'bile', '2O_2', 'tigecycline', 'PFA', 'hydrogen', 'ceftazidime',\n",
       "       'CS', 'CPT', 'ammonium', 'OA', 'glucose', 'EGTA', 'imipenem',\n",
       "       'TSA', 'SAHA', 'sulfate', 'carbapenem', 'Zn^2+', 'air',\n",
       "       'kanamycin', 'Cr', 'NH_4Cl', 'BPA', '7', 'N_2', 'ATRA',\n",
       "       'mercaptoethanol', 'MTX', 'CoCl_2', 'urea', 'CBD', 'sodium', 'FCS',\n",
       "       'Na^+', 'carboplatin', 'DEX', 'TPA', 'TQ', 'EtOH', 'methicillin',\n",
       "       'MDA', 'SFN', 'sodium pyruvate', 'heavy metal', 'heparin',\n",
       "       'distilled water', 'GO', 'phosphorus', 'tobramycin',\n",
       "       'sodium chloride', 'saline', 'CH_', 'acetone', 'IR', 'trastuzumab',\n",
       "       'carbon dioxide', 'erythromycin', 'Tween 20', 'Dex', 'BrdU', 'NP',\n",
       "       'glycerol', 'K_2HPO_4', 'E2', 'mitomycin C', 'Mg', 'As',\n",
       "       'ethyl acetate', 'T', 'streptomycin', 'DPPH', 'SA', 'mercury',\n",
       "       '% CO_', 'amikacin', 'DCA', 'EtOAc', 'nocodazole', 'Pi', 'H2O2',\n",
       "       'VPA', 'O', 'DTX', 'phenol red', 'clindamycin', '5-fluorouracil',\n",
       "       'ATO', 'G418', 'acid', 'K^+', 'Hepes', 'Mn^2+', 'MB', 'LA',\n",
       "       'Cu^2+', 'sulfamethoxazole', 'selenium', 'trypsin', 'D',\n",
       "       'olaparib', 'Ni-NTA', 'melatonin', 'UVB', 'PS', 'LiCl',\n",
       "       'cycloheximide', 'CM', 'isoflurane', 'selenite', 'CMC',\n",
       "       'levofloxacin', 'CFSE', 'Hoechst 33342', 'carbenicillin', 'CCCP',\n",
       "       'nickel', 'platinum', 'TiO_2', 'DCFH-DA', 'rotenone',\n",
       "       'sodium azide', 'GEM', 'Cisplatin', 'LY294002', 'Na_2HPO_4', 'Cl',\n",
       "       'RA', 'genistein', 'Au', 'toluene', 'EdU', 'NP-40', 'dasatinib',\n",
       "       'II', 'imatinib', 'PB', 'CUR', 'ABTS', 'HU'], dtype=object)"
      ]
     },
     "execution_count": 31,
     "metadata": {},
     "output_type": "execute_result"
    }
   ],
   "source": [
    "grouped.value_counts(\"word\").head(300).reset_index().word.values"
   ]
  },
  {
   "cell_type": "code",
   "execution_count": 35,
   "metadata": {},
   "outputs": [],
   "source": [
    "word_list = ['2', 'CO_', 'H_', \"4\", \"UV\",\"-\", \"% CO_2\",\"3\", \"6\", \"1\",\"7\",\"D\"]\n",
    "sample_row = grouped[grouped['word'].isin(word_list)].groupby(\"word\").apply(lambda df: df.sample(1))\n",
    "\n",
    "\n"
   ]
  },
  {
   "cell_type": "code",
   "execution_count": 42,
   "metadata": {},
   "outputs": [],
   "source": [
    "with open(\"sentences.txt\", \"w\") as file:\n",
    "\tfor sentence in sample_row[\"text\"].values:\n",
    "\t\tfile.write(sentence + \"\\n\")"
   ]
  },
  {
   "cell_type": "markdown",
   "metadata": {},
   "source": [
    "---"
   ]
  },
  {
   "cell_type": "code",
   "execution_count": 43,
   "metadata": {},
   "outputs": [],
   "source": [
    "d = pd.read_parquet(f\"{path}/ISOLATE.parquet\").explode(\"ner\").dropna()\n",
    "grouped = d.groupby(\"text\").agg({\"ner\": lambda x: list(x)}).reset_index()\n",
    "grouped[\"ner\"] = grouped[\"ner\"].apply(merge_entities)\n",
    "grouped = grouped.explode(\"ner\")\n",
    "grouped = pd.concat(\n",
    "                [grouped.drop(columns=\"ner\"), grouped.ner.apply(pd.Series)], axis=1\n",
    "            )\n",
    "grouped[\"word\"] = grouped.apply(\n",
    "            lambda row: row[\"text\"][row[\"start\"] : row[\"end\"]], axis=1\n",
    "        )"
   ]
  },
  {
   "cell_type": "code",
   "execution_count": 45,
   "metadata": {},
   "outputs": [
    {
     "data": {
      "text/plain": [
       "array(['soil', 'soil sample', 'blood', 'soil samples', 'feces',\n",
       "       'rhizosphere', 'patient', 'mangrove', 'rhizosphere soil',\n",
       "       'seawater', 'water', 'food', 'sediment', 'marine sediment',\n",
       "       'wastewater', 'kimchi', 'fecal', 'hot spring', 'wine', 'sourdough',\n",
       "       'milk', 'cheese', 'urine', 'human feces', 'sewage', 'soils',\n",
       "       'dairy', 'sediments', 'roots', 'leaves', 'fecal samples',\n",
       "       'freshwater', 'deep-sea sediment', 'root', 'sputum', 'stool',\n",
       "       'gut', 'human', 'marine sediments', 'skin', 'marine',\n",
       "       'lymph node metastasis', 'activated sludge', 'rumen', 'pig',\n",
       "       'nasal', 'chicken', 'rhizospheric soil', 'forest soil', 'poultry',\n",
       "       'environmental', 'compost', 'sediment sample', 'bone marrow',\n",
       "       'leaf', 'lymph node', 'blood culture', 'meat', 'deep-sea',\n",
       "       'patients', 'raw milk', 'spleen', 'marine sponge', 'rice',\n",
       "       'bovine mastitis', '-', 'water sample', 'water samples',\n",
       "       'human patient', 'chicken meat', 'pigs', 'fermented milk',\n",
       "       'rhizospheric', 'kefir', 'wound', 'faeces', 'tumor',\n",
       "       'agricultural soil', 'human blood', 'hot springs', 'surface water',\n",
       "       'river water', 'yogurt', 'infant feces', 'lung', 'groundwater',\n",
       "       'soil sample collected', 'breast milk', 'cattle feces', 'vineyard',\n",
       "       'cattle', 'rhizosphere of', 'roots of', 'nasal swabs', 'sponge',\n",
       "       'contaminated soil', 'fermented food', 'stool samples', 'sludge',\n",
       "       'nasopharyngeal swab', 'hospital sewage',\n",
       "       'wastewater treatment plant', 'permafrost', 'human gut',\n",
       "       'lymph nodes', 'soil collected', 'year', 'fecal sample',\n",
       "       'bone metastasis', 'tissue', 'mastitis', 'diarrhea', 'child',\n",
       "       'pleural effusion', 'cerebrospinal fluid', 'dairy products',\n",
       "       'blood of', 'kefir grains', 'human skin', 'human faeces',\n",
       "       'seafood', 'environmental samples', 'fruit', 'saline soil',\n",
       "       'feces of', 'blood sample', 'saliva', 'vaginal', 'environment',\n",
       "       'kidney', 'urinary tract infection', 'Lake', 'garden soil',\n",
       "       'wheat rhizosphere', 'deep-sea sediments', 'leaves of',\n",
       "       'mangrove soil', 'silage', 'marine sediment sample',\n",
       "       'nasopharyngeal', 'clinical samples', 'fermented foods',\n",
       "       'surface seawater', 'rice rhizosphere', 'stool sample', 'pork',\n",
       "       'dog', 'liver', 'sediment samples', 'mangrove sediment', 'samples',\n",
       "       'beef', 'rhizosphere soils', 'pond', 'nasal swab', 'phyllosphere',\n",
       "       'fish', 'wheat', 'bulk soil', 'beer', 'pig farm', 'rectal swab',\n",
       "       'ascites', 'stem', 'sewage sample', 'hydrothermal vent',\n",
       "       'sewage samples', 'deep-', 'Antarctic soil', 'nasopharynx',\n",
       "       'peripheral blood of', 'River', 'decaying wood', 'meningitis',\n",
       "       'oral cavity', 'forest', 'fermented', 'faecal', 'stems',\n",
       "       'lung tissue', 'marine environment', 'nasopharyngeal swabs',\n",
       "       'calvaria', 'nodules', 'bloodstream', 'oil-contaminated soil',\n",
       "       'plant', 'human breast milk', 'sewage water', 'pig feces', 'lungs',\n",
       "       'freshwater lake', 'root nodules of', 'sample', 'manure', 'coral',\n",
       "       'respiratory', 'swine', 'nasal turbinates', 'pneumonia'],\n",
       "      dtype=object)"
      ]
     },
     "execution_count": 45,
     "metadata": {},
     "output_type": "execute_result"
    }
   ],
   "source": [
    "grouped.value_counts(\"word\").head(200).reset_index().word.values"
   ]
  },
  {
   "cell_type": "code",
   "execution_count": 46,
   "metadata": {},
   "outputs": [],
   "source": [
    "word_list = [\"-\", \"lymph node metastasis\",\"bovine mastitis\",\"leaves of\"]\n",
    "sample_row = grouped[grouped['word'].isin(word_list)].groupby(\"word\").apply(lambda df: df.sample(1))\n"
   ]
  },
  {
   "cell_type": "code",
   "execution_count": 47,
   "metadata": {},
   "outputs": [],
   "source": [
    "with open(\"sentences.txt\", \"w\") as file:\n",
    "\tfor sentence in sample_row[\"text\"].values:\n",
    "\t\tfile.write(sentence + \"\\n\")"
   ]
  },
  {
   "cell_type": "markdown",
   "metadata": {},
   "source": [
    "---"
   ]
  },
  {
   "cell_type": "code",
   "execution_count": 48,
   "metadata": {},
   "outputs": [],
   "source": [
    "d = pd.read_parquet(f\"{path}/SPECIES.parquet\").explode(\"ner\").dropna()\n",
    "grouped = d.groupby(\"text\").agg({\"ner\": lambda x: list(x)}).reset_index()\n",
    "grouped[\"ner\"] = grouped[\"ner\"].apply(merge_entities)\n",
    "grouped = grouped.explode(\"ner\")\n",
    "grouped = pd.concat(\n",
    "                [grouped.drop(columns=\"ner\"), grouped.ner.apply(pd.Series)], axis=1\n",
    "            )\n",
    "grouped[\"word\"] = grouped.apply(\n",
    "            lambda row: row[\"text\"][row[\"start\"] : row[\"end\"]], axis=1\n",
    "        )"
   ]
  },
  {
   "cell_type": "code",
   "execution_count": 52,
   "metadata": {},
   "outputs": [
    {
     "data": {
      "text/plain": [
       "array(['E. coli', 'S. aureus', 'Escherichia coli', 'P. aeruginosa', 'S',\n",
       "       'S.', 'C. albicans', 'P', 'C', 'S. cerevisiae', 'K. pneumoniae',\n",
       "       'E', 'B', 'Staphylococcus aureus', 'Typhimurium', 'B. subtilis',\n",
       "       'C. elegans', 'L. monocytogenes', 'A. baumannii', 'A', 'H. pylori',\n",
       "       'M. tuberculosis', 'V. cholerae', 'C. difficile', 'C. jejuni',\n",
       "       'P. falciparum', 'Pseudomonas aeruginosa', 'L', 'E. faecalis',\n",
       "       'L. plantarum', 'M', 'M. bovis', 'S. pneumoniae',\n",
       "       'Bacillus subtilis', 'coli', 'B. cereus', 'T', 'A. thaliana',\n",
       "       'T. cruzi', 'Enteritidis', 'B. cinerea', 'S. epidermidis', '.',\n",
       "       'A. fumigatus', 'N', 'S. mutans', 'Candida albicans', 'T. gondii',\n",
       "       'P. gingivalis', 'S. enterica', 'Ae. aegypti', 'L. reuteri',\n",
       "       'S. flexneri', 'V', 'Saccharomyces cerevisiae',\n",
       "       'Salmonella enterica serovar Typhimurium', 'M. smegmatis', 'H',\n",
       "       'L. pneumophila', 'Agrobacterium tumefaciens', 'R',\n",
       "       'Klebsiella pneumoniae', 'L. lactis', 'Listeria monocytogenes',\n",
       "       'P. putida', 'C. trachomatis', 'F. oxysporum', 'S. typhimurium',\n",
       "       'C. neoformans', 'E. faecium', 'L. casei', 'V. parahaemolyticus',\n",
       "       'A. flavus', 'F', 'B. pseudomallei', 'Y. pestis',\n",
       "       'Salmonella Typhimurium', 'B. anthracis', 'C. perfringens',\n",
       "       'F. graminearum', 'S. suis', 'C. glutamicum', 'P. fluorescens',\n",
       "       'V. dahliae', 'P. syringae', 'A. tumefaciens', 'D',\n",
       "       'Enterococcus faecalis', 'Salmonella typhimurium',\n",
       "       'D. melanogaster', 'Typhi', 'R. solani', 'Escherichia',\n",
       "       'Bacillus sp.', 'E.coli', 'B. burgdorferi', 'Pseudomonas sp.',\n",
       "       'R. solanacearum', 'G', 'F. tularensis', 'Bacillus cereus',\n",
       "       'A. niger', 'L. paracasei', 'M. oryzae', 'L. rhamnosus',\n",
       "       'B. abortus', 'Arabidopsis thaliana', 'L. infantum',\n",
       "       'L. acidophilus', 'C. glabrata', 'B.', 'N. benthamiana',\n",
       "       'E. coli O157:H7', 'A. hydrophila', 'B. napus', 'C.',\n",
       "       'N. gonorrhoeae', 'S. pyogenes', 'Streptomyces sp.', 'L. major',\n",
       "       'B. amyloliquefaciens', 'Mycobacterium tuberculosis',\n",
       "       'L. donovani', 'N. meningitidis', 'Salmonella enterica',\n",
       "       'P. berghei', 'L.', 'S. sclerotiorum', 'K', 'sp', 'C. parvum',\n",
       "       'S. marcescens', 'Lactobacillus plantarum', 'C. auris',\n",
       "       'B. pertussis', 'Ae. albopictus', 'E.',\n",
       "       'S. enterica serovar Typhimurium', 'M. incognita', 'T. brucei',\n",
       "       'Synechocystis 6803', 'F. nucleatum', 'Aspergillus niger',\n",
       "       'S. sonnei', 'Y', 'S. maltophilia', 'Y. enterocolitica',\n",
       "       'B. longum', 'P. infestans', 'P. vivax', 'P. pastoris', 'P.',\n",
       "       'B. thuringiensis', 'B. cenocepacia', 'S. oneidensis',\n",
       "       'C. burnetii', 'L. innocua', 'Salmonella',\n",
       "       'Staphylococcus epidermidis', 'O', 'Botrytis cinerea',\n",
       "       'M. abscessus', 'B. velezensis', 'E. cloacae', 'Prevotella',\n",
       "       'C. coli', 'C. reinhardtii', 'Acinetobacter baumannii',\n",
       "       'S. thermophilus', 'B. melitensis', 'Lactobacillus rhamnosus',\n",
       "       'Bacillus', 'Streptococcus pneumoniae', 'B. bassiana',\n",
       "       'S. agalactiae', 'P. mirabilis', 'C. parapsilosis', 'B. tabaci',\n",
       "       'Plasmodium falciparum', 'A. phagocytophilum'], dtype=object)"
      ]
     },
     "execution_count": 52,
     "metadata": {},
     "output_type": "execute_result"
    }
   ],
   "source": [
    "grouped.value_counts(\"word\").head(180).reset_index().word.values"
   ]
  },
  {
   "cell_type": "code",
   "execution_count": 53,
   "metadata": {},
   "outputs": [],
   "source": [
    "word_list = [\"S\",\"S.\",\"P\",\"C\",\"M\",\"E.\",\"Y\",\"coli\",\"E\",\"B\",\"T\",\"V\",\"N\",\"H\",\"R\",\"Typhi\",\"G\",\"B.\",\"C.\",\"sp\",\"K\",\"O\"]\n",
    "sample_row = grouped[grouped['word'].isin(word_list)].groupby(\"word\").apply(lambda df: df.sample(1))"
   ]
  },
  {
   "cell_type": "code",
   "execution_count": 54,
   "metadata": {},
   "outputs": [],
   "source": [
    "with open(\"sentences.txt\", \"w\") as file:\n",
    "\tfor sentence in sample_row[\"text\"].values:\n",
    "\t\tfile.write(sentence + \"\\n\")"
   ]
  },
  {
   "cell_type": "markdown",
   "metadata": {},
   "source": [
    "---"
   ]
  },
  {
   "cell_type": "code",
   "execution_count": 55,
   "metadata": {},
   "outputs": [],
   "source": [
    "d = pd.read_parquet(f\"{path}/METABOLITE.parquet\").explode(\"ner\").dropna()\n",
    "grouped = d.groupby(\"text\").agg({\"ner\": lambda x: list(x)}).reset_index()\n",
    "grouped[\"ner\"] = grouped[\"ner\"].apply(merge_entities)\n",
    "grouped = grouped.explode(\"ner\")\n",
    "grouped = pd.concat(\n",
    "                [grouped.drop(columns=\"ner\"), grouped.ner.apply(pd.Series)], axis=1\n",
    "            )\n",
    "grouped[\"word\"] = grouped.apply(\n",
    "            lambda row: row[\"text\"][row[\"start\"] : row[\"end\"]], axis=1\n",
    "        )"
   ]
  },
  {
   "cell_type": "code",
   "execution_count": 61,
   "metadata": {},
   "outputs": [
    {
     "data": {
      "text/plain": [
       "array(['streptomycin', 'penicillin', 'glucose', 'LPS', 'L-glutamine',\n",
       "       'ampicillin', 'ethanol', 'glycerol', 'glutamine', 'sucrose',\n",
       "       'kanamycin', 'EPS', 'xylose', 'amino', '-', 'acetate',\n",
       "       'chloramphenicol', 'ATP', 'pyruvate', 'IAA', 'gentamicin',\n",
       "       'lactate', 'ABA', 'tetracycline', 'starch', 'l-glutamine', '2',\n",
       "       'SA', 'curcumin', 'insulin', 'galactose', 'proline', 'fructose',\n",
       "       'glutamate', 'vancomycin', 'Streptomycin', 'EGF', 'Penicillin',\n",
       "       'PMA', 'erythromycin', 'puromycin', 'arabinose', 'lactose',\n",
       "       'sodium pyruvate', 'cellulose', 'colistin', 'butyrate',\n",
       "       'ciprofloxacin', '5-FU', 'cholesterol', 'DHA', 'tryptophan',\n",
       "       'resveratrol', '5', 'paclitaxel', 'TNF', 'acetic acid', 'arginine',\n",
       "       'quercetin', 'lipopolysaccharide', 'GA', 'lignin', 'doxorubicin',\n",
       "       'lactic acid', 'lysine', 'metformin', 'JA', 'GSH', 'PA', 'PHB',\n",
       "       'rifampicin', 'GABA', 'sugar', 'glycine', 'L', 'doxycycline',\n",
       "       'yeast', 'FA', 'DON', 'gemcitabine', 'succinate', 'methanol',\n",
       "       'leucine', 'maltose', 'AHL', 'mannose', 'trehalose', 'chlorophyll',\n",
       "       'hygromycin', 'PHA', 'RA', 'IPTG', 'methionine', 'siderophore',\n",
       "       '4', 'mannitol', 'surfactin', 'Aβ', 'ATRA', 'sugars', 'AA',\n",
       "       'cisplatin', 'melanin', 'MDA', 'EGCG', '3', 'fatty acid', 'HA',\n",
       "       'D', 'phenol', 'ethylene', 'auxin', 'hydrocortisone', 'β', 'fatty',\n",
       "       'cellobiose', 'fatty acids', 'carotenoid', '1', 'nisin', 'serine',\n",
       "       'oleic acid', 'chitin', 'trimethoprim', 'IL', 'uracil', 'collagen',\n",
       "       'rapamycin', '6', 'cAMP', 'meropenem', 'spectinomycin', 'alanine',\n",
       "       'histidine', 'citrate', 'imipenem', 'PG', 'OA', 'xylan',\n",
       "       'propionate', 'sorafenib', 'sialic acid', 'bile', 'butanol',\n",
       "       'melatonin', 'alginate', 'LA', 'lipid A', 'cysteine',\n",
       "       'anthocyanin', 'β-carotene', 'NADH', 'glycogen', 'carbenicillin',\n",
       "       'gefitinib', 'amino acids', 'L-Glutamine', 'phenylalanine',\n",
       "       'fluconazole', 'heme', 'ceftazidime', 'indole', 'chloroquine',\n",
       "       'D-glucose', 'acid', 'tyrosine', 'nicotine', 'AHLs',\n",
       "       'amphotericin B', 'riboflavin', 'luteolin', 'GlcNAc', 'ACC',\n",
       "       'tryptone', 'lipid', 'siderophores', 'formate', 'bacteriocin',\n",
       "       'biotin', 'α', 'carotenoids', 'NAD', 'flavonoids', 'urea',\n",
       "       'pectin', 'E2', 'dexamethasone', 'glutathione', 'L-', 'inulin',\n",
       "       'pyocyanin', 'gentamycin', 'PS', 'SCFAs', 'peptone', 'TAG',\n",
       "       'ammonia', 'C', 'NADPH', 'genistein', 'polymyxin', 'oxacillin',\n",
       "       'Trp', 'DOX', 'flavonoid', 'threonine', 'adenine', 'amikacin',\n",
       "       'apigenin', 'rhamnose', 'CA', 'clindamycin', 'peptidoglycan',\n",
       "       'AMP', 'fibronectin', 'CQ', 'N', 'citric acid', 'sorbitol',\n",
       "       'palmitate', 'hydrogen', 'tigecycline', 'EPA', 'valine',\n",
       "       'furfural', 'isoleucine', 'BA', 'B', 'heparin', 'blasticidin',\n",
       "       'PC', 'TRAIL', 'acetyl-CoA', 'thiamine', 'putrescine', 'malate',\n",
       "       'PTX', 'ALA', 'DAP', 'ascorbic acid', 'LTA', 'SCFA', 'violacein',\n",
       "       'Glu', 'lycopene', 'TNFα', 'D-', 'amoxicillin', 'fucoidan', 'poly',\n",
       "       'histamine', 'exopolysaccharide', 'aspartate', 'palmitic acid',\n",
       "       'thymidine', 'tamoxifen', 'dextrose', 'cefotaxime', 'DCA', 'PE',\n",
       "       'O-antigen', 'DMSO', 'ergosterol', '3-', 'azithromycin', 'TG',\n",
       "       'acetoin', 'vitamin', 'VEGF', 'glucan', 'polysaccharide', 'S',\n",
       "       'FFA', 'tobramycin', 'raffinose', 'chitosan', 'neomycin',\n",
       "       'ceftriaxone', 'penicillin G', 'fosfomycin'], dtype=object)"
      ]
     },
     "execution_count": 61,
     "metadata": {},
     "output_type": "execute_result"
    }
   ],
   "source": [
    "grouped.value_counts(\"word\").head(280).reset_index().word.values"
   ]
  },
  {
   "cell_type": "code",
   "execution_count": 62,
   "metadata": {},
   "outputs": [],
   "source": [
    "word_list = [\"-\",\"2\",\"5\",\"yeast\",\"L\",\"3\",\"β\",\"6\",\"fatty\",\"1\",\"acid\",\"α\",\"L-\",\"C\",\"B\",\"N\",\"D-\",\"3-\",\"poly\",\"S\"]\n",
    "sample_row = grouped[grouped['word'].isin(word_list)].groupby(\"word\").apply(lambda df: df.sample(1))"
   ]
  },
  {
   "cell_type": "code",
   "execution_count": 63,
   "metadata": {},
   "outputs": [],
   "source": [
    "with open(\"sentences.txt\", \"w\") as file:\n",
    "\tfor sentence in sample_row[\"text\"].values:\n",
    "\t\tfile.write(sentence + \"\\n\")"
   ]
  },
  {
   "cell_type": "markdown",
   "metadata": {},
   "source": [
    "---"
   ]
  },
  {
   "cell_type": "code",
   "execution_count": 64,
   "metadata": {},
   "outputs": [],
   "source": [
    "d = pd.read_parquet(f\"{path}/ORGANISM.parquet\").explode(\"ner\").dropna()\n",
    "grouped = d.groupby(\"text\").agg({\"ner\": lambda x: list(x)}).reset_index()\n",
    "grouped[\"ner\"] = grouped[\"ner\"].apply(merge_entities)\n",
    "grouped = grouped.explode(\"ner\")\n",
    "grouped = pd.concat(\n",
    "                [grouped.drop(columns=\"ner\"), grouped.ner.apply(pd.Series)], axis=1\n",
    "            )\n",
    "grouped[\"word\"] = grouped.apply(\n",
    "            lambda row: row[\"text\"][row[\"start\"] : row[\"end\"]], axis=1\n",
    "        )"
   ]
  },
  {
   "cell_type": "code",
   "execution_count": 69,
   "metadata": {},
   "outputs": [
    {
     "data": {
      "text/plain": [
       "array(['mice', 'MCF', 'SH', 'MB', 'C57BL', 'SH-SY5Y', 'HEK', 'C57BL/6',\n",
       "       'Col', 'MDA', 'PC', 'C. elegans', 'N', 'CHO', 'rice',\n",
       "       'C57BL/6 mice', 'mouse', 'SY5Y', 'S', 'wheat', 'Arabidopsis',\n",
       "       'BALB/c mice', 'A', '6', 'tomato', '7', 'Vero', 'BALB/c', '2',\n",
       "       'BALB', 'maize', 'Mice', 'B6', 'T', 'pigs', 'nude', 'chickens',\n",
       "       'C', 'Caco', 'soybean', 'HT', 'A549', 'C57BL/6J', 'Col-0',\n",
       "       'RAW264', 'SK', '4T1', 'chicken', 'P', 'cattle', 'B16', 'C6',\n",
       "       'nude mice', 'BT', 'NOD', 'HK', 'week', 'HepG2', 'C4', 'C57BL/',\n",
       "       'DF', 'wild', 'NIH', '3T3', 'D', 'MDCK', 'tobacco', 'A. thaliana',\n",
       "       'B', 'N2a', 'SCID', 'C57', 'larvae', 'Arabidopsis thaliana', 'BHK',\n",
       "       'C57BL/6J mice', 'flies', 'HCT', 'L', 'day', 'C6/36', 'hamsters',\n",
       "       'Ae. aegypti', 'sheep', 'CT26', 'sugarcane', 'piglets', '293',\n",
       "       'rat', 'THP', 'rats', 'F', 'cotton', '0', 'WT', '5', '3', 'M',\n",
       "       'COS', 'LNCaP', 'S2', 'D. melanogaster', 'MCF-7', 'BV',\n",
       "       'zebrafish', 'Sf9', 'human', 'Drosophila', '1', 'cucumber',\n",
       "       'Jurkat', 'G', '4', 'ferrets', 'HeLa', '231', 'MCF7', 'NSG',\n",
       "       'potato', 'mosquitoes', '29', 'HTR', 'C2C12', 'chickpea', 'breast',\n",
       "       'PK', 'HSC', 'banana', 'RAW 264', 'NSC', 'guinea pigs', 'HEK293',\n",
       "       'IPEC', 'poultry', 'G. mellonella', 'NRK', 'BR', 'swine', 'DF-1',\n",
       "       'pig', 'BC', 'O', 'Nipponbare', 'mosquito', 'C3H', '264', 'INS',\n",
       "       'worms', 'H', 'N2', 'ZR', 'barley', 'CAL', 'N. benthamiana',\n",
       "       'BALB/', 'w', 'LLC', 'MARC', 'Hep', 'grapevine', 'HT29', 'K18',\n",
       "       'broilers', 'C57Bl', 'Ae. albopictus', '75', 'OT', 'B73', 'murine',\n",
       "       'B. napus', 'Ba/F3', 'African green monkey', '293T', 'HK-2',\n",
       "       '3T3-L1', 'HEp', 'J', 'pepper', 'Neuro', 'tomato plants', 'Huh',\n",
       "       'SCID mice', '8', 'Calu', 'MC3T3', 'insect', 'KB', 'B. tabaci',\n",
       "       'nu', 'DBA', 'C57BL6', 'Huh7', 'BALB/c nude mice',\n",
       "       'rhesus macaques', 'Balb', 'plants', 'bovine', 'NSG mice', 'C4-2',\n",
       "       'benthamiana', 'MEL', 'PANC', 'rabbits', 'DT40', 'T47D', 'cabbage',\n",
       "       'c', 'cassava', 'C4-2B', 'ACHN', 'U', 'hACE2 mice', 'dogs',\n",
       "       'watermelon', 'COVID', 'A431', 'MT', 'Caki', 'Male C57BL/6 mice',\n",
       "       'Balb/c mice', 'H9c2', 'HTR-8', 'NB', 'fish', 'HCT116', 'nematode',\n",
       "       'rainbow trout', 'A2780', 'porcine', 'apple', 'WT mice', 'Wild',\n",
       "       'C.', 'hamster', 'Balb/c', 'animals', 'nematodes', 'PC12',\n",
       "       'female mice', 'Nicotiana benthamiana', 'HEK293T', 'PLC',\n",
       "       'rapeseed', 'hACE2', 'M. truncatula', 'Mouse', 'male C57BL/6 mice',\n",
       "       'seedlings', 'sh', 'Drosophila melanogaster', 'goats', 'B16F10',\n",
       "       'ducks', 'V', 'bat', 'sorghum', '786', 'strawberry', 'CT', 'NT2',\n",
       "       'cowpea', 'RBL', 'cats', 'S2 cells', 'wild-type', 'plant', 'Oryza',\n",
       "       'humans', 'FVB', 'Six', 'pea', 'macaques', 'Columbia', 'HL',\n",
       "       'Chinese cabbage', 'CEM', 'C2', 'Chinese', 'shrimp', 'R', 'NCI',\n",
       "       'JEG', 'WI', 'MG', 'E6', 'peanut', 'ICR', 'poplar', 'PRF',\n",
       "       'MCF10A', 'Spodoptera frugiperda', 'female C57BL/6 mice', 'melon',\n",
       "       '6 mice', 'IMR', '22Rv1', 'MIN6', 'Marc', 'male', 'calves',\n",
       "       'alfalfa', 'RGC', 'Aedes albopictus', 'RAW264.7', 'D2', 'Vero E6',\n",
       "       'CaSki', 'B6 mice', 'Arabidopsis Col-0', 'common bean', 'birds',\n",
       "       '129', 'broiler chickens', 'C57Bl/6', 'T24', 'N2A', 'Ba', '12',\n",
       "       'B.', 'BPH', 'eggplant', 'japonica', 'F10', 'bats', 'male mice',\n",
       "       'Williams', '19', 'Arabidopsis plants', '6J', 'Ae'], dtype=object)"
      ]
     },
     "execution_count": 69,
     "metadata": {},
     "output_type": "execute_result"
    }
   ],
   "source": [
    "grouped.value_counts(\"word\").head(330).reset_index().word.values"
   ]
  },
  {
   "cell_type": "code",
   "execution_count": 70,
   "metadata": {},
   "outputs": [],
   "source": [
    "word_list = [\"N\",\"S\",\"A\",\"6\",\"7\",\"T\",\"nude\",\"2\",\"O\",\"G\",\"4\",\"0\",\"293\",\"5\",\"3\",\"M\",\"H\",\"J\",\"8\",\"C.\",\"19\",\"B.\"]\n",
    "sample_row = grouped[grouped['word'].isin(word_list)].groupby(\"word\").apply(lambda df: df.sample(1))"
   ]
  },
  {
   "cell_type": "code",
   "execution_count": 71,
   "metadata": {},
   "outputs": [],
   "source": [
    "with open(\"sentences.txt\", \"w\") as file:\n",
    "\tfor sentence in sample_row[\"text\"].values:\n",
    "\t\tfile.write(sentence + \"\\n\")"
   ]
  },
  {
   "cell_type": "markdown",
   "metadata": {},
   "source": [
    "---"
   ]
  },
  {
   "cell_type": "code",
   "execution_count": 4,
   "metadata": {},
   "outputs": [],
   "source": [
    "d = pd.read_parquet(f\"{path}/MEDIUM.parquet\").explode(\"ner\").dropna()\n",
    "grouped = d.groupby(\"text\").agg({\"ner\": lambda x: list(x)}).reset_index()\n",
    "grouped[\"ner\"] = grouped[\"ner\"].apply(merge_entities)\n",
    "grouped = grouped.explode(\"ner\")\n",
    "grouped = pd.concat(\n",
    "                [grouped.drop(columns=\"ner\"), grouped.ner.apply(pd.Series)], axis=1\n",
    "            )\n",
    "grouped[\"word\"] = grouped.apply(\n",
    "            lambda row: row[\"text\"][row[\"start\"] : row[\"end\"]], axis=1\n",
    "        )"
   ]
  },
  {
   "cell_type": "code",
   "execution_count": 7,
   "metadata": {},
   "outputs": [
    {
     "data": {
      "text/plain": [
       "array(['DMEM', 'PBS', 'LB', 'RPMI 1640', 'FBS', 'RPMI-1640', 'RPMI',\n",
       "       'Dulbecco’s modified Eagle’s medium', 'fetal bovine serum', 'MEM',\n",
       "       'TSB', 'serum', 'LB broth', 'bovine serum', 'DMEM/F12', 'PDA',\n",
       "       'YPD', 'NGM', 'LB agar', \"Dulbecco's modified Eagle's medium\",\n",
       "       'phosphate-buffered saline', 'Dulbecco’s Modified Eagle Medium',\n",
       "       'M9', 'BHI', 'Luria-Bertani (', '10% FBS', 'serum-free', 'LB)',\n",
       "       'Dulbecco’s modified Eagle’s medium (DMEM', 'RPMI1640',\n",
       "       'Dulbecco’s Modified Eagle’s Medium', 'EMEM', 'RIPA', 'MRS',\n",
       "       'Dulbecco’s modified Eagle medium', 'IMDM', 'agar', 'HBSS', 'MS',\n",
       "       'complete', 'minimal', 'MRS broth', 'TSA', 'Tris-HCl', 'SD',\n",
       "       'α-MEM', 'LB medium', 'phosphate buffered saline', 'complete DMEM',\n",
       "       'glucose', 'F12', 'DMEM/F-12', 'Luria-Bertani', 'DMEM-F12',\n",
       "       'Opti-MEM', 'MHB', 'potato dextrose agar',\n",
       "       \"Dulbecco's Modified Eagle Medium\", 'LB) broth', 'DPBS',\n",
       "       'Dulbecco’s Modified Eagle Medium (DMEM', 'PDB', 'HEPES',\n",
       "       'BHI broth', 'minimum essential medium', 'CDM', 'McCoy’s 5A',\n",
       "       'nutrient broth', 'BG11', 'F-12', 'MM', 'Tris', 'FCS',\n",
       "       \"Dulbecco's Modified Eagle's Medium\", 'NB', 'TBS',\n",
       "       'Roswell Park Memorial Institute (RPMI) 1640',\n",
       "       \"Dulbecco's modified Eagle medium\", 'Minimum Essential Medium',\n",
       "       'LB plates', 'TB', 'tryptic soy broth', '7H9', 'bovine',\n",
       "       'Dulbecco’s Modified Eagle’s Medium (DMEM', 'lysogeny broth',\n",
       "       'Luria-Bertani broth', 'Eagle’s Minimum Essential Medium',\n",
       "       'M9 minimal', 'Dulbecco’s modified Eagle medium (DMEM',\n",
       "       \"Dulbecco's modified Eagle's medium (DMEM\",\n",
       "       'minimal essential medium', 'LB agar plates', 'HyClone',\n",
       "       'calf serum', 'BG-11', 'M199', 'the', 'DMEM high glucose', 'L-15',\n",
       "       'Middlebrook 7H9 broth', 'RPMI 1640 medium', 'Hyclone', 'OP50',\n",
       "       'Ham’s F12', 'fetal', 'CM', 'blood agar', 'MSM',\n",
       "       'Eagle’s minimum essential medium', 'PBST', 'RPMI‐1640',\n",
       "       'LB liquid', 'cold PBS', 'Middlebrook 7H9', 'soft agar',\n",
       "       'Matrigel', 'phosphate', 'serum-free DMEM', 'SFM', '1640',\n",
       "       'nutrient agar', 'D-MEM', 'sterile PBS', 'Luria Bertani (',\n",
       "       'fetal calf serum', 'high-glucose DMEM', 'Ham’s F-12', 'LB) agar',\n",
       "       'NGM agar', 'Dulbecco’s modified eagle medium', 'YNB',\n",
       "       'high glucose DMEM', 'Luria broth', 'broth', 'LB-agar', 'rich',\n",
       "       'MEA', 'liquid', 'growth', 'F-12K', 'Terrific Broth',\n",
       "       'minimal medium', 'vermiculite', 'M17', 'complete RPMI', '10',\n",
       "       'MRS agar', 'nematode growth medium', 'TBST', 'SC',\n",
       "       'foetal bovine serum', '% FBS', 'Dulbecco modified Eagle medium',\n",
       "       'R2A', 'lysogeny broth (', 'heat-inactivated FBS', 'DMEM)', 'SM',\n",
       "       'potato dextrose agar (', 'liquid LB', 'NA', 'THB', 'Petri',\n",
       "       'tryptic soy agar', 'glycerol', 'tryptic soy broth (TSB',\n",
       "       'GlutaMAX', 'BHI agar', 'soft',\n",
       "       'Dulbecco’s Modified Eagle’s medium', \"McCoy's 5A\",\n",
       "       'Luria-Bertani medium', 'F12K', 'MH broth', 'DMEM medium', '2',\n",
       "       'GM17', 'skim milk', 'free', 'MHA', 'tryptose phosphate broth',\n",
       "       'YEPD', 'MH', 'MOPS', 'αMEM',\n",
       "       'Roswell Park Memorial Institute 1640',\n",
       "       'Roswell Park Memorial Institute', 'TAP', 'basal'], dtype=object)"
      ]
     },
     "execution_count": 7,
     "metadata": {},
     "output_type": "execute_result"
    }
   ],
   "source": [
    "grouped.value_counts(\"word\").head(190).reset_index().word.values"
   ]
  },
  {
   "cell_type": "code",
   "execution_count": 8,
   "metadata": {},
   "outputs": [],
   "source": [
    "word_list = [\"lysogeny broth (\",\"potato dextrose agar (\",\"Luria-Bertani (\",\"serum\",\"10% FBS\",\"LB)\",\"Dulbecco’s modified Eagle’s medium (DMEM\", \"LB) broth\",\"Roswell Park Memorial Institute (RPMI) 1640\",\"HyClone\",\"the\",\"LB) agar\",\"tryptic soy broth (TSB\",\"Roswell Park Memorial Institute 1640\",\"Roswell Park Memorial Institute\",\"basal\"]\n",
    "sample_row = grouped[grouped['word'].isin(word_list)].groupby(\"word\").apply(lambda df: df.sample(1))"
   ]
  },
  {
   "cell_type": "code",
   "execution_count": 9,
   "metadata": {},
   "outputs": [],
   "source": [
    "with open(\"sentences.txt\", \"w\") as file:\n",
    "\tfor sentence in sample_row[\"text\"].values:\n",
    "\t\tfile.write(sentence + \"\\n\")"
   ]
  },
  {
   "cell_type": "markdown",
   "metadata": {},
   "source": [
    "---"
   ]
  },
  {
   "cell_type": "code",
   "execution_count": 10,
   "metadata": {},
   "outputs": [],
   "source": [
    "d = pd.read_parquet(f\"{path}/PHENOTYPE.parquet\").explode(\"ner\").dropna()\n",
    "grouped = d.groupby(\"text\").agg({\"ner\": lambda x: list(x)}).reset_index()\n",
    "grouped[\"ner\"] = grouped[\"ner\"].apply(merge_entities)\n",
    "grouped = grouped.explode(\"ner\")\n",
    "grouped = pd.concat(\n",
    "                [grouped.drop(columns=\"ner\"), grouped.ner.apply(pd.Series)], axis=1\n",
    "            )\n",
    "grouped[\"word\"] = grouped.apply(\n",
    "            lambda row: row[\"text\"][row[\"start\"] : row[\"end\"]], axis=1\n",
    "        )"
   ]
  },
  {
   "cell_type": "code",
   "execution_count": 14,
   "metadata": {},
   "outputs": [
    {
     "data": {
      "text/plain": [
       "array(['Gram-negative', 'Gram-positive', 'pathogenic', 'endophytic',\n",
       "       'virulent', 'non-pathogenic', 'non', 'probiotic', 'hypervirulent',\n",
       "       'avirulent', 'gram-negative', 'thermophilic', 'gram-positive',\n",
       "       'multidrug-resistant', 'anaerobic', 'drought', 'motile',\n",
       "       'mesophilic', 'aerobic', 'salt', 'nonpathogenic', 'non-motile',\n",
       "       'halophilic', 'toxigenic', 'free-living', 'mucoid', 'multidrug',\n",
       "       'rod-shaped', 'nitrogen-fixing', 'salt-tolerant', 'resistant',\n",
       "       'highly pathogenic', 'MDR', 'drug', 'non-', 'auxotrophic',\n",
       "       'nitrogen fixation', 'susceptible', 'commensal', 'tolerant',\n",
       "       'cold', 'Gram negative', 'Gram positive', 'yellow', '-', 'white',\n",
       "       'positive', 'green', 'invasive', 'uropathogenic', 'halotolerant',\n",
       "       'PGPR', 'non-toxigenic', 'heat', 'cellulolytic', 'lytic',\n",
       "       'sensitive', 'autotrophic', 'psychrophilic', 'thermostable',\n",
       "       'heterotrophic', 'thermotolerant', 'fast-growing', 'prototrophic',\n",
       "       'carbapenem', 'rod', 'non-virulent', 'enveloped', 'methicillin',\n",
       "       'non-invasive', 'beneficial', 'diazotrophic', 'symbiotic',\n",
       "       'unicellular', 'necrotrophic', 'methicillin-resistant', 'growth',\n",
       "       'smooth', 'oleaginous', 'salt-sensitive', 'colistin', 'ESBL',\n",
       "       'cold-adapted', 'alkaliphilic', 'sulfate-reducing', 'slow-growing',\n",
       "       'oncolytic', 'antibiotic', 'Gram', 'conjugative', 'biofilm',\n",
       "       'phytopathogenic', 'photoautotrophic', 'methylotrophic',\n",
       "       'oligotrophic', 'microaerophilic', 'antagonistic', 'Gram-',\n",
       "       'brown', 'mixotrophic', 'multi-drug', 'opportunistic',\n",
       "       'filamentous', 'hypovirulent', 'marine', 'denitrifying',\n",
       "       'highly virulent', 'nitrogen', 'metastatic', 'methanogenic',\n",
       "       'neurotropic', 'drought-tolerant', 'multidrug-',\n",
       "       'non-encapsulated', 'heat-tolerant', 'biocontrol', 'endophyte',\n",
       "       'host', 'saprophytic', 'neurovirulent', 'biotrophic', 'non-mucoid',\n",
       "       'carbapenem-resistant', 'spore-forming', 'phototrophic',\n",
       "       'psychrotolerant', 'vancomycin', 'acid', 'facultative anaerobic',\n",
       "       'fermentative', 'hyperthermophilic', 'red', 'replication',\n",
       "       'cold-tolerant', 'entomopathogenic', 'positive-sense',\n",
       "       'microaerobic', 'single', 'non-metastatic', 'nontoxigenic',\n",
       "       'acidophilic', 'nonmotile', 'self', 'rough', 'facultative',\n",
       "       'lentogenic', 'psychrotrophic', 'purple', 'photosynthetic',\n",
       "       'hydrogenotrophic', 'single-stranded', 'obligate',\n",
       "       'unencapsulated', 'round', 'hemolytic', 'triple-', 'non-pigmented',\n",
       "       'temperate', 'double', 'intracellular', 'multidrug resistant',\n",
       "       'predatory', 'transmissible', 'lactic acid', 'dissimilatory',\n",
       "       'negative', 'yellowish', 'contagious', 'dark', 'triple',\n",
       "       'strictly anaerobic', 'gram negative', 'generalist', 'XDR',\n",
       "       'non-hemolytic', 'R5-tropic', 'N', 'diploid', 'bacteriostatic',\n",
       "       'pigmented', 'respiratory', 'temperature', 'hyper-virulent',\n",
       "       'plant', 'methicillin-sensitive', 'hypervirulence',\n",
       "       'enterohemorrhagic', 'low pathogenic', 'vancomycin-resistant',\n",
       "       'methicillin-susceptible', 'semi', 'PGP', 'cold-', 'orange',\n",
       "       'gram positive', 'R5', 'methanotrophic', 'cytopathic', 'lethal',\n",
       "       'zoonotic'], dtype=object)"
      ]
     },
     "execution_count": 14,
     "metadata": {},
     "output_type": "execute_result"
    }
   ],
   "source": [
    "grouped.value_counts(\"word\").head(200).reset_index().word.values"
   ]
  },
  {
   "cell_type": "code",
   "execution_count": 15,
   "metadata": {},
   "outputs": [],
   "source": [
    "word_list = [\"non\",\"non-\",\"N\",\"-\",\"methicillin\",\"Gram\",\"Gram-\",\"multidrug-\",\"self\",\"triple-\",\"cold-\",\"R5\"]\n",
    "sample_row = grouped[grouped['word'].isin(word_list)].groupby(\"word\").apply(lambda df: df.sample(1))"
   ]
  },
  {
   "cell_type": "code",
   "execution_count": 16,
   "metadata": {},
   "outputs": [],
   "source": [
    "with open(\"sentences.txt\", \"w\") as file:\n",
    "\tfor sentence in sample_row[\"text\"].values:\n",
    "\t\tfile.write(sentence + \"\\n\")"
   ]
  },
  {
   "cell_type": "markdown",
   "metadata": {},
   "source": [
    "---"
   ]
  },
  {
   "cell_type": "code",
   "execution_count": 17,
   "metadata": {},
   "outputs": [],
   "source": [
    "d = pd.read_parquet(f\"{path}/MORPHOLOGY.parquet\").explode(\"ner\").dropna()\n",
    "grouped = d.groupby(\"text\").agg({\"ner\": lambda x: list(x)}).reset_index()\n",
    "grouped[\"ner\"] = grouped[\"ner\"].apply(merge_entities)\n",
    "grouped = grouped.explode(\"ner\")\n",
    "grouped = pd.concat(\n",
    "                [grouped.drop(columns=\"ner\"), grouped.ner.apply(pd.Series)], axis=1\n",
    "            )\n",
    "grouped[\"word\"] = grouped.apply(\n",
    "            lambda row: row[\"text\"][row[\"start\"] : row[\"end\"]], axis=1\n",
    "        )"
   ]
  },
  {
   "cell_type": "code",
   "execution_count": 22,
   "metadata": {},
   "outputs": [
    {
     "data": {
      "text/plain": [
       "array(['biofilm', 'biofilms', 'spores', 'spore', 'hyphae', 'sporulation',\n",
       "       'hyphal', 'conidia', 'spheroids', 'colonies', 'rod', 'Biofilm',\n",
       "       'planktonic', 'filamentous', 'colony', 'mycelial', 'Biofilms',\n",
       "       'Spores', 'plaques', 'ascospores', 'aggregates', 'aerial hyphae',\n",
       "       'sphere', 'Spore', 'filaments', 'flagella', 'mycelium',\n",
       "       'aerial mycelium', 'spheres', 'zoospores', 'hypha', 'spindle',\n",
       "       'swarming', 'rods', 'plaque', 'endospore', 'pellicle', 'mycelia',\n",
       "       'microcolonies', 'multicellular', 'chlamydospores', 'sporulating',\n",
       "       'coccoid', 'aerial mycelia', 'pseudopodia', 'sporulate',\n",
       "       'spheroid', 'basidiospores', 'aerial', 'heterocysts', 'flagellar',\n",
       "       'rosette', 'spore germination', 'flagellum', 'sporangiospores',\n",
       "       'conidiophores', 'vegetative', 'cysts', 'capsule', 'filament',\n",
       "       'sporulated', 'pilus', 'blastospores', 'fibrils', 'spiral',\n",
       "       'pellicle biofilm', 'heterocyst', 'endospores', 'pellicles',\n",
       "       'pseudohyphae', 'multicellular spheroids', 'Sporulation', 'stalk',\n",
       "       'vegetative hyphae', 'non-spore', 'fimbriae',\n",
       "       'multicellular aggregates', 'colony biofilm', 'Hyphal', 'swarm',\n",
       "       'septum', 'pili', 'appressoria', 'conidiospores', 'germ tubes',\n",
       "       'conidiation', 'microcolony', 'peritrichous flagella',\n",
       "       'colony biofilms', 'sporangiophores', 'rough colony', 'rough',\n",
       "       'sessile', 'mushroom', 'neurites', 'flattened', 'mucoid colony',\n",
       "       'sexual', 'cyst', 'Conidia', 'pseudopods', 'clumps', 'non',\n",
       "       'submerged biofilm', 'biofilm biomass', 'smooth colony',\n",
       "       'pellicle biofilms', 'tubes', 'haploid spores', 'asexual spores',\n",
       "       'dormant spores', 'branched', 'motile', 'microvilli', 'capsules',\n",
       "       'thread', 'macrocolony biofilms', 'round', 'branched hyphae',\n",
       "       'sexual spores', 'haploid spore', 'mating', 'fusiform', 'stellate',\n",
       "       'mammosphere', 'flagellar filaments', 'germ', 'sporidia',\n",
       "       'germ tube', 'Planktonic', 'spiral spore', 'spherical',\n",
       "       'rough colonies', 'mucoid colonies', 'round plaques',\n",
       "       'lamellipodia', 'coccus', 'zygospores', 'sporophores',\n",
       "       'sporophore', 'flocs', 'sporangia', 'conidiophore',\n",
       "       'smooth colonies', 'mammospheres', 'piliated', 'Hyphae', 'tube',\n",
       "       'buds', 'icosahedral', 'wrinkled colony', 'amoeboid',\n",
       "       'forming rod', 'aerial hyphal', 'pollen', 'sporozoites',\n",
       "       'vegetative mycelia', 'hairs', 'wrinkled colonies', 'slime',\n",
       "       'motile rods', 'appressorium', 'sheath', 'filamentous colonies',\n",
       "       'amyloid', 'conidiogenous', 'conidial', 'sporangiophore',\n",
       "       'hyphal filaments', 'quorum', 'germinated spores', 'halo',\n",
       "       'rugose', 'budding', 'smooth', 'aggregate', 'nodules', 'bundle',\n",
       "       'ascospore', 'vegetative hyphal', 'spindles', 'tubule',\n",
       "       'fibroblast', 'hollow', 'dense biofilms', 'sporocysts', 'pycnidia',\n",
       "       'submerged biofilms', 'aerial hypha', 'pseudopod', 'oospores',\n",
       "       'asexual', 'fungal hyphae', 'multicellular filaments',\n",
       "       'sporulating colonies', 'ellipsoidal', 'pigmented colonies',\n",
       "       'gliding', 'spheroidal', 'rugose colony', 'spherical colonies',\n",
       "       'hyphal tips', 'fruiting', 'coccobacilli', 'floc',\n",
       "       'filamentous hyphae', 'aerial spore', 'irregular',\n",
       "       'macrocolony biofilm', 'conidiophore stalk'], dtype=object)"
      ]
     },
     "execution_count": 22,
     "metadata": {},
     "output_type": "execute_result"
    }
   ],
   "source": [
    "grouped.value_counts(\"word\").head(210).reset_index().word.values"
   ]
  },
  {
   "cell_type": "code",
   "execution_count": 23,
   "metadata": {},
   "outputs": [],
   "source": [
    "word_list = [\"vegetative\",\"mushroom\",\"non\",\"mammosphere\",\"forming rod\", \"amyloid\", \"quorum\",\"fruiting\"]\n",
    "sample_row = grouped[grouped['word'].isin(word_list)].groupby(\"word\").apply(lambda df: df.sample(1))"
   ]
  },
  {
   "cell_type": "code",
   "execution_count": 24,
   "metadata": {},
   "outputs": [],
   "source": [
    "with open(\"sentences.txt\", \"w\") as file:\n",
    "\tfor sentence in sample_row[\"text\"].values:\n",
    "\t\tfile.write(sentence + \"\\n\")"
   ]
  },
  {
   "cell_type": "markdown",
   "metadata": {},
   "source": [
    "---"
   ]
  },
  {
   "cell_type": "code",
   "execution_count": 3,
   "metadata": {},
   "outputs": [],
   "source": [
    "d = pd.read_parquet(f\"{path}/EFFECT.parquet\").explode(\"ner\").dropna()\n",
    "grouped = d.groupby(\"text\").agg({\"ner\": lambda x: list(x)}).reset_index()\n",
    "grouped[\"ner\"] = grouped[\"ner\"].apply(merge_entities)\n",
    "grouped = grouped.explode(\"ner\")\n",
    "grouped = pd.concat(\n",
    "                [grouped.drop(columns=\"ner\"), grouped.ner.apply(pd.Series)], axis=1\n",
    "            )\n",
    "grouped[\"word\"] = grouped.apply(\n",
    "            lambda row: row[\"text\"][row[\"start\"] : row[\"end\"]], axis=1\n",
    "        )"
   ]
  },
  {
   "cell_type": "code",
   "execution_count": 4,
   "metadata": {},
   "outputs": [
    {
     "data": {
      "text/plain": [
       "array(['growth', 'apoptosis', 'formation', 'proliferation', 'cell death',\n",
       "       'infection', 'stress', 'tumor growth', 'cell', 'cells',\n",
       "       'cell proliferation', 'cytotoxic', 'death', 'production',\n",
       "       'biofilm formation', 'survival', 'development', 'differentiation',\n",
       "       'damage', 'viability', 'oxidative stress', 'cell growth', '-',\n",
       "       'replication', 'activation', 'growth inhibition', 'inflammation',\n",
       "       'migration', 'resistance', 'induction', 'metabolism',\n",
       "       'cytotoxicity', 'accumulation', 'response', 'colony formation',\n",
       "       'immune response', 'invasion', 'proliferative', 'cell viability',\n",
       "       'plant growth', 'cell cycle arrest', 'activity', 'degradation',\n",
       "       'cycle', 'gene expression', 'synthesis', 'expression', 'autophagy',\n",
       "       'disease', 'antimicrobial', 'inflammatory', 'cell cycle', 'tumor',\n",
       "       'metastasis', 'inflammatory response', 'uptake', 'release',\n",
       "       'cell apoptosis', 'viral replication', 'ferroptosis', 'tolerance',\n",
       "       'antiproliferative', 'colonization', 'function', 'inhibitory',\n",
       "       'drug resistance', 'yield', 'killing', 'germination', 'inhibition',\n",
       "       'toxicity', 'DNA damage', 'immune responses', 'entry',\n",
       "       'biosynthesis', 'virulence', 'apoptotic', 'secretion',\n",
       "       'antifungal', 'cell survival', 'adhesion', 'antiviral',\n",
       "       'antitumor', 'host', 'cancer', 'regulation', 'protection',\n",
       "       'protein', 'biocontrol', 'injury', 'bactericidal', 'gene',\n",
       "       'immunity', 'salt tolerance', 'sensitivity', 'signaling',\n",
       "       'apoptotic cell death', 'immune', 'necrosis', 'mortality',\n",
       "       'progression', 'acid', 'cell migration', 'responses',\n",
       "       'lipid accumulation', 'transport', 'antimicrobial activity',\n",
       "       'effects', 'reduction', 'effect', 'stress response',\n",
       "       'drought tolerance', 'genes', 'transmission', 'salt stress',\n",
       "       'phagocytosis', 'protein synthesis', 'binding', 'loss', 'fusion',\n",
       "       'insulin secretion', 'anticancer', 'apoptosis induction',\n",
       "       'growth inhibitory', 'infections', 'pathogenicity',\n",
       "       'induction of apoptosis', 'chemoresistance', 'defense',\n",
       "       'cytokine storm', 'plant growth promotion', 'angiogenesis',\n",
       "       'antibacterial', 'transcription', 'immune evasion',\n",
       "       'disease resistance', 'cell division', 'cell cycle progression',\n",
       "       'pathogenesis', 'tumor formation', 'consumption',\n",
       "       'anti-proliferative', 'inflammatory responses', 'cytotoxic effect',\n",
       "       'generation', 'translocation', 'cytokines', 'treatment',\n",
       "       'proteins', 'antifungal activity', 'challenge', 'drought stress',\n",
       "       'repair', 'innate immune response', 'viral infection',\n",
       "       'tumorigenesis', 'plants', 'bacterial growth', 'antagonistic',\n",
       "       'immune system', 'susceptibility', 'virus replication',\n",
       "       'lipid metabolism', 'anti', 'flux', 'induced apoptosis',\n",
       "       'disease severity', 'dysfunction', 'suppression', 'nodulation',\n",
       "       'wound healing', 'root growth', 'cytotoxic activity',\n",
       "       'necroptosis', 'drug', 'permeability', 'membrane', 'pyroptosis',\n",
       "       'maturation', 'cellular', 'cancer cells', 'senescence',\n",
       "       'tumor progression', 'seed germination', 'aggregation', 'biomass',\n",
       "       'cytotoxic effects', 'tumors', 'neutralization', 'system'],\n",
       "      dtype=object)"
      ]
     },
     "execution_count": 4,
     "metadata": {},
     "output_type": "execute_result"
    }
   ],
   "source": [
    "grouped.value_counts(\"word\").head(190).reset_index().word.values"
   ]
  },
  {
   "cell_type": "code",
   "execution_count": 5,
   "metadata": {},
   "outputs": [],
   "source": [
    "word_list = [\"cell\",\"cells\",\"effect\",\"-\",\"cycle\",\"activity\",\"cell cycle\",\"host\",\"gene\",\"acid\",\"effects\",\"genes\",\"infections\",\"cytokines\",\"challenge\",\"anti\",\"flux\",\"drug\",\"membrane\",\"biomass\",\"system\"]\n",
    "sample_row = grouped[grouped['word'].isin(word_list)].groupby(\"word\").apply(lambda df: df.sample(1))"
   ]
  },
  {
   "cell_type": "code",
   "execution_count": 6,
   "metadata": {},
   "outputs": [],
   "source": [
    "with open(\"sentences.txt\", \"w\") as file:\n",
    "\tfor sentence in sample_row[\"text\"].values:\n",
    "\t\tfile.write(sentence + \"\\n\")"
   ]
  },
  {
   "cell_type": "markdown",
   "metadata": {},
   "source": [
    "---"
   ]
  },
  {
   "cell_type": "code",
   "execution_count": 3,
   "metadata": {},
   "outputs": [],
   "source": [
    "d = pd.read_parquet(f\"{path}/PROTEIN.parquet\").explode(\"ner\").dropna()\n",
    "grouped = d.groupby(\"text\").agg({\"ner\": lambda x: list(x)}).reset_index()\n",
    "grouped[\"ner\"] = grouped[\"ner\"].apply(merge_entities)\n",
    "grouped = grouped.explode(\"ner\")\n",
    "grouped = pd.concat(\n",
    "                [grouped.drop(columns=\"ner\"), grouped.ner.apply(pd.Series)], axis=1\n",
    "            )\n",
    "grouped[\"word\"] = grouped.apply(\n",
    "            lambda row: row[\"text\"][row[\"start\"] : row[\"end\"]], axis=1\n",
    "        )"
   ]
  },
  {
   "cell_type": "code",
   "execution_count": 4,
   "metadata": {},
   "outputs": [
    {
     "data": {
      "text/plain": [
       "array(['GFP', 'anti', 'IL-6', 'ACE2', 'IL', 'TNF-α', 'p53', 'NF-κB',\n",
       "       'IL-1β', 'S', 'EGFR', 'spike', 'β-catenin', 'Akt', 'AKT',\n",
       "       'E-cadherin', 'IL-8', 'HA', 'IL-10', 'GST', 'His', 'PI3K', 'STAT3',\n",
       "       'IFN-γ', 'RBD', 'PD-L1', 'IFN', 'ERK', 'caspase-3', 'Bcl-2', 'TNF',\n",
       "       'N', 'mTOR', 'Bax', 'VEGF', 'HER2', 'AR', 'HIF-1α', 'TLR4', 'SOD',\n",
       "       'CD4', 'p21', 'JNK', 'CD44', 'ERK1/2', 'protease', 'vimentin',\n",
       "       'NF', 'TGF', 'β', 'P-gp', 'mCherry', 'Nrf2', 'IgG', 'CXCR4',\n",
       "       'TMPRSS2', 'PTEN', 'MMP-9', 'α', 'Wnt', 'FLAG', 'CAT',\n",
       "       'β-galactosidase', 'S1', 'TNFα', 'PD-1', 'p38', 'PARP', 'AMPK',\n",
       "       'N-cadherin', 'M^pro', 'CD3', 'S protein', 'c', 'COX-2', 'YAP',\n",
       "       '2', 'E', 'EGFP', 'iNOS', 'Cas9', 'LC3', 'NS1', 'Env', 'TLR2',\n",
       "       'HLA', 'ERα', 'p', 'catalase', 'NP', 'IL-12', 'Fc', 'MAPK',\n",
       "       'gp120', 'MMP-2', 'PE', 'CAR', 'RdRp', 'ZO-1', 'Flag', 'STAT1',\n",
       "       'p65', 'p62', 'IL-2', 'MCP-1', 'IL-', 'IFNγ', '1', 'IL-4', 'YFP',\n",
       "       'cyclin D1', 'luciferase', 'NA', 'GAPDH', 'PrP', 'spike protein',\n",
       "       'MBP', '6', 'TGF-β', 'M', 'LDH', 'caspase', 'ER', 'TGF-β1',\n",
       "       'NLRP3', 'APC', 'C', 'HO-1', 'Spike', 'β-glucosidase', 'CD8',\n",
       "       'FAK', 'CCL2', 'chitinase', 'RFP', 'ICAM-1', 'ALP', 'IFN-β',\n",
       "       'xylanase', 'IgM', 'laccase', 'γH2AX', 'STING', 'Myc', 'TRAIL',\n",
       "       'EZH2', 'LC3-II', 'α-SMA', 'HMGB1', 'RIG-I', 'cellulase', 'IL-17',\n",
       "       'MMP9', 'CD11b', 'B', 'BRCA1', 'PR', 'c-Myc', 'CCR5', 'IgG1',\n",
       "       'MMP', 'A', 'Snail', 'POD', 'EpCAM', 'IgA', 'ABCG2', 'GM-CSF',\n",
       "       'CD86', 'HRP', 'F', 'GRP78', 'E2', 'CXCL10', 'CD45', 'SIRT1',\n",
       "       'SOX2', 'CTX', 'Src', 'ABCB1', 'SARS', 'MYC', 'PCNA', 'Tat',\n",
       "       'CD19', 'Vimentin', 'p38 MAPK', 'survivin', 'TLR3', 'PPARγ', 'ATM',\n",
       "       'RANKL', 'VP1', 'P', 'CD14', 'MEK', 'furin', 'APP', 'TP53', 'GR',\n",
       "       'CFTR', 'NRF2', 'OXA', 'caspase-8', 'Mpro', 'NFκB', 'IL-18',\n",
       "       'α-amylase', 'trypsin', 'NDM', 'actin', 'β-actin', 'H',\n",
       "       'caspase 3', 'occludin', 'PA', 'KRAS', 'MMP2', 'CHOP', '-',\n",
       "       'Annexin V', 'NRPS', 'BAX', 'eGFP', 'IRF3',\n",
       "       'angiotensin-converting enzyme 2', '3', 'β-', 'CD133', 'caspase-9',\n",
       "       'IL-17A', 'tau', 'IκBα', 'HIF', 'β-lactamase', 'G', 'p27',\n",
       "       'mTORC1', 'IL6', 'caspase-1', 'CD80', 'RhoA', 'cleaved caspase-3',\n",
       "       'BRAF', 'GSK3β', 'Nef', 'hACE2', 'MET', 'ZEB1', 'CRP', 'MyD88',\n",
       "       'BDNF', 'lipase', 'S2', 'protein', 'KPC', '4', 'CD81', 'CXCL8',\n",
       "       'ERβ', 'cytochrome c', 'Mcl-1', 'APX', 'firefly luciferase',\n",
       "       'SOSIP', 'FITC', 'MHC-I', '3CLpro', 'CD40', 'Cx43', 'PSMA', 'CDK4',\n",
       "       'flagellin', 'gp41', 'Rac1', 'AP-1', 'PrP^Sc', 'p24', 'CD24',\n",
       "       'PKR', 'TGF-', 'AXL', 'CCL5', 'RT', 'AP', 'MUC1', 'I', 'CD63',\n",
       "       'HSP70', 'Aβ', 'HGF', 'HLA-DR', 'CP', 'NLRP3 inflammasome', 'Ras',\n",
       "       'PLpro', '5', 'Bcl-xL', 'pro', 'MDR1', 'CTX-M', 'LMP1', 'hTERT',\n",
       "       'alkaline phosphatase', 'NS5A', 'CXCL1', 'scFv', 'PERK', 'EGF',\n",
       "       'α-synuclein'], dtype=object)"
      ]
     },
     "execution_count": 4,
     "metadata": {},
     "output_type": "execute_result"
    }
   ],
   "source": [
    "grouped.value_counts(\"word\").head(310).reset_index().word.values"
   ]
  },
  {
   "cell_type": "code",
   "execution_count": 5,
   "metadata": {},
   "outputs": [],
   "source": [
    "word_list = [\"M\",\"C\",\"6\",\"N\",\"1\",\"H\",\"β-\",\"3\",\"5\",\"pro\",\"I\",\"P\",\"p\",\"2\",\"E\",\"B\",\"-\"]\n",
    "sample_row = grouped[grouped['word'].isin(word_list)].groupby(\"word\").apply(lambda df: df.sample(1))"
   ]
  },
  {
   "cell_type": "code",
   "execution_count": 6,
   "metadata": {},
   "outputs": [],
   "source": [
    "with open(\"sentences.txt\", \"w\") as file:\n",
    "\tfor sentence in sample_row[\"text\"].values:\n",
    "\t\tfile.write(sentence + \"\\n\")"
   ]
  },
  {
   "cell_type": "markdown",
   "metadata": {},
   "source": [
    "---"
   ]
  },
  {
   "cell_type": "code",
   "execution_count": 7,
   "metadata": {},
   "outputs": [],
   "source": [
    "d = pd.read_parquet(f\"{path}/GENUS.parquet\").explode(\"ner\").dropna()\n",
    "grouped = d.groupby(\"text\").agg({\"ner\": lambda x: list(x)}).reset_index()\n",
    "grouped[\"ner\"] = grouped[\"ner\"].apply(merge_entities)\n",
    "grouped = grouped.explode(\"ner\")\n",
    "grouped = pd.concat(\n",
    "                [grouped.drop(columns=\"ner\"), grouped.ner.apply(pd.Series)], axis=1\n",
    "            )\n",
    "grouped[\"word\"] = grouped.apply(\n",
    "            lambda row: row[\"text\"][row[\"start\"] : row[\"end\"]], axis=1\n",
    "        )"
   ]
  },
  {
   "cell_type": "code",
   "execution_count": 15,
   "metadata": {},
   "outputs": [
    {
     "data": {
      "text/plain": [
       "array(['Lactobacillus', 'Wolbachia', 'Bacteroides', 'Ruminococcaceae',\n",
       "       'Streptomyces', 'Pseudomonas', 'Bacillus', 'Ruminococcus',\n",
       "       'Prevotella', 'Bifidobacterium', 'Salmonella', 'Clostridium',\n",
       "       'Streptococcus', 'Prevotellaceae', 'Faecalibacterium',\n",
       "       'Akkermansia', 'Shigella', 'Synechococcus', 'Acinetobacter',\n",
       "       'Escherichia', 'Enterococcus', 'Ruminiclostridium', 'Vibrio',\n",
       "       'Roseburia', 'Blautia', 'Sphingomonas', 'Burkholderia',\n",
       "       'Desulfovibrio', 'Staphylococcus', 'Campylobacter', 'Rhodococcus',\n",
       "       'Lachnoclostridium', 'Parabacteroides', 'Prochlorococcus',\n",
       "       'Treponema', 'Lactococcus', 'Klebsiella', 'Clostridia',\n",
       "       'Coprococcus', 'Enterobacter', 'Alloprevotella', 'Turicibacter',\n",
       "       'Agrobacterium', 'Helicobacter', 'Rickettsia',\n",
       "       'Phascolarctobacterium', 'Eubacterium', 'Flavobacterium',\n",
       "       'Oscillospira', 'Odoribacter', 'Rhizobium', 'Romboutsia',\n",
       "       'Bacteroidetes', 'Alistipes', 'Corynebacterium', 'Veillonella',\n",
       "       'Bradyrhizobium', 'Serratia', 'Oscillibacter', 'Fusobacterium',\n",
       "       'Pantoea', 'Trichoderma', 'Stenotrophomonas', 'Aeromonas',\n",
       "       'Faecalibaculum', 'Methanobrevibacter', 'Shewanella',\n",
       "       'Parasutterella', 'Fusarium', 'Legionella', 'Actinobacteria',\n",
       "       'Pseudoalteromonas', 'Brucella', 'Ralstonia', 'Paenibacillus',\n",
       "       'Neisseria', 'Butyrivibrio', 'Microbacterium', 'Halomonas',\n",
       "       'Butyricicoccus', 'Megasphaera', 'Citrobacter', 'Firmicutes',\n",
       "       'Nitrospira', 'Penicillium', 'Aspergillus', 'Fibrobacter',\n",
       "       'Arthrobacter', 'Anaerostipes', 'Erysipelatoclostridium',\n",
       "       'Lachnospira', 'Bartonella', 'Mycobacterium', 'Haemophilus',\n",
       "       'Leptospira', 'Paraburkholderia', 'Methylobacterium',\n",
       "       'Barnesiella', 'Synechocystis', 'Dorea', 'Subdoligranulum',\n",
       "       'Brevundimonas', 'Roseobacter', 'Dialister', 'Intestinimonas',\n",
       "       'Collinsella', 'Geobacillus', 'Sutterella', 'Cronobacter',\n",
       "       'Leishmania', 'Chryseobacterium', 'Allobaculum', 'Selenomonas',\n",
       "       'Geobacter', 'Listeria', 'Psychrobacter', 'Novosphingobium',\n",
       "       'Porphyromonas', 'Mycoplasma', 'Adlercreutzia', 'Achromobacter',\n",
       "       'Pectobacterium', 'Verrucomicrobia', 'Butyricimonas',\n",
       "       'Anaeroplasma', 'Paracoccus', 'Megamonas', 'Pediococcus',\n",
       "       'Enterorhabdus', 'Borrelia', 'Anaerotruncus', 'Arcobacter',\n",
       "       'Lysobacter', 'Nocardioides', 'Actinomyces', 'Candida',\n",
       "       'Agathobacter', 'Deinococcus', 'Marinobacter',\n",
       "       'Enterobacteriaceae', 'Plasmodium', 'Exiguobacterium',\n",
       "       'Mucispirillum', 'Succinivibrio', 'Rothia', 'Sphingobium',\n",
       "       'Peptococcus', 'Bilophila', 'Microcystis', 'coprostanoligenes',\n",
       "       'Sulfurimonas', 'Xanthomonas', 'mycoplasma', 'Photobacterium',\n",
       "       'Yersinia', 'Weissella', 'Mesorhizobium', 'Propionibacterium',\n",
       "       'Erysipelotrichaceae', 'Colidextribacter', 'Chloroflexi',\n",
       "       'Nocardia', 'Bacteroidales', 'Tyzzerella', 'Muribaculum',\n",
       "       'Variovorax', 'Saccharomyces', 'Rhodobacteraceae',\n",
       "       'Terrisporobacter', 'Anaerovibrio', 'Gardnerella', 'Ochrobactrum',\n",
       "       'Leuconostoc', 'Ruminobacter', 'Gemmatimonas', 'Eisenbergiella',\n",
       "       'Succiniclasticum', 'Francisella', 'Massilia', 'Paraprevotella'],\n",
       "      dtype=object)"
      ]
     },
     "execution_count": 15,
     "metadata": {},
     "output_type": "execute_result"
    }
   ],
   "source": [
    "grouped.value_counts(\"word\").head(180).reset_index().word.values"
   ]
  },
  {
   "cell_type": "code",
   "execution_count": null,
   "metadata": {},
   "outputs": [],
   "source": [
    "word_list = [\"\"]\n",
    "sample_row = grouped[grouped['word'].isin(word_list)].groupby(\"word\").apply(lambda df: df.sample(1))"
   ]
  },
  {
   "cell_type": "code",
   "execution_count": null,
   "metadata": {},
   "outputs": [],
   "source": [
    "with open(\"sentences.txt\", \"w\") as file:\n",
    "\tfor sentence in sample_row[\"text\"].values:\n",
    "\t\tfile.write(sentence + \"\\n\")"
   ]
  },
  {
   "cell_type": "markdown",
   "metadata": {},
   "source": [
    "---"
   ]
  },
  {
   "cell_type": "code",
   "execution_count": 16,
   "metadata": {},
   "outputs": [],
   "source": [
    "d = pd.read_parquet(f\"{path}/DISEASE.parquet\").explode(\"ner\").dropna()\n",
    "grouped = d.groupby(\"text\").agg({\"ner\": lambda x: list(x)}).reset_index()\n",
    "grouped[\"ner\"] = grouped[\"ner\"].apply(merge_entities)\n",
    "grouped = grouped.explode(\"ner\")\n",
    "grouped = pd.concat(\n",
    "                [grouped.drop(columns=\"ner\"), grouped.ner.apply(pd.Series)], axis=1\n",
    "            )\n",
    "grouped[\"word\"] = grouped.apply(\n",
    "            lambda row: row[\"text\"][row[\"start\"] : row[\"end\"]], axis=1\n",
    "        )"
   ]
  },
  {
   "cell_type": "code",
   "execution_count": 23,
   "metadata": {},
   "outputs": [
    {
     "data": {
      "text/plain": [
       "array(['tumor', 'breast cancer', 'cancer', 'COVID', 'melanoma',\n",
       "       'pandemic', 'CRC', 'HCC', 'colon cancer', 'prostate cancer',\n",
       "       'tumors', 'glioma', 'ovarian cancer', 'lung cancer', 'NSCLC',\n",
       "       'glioblastoma', 'SARS', 'TNBC', 'breast', 'GBM', 'neuroblastoma',\n",
       "       'pneumonia', 'pancreatic cancer', 'influenza', 'tumour',\n",
       "       'gastric cancer', 'colorectal cancer', 'disease', 'GC', 'ARDS',\n",
       "       'leukemia', 'AML', 'osteosarcoma', 'diarrhea', 'PCa', 'BC',\n",
       "       'hepatocellular carcinoma', 'metastasis', 'outbreak', 'colitis',\n",
       "       'PDAC', 'lung adenocarcinoma', 'colon', 'lung', 'sepsis',\n",
       "       'cervical cancer', 'AD', 'colon carcinoma', 'adenocarcinoma',\n",
       "       'hepatoma', 'metastatic', 'bladder cancer',\n",
       "       'breast adenocarcinoma', 'obesity', 'human breast cancer',\n",
       "       'carcinoma', 'PD', 'colorectal adenocarcinoma', 'prostate',\n",
       "       'colon adenocarcinoma', 'OSCC', 'MM', 'lymphoma', '19 pandemic',\n",
       "       'NPC', 'acute respiratory syndrome', 'infection', 'TB',\n",
       "       'colorectal', 'human cancer', 'fever', 'CF',\n",
       "       'severe acute respiratory syndrome', 'diabetes', 'HNSCC',\n",
       "       'lung metastasis', 'ESCC', 'acute respiratory distress syndrome',\n",
       "       'breast carcinoma', 'liver cancer', 'RCC', 'HUS',\n",
       "       'colorectal carcinoma', 'fibrosarcoma', 'lung carcinoma', 'ccRCC',\n",
       "       'malaria', 'COVID-19 disease', 'severe COVID', 'powdery mildew',\n",
       "       'gastric', 'human melanoma', 'meningitis', 'the pandemic', 'OC',\n",
       "       'respiratory', 'tumor growth', 'cervical', 'IBD',\n",
       "       'murine melanoma', 'pancreatic', 'xenograft tumor', 'MERS', 'PC',\n",
       "       'dengue', 'DLBCL', 'ovarian', 'CDI', 'CML', 'myeloma',\n",
       "       'squamous cell carcinoma', 'coronavirus', 'NB', 'LUAD', 'Tumor',\n",
       "       'OS', 'NAFLD', 'FHB', 'UC', 'leukemic', 'ovarian carcinoma',\n",
       "       'multiple myeloma', 'the disease', 'severe disease', 'diabetic',\n",
       "       'asthma', 'small cell lung cancer', 'cough', 'xenograft',\n",
       "       'bacteremia', '19', 'HIV', 'scrapie', 'malignant melanoma',\n",
       "       'cholera', 'CLL', 'BPH', 'CCA', 'metastatic melanoma',\n",
       "       'breast tumor', 'tumours', 'EAE', 'liver', 'PTC',\n",
       "       'cervical carcinoma', 'mastitis', 'fibrosis', 'myocarditis',\n",
       "       'tuberculosis', 'COPD', 'inflammation', 'depression',\n",
       "       'Human breast cancer', 'SCLC', 'CRPC', 'xenograft tumors', 'AKI',\n",
       "       'ALL', 'CD', 'outbreaks', 'triple-negative breast cancer',\n",
       "       'Fusarium wilt', 'hypertension', 'metastases',\n",
       "       'negative breast cancer', 'SCC', 'triple negative breast cancer',\n",
       "       'epidemic', 'PRRSV', 'wilt', 'tumorigenesis', '19 disease', 'RA',\n",
       "       'hepatocellular', 'EC', 'IBS', 'stripe rust', '19 pneumonia',\n",
       "       'human colon cancer', 'CC', 'hepatocarcinoma', 'neurological',\n",
       "       'PEDV', 'common cold', 'infections', 'Breast cancer',\n",
       "       'human tumor', 'OA', 'gastroenteritis', 'thyroid cancer',\n",
       "       'metastatic breast cancer', 'EOC', 'viral', 'anthracnose',\n",
       "       'mammary carcinoma', 'mouse melanoma',\n",
       "       'non-small cell lung cancer', 'COVID-', 'human prostate cancer',\n",
       "       'mammary'], dtype=object)"
      ]
     },
     "execution_count": 23,
     "metadata": {},
     "output_type": "execute_result"
    }
   ],
   "source": [
    "grouped.value_counts(\"word\").head(200).reset_index().word.values"
   ]
  },
  {
   "cell_type": "code",
   "execution_count": 24,
   "metadata": {},
   "outputs": [],
   "source": [
    "word_list = [\"PCa\",\"COVID-\",\"19\",\"19 disease\",\"19 pneumonia\"]\n",
    "sample_row = grouped[grouped['word'].isin(word_list)].groupby(\"word\").apply(lambda df: df.sample(1))"
   ]
  },
  {
   "cell_type": "code",
   "execution_count": 25,
   "metadata": {},
   "outputs": [],
   "source": [
    "with open(\"sentences.txt\", \"w\") as file:\n",
    "\tfor sentence in sample_row[\"text\"].values:\n",
    "\t\tfile.write(sentence + \"\\n\")"
   ]
  },
  {
   "cell_type": "markdown",
   "metadata": {},
   "source": [
    "## Check strains"
   ]
  },
  {
   "cell_type": "code",
   "execution_count": 17,
   "metadata": {},
   "outputs": [],
   "source": [
    "d = pd.read_parquet(f\"{path}/STRAIN/strains.parquet\")"
   ]
  },
  {
   "cell_type": "code",
   "execution_count": 81,
   "metadata": {},
   "outputs": [
    {
     "data": {
      "text/plain": [
       "Series([], Name: count, dtype: int64)"
      ]
     },
     "execution_count": 81,
     "metadata": {},
     "output_type": "execute_result"
    }
   ],
   "source": [
    "d[d.word.str.contains(\"escherichia coli \")].value_counts(\"word\")"
   ]
  },
  {
   "cell_type": "code",
   "execution_count": 79,
   "metadata": {},
   "outputs": [],
   "source": [
    "words = [\"=lmg 31545t\", \"=nbrc 113514t\", \"=nbrc 109120t), ilumatobacter fluminis ym22-133t\",\"=stm 815\"]"
   ]
  },
  {
   "cell_type": "code",
   "execution_count": 75,
   "metadata": {},
   "outputs": [],
   "source": [
    "sample_row = d[d['word'].isin(words)].groupby(\"word\").apply(lambda df: df.sample(1))"
   ]
  },
  {
   "cell_type": "code",
   "execution_count": 76,
   "metadata": {},
   "outputs": [],
   "source": [
    "with open(\"sentences.txt\", \"w\") as file:\n",
    "\tfor sentence in sample_row[\"text\"].values:\n",
    "\t\tfile.write(sentence + \"\\n\")"
   ]
  },
  {
   "cell_type": "code",
   "execution_count": null,
   "metadata": {},
   "outputs": [],
   "source": []
  }
 ],
 "metadata": {
  "kernelspec": {
   "display_name": "base",
   "language": "python",
   "name": "python3"
  },
  "language_info": {
   "codemirror_mode": {
    "name": "ipython",
    "version": 3
   },
   "file_extension": ".py",
   "mimetype": "text/x-python",
   "name": "python",
   "nbconvert_exporter": "python",
   "pygments_lexer": "ipython3",
   "version": "3.11.7"
  }
 },
 "nbformat": 4,
 "nbformat_minor": 2
}
