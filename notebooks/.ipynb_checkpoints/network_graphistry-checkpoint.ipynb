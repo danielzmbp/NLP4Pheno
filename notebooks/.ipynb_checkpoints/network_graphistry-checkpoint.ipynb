{
 "cells": [
  {
   "cell_type": "code",
   "execution_count": 2,
   "metadata": {},
   "outputs": [],
   "source": [
    "import graphistry\n",
    "import pandas as pd\n",
    "graphistry.register(api=3, protocol=\"https\", server=\"hub.graphistry.com\", personal_key_id=\"YIB753L14J\", personal_key_secret=\"LDQ0JZUKMJYTVWNY\")\n"
   ]
  },
  {
   "cell_type": "code",
   "execution_count": 3,
   "metadata": {},
   "outputs": [],
   "source": [
    "df = pd.read_csv('./network_files/network1.csv',sep=\"\\t\")"
   ]
  },
  {
   "cell_type": "code",
   "execution_count": 4,
   "metadata": {},
   "outputs": [],
   "source": [
    "df[\"source_ner\"] = df.rel.str.split(\"-\",expand=True)[0]"
   ]
  },
  {
   "cell_type": "code",
   "execution_count": 5,
   "metadata": {},
   "outputs": [],
   "source": [
    "df[\"target_ner\"] = df.rel.str.split(\"-\",expand=True)[1].str.split(\":\",expand=True)[0]"
   ]
  },
  {
   "cell_type": "code",
   "execution_count": 6,
   "metadata": {},
   "outputs": [
    {
     "data": {
      "text/html": [
       "<div>\n",
       "<style scoped>\n",
       "    .dataframe tbody tr th:only-of-type {\n",
       "        vertical-align: middle;\n",
       "    }\n",
       "\n",
       "    .dataframe tbody tr th {\n",
       "        vertical-align: top;\n",
       "    }\n",
       "\n",
       "    .dataframe thead th {\n",
       "        text-align: right;\n",
       "    }\n",
       "</style>\n",
       "<table border=\"1\" class=\"dataframe\">\n",
       "  <thead>\n",
       "    <tr style=\"text-align: right;\">\n",
       "      <th></th>\n",
       "      <th>source</th>\n",
       "      <th>target</th>\n",
       "      <th>rel</th>\n",
       "      <th>re</th>\n",
       "      <th>source_ner</th>\n",
       "      <th>target_ner</th>\n",
       "    </tr>\n",
       "  </thead>\n",
       "  <tbody>\n",
       "    <tr>\n",
       "      <th>0</th>\n",
       "      <td>csur p902</td>\n",
       "      <td>feces of a patient</td>\n",
       "      <td>STRAIN-ISOLATE:INHABITS</td>\n",
       "      <td>INHABITS</td>\n",
       "      <td>STRAIN</td>\n",
       "      <td>ISOLATE</td>\n",
       "    </tr>\n",
       "    <tr>\n",
       "      <th>1</th>\n",
       "      <td>csur p902</td>\n",
       "      <td>intensive care</td>\n",
       "      <td>STRAIN-ISOLATE:INHABITS</td>\n",
       "      <td>INHABITS</td>\n",
       "      <td>STRAIN</td>\n",
       "      <td>ISOLATE</td>\n",
       "    </tr>\n",
       "    <tr>\n",
       "      <th>2</th>\n",
       "      <td>prevotella intermedia 17</td>\n",
       "      <td>human periodontal pocket</td>\n",
       "      <td>STRAIN-ISOLATE:INHABITS</td>\n",
       "      <td>INHABITS</td>\n",
       "      <td>STRAIN</td>\n",
       "      <td>ISOLATE</td>\n",
       "    </tr>\n",
       "    <tr>\n",
       "      <th>3</th>\n",
       "      <td>prevotella intermedia atcc 25611</td>\n",
       "      <td>human periodontal pocket</td>\n",
       "      <td>STRAIN-ISOLATE:INHABITS</td>\n",
       "      <td>INHABITS</td>\n",
       "      <td>STRAIN</td>\n",
       "      <td>ISOLATE</td>\n",
       "    </tr>\n",
       "    <tr>\n",
       "      <th>4</th>\n",
       "      <td>nccp 16833</td>\n",
       "      <td>clinical specimen</td>\n",
       "      <td>STRAIN-ISOLATE:INHABITS</td>\n",
       "      <td>INHABITS</td>\n",
       "      <td>STRAIN</td>\n",
       "      <td>ISOLATE</td>\n",
       "    </tr>\n",
       "    <tr>\n",
       "      <th>...</th>\n",
       "      <td>...</td>\n",
       "      <td>...</td>\n",
       "      <td>...</td>\n",
       "      <td>...</td>\n",
       "      <td>...</td>\n",
       "      <td>...</td>\n",
       "    </tr>\n",
       "    <tr>\n",
       "      <th>36821</th>\n",
       "      <td>shewanella oneidensis mr 1</td>\n",
       "      <td>palladium (</td>\n",
       "      <td>STRAIN-COMPOUND:PRODUCES</td>\n",
       "      <td>PRODUCES</td>\n",
       "      <td>STRAIN</td>\n",
       "      <td>COMPOUND</td>\n",
       "    </tr>\n",
       "    <tr>\n",
       "      <th>36822</th>\n",
       "      <td>methylosinus trichosporium ob3b</td>\n",
       "      <td>copper</td>\n",
       "      <td>STRAIN-COMPOUND:PRODUCES</td>\n",
       "      <td>PRODUCES</td>\n",
       "      <td>STRAIN</td>\n",
       "      <td>COMPOUND</td>\n",
       "    </tr>\n",
       "    <tr>\n",
       "      <th>36823</th>\n",
       "      <td>bifidobacterium animalis subsp lactis bb 12</td>\n",
       "      <td>te</td>\n",
       "      <td>STRAIN-COMPOUND:PRODUCES</td>\n",
       "      <td>PRODUCES</td>\n",
       "      <td>STRAIN</td>\n",
       "      <td>COMPOUND</td>\n",
       "    </tr>\n",
       "    <tr>\n",
       "      <th>36824</th>\n",
       "      <td>bifidobacterium animalis subsp lactis bb 12</td>\n",
       "      <td>n</td>\n",
       "      <td>STRAIN-COMPOUND:PRODUCES</td>\n",
       "      <td>PRODUCES</td>\n",
       "      <td>STRAIN</td>\n",
       "      <td>COMPOUND</td>\n",
       "    </tr>\n",
       "    <tr>\n",
       "      <th>36825</th>\n",
       "      <td>arthrospira platensis nies 46</td>\n",
       "      <td>hydrogen</td>\n",
       "      <td>STRAIN-COMPOUND:PRODUCES</td>\n",
       "      <td>PRODUCES</td>\n",
       "      <td>STRAIN</td>\n",
       "      <td>COMPOUND</td>\n",
       "    </tr>\n",
       "  </tbody>\n",
       "</table>\n",
       "<p>36826 rows × 6 columns</p>\n",
       "</div>"
      ],
      "text/plain": [
       "                                            source                    target  \\\n",
       "0                                        csur p902        feces of a patient   \n",
       "1                                        csur p902            intensive care   \n",
       "2                         prevotella intermedia 17  human periodontal pocket   \n",
       "3                 prevotella intermedia atcc 25611  human periodontal pocket   \n",
       "4                                       nccp 16833         clinical specimen   \n",
       "...                                            ...                       ...   \n",
       "36821                   shewanella oneidensis mr 1               palladium (   \n",
       "36822              methylosinus trichosporium ob3b                    copper   \n",
       "36823  bifidobacterium animalis subsp lactis bb 12                        te   \n",
       "36824  bifidobacterium animalis subsp lactis bb 12                         n   \n",
       "36825                arthrospira platensis nies 46                  hydrogen   \n",
       "\n",
       "                            rel        re source_ner target_ner  \n",
       "0       STRAIN-ISOLATE:INHABITS  INHABITS     STRAIN    ISOLATE  \n",
       "1       STRAIN-ISOLATE:INHABITS  INHABITS     STRAIN    ISOLATE  \n",
       "2       STRAIN-ISOLATE:INHABITS  INHABITS     STRAIN    ISOLATE  \n",
       "3       STRAIN-ISOLATE:INHABITS  INHABITS     STRAIN    ISOLATE  \n",
       "4       STRAIN-ISOLATE:INHABITS  INHABITS     STRAIN    ISOLATE  \n",
       "...                         ...       ...        ...        ...  \n",
       "36821  STRAIN-COMPOUND:PRODUCES  PRODUCES     STRAIN   COMPOUND  \n",
       "36822  STRAIN-COMPOUND:PRODUCES  PRODUCES     STRAIN   COMPOUND  \n",
       "36823  STRAIN-COMPOUND:PRODUCES  PRODUCES     STRAIN   COMPOUND  \n",
       "36824  STRAIN-COMPOUND:PRODUCES  PRODUCES     STRAIN   COMPOUND  \n",
       "36825  STRAIN-COMPOUND:PRODUCES  PRODUCES     STRAIN   COMPOUND  \n",
       "\n",
       "[36826 rows x 6 columns]"
      ]
     },
     "execution_count": 6,
     "metadata": {},
     "output_type": "execute_result"
    }
   ],
   "source": [
    "df"
   ]
  },
  {
   "cell_type": "code",
   "execution_count": 7,
   "metadata": {},
   "outputs": [],
   "source": [
    "g = graphistry.edges(df, 'source', 'target',directed=True)"
   ]
  },
  {
   "cell_type": "code",
   "execution_count": 8,
   "metadata": {},
   "outputs": [],
   "source": [
    "nodes_df = pd.concat([\n",
    "\tdf[[\"source\",\"source_ner\"]].rename(columns={\"source\":\"node_id\",\"source_ner\":\"type\"}),\n",
    "\tdf[['target','target_ner']].rename(columns={\"target\":\"node_id\",\"target_ner\":\"type\"})\n",
    "\t])"
   ]
  },
  {
   "cell_type": "code",
   "execution_count": 9,
   "metadata": {},
   "outputs": [],
   "source": [
    "import matplotlib"
   ]
  },
  {
   "cell_type": "code",
   "execution_count": 10,
   "metadata": {},
   "outputs": [
    {
     "ename": "NameError",
     "evalue": "name 'colors' is not defined",
     "output_type": "error",
     "traceback": [
      "\u001b[0;31m---------------------------------------------------------------------------\u001b[0m",
      "\u001b[0;31mNameError\u001b[0m                                 Traceback (most recent call last)",
      "Cell \u001b[0;32mIn[10], line 1\u001b[0m\n\u001b[0;32m----> 1\u001b[0m color_codes \u001b[38;5;241m=\u001b[39m [matplotlib\u001b[38;5;241m.\u001b[39mcolors\u001b[38;5;241m.\u001b[39mrgb2hex(color) \u001b[38;5;28;01mfor\u001b[39;00m color \u001b[38;5;129;01min\u001b[39;00m \u001b[43mcolors\u001b[49m]\n\u001b[1;32m      2\u001b[0m \u001b[38;5;28mprint\u001b[39m(color_codes)\n",
      "\u001b[0;31mNameError\u001b[0m: name 'colors' is not defined"
     ]
    }
   ],
   "source": [
    "color_codes = [matplotlib.colors.rgb2hex(color) for color in colors]\n",
    "print(color_codes)\n"
   ]
  },
  {
   "cell_type": "code",
   "execution_count": 11,
   "metadata": {},
   "outputs": [
    {
     "ename": "NameError",
     "evalue": "name 'color_codes' is not defined",
     "output_type": "error",
     "traceback": [
      "\u001b[0;31m---------------------------------------------------------------------------\u001b[0m",
      "\u001b[0;31mNameError\u001b[0m                                 Traceback (most recent call last)",
      "Cell \u001b[0;32mIn[11], line 22\u001b[0m\n\u001b[1;32m      1\u001b[0m g2 \u001b[38;5;241m=\u001b[39m (g\n\u001b[1;32m      2\u001b[0m       \u001b[38;5;241m.\u001b[39mnodes(nodes_df, \u001b[38;5;124m'\u001b[39m\u001b[38;5;124mnode_id\u001b[39m\u001b[38;5;124m'\u001b[39m)\n\u001b[1;32m      3\u001b[0m \n\u001b[1;32m      4\u001b[0m       \u001b[38;5;66;03m# 'red', '#f00', '#ff0000'\u001b[39;00m\n\u001b[1;32m      5\u001b[0m       \u001b[38;5;241m.\u001b[39mencode_point_color(\u001b[38;5;124m'\u001b[39m\u001b[38;5;124mtype\u001b[39m\u001b[38;5;124m'\u001b[39m, categorical_mapping\u001b[38;5;241m=\u001b[39m{\n\u001b[1;32m      6\u001b[0m           \u001b[38;5;124m'\u001b[39m\u001b[38;5;124mSTRAIN\u001b[39m\u001b[38;5;124m'\u001b[39m: \u001b[38;5;124m'\u001b[39m\u001b[38;5;124mblue\u001b[39m\u001b[38;5;124m'\u001b[39m,\n\u001b[1;32m      7\u001b[0m           \u001b[38;5;124m'\u001b[39m\u001b[38;5;124mISOLATE\u001b[39m\u001b[38;5;124m'\u001b[39m: \u001b[38;5;124m'\u001b[39m\u001b[38;5;124mdarkblue\u001b[39m\u001b[38;5;124m'\u001b[39m,\n\u001b[1;32m      8\u001b[0m           \u001b[38;5;124m'\u001b[39m\u001b[38;5;124mMETABOLITE\u001b[39m\u001b[38;5;124m'\u001b[39m: \u001b[38;5;124m'\u001b[39m\u001b[38;5;124myellow\u001b[39m\u001b[38;5;124m'\u001b[39m,\n\u001b[1;32m      9\u001b[0m           \u001b[38;5;124m'\u001b[39m\u001b[38;5;124mMEDIUM\u001b[39m\u001b[38;5;124m'\u001b[39m: \u001b[38;5;124m'\u001b[39m\u001b[38;5;124morange\u001b[39m\u001b[38;5;124m'\u001b[39m,\n\u001b[1;32m     10\u001b[0m           \u001b[38;5;124m'\u001b[39m\u001b[38;5;124mDISEASE\u001b[39m\u001b[38;5;124m'\u001b[39m:\u001b[38;5;124m\"\u001b[39m\u001b[38;5;124mpurple\u001b[39m\u001b[38;5;124m\"\u001b[39m,\n\u001b[1;32m     11\u001b[0m           \u001b[38;5;124m'\u001b[39m\u001b[38;5;124mCOMPOUND\u001b[39m\u001b[38;5;124m'\u001b[39m: \u001b[38;5;124m\"\u001b[39m\u001b[38;5;124mblue\u001b[39m\u001b[38;5;124m\"\u001b[39m,\n\u001b[1;32m     12\u001b[0m           \u001b[38;5;124m'\u001b[39m\u001b[38;5;124mPHENOTYPE\u001b[39m\u001b[38;5;124m'\u001b[39m: \u001b[38;5;124m\"\u001b[39m\u001b[38;5;124mred\u001b[39m\u001b[38;5;124m\"\u001b[39m,\n\u001b[1;32m     13\u001b[0m           \u001b[38;5;124m'\u001b[39m\u001b[38;5;124mMORPHOLOGY\u001b[39m\u001b[38;5;124m'\u001b[39m: \u001b[38;5;124m'\u001b[39m\u001b[38;5;124mdarkgreen\u001b[39m\u001b[38;5;124m'\u001b[39m,\n\u001b[1;32m     14\u001b[0m           \u001b[38;5;124m'\u001b[39m\u001b[38;5;124mEFFECT\u001b[39m\u001b[38;5;124m'\u001b[39m: \u001b[38;5;124m'\u001b[39m\u001b[38;5;124mgreen\u001b[39m\u001b[38;5;124m'\u001b[39m,\n\u001b[1;32m     15\u001b[0m           \u001b[38;5;124m'\u001b[39m\u001b[38;5;124mPROTEIN\u001b[39m\u001b[38;5;124m'\u001b[39m: \u001b[38;5;124m'\u001b[39m\u001b[38;5;124mlightblue\u001b[39m\u001b[38;5;124m'\u001b[39m,\n\u001b[1;32m     16\u001b[0m             \u001b[38;5;124m'\u001b[39m\u001b[38;5;124mGENE\u001b[39m\u001b[38;5;124m'\u001b[39m: \u001b[38;5;124m'\u001b[39m\u001b[38;5;124mlightgreen\u001b[39m\u001b[38;5;124m'\u001b[39m,\n\u001b[1;32m     17\u001b[0m             \u001b[38;5;124m'\u001b[39m\u001b[38;5;124mORGANISM\u001b[39m\u001b[38;5;124m'\u001b[39m: \u001b[38;5;124m'\u001b[39m\u001b[38;5;124mlightyellow\u001b[39m\u001b[38;5;124m'\u001b[39m,\n\u001b[1;32m     18\u001b[0m             \u001b[38;5;124m'\u001b[39m\u001b[38;5;124mSPECIES\u001b[39m\u001b[38;5;124m'\u001b[39m: \u001b[38;5;124m'\u001b[39m\u001b[38;5;124mpink\u001b[39m\u001b[38;5;124m'\u001b[39m\n\u001b[1;32m     19\u001b[0m       }, default_mapping\u001b[38;5;241m=\u001b[39m\u001b[38;5;124m'\u001b[39m\u001b[38;5;124mred\u001b[39m\u001b[38;5;124m'\u001b[39m)\n\u001b[1;32m     20\u001b[0m \n\u001b[1;32m     21\u001b[0m       \u001b[38;5;66;03m# Gradient\u001b[39;00m\n\u001b[0;32m---> 22\u001b[0m       \u001b[38;5;241m.\u001b[39mencode_edge_color(\u001b[38;5;124m'\u001b[39m\u001b[38;5;124mre\u001b[39m\u001b[38;5;124m'\u001b[39m, palette\u001b[38;5;241m=\u001b[39m\u001b[43mcolor_codes\u001b[49m, as_continuous\u001b[38;5;241m=\u001b[39m\u001b[38;5;28;01mFalse\u001b[39;00m)\n\u001b[1;32m     23\u001b[0m \n\u001b[1;32m     24\u001b[0m \n\u001b[1;32m     25\u001b[0m       \u001b[38;5;241m.\u001b[39maddStyle(bg\u001b[38;5;241m=\u001b[39m{\u001b[38;5;124m'\u001b[39m\u001b[38;5;124mcolor\u001b[39m\u001b[38;5;124m'\u001b[39m: \u001b[38;5;124m'\u001b[39m\u001b[38;5;124m#eee\u001b[39m\u001b[38;5;124m'\u001b[39m}, page\u001b[38;5;241m=\u001b[39m{\u001b[38;5;124m'\u001b[39m\u001b[38;5;124mtitle\u001b[39m\u001b[38;5;124m'\u001b[39m: \u001b[38;5;124m'\u001b[39m\u001b[38;5;124mMy Graph\u001b[39m\u001b[38;5;124m'\u001b[39m})\n\u001b[1;32m     26\u001b[0m \n\u001b[1;32m     27\u001b[0m       \u001b[38;5;66;03m# Options: https://hub.graphistry.com/docs/api/1/rest/url/\u001b[39;00m\n\u001b[1;32m     28\u001b[0m       \u001b[38;5;241m.\u001b[39msettings(url_params\u001b[38;5;241m=\u001b[39m{\u001b[38;5;124m'\u001b[39m\u001b[38;5;124mplay\u001b[39m\u001b[38;5;124m'\u001b[39m: \u001b[38;5;241m1000\u001b[39m, \u001b[38;5;124m'\u001b[39m\u001b[38;5;124mpointSize\u001b[39m\u001b[38;5;124m'\u001b[39m: \u001b[38;5;241m0.5\u001b[39m})\n\u001b[1;32m     29\u001b[0m )\n\u001b[1;32m     31\u001b[0m g2\u001b[38;5;241m.\u001b[39mplot(as_files\u001b[38;5;241m=\u001b[39m\u001b[38;5;28;01mTrue\u001b[39;00m)\n",
      "\u001b[0;31mNameError\u001b[0m: name 'color_codes' is not defined"
     ]
    }
   ],
   "source": [
    "g2 = (g\n",
    "      .nodes(nodes_df, 'node_id')\n",
    "\n",
    "      # 'red', '#f00', '#ff0000'\n",
    "      .encode_point_color('type', categorical_mapping={\n",
    "          'STRAIN': 'blue',\n",
    "          'ISOLATE': 'darkblue',\n",
    "          'METABOLITE': 'yellow',\n",
    "          'MEDIUM': 'orange',\n",
    "          'DISEASE':\"purple\",\n",
    "          'COMPOUND': \"blue\",\n",
    "          'PHENOTYPE': \"red\",\n",
    "          'MORPHOLOGY': 'darkgreen',\n",
    "          'EFFECT': 'green',\n",
    "          'PROTEIN': 'lightblue',\n",
    "            'GENE': 'lightgreen',\n",
    "            'ORGANISM': 'lightyellow',\n",
    "            'SPECIES': 'pink'\n",
    "      }, default_mapping='red')\n",
    "\n",
    "      # Gradient\n",
    "      .encode_edge_color('re', palette=color_codes, as_continuous=False)\n",
    "\n",
    "\n",
    "      .addStyle(bg={'color': '#eee'}, page={'title': 'My Graph'})\n",
    "\n",
    "      # Options: https://hub.graphistry.com/docs/api/1/rest/url/\n",
    "      .settings(url_params={'play': 1000, 'pointSize': 0.5})\n",
    ")\n",
    "\n",
    "g2.plot(as_files=True)"
   ]
  },
  {
   "cell_type": "code",
   "execution_count": null,
   "metadata": {},
   "outputs": [],
   "source": []
  }
 ],
 "metadata": {
  "kernelspec": {
   "display_name": "base",
   "language": "python",
   "name": "python3"
  },
  "language_info": {
   "codemirror_mode": {
    "name": "ipython",
    "version": 3
   },
   "file_extension": ".py",
   "mimetype": "text/x-python",
   "name": "python",
   "nbconvert_exporter": "python",
   "pygments_lexer": "ipython3",
   "version": "3.11.8"
  }
 },
 "nbformat": 4,
 "nbformat_minor": 2
}
