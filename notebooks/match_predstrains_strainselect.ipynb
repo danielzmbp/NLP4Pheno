{
 "cells": [
  {
   "cell_type": "code",
   "execution_count": 1,
   "metadata": {},
   "outputs": [
    {
     "name": "stderr",
     "output_type": "stream",
     "text": [
      "/tmp/ipykernel_183866/2724946575.py:2: TqdmExperimentalWarning: Using `tqdm.autonotebook.tqdm` in notebook mode. Use `tqdm.tqdm` instead to force console mode (e.g. in jupyter console)\n",
      "  from tqdm.autonotebook import tqdm\n"
     ]
    }
   ],
   "source": [
    "import pandas as pd\n",
    "from tqdm.autonotebook import tqdm\n",
    "from rapidfuzz import fuzz\n",
    "from rapidfuzz import process\n",
    "import multiprocessing\n",
    "import itertools\n",
    "from scipy import sparse\n",
    "\n",
    "data = \"1500\""
   ]
  },
  {
   "cell_type": "code",
   "execution_count": 2,
   "metadata": {},
   "outputs": [],
   "source": [
    "df = pd.read_parquet(f\"../../../gomez/preds{data}/REL_output/preds.parquet\")"
   ]
  },
  {
   "cell_type": "code",
   "execution_count": 3,
   "metadata": {},
   "outputs": [
    {
     "name": "stderr",
     "output_type": "stream",
     "text": [
      "/tmp/ipykernel_183866/4010815123.py:1: DtypeWarning: Columns (3) have mixed types. Specify dtype option on import or set low_memory=False.\n",
      "  vertices = pd.read_csv(\"../strain_select/StrainSelect21_vertices.tab.txt\", sep= \"\\t\").drop(columns=[\"StrainSelectID_2019\"])\n"
     ]
    }
   ],
   "source": [
    "vertices = pd.read_csv(\"../strain_select/StrainSelect21_vertices.tab.txt\", sep= \"\\t\").drop(columns=[\"StrainSelectID_2019\"])\n",
    "vertices[\"vertex_dot\"] = vertices.vertex.str.replace(\"_\", \".\").str.lower()\n",
    "edges = pd.read_csv(\"../strain_select/StrainSelect21_edges.tab.txt\", sep= \"\\t\")"
   ]
  },
  {
   "cell_type": "markdown",
   "metadata": {},
   "source": [
    "- How many strains do I lose if I only use matched strains?\n",
    "- How many assemblies do I lose if I only use linked assembly accessions?"
   ]
  },
  {
   "cell_type": "markdown",
   "metadata": {},
   "source": [
    "- run partial_ratio and extract the 100 where len(string) > x and remove from the pool.\n",
    "\t- after, split target by dots, and do full match again, if 100 for one, then match it\n",
    "- run again with the WRatio and extract maybe > 97 or 98"
   ]
  },
  {
   "cell_type": "markdown",
   "metadata": {},
   "source": [
    "## Merge"
   ]
  },
  {
   "cell_type": "code",
   "execution_count": 4,
   "metadata": {},
   "outputs": [],
   "source": [
    "vertices_noass = vertices[\n",
    "\t(vertices.vertex_type.str.endswith(\"_assembly\") == False)\n",
    "].vertex_dot.to_list() # Remove assembly accessions "
   ]
  },
  {
   "cell_type": "code",
   "execution_count": 5,
   "metadata": {},
   "outputs": [],
   "source": [
    "df[\"vertex_dot\"] = df.word_strain_qc.str.replace(\" \",\".\").str.replace(\"-\",\".\").str.replace(\"atcc\",\"atcc.\").str.replace(\"dsm\",\"dsm.\").str.replace(\"=\",\"\").str.replace(\"“\",\"\").str.replace(\"”\",\"\").str.replace('\"',\"\").str.replace(\"^\",\"\").str.replace(\":\",\".\").str.replace(\"®\",\"\").str.replace(\"™\",\"\").str.replace(\"’\",\"\").str.replace(\"‘\",\"\").str.replace(\"(\",\"\").str.replace(\")\",\"\").str.replace(\",\",\"\").str.replace(\"/\",\".\").str.replace(\"_\",\".\").str.replace(\"cip\",\"cip.\").str.replace(\"nccp\",\"nccp.\").str.replace(\"...\",\".\").str.replace(\"..\",\".\")\n",
    "strains = df.vertex_dot.unique()\n",
    "strains = [strain for strain in strains if len(strain.replace(\".\",\"\")) > 2]"
   ]
  },
  {
   "cell_type": "markdown",
   "metadata": {},
   "source": [
    "## Builtin-parallel\n",
    "### Small"
   ]
  },
  {
   "cell_type": "code",
   "execution_count": 6,
   "metadata": {},
   "outputs": [],
   "source": [
    "strains_small = strains[:20000]"
   ]
  },
  {
   "cell_type": "code",
   "execution_count": 7,
   "metadata": {},
   "outputs": [],
   "source": [
    "all_matches_partial = process.cdist(strains_small, vertices_noass, scorer=fuzz.partial_ratio, workers=150, score_cutoff=95)"
   ]
  },
  {
   "cell_type": "code",
   "execution_count": 8,
   "metadata": {},
   "outputs": [],
   "source": [
    "all_matches_partial_sparse = sparse.csr_matrix(all_matches_partial)"
   ]
  },
  {
   "cell_type": "code",
   "execution_count": 9,
   "metadata": {},
   "outputs": [],
   "source": [
    "nonzero_values = all_matches_partial_sparse.data\n",
    "nonzero_row_indices = all_matches_partial_sparse.nonzero()[0]\n",
    "nonzero_col_indices = all_matches_partial_sparse.nonzero()[1]"
   ]
  },
  {
   "cell_type": "code",
   "execution_count": 10,
   "metadata": {},
   "outputs": [],
   "source": [
    "df_all_matches_partial = pd.DataFrame({\n",
    "    'strain': nonzero_row_indices,\n",
    "    'strainselect': nonzero_col_indices,\n",
    "    'score_partial': nonzero_values\n",
    "})"
   ]
  },
  {
   "cell_type": "code",
   "execution_count": 11,
   "metadata": {},
   "outputs": [],
   "source": [
    "df_all_matches_partial['strain'] = df_all_matches_partial['strain'].map(lambda x: strains_small[x])\n",
    "df_all_matches_partial['strainselect'] = df_all_matches_partial['strainselect'].map(lambda x: vertices_noass[x])"
   ]
  },
  {
   "cell_type": "code",
   "execution_count": 12,
   "metadata": {},
   "outputs": [],
   "source": [
    "def all_combinations(text):\n",
    "  \"\"\"\n",
    "  Generates all possible combinations of splits of a string by period.\n",
    "\n",
    "  Args:\n",
    "      text: The string to split.\n",
    "\n",
    "  Returns:\n",
    "      A generator object containing all possible combinations of splits.\n",
    "  \"\"\"\n",
    "  for length in range(len(text) + 1):\n",
    "    for combo in itertools.combinations(text.split('.'), length):\n",
    "      yield '.'.join(combo)\n"
   ]
  },
  {
   "cell_type": "code",
   "execution_count": 13,
   "metadata": {},
   "outputs": [],
   "source": [
    "high_abundant = df_all_matches_partial.groupby(\"strain\").count().sort_values(\"score_partial\", ascending=False).query(\"score_partial < 2000\").index.to_list()"
   ]
  },
  {
   "cell_type": "code",
   "execution_count": 14,
   "metadata": {},
   "outputs": [],
   "source": [
    "filtered_df_all_matches_partial = df_all_matches_partial.query(\"strain in @high_abundant\")"
   ]
  },
  {
   "cell_type": "code",
   "execution_count": 15,
   "metadata": {},
   "outputs": [
    {
     "data": {
      "application/vnd.jupyter.widget-view+json": {
       "model_id": "ecaf24ac34c0497ea6943ee9c7a7bbf5",
       "version_major": 2,
       "version_minor": 0
      },
      "text/plain": [
       "  0%|          | 0/903492 [00:00<?, ?it/s]"
      ]
     },
     "metadata": {},
     "output_type": "display_data"
    },
    {
     "name": "stderr",
     "output_type": "stream",
     "text": [
      "/tmp/ipykernel_183866/555690296.py:4: SettingWithCopyWarning: \n",
      "A value is trying to be set on a copy of a slice from a DataFrame.\n",
      "Try using .loc[row_indexer,col_indexer] = value instead\n",
      "\n",
      "See the caveats in the documentation: https://pandas.pydata.org/pandas-docs/stable/user_guide/indexing.html#returning-a-view-versus-a-copy\n",
      "  filtered_df_all_matches_partial.loc[i[0],\"score_parts\"] = r[0][1]\n"
     ]
    }
   ],
   "source": [
    "matches_partial = []\n",
    "for i in tqdm(filtered_df_all_matches_partial.iterrows(), total=filtered_df_all_matches_partial.shape[0]):\n",
    "\tr = process.extract(i[1][\"strain\"], list(all_combinations(i[1][\"strainselect\"]))[1:])\n",
    "\tfiltered_df_all_matches_partial.loc[i[0],\"score_parts\"] = r[0][1]\n"
   ]
  },
  {
   "cell_type": "code",
   "execution_count": 16,
   "metadata": {},
   "outputs": [],
   "source": [
    "filtered_df_all_matches_partial = filtered_df_all_matches_partial.merge(vertices, left_on=\"strainselect\", right_on=\"vertex_dot\")"
   ]
  },
  {
   "cell_type": "code",
   "execution_count": 17,
   "metadata": {},
   "outputs": [],
   "source": [
    "def filter_strains(df):\n",
    "    def check_strainselectid(group):\n",
    "        return len(group['StrainSelectID'].unique()) == 1\n",
    "\n",
    "    filtered = df.groupby('strain').filter(check_strainselectid)\n",
    "\n",
    "    # If you need to keep only the first row of remaining strains:\n",
    "    return filtered.groupby('strain').head(1)"
   ]
  },
  {
   "cell_type": "code",
   "execution_count": 18,
   "metadata": {},
   "outputs": [
    {
     "name": "stderr",
     "output_type": "stream",
     "text": [
      "/tmp/ipykernel_183866/2062716169.py:2: FutureWarning: The provided callable <built-in function max> is currently using SeriesGroupBy.max. In a future version of pandas, the provided callable will be used directly. To keep current behavior pass the string \"max\" instead.\n",
      "  return df[df.groupby('strain')['score_partial'].transform(max) == df['score_partial']]\n"
     ]
    }
   ],
   "source": [
    "def g(df):\n",
    "    return df[df.groupby('strain')['score_partial'].transform(max) == df['score_partial']]\n",
    "\n",
    "df_matches_partial = filter_strains(g(filtered_df_all_matches_partial))"
   ]
  },
  {
   "cell_type": "code",
   "execution_count": 19,
   "metadata": {},
   "outputs": [],
   "source": [
    "df_matches_partial = df_matches_partial[~((df_matches_partial['score_parts'] == 90) & (df_matches_partial['score_partial'] == 95))]\n"
   ]
  },
  {
   "cell_type": "code",
   "execution_count": 20,
   "metadata": {},
   "outputs": [
    {
     "data": {
      "text/html": [
       "<div>\n",
       "<style scoped>\n",
       "    .dataframe tbody tr th:only-of-type {\n",
       "        vertical-align: middle;\n",
       "    }\n",
       "\n",
       "    .dataframe tbody tr th {\n",
       "        vertical-align: top;\n",
       "    }\n",
       "\n",
       "    .dataframe thead th {\n",
       "        text-align: right;\n",
       "    }\n",
       "</style>\n",
       "<table border=\"1\" class=\"dataframe\">\n",
       "  <thead>\n",
       "    <tr style=\"text-align: right;\">\n",
       "      <th></th>\n",
       "      <th>strain</th>\n",
       "      <th>strainselect</th>\n",
       "      <th>score_partial</th>\n",
       "      <th>score_parts</th>\n",
       "      <th>vertex</th>\n",
       "      <th>vertex_type</th>\n",
       "      <th>StrainSelectID</th>\n",
       "      <th>vertex_dot</th>\n",
       "    </tr>\n",
       "  </thead>\n",
       "  <tbody>\n",
       "    <tr>\n",
       "      <th>0</th>\n",
       "      <td>ltyr.11z</td>\n",
       "      <td>pantoea.alhagi.ltyr.11z</td>\n",
       "      <td>100.000000</td>\n",
       "      <td>100.000000</td>\n",
       "      <td>pantoea.alhagi.ltyr.11z</td>\n",
       "      <td>gss</td>\n",
       "      <td>t__242713</td>\n",
       "      <td>pantoea.alhagi.ltyr.11z</td>\n",
       "    </tr>\n",
       "    <tr>\n",
       "      <th>1</th>\n",
       "      <td>gbl13</td>\n",
       "      <td>acidipropionibacterium.damnosum.igbl13</td>\n",
       "      <td>100.000000</td>\n",
       "      <td>90.909091</td>\n",
       "      <td>acidipropionibacterium.damnosum.igbl13</td>\n",
       "      <td>gss</td>\n",
       "      <td>t__299550</td>\n",
       "      <td>acidipropionibacterium.damnosum.igbl13</td>\n",
       "    </tr>\n",
       "    <tr>\n",
       "      <th>4568</th>\n",
       "      <td>dst69</td>\n",
       "      <td>delftia.acidovorans.dst69</td>\n",
       "      <td>100.000000</td>\n",
       "      <td>100.000000</td>\n",
       "      <td>delftia.acidovorans.dst69</td>\n",
       "      <td>gss</td>\n",
       "      <td>t__416547</td>\n",
       "      <td>delftia.acidovorans.dst69</td>\n",
       "    </tr>\n",
       "    <tr>\n",
       "      <th>4583</th>\n",
       "      <td>bfr.ca.14430</td>\n",
       "      <td>campylobacter.jejuni.bfr.ca.14430</td>\n",
       "      <td>100.000000</td>\n",
       "      <td>100.000000</td>\n",
       "      <td>campylobacter.jejuni.bfr.ca.14430</td>\n",
       "      <td>gss</td>\n",
       "      <td>t__336881</td>\n",
       "      <td>campylobacter.jejuni.bfr.ca.14430</td>\n",
       "    </tr>\n",
       "    <tr>\n",
       "      <th>4587</th>\n",
       "      <td>pseudomonas.alcaligenes.ot69</td>\n",
       "      <td>pseudomonas.alcaligenes.ot.69</td>\n",
       "      <td>96.428574</td>\n",
       "      <td>98.245614</td>\n",
       "      <td>pseudomonas.alcaligenes.ot.69</td>\n",
       "      <td>gss</td>\n",
       "      <td>t__155309</td>\n",
       "      <td>pseudomonas.alcaligenes.ot.69</td>\n",
       "    </tr>\n",
       "    <tr>\n",
       "      <th>...</th>\n",
       "      <td>...</td>\n",
       "      <td>...</td>\n",
       "      <td>...</td>\n",
       "      <td>...</td>\n",
       "      <td>...</td>\n",
       "      <td>...</td>\n",
       "      <td>...</td>\n",
       "      <td>...</td>\n",
       "    </tr>\n",
       "    <tr>\n",
       "      <th>903443</th>\n",
       "      <td>28isp2.</td>\n",
       "      <td>micromonospora.sp.28isp2.46</td>\n",
       "      <td>100.000000</td>\n",
       "      <td>92.307692</td>\n",
       "      <td>micromonospora.sp.28isp2.46</td>\n",
       "      <td>gss</td>\n",
       "      <td>t__321237</td>\n",
       "      <td>micromonospora.sp.28isp2.46</td>\n",
       "    </tr>\n",
       "    <tr>\n",
       "      <th>903444</th>\n",
       "      <td>at1b</td>\n",
       "      <td>exiguobacterium.sp.at1b</td>\n",
       "      <td>100.000000</td>\n",
       "      <td>100.000000</td>\n",
       "      <td>exiguobacterium.sp.at1b</td>\n",
       "      <td>gss</td>\n",
       "      <td>t__1680</td>\n",
       "      <td>exiguobacterium.sp.at1b</td>\n",
       "    </tr>\n",
       "    <tr>\n",
       "      <th>903447</th>\n",
       "      <td>sinorhizobium.fredii.gr64</td>\n",
       "      <td>sinorhizobium.fredii.gr64</td>\n",
       "      <td>100.000000</td>\n",
       "      <td>100.000000</td>\n",
       "      <td>sinorhizobium.fredii.gr64</td>\n",
       "      <td>gss</td>\n",
       "      <td>t__123868</td>\n",
       "      <td>sinorhizobium.fredii.gr64</td>\n",
       "    </tr>\n",
       "    <tr>\n",
       "      <th>903457</th>\n",
       "      <td>p.angustum.s14</td>\n",
       "      <td>photobacterium.angustum.s14</td>\n",
       "      <td>96.296295</td>\n",
       "      <td>92.307692</td>\n",
       "      <td>photobacterium.angustum.s14</td>\n",
       "      <td>gss</td>\n",
       "      <td>t__129723</td>\n",
       "      <td>photobacterium.angustum.s14</td>\n",
       "    </tr>\n",
       "    <tr>\n",
       "      <th>903469</th>\n",
       "      <td>cronobacter.sakazakii.sp291</td>\n",
       "      <td>cronobacter.sakazakii.sp291</td>\n",
       "      <td>100.000000</td>\n",
       "      <td>100.000000</td>\n",
       "      <td>cronobacter.sakazakii.sp291</td>\n",
       "      <td>gss</td>\n",
       "      <td>t__93041</td>\n",
       "      <td>cronobacter.sakazakii.sp291</td>\n",
       "    </tr>\n",
       "  </tbody>\n",
       "</table>\n",
       "<p>5226 rows × 8 columns</p>\n",
       "</div>"
      ],
      "text/plain": [
       "                              strain                            strainselect  \\\n",
       "0                           ltyr.11z                 pantoea.alhagi.ltyr.11z   \n",
       "1                              gbl13  acidipropionibacterium.damnosum.igbl13   \n",
       "4568                           dst69               delftia.acidovorans.dst69   \n",
       "4583                    bfr.ca.14430       campylobacter.jejuni.bfr.ca.14430   \n",
       "4587    pseudomonas.alcaligenes.ot69           pseudomonas.alcaligenes.ot.69   \n",
       "...                              ...                                     ...   \n",
       "903443                       28isp2.             micromonospora.sp.28isp2.46   \n",
       "903444                          at1b                 exiguobacterium.sp.at1b   \n",
       "903447     sinorhizobium.fredii.gr64               sinorhizobium.fredii.gr64   \n",
       "903457                p.angustum.s14             photobacterium.angustum.s14   \n",
       "903469   cronobacter.sakazakii.sp291             cronobacter.sakazakii.sp291   \n",
       "\n",
       "        score_partial  score_parts                                  vertex  \\\n",
       "0          100.000000   100.000000                 pantoea.alhagi.ltyr.11z   \n",
       "1          100.000000    90.909091  acidipropionibacterium.damnosum.igbl13   \n",
       "4568       100.000000   100.000000               delftia.acidovorans.dst69   \n",
       "4583       100.000000   100.000000       campylobacter.jejuni.bfr.ca.14430   \n",
       "4587        96.428574    98.245614           pseudomonas.alcaligenes.ot.69   \n",
       "...               ...          ...                                     ...   \n",
       "903443     100.000000    92.307692             micromonospora.sp.28isp2.46   \n",
       "903444     100.000000   100.000000                 exiguobacterium.sp.at1b   \n",
       "903447     100.000000   100.000000               sinorhizobium.fredii.gr64   \n",
       "903457      96.296295    92.307692             photobacterium.angustum.s14   \n",
       "903469     100.000000   100.000000             cronobacter.sakazakii.sp291   \n",
       "\n",
       "       vertex_type StrainSelectID                              vertex_dot  \n",
       "0              gss      t__242713                 pantoea.alhagi.ltyr.11z  \n",
       "1              gss      t__299550  acidipropionibacterium.damnosum.igbl13  \n",
       "4568           gss      t__416547               delftia.acidovorans.dst69  \n",
       "4583           gss      t__336881       campylobacter.jejuni.bfr.ca.14430  \n",
       "4587           gss      t__155309           pseudomonas.alcaligenes.ot.69  \n",
       "...            ...            ...                                     ...  \n",
       "903443         gss      t__321237             micromonospora.sp.28isp2.46  \n",
       "903444         gss        t__1680                 exiguobacterium.sp.at1b  \n",
       "903447         gss      t__123868               sinorhizobium.fredii.gr64  \n",
       "903457         gss      t__129723             photobacterium.angustum.s14  \n",
       "903469         gss       t__93041             cronobacter.sakazakii.sp291  \n",
       "\n",
       "[5226 rows x 8 columns]"
      ]
     },
     "execution_count": 20,
     "metadata": {},
     "output_type": "execute_result"
    }
   ],
   "source": [
    "df_matches_partial"
   ]
  },
  {
   "cell_type": "markdown",
   "metadata": {},
   "source": [
    "### Full"
   ]
  },
  {
   "cell_type": "code",
   "execution_count": 21,
   "metadata": {},
   "outputs": [],
   "source": [
    "strains_left = list(set(strains_small) - set(df_matches_partial.strain.unique()))"
   ]
  },
  {
   "cell_type": "code",
   "execution_count": 22,
   "metadata": {},
   "outputs": [],
   "source": [
    "all_matches_full = process.cdist(strains_left, vertices_noass, workers=150, score_cutoff=90)"
   ]
  },
  {
   "cell_type": "code",
   "execution_count": 23,
   "metadata": {},
   "outputs": [],
   "source": [
    "all_matches_full_sparse = sparse.csr_matrix(all_matches_full)"
   ]
  },
  {
   "cell_type": "code",
   "execution_count": 24,
   "metadata": {},
   "outputs": [],
   "source": [
    "nonzero_values = all_matches_full_sparse.data\n",
    "nonzero_row_indices = all_matches_full_sparse.nonzero()[0]\n",
    "nonzero_col_indices = all_matches_full_sparse.nonzero()[1]"
   ]
  },
  {
   "cell_type": "code",
   "execution_count": 25,
   "metadata": {},
   "outputs": [],
   "source": [
    "df_all_matches_full = pd.DataFrame({\n",
    "    'strain': nonzero_row_indices,\n",
    "    'strainselect': nonzero_col_indices,\n",
    "    'score_full': nonzero_values\n",
    "})"
   ]
  },
  {
   "cell_type": "code",
   "execution_count": 26,
   "metadata": {},
   "outputs": [],
   "source": [
    "df_all_matches_full['strain'] = df_all_matches_full['strain'].map(lambda x: strains_left[x])\n",
    "df_all_matches_full['strainselect'] = df_all_matches_full['strainselect'].map(lambda x: vertices_noass[x])"
   ]
  },
  {
   "cell_type": "code",
   "execution_count": 27,
   "metadata": {},
   "outputs": [],
   "source": [
    "filtered_df_all_matches_full = df_all_matches_full.merge(vertices, left_on=\"strainselect\", right_on=\"vertex_dot\")"
   ]
  },
  {
   "cell_type": "code",
   "execution_count": 28,
   "metadata": {},
   "outputs": [
    {
     "name": "stderr",
     "output_type": "stream",
     "text": [
      "/tmp/ipykernel_183866/1765831059.py:2: FutureWarning: The provided callable <built-in function max> is currently using SeriesGroupBy.max. In a future version of pandas, the provided callable will be used directly. To keep current behavior pass the string \"max\" instead.\n",
      "  return df[df.groupby('strain')['score_full'].transform(max) == df['score_full']]\n"
     ]
    }
   ],
   "source": [
    "def gf(df):\n",
    "    return df[df.groupby('strain')['score_full'].transform(max) == df['score_full']]\n",
    "df_matches_full = filter_strains(gf(filtered_df_all_matches_full))"
   ]
  },
  {
   "cell_type": "code",
   "execution_count": 29,
   "metadata": {},
   "outputs": [
    {
     "data": {
      "text/html": [
       "<div>\n",
       "<style scoped>\n",
       "    .dataframe tbody tr th:only-of-type {\n",
       "        vertical-align: middle;\n",
       "    }\n",
       "\n",
       "    .dataframe tbody tr th {\n",
       "        vertical-align: top;\n",
       "    }\n",
       "\n",
       "    .dataframe thead th {\n",
       "        text-align: right;\n",
       "    }\n",
       "</style>\n",
       "<table border=\"1\" class=\"dataframe\">\n",
       "  <thead>\n",
       "    <tr style=\"text-align: right;\">\n",
       "      <th></th>\n",
       "      <th>strain</th>\n",
       "      <th>strainselect</th>\n",
       "      <th>score_full</th>\n",
       "      <th>vertex</th>\n",
       "      <th>vertex_type</th>\n",
       "      <th>StrainSelectID</th>\n",
       "      <th>vertex_dot</th>\n",
       "    </tr>\n",
       "  </thead>\n",
       "  <tbody>\n",
       "    <tr>\n",
       "      <th>43</th>\n",
       "      <td>pseudomonas.st1</td>\n",
       "      <td>pseudomonas.sp.t1</td>\n",
       "      <td>93.750000</td>\n",
       "      <td>pseudomonas.sp.t1</td>\n",
       "      <td>gss</td>\n",
       "      <td>t__533196</td>\n",
       "      <td>pseudomonas.sp.t1</td>\n",
       "    </tr>\n",
       "    <tr>\n",
       "      <th>555</th>\n",
       "      <td>enterococcus.faecalis.14</td>\n",
       "      <td>enterococcus.faecalis.14</td>\n",
       "      <td>100.000000</td>\n",
       "      <td>enterococcus.faecalis.14</td>\n",
       "      <td>gss</td>\n",
       "      <td>t__708580</td>\n",
       "      <td>enterococcus.faecalis.14</td>\n",
       "    </tr>\n",
       "    <tr>\n",
       "      <th>1346</th>\n",
       "      <td>escherichia.coli.e2</td>\n",
       "      <td>escherichia.coli.e2</td>\n",
       "      <td>100.000000</td>\n",
       "      <td>escherichia.coli.e2</td>\n",
       "      <td>gss</td>\n",
       "      <td>t__164523</td>\n",
       "      <td>escherichia.coli.e2</td>\n",
       "    </tr>\n",
       "    <tr>\n",
       "      <th>3155</th>\n",
       "      <td>chryseobacterium.cbo1</td>\n",
       "      <td>chryseobacterium.sp.cbo1</td>\n",
       "      <td>93.333336</td>\n",
       "      <td>chryseobacterium.sp.cbo1</td>\n",
       "      <td>gss</td>\n",
       "      <td>t__210088</td>\n",
       "      <td>chryseobacterium.sp.cbo1</td>\n",
       "    </tr>\n",
       "    <tr>\n",
       "      <th>3319</th>\n",
       "      <td>serratia.marcescens.fs14</td>\n",
       "      <td>serratia.marcescens.s14</td>\n",
       "      <td>97.872337</td>\n",
       "      <td>serratia.marcescens.s14</td>\n",
       "      <td>gss</td>\n",
       "      <td>t__550764</td>\n",
       "      <td>serratia.marcescens.s14</td>\n",
       "    </tr>\n",
       "    <tr>\n",
       "      <th>...</th>\n",
       "      <td>...</td>\n",
       "      <td>...</td>\n",
       "      <td>...</td>\n",
       "      <td>...</td>\n",
       "      <td>...</td>\n",
       "      <td>...</td>\n",
       "      <td>...</td>\n",
       "    </tr>\n",
       "    <tr>\n",
       "      <th>141879</th>\n",
       "      <td>lactiplantibacillus.plantarum.sam2</td>\n",
       "      <td>lactiplantibacillus.plantarum.sm2</td>\n",
       "      <td>98.507462</td>\n",
       "      <td>lactiplantibacillus.plantarum.sm2</td>\n",
       "      <td>gss</td>\n",
       "      <td>t__624280</td>\n",
       "      <td>lactiplantibacillus.plantarum.sm2</td>\n",
       "    </tr>\n",
       "    <tr>\n",
       "      <th>142986</th>\n",
       "      <td>thermus.thermophilus.tmy</td>\n",
       "      <td>thermus.thermophilus.tmy</td>\n",
       "      <td>100.000000</td>\n",
       "      <td>thermus.thermophilus.tmy</td>\n",
       "      <td>gss</td>\n",
       "      <td>t__246251</td>\n",
       "      <td>thermus.thermophilus.tmy</td>\n",
       "    </tr>\n",
       "    <tr>\n",
       "      <th>143012</th>\n",
       "      <td>bacillus.licheniformis.wj.2</td>\n",
       "      <td>bacillus.licheniformis.w.2</td>\n",
       "      <td>98.113205</td>\n",
       "      <td>bacillus.licheniformis.w.2</td>\n",
       "      <td>gss</td>\n",
       "      <td>t__730803</td>\n",
       "      <td>bacillus.licheniformis.w.2</td>\n",
       "    </tr>\n",
       "    <tr>\n",
       "      <th>143770</th>\n",
       "      <td>kctc.15717</td>\n",
       "      <td>kctc 15717</td>\n",
       "      <td>90.000000</td>\n",
       "      <td>KCTC 15717</td>\n",
       "      <td>brc_cat_id</td>\n",
       "      <td>t__189744</td>\n",
       "      <td>kctc 15717</td>\n",
       "    </tr>\n",
       "    <tr>\n",
       "      <th>143771</th>\n",
       "      <td>pseudomonas.aeruginosa.atcc.27853</td>\n",
       "      <td>pseudomonas.aeruginosa.atcc.27853</td>\n",
       "      <td>100.000000</td>\n",
       "      <td>pseudomonas.aeruginosa.atcc.27853</td>\n",
       "      <td>gss</td>\n",
       "      <td>t__48542</td>\n",
       "      <td>pseudomonas.aeruginosa.atcc.27853</td>\n",
       "    </tr>\n",
       "  </tbody>\n",
       "</table>\n",
       "<p>599 rows × 7 columns</p>\n",
       "</div>"
      ],
      "text/plain": [
       "                                    strain                       strainselect  \\\n",
       "43                         pseudomonas.st1                  pseudomonas.sp.t1   \n",
       "555               enterococcus.faecalis.14           enterococcus.faecalis.14   \n",
       "1346                   escherichia.coli.e2                escherichia.coli.e2   \n",
       "3155                 chryseobacterium.cbo1           chryseobacterium.sp.cbo1   \n",
       "3319              serratia.marcescens.fs14            serratia.marcescens.s14   \n",
       "...                                    ...                                ...   \n",
       "141879  lactiplantibacillus.plantarum.sam2  lactiplantibacillus.plantarum.sm2   \n",
       "142986            thermus.thermophilus.tmy           thermus.thermophilus.tmy   \n",
       "143012         bacillus.licheniformis.wj.2         bacillus.licheniformis.w.2   \n",
       "143770                          kctc.15717                         kctc 15717   \n",
       "143771   pseudomonas.aeruginosa.atcc.27853  pseudomonas.aeruginosa.atcc.27853   \n",
       "\n",
       "        score_full                             vertex vertex_type  \\\n",
       "43       93.750000                  pseudomonas.sp.t1         gss   \n",
       "555     100.000000           enterococcus.faecalis.14         gss   \n",
       "1346    100.000000                escherichia.coli.e2         gss   \n",
       "3155     93.333336           chryseobacterium.sp.cbo1         gss   \n",
       "3319     97.872337            serratia.marcescens.s14         gss   \n",
       "...            ...                                ...         ...   \n",
       "141879   98.507462  lactiplantibacillus.plantarum.sm2         gss   \n",
       "142986  100.000000           thermus.thermophilus.tmy         gss   \n",
       "143012   98.113205         bacillus.licheniformis.w.2         gss   \n",
       "143770   90.000000                         KCTC 15717  brc_cat_id   \n",
       "143771  100.000000  pseudomonas.aeruginosa.atcc.27853         gss   \n",
       "\n",
       "       StrainSelectID                         vertex_dot  \n",
       "43          t__533196                  pseudomonas.sp.t1  \n",
       "555         t__708580           enterococcus.faecalis.14  \n",
       "1346        t__164523                escherichia.coli.e2  \n",
       "3155        t__210088           chryseobacterium.sp.cbo1  \n",
       "3319        t__550764            serratia.marcescens.s14  \n",
       "...               ...                                ...  \n",
       "141879      t__624280  lactiplantibacillus.plantarum.sm2  \n",
       "142986      t__246251           thermus.thermophilus.tmy  \n",
       "143012      t__730803         bacillus.licheniformis.w.2  \n",
       "143770      t__189744                         kctc 15717  \n",
       "143771       t__48542  pseudomonas.aeruginosa.atcc.27853  \n",
       "\n",
       "[599 rows x 7 columns]"
      ]
     },
     "execution_count": 29,
     "metadata": {},
     "output_type": "execute_result"
    }
   ],
   "source": [
    "df_matches_full"
   ]
  },
  {
   "cell_type": "markdown",
   "metadata": {},
   "source": [
    "### Join all matches"
   ]
  },
  {
   "cell_type": "code",
   "execution_count": 30,
   "metadata": {},
   "outputs": [],
   "source": [
    "matches = pd.concat([df_matches_full, df_matches_partial])\n",
    "final = df.merge(matches,left_on=\"vertex_dot\", right_on=\"strain\", how=\"left\")"
   ]
  },
  {
   "cell_type": "code",
   "execution_count": 31,
   "metadata": {},
   "outputs": [
    {
     "data": {
      "text/html": [
       "<div>\n",
       "<style scoped>\n",
       "    .dataframe tbody tr th:only-of-type {\n",
       "        vertical-align: middle;\n",
       "    }\n",
       "\n",
       "    .dataframe tbody tr th {\n",
       "        vertical-align: top;\n",
       "    }\n",
       "\n",
       "    .dataframe thead th {\n",
       "        text-align: right;\n",
       "    }\n",
       "</style>\n",
       "<table border=\"1\" class=\"dataframe\">\n",
       "  <thead>\n",
       "    <tr style=\"text-align: right;\">\n",
       "      <th></th>\n",
       "      <th>strain</th>\n",
       "      <th>strainselect</th>\n",
       "      <th>score_full</th>\n",
       "      <th>vertex</th>\n",
       "      <th>vertex_type</th>\n",
       "      <th>StrainSelectID</th>\n",
       "      <th>vertex_dot</th>\n",
       "      <th>score_partial</th>\n",
       "      <th>score_parts</th>\n",
       "    </tr>\n",
       "  </thead>\n",
       "  <tbody>\n",
       "    <tr>\n",
       "      <th>43</th>\n",
       "      <td>pseudomonas.st1</td>\n",
       "      <td>pseudomonas.sp.t1</td>\n",
       "      <td>93.750000</td>\n",
       "      <td>pseudomonas.sp.t1</td>\n",
       "      <td>gss</td>\n",
       "      <td>t__533196</td>\n",
       "      <td>pseudomonas.sp.t1</td>\n",
       "      <td>NaN</td>\n",
       "      <td>NaN</td>\n",
       "    </tr>\n",
       "    <tr>\n",
       "      <th>555</th>\n",
       "      <td>enterococcus.faecalis.14</td>\n",
       "      <td>enterococcus.faecalis.14</td>\n",
       "      <td>100.000000</td>\n",
       "      <td>enterococcus.faecalis.14</td>\n",
       "      <td>gss</td>\n",
       "      <td>t__708580</td>\n",
       "      <td>enterococcus.faecalis.14</td>\n",
       "      <td>NaN</td>\n",
       "      <td>NaN</td>\n",
       "    </tr>\n",
       "    <tr>\n",
       "      <th>1346</th>\n",
       "      <td>escherichia.coli.e2</td>\n",
       "      <td>escherichia.coli.e2</td>\n",
       "      <td>100.000000</td>\n",
       "      <td>escherichia.coli.e2</td>\n",
       "      <td>gss</td>\n",
       "      <td>t__164523</td>\n",
       "      <td>escherichia.coli.e2</td>\n",
       "      <td>NaN</td>\n",
       "      <td>NaN</td>\n",
       "    </tr>\n",
       "    <tr>\n",
       "      <th>3155</th>\n",
       "      <td>chryseobacterium.cbo1</td>\n",
       "      <td>chryseobacterium.sp.cbo1</td>\n",
       "      <td>93.333336</td>\n",
       "      <td>chryseobacterium.sp.cbo1</td>\n",
       "      <td>gss</td>\n",
       "      <td>t__210088</td>\n",
       "      <td>chryseobacterium.sp.cbo1</td>\n",
       "      <td>NaN</td>\n",
       "      <td>NaN</td>\n",
       "    </tr>\n",
       "    <tr>\n",
       "      <th>3319</th>\n",
       "      <td>serratia.marcescens.fs14</td>\n",
       "      <td>serratia.marcescens.s14</td>\n",
       "      <td>97.872337</td>\n",
       "      <td>serratia.marcescens.s14</td>\n",
       "      <td>gss</td>\n",
       "      <td>t__550764</td>\n",
       "      <td>serratia.marcescens.s14</td>\n",
       "      <td>NaN</td>\n",
       "      <td>NaN</td>\n",
       "    </tr>\n",
       "    <tr>\n",
       "      <th>...</th>\n",
       "      <td>...</td>\n",
       "      <td>...</td>\n",
       "      <td>...</td>\n",
       "      <td>...</td>\n",
       "      <td>...</td>\n",
       "      <td>...</td>\n",
       "      <td>...</td>\n",
       "      <td>...</td>\n",
       "      <td>...</td>\n",
       "    </tr>\n",
       "    <tr>\n",
       "      <th>903443</th>\n",
       "      <td>28isp2.</td>\n",
       "      <td>micromonospora.sp.28isp2.46</td>\n",
       "      <td>NaN</td>\n",
       "      <td>micromonospora.sp.28isp2.46</td>\n",
       "      <td>gss</td>\n",
       "      <td>t__321237</td>\n",
       "      <td>micromonospora.sp.28isp2.46</td>\n",
       "      <td>100.000000</td>\n",
       "      <td>92.307692</td>\n",
       "    </tr>\n",
       "    <tr>\n",
       "      <th>903444</th>\n",
       "      <td>at1b</td>\n",
       "      <td>exiguobacterium.sp.at1b</td>\n",
       "      <td>NaN</td>\n",
       "      <td>exiguobacterium.sp.at1b</td>\n",
       "      <td>gss</td>\n",
       "      <td>t__1680</td>\n",
       "      <td>exiguobacterium.sp.at1b</td>\n",
       "      <td>100.000000</td>\n",
       "      <td>100.000000</td>\n",
       "    </tr>\n",
       "    <tr>\n",
       "      <th>903447</th>\n",
       "      <td>sinorhizobium.fredii.gr64</td>\n",
       "      <td>sinorhizobium.fredii.gr64</td>\n",
       "      <td>NaN</td>\n",
       "      <td>sinorhizobium.fredii.gr64</td>\n",
       "      <td>gss</td>\n",
       "      <td>t__123868</td>\n",
       "      <td>sinorhizobium.fredii.gr64</td>\n",
       "      <td>100.000000</td>\n",
       "      <td>100.000000</td>\n",
       "    </tr>\n",
       "    <tr>\n",
       "      <th>903457</th>\n",
       "      <td>p.angustum.s14</td>\n",
       "      <td>photobacterium.angustum.s14</td>\n",
       "      <td>NaN</td>\n",
       "      <td>photobacterium.angustum.s14</td>\n",
       "      <td>gss</td>\n",
       "      <td>t__129723</td>\n",
       "      <td>photobacterium.angustum.s14</td>\n",
       "      <td>96.296295</td>\n",
       "      <td>92.307692</td>\n",
       "    </tr>\n",
       "    <tr>\n",
       "      <th>903469</th>\n",
       "      <td>cronobacter.sakazakii.sp291</td>\n",
       "      <td>cronobacter.sakazakii.sp291</td>\n",
       "      <td>NaN</td>\n",
       "      <td>cronobacter.sakazakii.sp291</td>\n",
       "      <td>gss</td>\n",
       "      <td>t__93041</td>\n",
       "      <td>cronobacter.sakazakii.sp291</td>\n",
       "      <td>100.000000</td>\n",
       "      <td>100.000000</td>\n",
       "    </tr>\n",
       "  </tbody>\n",
       "</table>\n",
       "<p>5825 rows × 9 columns</p>\n",
       "</div>"
      ],
      "text/plain": [
       "                             strain                 strainselect  score_full  \\\n",
       "43                  pseudomonas.st1            pseudomonas.sp.t1   93.750000   \n",
       "555        enterococcus.faecalis.14     enterococcus.faecalis.14  100.000000   \n",
       "1346            escherichia.coli.e2          escherichia.coli.e2  100.000000   \n",
       "3155          chryseobacterium.cbo1     chryseobacterium.sp.cbo1   93.333336   \n",
       "3319       serratia.marcescens.fs14      serratia.marcescens.s14   97.872337   \n",
       "...                             ...                          ...         ...   \n",
       "903443                      28isp2.  micromonospora.sp.28isp2.46         NaN   \n",
       "903444                         at1b      exiguobacterium.sp.at1b         NaN   \n",
       "903447    sinorhizobium.fredii.gr64    sinorhizobium.fredii.gr64         NaN   \n",
       "903457               p.angustum.s14  photobacterium.angustum.s14         NaN   \n",
       "903469  cronobacter.sakazakii.sp291  cronobacter.sakazakii.sp291         NaN   \n",
       "\n",
       "                             vertex vertex_type StrainSelectID  \\\n",
       "43                pseudomonas.sp.t1         gss      t__533196   \n",
       "555        enterococcus.faecalis.14         gss      t__708580   \n",
       "1346            escherichia.coli.e2         gss      t__164523   \n",
       "3155       chryseobacterium.sp.cbo1         gss      t__210088   \n",
       "3319        serratia.marcescens.s14         gss      t__550764   \n",
       "...                             ...         ...            ...   \n",
       "903443  micromonospora.sp.28isp2.46         gss      t__321237   \n",
       "903444      exiguobacterium.sp.at1b         gss        t__1680   \n",
       "903447    sinorhizobium.fredii.gr64         gss      t__123868   \n",
       "903457  photobacterium.angustum.s14         gss      t__129723   \n",
       "903469  cronobacter.sakazakii.sp291         gss       t__93041   \n",
       "\n",
       "                         vertex_dot  score_partial  score_parts  \n",
       "43                pseudomonas.sp.t1            NaN          NaN  \n",
       "555        enterococcus.faecalis.14            NaN          NaN  \n",
       "1346            escherichia.coli.e2            NaN          NaN  \n",
       "3155       chryseobacterium.sp.cbo1            NaN          NaN  \n",
       "3319        serratia.marcescens.s14            NaN          NaN  \n",
       "...                             ...            ...          ...  \n",
       "903443  micromonospora.sp.28isp2.46     100.000000    92.307692  \n",
       "903444      exiguobacterium.sp.at1b     100.000000   100.000000  \n",
       "903447    sinorhizobium.fredii.gr64     100.000000   100.000000  \n",
       "903457  photobacterium.angustum.s14      96.296295    92.307692  \n",
       "903469  cronobacter.sakazakii.sp291     100.000000   100.000000  \n",
       "\n",
       "[5825 rows x 9 columns]"
      ]
     },
     "execution_count": 31,
     "metadata": {},
     "output_type": "execute_result"
    }
   ],
   "source": [
    "matches"
   ]
  },
  {
   "cell_type": "markdown",
   "metadata": {},
   "source": [
    "---"
   ]
  },
  {
   "cell_type": "code",
   "execution_count": 2,
   "metadata": {},
   "outputs": [],
   "source": [
    "# Define the number of processes to run in parallel\n",
    "num_processes = 150\n",
    "\n",
    "# Split the strains into batches\n",
    "batch_size = 10"
   ]
  },
  {
   "cell_type": "markdown",
   "metadata": {},
   "source": [
    "Add abbreviations to the names of the strains, and then merge the two datasets."
   ]
  },
  {
   "cell_type": "code",
   "execution_count": null,
   "metadata": {},
   "outputs": [],
   "source": [
    "# ss_v_noass[\"vertex_abb\"] = ss_v_noass.vertex_dot.str.replace(r\"^([a-z])\\w+\\.\", r\"\\1.\",regex=True)\n",
    "# ss_v_noass_abb = pd.concat([ss_v_noass.iloc[:,:-1],\n",
    "# \t\t   ss_v_noass.loc[:,[\"vertex\",\"vertex_type\",\"StrainSelectID\",\"StrainSelectID_2019\",\"vertex_abb\"]].rename(columns={\"vertex_abb\":\"vertex_dot\"})\n",
    "# \t\t   ]\n",
    "# \t\t   ,axis=0).drop_duplicates()"
   ]
  },
  {
   "cell_type": "markdown",
   "metadata": {},
   "source": [
    "## Small"
   ]
  },
  {
   "cell_type": "code",
   "execution_count": null,
   "metadata": {},
   "outputs": [],
   "source": [
    "# Split the strains into batches\n",
    "strain_batches = [strains[i:i+batch_size] for i in range(0, len(strains), batch_size)]\n",
    "\n",
    "# Define a function to process each batch of strains\n",
    "def process_strain_batch(batch):\n",
    "\tmatches = []\n",
    "\tfor s in batch:\n",
    "\t\tresult = process.extract(s, ss_v_noass.vertex_dot, limit=1,scorer=fuzz.partial_ratio)\n",
    "\t\tmatches.append([s,result])\n",
    "\treturn matches\n",
    "\n",
    "# Create a pool of processes\n",
    "pool = multiprocessing.Pool(processes=num_processes)\n",
    "\n",
    "# Apply the function to each batch of strains in parallel\n",
    "results = pool.map(process_strain_batch, strain_batches)\n",
    "\n",
    "# Close the pool of processes\n",
    "pool.close()\n",
    "pool.join()\n",
    "\n",
    "# Combine the results from all batches\n",
    "all_matches_partial = []\n",
    "for result in results:\n",
    "\tall_matches_partial.extend(result)\n"
   ]
  },
  {
   "cell_type": "code",
   "execution_count": null,
   "metadata": {},
   "outputs": [],
   "source": [
    "df_all_matches_partial = pd.concat([pd.DataFrame(all_matches_partial)[0],pd.DataFrame(all_matches_partial)[1].apply(pd.Series)[0].apply(pd.Series)],axis=1)"
   ]
  },
  {
   "cell_type": "code",
   "execution_count": null,
   "metadata": {},
   "outputs": [],
   "source": [
    "def all_combinations(text):\n",
    "  \"\"\"\n",
    "  Generates all possible combinations of splits of a string by period.\n",
    "\n",
    "  Args:\n",
    "      text: The string to split.\n",
    "\n",
    "  Returns:\n",
    "      A generator object containing all possible combinations of splits.\n",
    "  \"\"\"\n",
    "  for length in range(len(text) + 1):\n",
    "    for combo in itertools.combinations(text.split('.'), length):\n",
    "      yield '.'.join(combo)\n"
   ]
  },
  {
   "cell_type": "code",
   "execution_count": null,
   "metadata": {},
   "outputs": [],
   "source": [
    "perf = [i for i in all_matches_partial if i[1][0][1]>95]\n",
    "matches_partial = []\n",
    "for i in perf:\n",
    "\tr = process.extract(i[0], list(all_combinations(i[1][0][0]))[1:])\n",
    "\tif r[0][1] > 95:\n",
    "\t\tmatches_partial.append([i[0], i[1][0][0], i[1][0][1], r[0][1]])"
   ]
  },
  {
   "cell_type": "code",
   "execution_count": null,
   "metadata": {},
   "outputs": [],
   "source": [
    "df_matches_partial = pd.DataFrame(\n",
    "\tmatches_partial, columns=[\"strain\", \"strainselect\",\"score_partial\", \"score_parts\"]\n",
    ")"
   ]
  },
  {
   "cell_type": "code",
   "execution_count": null,
   "metadata": {},
   "outputs": [],
   "source": [
    "# Merge the matches with the original DataFrame\n",
    "df_partial = df.merge(\n",
    "\tdf_matches_partial, left_on=\"vertex_dot\", right_on=\"strain\", how=\"left\"\n",
    ")"
   ]
  },
  {
   "cell_type": "code",
   "execution_count": null,
   "metadata": {},
   "outputs": [],
   "source": [
    "strains_left = df_partial[\n",
    "\tdf_partial.strainselect.isnull()\n",
    "].vertex_dot.unique()"
   ]
  },
  {
   "cell_type": "markdown",
   "metadata": {},
   "source": [
    "## Full"
   ]
  },
  {
   "cell_type": "code",
   "execution_count": null,
   "metadata": {},
   "outputs": [],
   "source": [
    "# Run full match on remaining strains\n",
    "matches_full = []\n",
    "\n",
    "# Split the strains into batches\n",
    "strain_batches = [strains_left[i:i+batch_size] for i in range(0, len(strains_left), batch_size)]\n",
    "\n",
    "# Define a function to process each batch of strains\n",
    "def process_strain_batch(batch):\n",
    "\tmatches = []\n",
    "\tfor s in batch:\n",
    "\t\tresult = process.extract(s, ss_v_noass.vertex.str.lower(), limit=1)\n",
    "\t\tmatches.append([s,result])\n",
    "\treturn matches\n",
    "\n",
    "# Create a pool of processes\n",
    "pool = multiprocessing.Pool(processes=num_processes)\n",
    "\n",
    "# Apply the function to each batch of strains in parallel\n",
    "results = pool.map(process_strain_batch, strain_batches)\n",
    "\n",
    "# Close the pool of processes\n",
    "pool.close()\n",
    "pool.join()\n",
    "\n",
    "# Combine the results from all batches\n",
    "all_matches_full = []\n",
    "for result in results:\n",
    "\tall_matches_full.extend(result)"
   ]
  },
  {
   "cell_type": "code",
   "execution_count": null,
   "metadata": {},
   "outputs": [],
   "source": [
    "df_all_matches_full = pd.concat([pd.DataFrame(all_matches_full)[0],pd.DataFrame(all_matches_full)[1].apply(pd.Series)[0].apply(pd.Series)],axis=1)"
   ]
  },
  {
   "cell_type": "code",
   "execution_count": null,
   "metadata": {},
   "outputs": [],
   "source": [
    "matches_full = [[i[0],i[1][0][0],i[1][0][1]] for i in all_matches_full if i[1][0][1]>97.6]\n"
   ]
  },
  {
   "cell_type": "code",
   "execution_count": null,
   "metadata": {},
   "outputs": [],
   "source": [
    "df_matches_full = pd.DataFrame(\n",
    "\tmatches_full, columns=[\"strain\", \"strainselect\",\"score_full\"]\n",
    ")"
   ]
  },
  {
   "cell_type": "code",
   "execution_count": null,
   "metadata": {},
   "outputs": [],
   "source": [
    "merged = df.merge(\n",
    "\tpd.concat([df_matches_partial,df_matches_full]), left_on=\"vertex_dot\", right_on=\"strain\", how=\"left\"\n",
    ")"
   ]
  },
  {
   "cell_type": "code",
   "execution_count": null,
   "metadata": {},
   "outputs": [],
   "source": [
    "merged.drop(columns=[\"strain\"],inplace=True)"
   ]
  },
  {
   "cell_type": "code",
   "execution_count": null,
   "metadata": {},
   "outputs": [],
   "source": [
    "vertex_merged = merged.merge(ss_v, left_on=\"strainselect\", right_on=\"vertex_dot\", how=\"left\")"
   ]
  },
  {
   "cell_type": "code",
   "execution_count": null,
   "metadata": {},
   "outputs": [],
   "source": [
    "selected = ss_v[ss_v[\"StrainSelectID\"].isin(vertex_merged.dropna(subset = \"strainselect\")[\"StrainSelectID\"].unique())]"
   ]
  },
  {
   "cell_type": "code",
   "execution_count": null,
   "metadata": {},
   "outputs": [],
   "source": [
    "selected.StrainSelectID.unique().shape"
   ]
  },
  {
   "cell_type": "code",
   "execution_count": null,
   "metadata": {},
   "outputs": [],
   "source": [
    "len(selected[selected.vertex.str.contains(\"GCA\")].StrainSelectID.unique())"
   ]
  },
  {
   "cell_type": "code",
   "execution_count": null,
   "metadata": {},
   "outputs": [],
   "source": [
    "len(selected[selected.vertex.str.contains(\"GCA\")])"
   ]
  }
 ],
 "metadata": {
  "kernelspec": {
   "display_name": "Python 3 (ipykernel)",
   "language": "python",
   "name": "python3"
  },
  "language_info": {
   "codemirror_mode": {
    "name": "ipython",
    "version": 3
   },
   "file_extension": ".py",
   "mimetype": "text/x-python",
   "name": "python",
   "nbconvert_exporter": "python",
   "pygments_lexer": "ipython3",
   "version": "3.9.7"
  }
 },
 "nbformat": 4,
 "nbformat_minor": 4
}
