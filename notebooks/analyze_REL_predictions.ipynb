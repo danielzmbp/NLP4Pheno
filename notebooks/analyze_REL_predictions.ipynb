{
 "cells": [
  {
   "cell_type": "code",
   "execution_count": 1,
   "id": "f48915c3-2af7-431b-96c8-7ac1fae87fef",
   "metadata": {},
   "outputs": [],
   "source": [
    "import pandas as pd\n",
    "from glob import glob\n",
    "import numpy as np\n",
    "pd.set_option('display.max_rows', 300) \n",
    "data = \"920\""
   ]
  },
  {
   "cell_type": "markdown",
   "id": "c74e7ddf-893c-48c7-9e55-6c0e7f844596",
   "metadata": {},
   "source": [
    "## Data exploration"
   ]
  },
  {
   "cell_type": "code",
   "execution_count": 2,
   "id": "45a133f6-978f-4d60-b434-2b334a913a54",
   "metadata": {
    "scrolled": true
   },
   "outputs": [
    {
     "name": "stderr",
     "output_type": "stream",
     "text": [
      "/scratch/slurm_tmpdir/job_23565426/ipykernel_708928/833439689.py:1: DtypeWarning: Columns (3) have mixed types. Specify dtype option on import or set low_memory=False.\n",
      "  vertices = pd.read_csv(\"../../preds1000/strainselect/StrainSelect21_vertices.tab.txt\",sep=\"\\t\")\n"
     ]
    }
   ],
   "source": [
    "vertices = pd.read_csv(\"../../preds1000/strainselect/StrainSelect21_vertices.tab.txt\",sep=\"\\t\")"
   ]
  },
  {
   "cell_type": "code",
   "execution_count": 3,
   "id": "cdcb337c-301b-4099-913f-bb4ac81fe62f",
   "metadata": {},
   "outputs": [
    {
     "data": {
      "text/html": [
       "<div>\n",
       "<style scoped>\n",
       "    .dataframe tbody tr th:only-of-type {\n",
       "        vertical-align: middle;\n",
       "    }\n",
       "\n",
       "    .dataframe tbody tr th {\n",
       "        vertical-align: top;\n",
       "    }\n",
       "\n",
       "    .dataframe thead th {\n",
       "        text-align: right;\n",
       "    }\n",
       "</style>\n",
       "<table border=\"1\" class=\"dataframe\">\n",
       "  <thead>\n",
       "    <tr style=\"text-align: right;\">\n",
       "      <th></th>\n",
       "      <th>vertex</th>\n",
       "      <th>vertex_type</th>\n",
       "      <th>StrainSelectID</th>\n",
       "      <th>StrainSelectID_2019</th>\n",
       "    </tr>\n",
       "  </thead>\n",
       "  <tbody>\n",
       "    <tr>\n",
       "      <th>0</th>\n",
       "      <td>103nt4.lake.natron</td>\n",
       "      <td>gss</td>\n",
       "      <td>t__595640</td>\n",
       "      <td>NaN</td>\n",
       "    </tr>\n",
       "    <tr>\n",
       "      <th>1</th>\n",
       "      <td>X92163</td>\n",
       "      <td>contig</td>\n",
       "      <td>t__595640</td>\n",
       "      <td>NaN</td>\n",
       "    </tr>\n",
       "    <tr>\n",
       "      <th>2</th>\n",
       "      <td>g16_0915863</td>\n",
       "      <td>g16</td>\n",
       "      <td>t__595640</td>\n",
       "      <td>NaN</td>\n",
       "    </tr>\n",
       "    <tr>\n",
       "      <th>3</th>\n",
       "      <td>105nt4.lake.natron</td>\n",
       "      <td>gss</td>\n",
       "      <td>t__575259</td>\n",
       "      <td>NaN</td>\n",
       "    </tr>\n",
       "    <tr>\n",
       "      <th>4</th>\n",
       "      <td>X92166</td>\n",
       "      <td>contig</td>\n",
       "      <td>t__575259</td>\n",
       "      <td>NaN</td>\n",
       "    </tr>\n",
       "    <tr>\n",
       "      <th>...</th>\n",
       "      <td>...</td>\n",
       "      <td>...</td>\n",
       "      <td>...</td>\n",
       "      <td>...</td>\n",
       "    </tr>\n",
       "    <tr>\n",
       "      <th>4002304</th>\n",
       "      <td>g16_0917076</td>\n",
       "      <td>g16</td>\n",
       "      <td>t__364615</td>\n",
       "      <td>NaN</td>\n",
       "    </tr>\n",
       "    <tr>\n",
       "      <th>4002305</th>\n",
       "      <td>leptospira.biflexa.mutant.2.1993</td>\n",
       "      <td>gss</td>\n",
       "      <td>t__364615</td>\n",
       "      <td>NaN</td>\n",
       "    </tr>\n",
       "    <tr>\n",
       "      <th>4002306</th>\n",
       "      <td>Z98593</td>\n",
       "      <td>contig</td>\n",
       "      <td>t__387752</td>\n",
       "      <td>NaN</td>\n",
       "    </tr>\n",
       "    <tr>\n",
       "      <th>4002307</th>\n",
       "      <td>g16_0917077</td>\n",
       "      <td>g16</td>\n",
       "      <td>t__387752</td>\n",
       "      <td>NaN</td>\n",
       "    </tr>\n",
       "    <tr>\n",
       "      <th>4002308</th>\n",
       "      <td>leptospira.biflexa.mutant.2.1994</td>\n",
       "      <td>gss</td>\n",
       "      <td>t__387752</td>\n",
       "      <td>NaN</td>\n",
       "    </tr>\n",
       "  </tbody>\n",
       "</table>\n",
       "<p>4002309 rows × 4 columns</p>\n",
       "</div>"
      ],
      "text/plain": [
       "                                   vertex vertex_type StrainSelectID  \\\n",
       "0                      103nt4.lake.natron         gss      t__595640   \n",
       "1                                  X92163      contig      t__595640   \n",
       "2                             g16_0915863         g16      t__595640   \n",
       "3                      105nt4.lake.natron         gss      t__575259   \n",
       "4                                  X92166      contig      t__575259   \n",
       "...                                   ...         ...            ...   \n",
       "4002304                       g16_0917076         g16      t__364615   \n",
       "4002305  leptospira.biflexa.mutant.2.1993         gss      t__364615   \n",
       "4002306                            Z98593      contig      t__387752   \n",
       "4002307                       g16_0917077         g16      t__387752   \n",
       "4002308  leptospira.biflexa.mutant.2.1994         gss      t__387752   \n",
       "\n",
       "        StrainSelectID_2019  \n",
       "0                       NaN  \n",
       "1                       NaN  \n",
       "2                       NaN  \n",
       "3                       NaN  \n",
       "4                       NaN  \n",
       "...                     ...  \n",
       "4002304                 NaN  \n",
       "4002305                 NaN  \n",
       "4002306                 NaN  \n",
       "4002307                 NaN  \n",
       "4002308                 NaN  \n",
       "\n",
       "[4002309 rows x 4 columns]"
      ]
     },
     "execution_count": 3,
     "metadata": {},
     "output_type": "execute_result"
    }
   ],
   "source": [
    "vertices"
   ]
  },
  {
   "cell_type": "code",
   "execution_count": 4,
   "id": "447dfeff-e6be-49f6-8501-b95caf60e69e",
   "metadata": {},
   "outputs": [
    {
     "data": {
      "text/plain": [
       "vertex_type\n",
       "g16               884828\n",
       "gss               878311\n",
       "contig            720657\n",
       "gb_assembly       275232\n",
       "rs_assembly       259195\n",
       "wgs_master_pre    245975\n",
       "patric_genome     234506\n",
       "gold_org          195479\n",
       "si_culture_id     142317\n",
       "brc_cat_id        117202\n",
       "si_grouping_id     24298\n",
       "biocyc_pgdb        17505\n",
       "kegg_genome         6794\n",
       "sg_assembly           10\n",
       "Name: count, dtype: int64"
      ]
     },
     "execution_count": 4,
     "metadata": {},
     "output_type": "execute_result"
    }
   ],
   "source": [
    "vertices.vertex_type.value_counts()"
   ]
  },
  {
   "cell_type": "code",
   "execution_count": 5,
   "id": "5b4eaa0f-9f64-4c18-a960-23c14da11b32",
   "metadata": {},
   "outputs": [],
   "source": [
    "df = pd.read_parquet(f\"../../preds{data}/REL_output/preds_strainselect.parquet\")"
   ]
  },
  {
   "cell_type": "code",
   "execution_count": 6,
   "id": "db1c857a-e5ff-43c1-b465-6bdaf177b334",
   "metadata": {},
   "outputs": [
    {
     "data": {
      "text/plain": [
       "(57381,)"
      ]
     },
     "execution_count": 6,
     "metadata": {},
     "output_type": "execute_result"
    }
   ],
   "source": [
    "df.StrainSelectID.unique().shape"
   ]
  },
  {
   "cell_type": "code",
   "execution_count": 7,
   "id": "f9aa1f30-ab03-4135-8b39-14e770de6cd8",
   "metadata": {},
   "outputs": [
    {
     "data": {
      "text/plain": [
       "rel\n",
       "STRAIN-COMPOUND:PRODUCES          573336\n",
       "STRAIN-MEDIUM:GROWS_ON            508511\n",
       "STRAIN-PROTEIN:PRODUCES           367307\n",
       "STRAIN-ORGANISM:INFECTS           364413\n",
       "STRAIN-PHENOTYPE:PRESENTS         260121\n",
       "STRAIN-ISOLATE:INHABITS           234972\n",
       "STRAIN-ORGANISM:INHABITS          189459\n",
       "STRAIN-EFFECT:PROMOTES            158509\n",
       "STRAIN-EFFECT:PRESENTS            155853\n",
       "STRAIN-DISEASE:ASSOCIATED_WITH    153805\n",
       "STRAIN-COMPOUND:RESISTS           143975\n",
       "COMPOUND-STRAIN:INHIBITS          132235\n",
       "STRAIN-ORGANISM:INHIBITS          102408\n",
       "STRAIN-COMPOUND:DEGRADES           85576\n",
       "STRAIN-DISEASE:INHIBITS            32927\n",
       "STRAIN-ORGANISM:SYMBIONT_OF        28501\n",
       "STRAIN-SPECIES:INHIBITS            21392\n",
       "STRAIN-EFFECT:INHIBITS               925\n",
       "Name: count, dtype: int64"
      ]
     },
     "execution_count": 7,
     "metadata": {},
     "output_type": "execute_result"
    }
   ],
   "source": [
    "df.rel.value_counts()"
   ]
  },
  {
   "cell_type": "code",
   "execution_count": 8,
   "id": "a09d4e10-a85c-4891-8ff6-721dfc1fcdde",
   "metadata": {},
   "outputs": [
    {
     "data": {
      "text/plain": [
       "vertex_type\n",
       "gss               811755\n",
       "brc_cat_id         10830\n",
       "contig              9977\n",
       "wgs_master_pre      2252\n",
       "biocyc_pgdb         1415\n",
       "si_culture_id       1105\n",
       "g16                  504\n",
       "si_grouping_id       157\n",
       "Name: count, dtype: int64"
      ]
     },
     "execution_count": 8,
     "metadata": {},
     "output_type": "execute_result"
    }
   ],
   "source": [
    "df.vertex_type.value_counts()"
   ]
  },
  {
   "cell_type": "code",
   "execution_count": 9,
   "id": "32d78690-66d9-4383-ba12-5947d18b357d",
   "metadata": {},
   "outputs": [
    {
     "data": {
      "text/plain": [
       "{'gb_assembly',\n",
       " 'gold_org',\n",
       " 'kegg_genome',\n",
       " 'patric_genome',\n",
       " 'rs_assembly',\n",
       " 'sg_assembly'}"
      ]
     },
     "execution_count": 9,
     "metadata": {},
     "output_type": "execute_result"
    }
   ],
   "source": [
    "set(vertices.vertex_type.value_counts().index).difference(set(df.vertex_type.value_counts().index))"
   ]
  },
  {
   "cell_type": "code",
   "execution_count": 32,
   "id": "e09ae071-db11-40e6-bb74-d127a56446c8",
   "metadata": {},
   "outputs": [],
   "source": [
    "re=\"STRAIN-SPECIES:INHIBITS\""
   ]
  },
  {
   "cell_type": "code",
   "execution_count": 33,
   "id": "0160664c-c503-403c-bc20-a9c2b83bce83",
   "metadata": {},
   "outputs": [],
   "source": [
    "df[df.rel==re].sort_values(\"word_qc\").to_csv(f\"network_files/{re}.csv\")"
   ]
  },
  {
   "cell_type": "code",
   "execution_count": 12,
   "id": "1ce24f55-2587-4e4c-a237-5a32ad461983",
   "metadata": {},
   "outputs": [
    {
     "data": {
      "text/plain": [
       "<Axes: ylabel='Frequency'>"
      ]
     },
     "execution_count": 12,
     "metadata": {},
     "output_type": "execute_result"
    },
    {
     "data": {
      "image/png": "[encoded data removed]",
      "text/plain": [
       "<Figure size 640x480 with 1 Axes>"
      ]
     },
     "metadata": {},
     "output_type": "display_data"
    }
   ],
   "source": [
    "df.text.str.len().plot.hist(bins=100)"
   ]
  },
  {
   "cell_type": "markdown",
   "id": "7699da8c-b5e5-4541-adba-193da2468e93",
   "metadata": {},
   "source": [
    "## Filter for existing assemblies and make network"
   ]
  },
  {
   "cell_type": "code",
   "execution_count": 13,
   "id": "bcea6f65-4de0-4726-9034-a45f65fa3097",
   "metadata": {},
   "outputs": [],
   "source": [
    "folders = glob(f\"../../assemblies_{data}/*\")"
   ]
  },
  {
   "cell_type": "code",
   "execution_count": 14,
   "id": "975cf7da-1801-4e2a-9d42-a30a24a365fe",
   "metadata": {},
   "outputs": [],
   "source": [
    "strains = [f.split(\"/\")[-1] for f in folders]"
   ]
  },
  {
   "cell_type": "code",
   "execution_count": 15,
   "id": "8eb586b8-6902-4b52-9622-addd8d484ae5",
   "metadata": {},
   "outputs": [],
   "source": [
    "filtered_df= df[df.StrainSelectID.isin(strains)]"
   ]
  },
  {
   "cell_type": "code",
   "execution_count": 16,
   "id": "077179d5-a717-4542-aeee-3bc9e614c3d0",
   "metadata": {},
   "outputs": [
    {
     "data": {
      "text/plain": [
       "rel\n",
       "STRAIN-MEDIUM:GROWS_ON            124116\n",
       "STRAIN-COMPOUND:PRODUCES           88385\n",
       "STRAIN-PHENOTYPE:PRESENTS          71417\n",
       "STRAIN-PROTEIN:PRODUCES            64318\n",
       "STRAIN-ORGANISM:INFECTS            49072\n",
       "STRAIN-ISOLATE:INHABITS            48112\n",
       "STRAIN-EFFECT:PRESENTS             28012\n",
       "STRAIN-EFFECT:PROMOTES             26282\n",
       "STRAIN-COMPOUND:RESISTS            24286\n",
       "COMPOUND-STRAIN:INHIBITS           23407\n",
       "STRAIN-ORGANISM:INHABITS           21151\n",
       "STRAIN-COMPOUND:DEGRADES           18256\n",
       "STRAIN-DISEASE:ASSOCIATED_WITH     16698\n",
       "STRAIN-ORGANISM:INHIBITS            9232\n",
       "STRAIN-DISEASE:INHIBITS             8047\n",
       "STRAIN-ORGANISM:SYMBIONT_OF         6343\n",
       "STRAIN-SPECIES:INHIBITS             3681\n",
       "STRAIN-EFFECT:INHIBITS               155\n",
       "Name: count, dtype: int64"
      ]
     },
     "execution_count": 16,
     "metadata": {},
     "output_type": "execute_result"
    }
   ],
   "source": [
    "filtered_df.rel.value_counts()"
   ]
  },
  {
   "cell_type": "markdown",
   "id": "c96fa365-c351-45ce-ab83-66405656ac82",
   "metadata": {},
   "source": [
    "### Make network"
   ]
  },
  {
   "cell_type": "code",
   "execution_count": 17,
   "id": "bdfa2792-08ac-4701-9c79-9dfff42fd4f0",
   "metadata": {},
   "outputs": [],
   "source": [
    "network = filtered_df.loc[:,[\"StrainSelectID\",\"word_qc\",\"rel\"]].drop_duplicates([\"StrainSelectID\",\"word_qc\",\"rel\"])\n",
    "network.loc[:,\"source\"] = np.where(network['rel'].str.startswith(\"STRAIN\"), network.StrainSelectID\t, network.word_qc)\n",
    "network.loc[:,\"target\"] = np.where(network['rel'].str.startswith(\"STRAIN\")==False, network.StrainSelectID, network.word_qc)\n",
    "\n",
    "network = network.loc[:,[\"source\",\"target\",\"rel\"]]\n",
    "network.to_csv(\"network_files/network.tsv\",index=False,sep=\"\\t\")"
   ]
  },
  {
   "cell_type": "code",
   "execution_count": 18,
   "id": "58a4556d-3ea6-46cf-8859-84ab905141af",
   "metadata": {},
   "outputs": [],
   "source": [
    "with open(\"network_files/strains.txt\", \"w\") as f:\n",
    "\tfor s in sorted(set(filtered_df.StrainSelectID.to_list())):\n",
    "\t\tf.write(f\"{s}\\n\")"
   ]
  },
  {
   "cell_type": "markdown",
   "id": "2d89a275-98a2-4b70-bbe2-bf45c2a3d582",
   "metadata": {},
   "source": [
    "## Get sample sentences"
   ]
  },
  {
   "cell_type": "code",
   "execution_count": 22,
   "id": "2e14b1cb-df90-4099-a616-06f095189e4a",
   "metadata": {},
   "outputs": [],
   "source": [
    "df_nonan = df.dropna(subset = \"StrainSelectID\")"
   ]
  },
  {
   "cell_type": "code",
   "execution_count": 25,
   "id": "b70fa7c9-52a9-4055-aba0-5d18e45af7d8",
   "metadata": {},
   "outputs": [],
   "source": [
    "words = [\"gram\",\"non\",\"negative\",\"positive\",\"2\",\"forming\",\"-\",\"promotion\",\"degradation\",\"expression\",\"formation\",\"macrophages\",\"animals\",\"p\",\"s\",\"r\",\"f\",\"c\",\"b\",\".\",\"e\"]\n",
    "l = []\n",
    "for i in words:\n",
    "\tl.append(df_nonan[df_nonan[\"word_qc\"]==i].sample(1).text.to_list())\n",
    "\n",
    "with open(\"network_files/rel_to_reannotate.txt\",\"w\") as f:\n",
    "\tfor s in [i for j in l for i in j]:\n",
    "\t\tf.write(f\"{s}\\n\")"
   ]
  },
  {
   "cell_type": "markdown",
   "id": "a8d78236-6409-4e71-93dc-d46441ede656",
   "metadata": {},
   "source": [
    "### by rel"
   ]
  },
  {
   "cell_type": "code",
   "execution_count": null,
   "id": "60dd076c-cbd7-47b3-a225-6b88395f36d6",
   "metadata": {},
   "outputs": [],
   "source": []
  }
 ],
 "metadata": {
  "kernelspec": {
   "display_name": "Python (base)",
   "language": "python",
   "name": "base"
  },
  "language_info": {
   "codemirror_mode": {
    "name": "ipython",
    "version": 3
   },
   "file_extension": ".py",
   "mimetype": "text/x-python",
   "name": "python",
   "nbconvert_exporter": "python",
   "pygments_lexer": "ipython3",
   "version": "3.11.9"
  }
 },
 "nbformat": 4,
 "nbformat_minor": 5
}
