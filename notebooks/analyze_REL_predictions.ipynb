{
 "cells": [
  {
   "cell_type": "code",
   "execution_count": 1,
   "id": "f48915c3-2af7-431b-96c8-7ac1fae87fef",
   "metadata": {},
   "outputs": [],
   "source": [
    "import pandas as pd\n",
    "pd.set_option('display.max_rows', 300)  # Shows up to 50 rows"
   ]
  },
  {
   "cell_type": "code",
   "execution_count": 2,
   "id": "45a133f6-978f-4d60-b434-2b334a913a54",
   "metadata": {},
   "outputs": [
    {
     "name": "stderr",
     "output_type": "stream",
     "text": [
      "/scratch/slurm_tmpdir/job_23475869/ipykernel_406896/833439689.py:1: DtypeWarning: Columns (3) have mixed types. Specify dtype option on import or set low_memory=False.\n",
      "  vertices = pd.read_csv(\"../../preds1000/strainselect/StrainSelect21_vertices.tab.txt\",sep=\"\\t\")\n"
     ]
    }
   ],
   "source": [
    "vertices = pd.read_csv(\"../../preds1000/strainselect/StrainSelect21_vertices.tab.txt\",sep=\"\\t\")"
   ]
  },
  {
   "cell_type": "code",
   "execution_count": 3,
   "id": "7166b1d2-e2b0-4bf0-ae6a-74eecd67b9b2",
   "metadata": {},
   "outputs": [
    {
     "data": {
      "text/html": [
       "<div>\n",
       "<style scoped>\n",
       "    .dataframe tbody tr th:only-of-type {\n",
       "        vertical-align: middle;\n",
       "    }\n",
       "\n",
       "    .dataframe tbody tr th {\n",
       "        vertical-align: top;\n",
       "    }\n",
       "\n",
       "    .dataframe thead th {\n",
       "        text-align: right;\n",
       "    }\n",
       "</style>\n",
       "<table border=\"1\" class=\"dataframe\">\n",
       "  <thead>\n",
       "    <tr style=\"text-align: right;\">\n",
       "      <th></th>\n",
       "      <th>vertex</th>\n",
       "      <th>vertex_type</th>\n",
       "      <th>StrainSelectID</th>\n",
       "      <th>StrainSelectID_2019</th>\n",
       "    </tr>\n",
       "  </thead>\n",
       "  <tbody>\n",
       "    <tr>\n",
       "      <th>383</th>\n",
       "      <td>bc_GCF_900156605</td>\n",
       "      <td>biocyc_pgdb</td>\n",
       "      <td>t__82328</td>\n",
       "      <td>t__82328</td>\n",
       "    </tr>\n",
       "    <tr>\n",
       "      <th>412</th>\n",
       "      <td>bc_GCF_000175095</td>\n",
       "      <td>biocyc_pgdb</td>\n",
       "      <td>t__91908</td>\n",
       "      <td>t__91908</td>\n",
       "    </tr>\n",
       "    <tr>\n",
       "      <th>626</th>\n",
       "      <td>bc_GCF_000204255</td>\n",
       "      <td>biocyc_pgdb</td>\n",
       "      <td>t__78622</td>\n",
       "      <td>NaN</td>\n",
       "    </tr>\n",
       "    <tr>\n",
       "      <th>672</th>\n",
       "      <td>bc_GCF_002895085</td>\n",
       "      <td>biocyc_pgdb</td>\n",
       "      <td>t__86926</td>\n",
       "      <td>NaN</td>\n",
       "    </tr>\n",
       "    <tr>\n",
       "      <th>876</th>\n",
       "      <td>bc_GCF_000186445-HMP</td>\n",
       "      <td>biocyc_pgdb</td>\n",
       "      <td>t__10063</td>\n",
       "      <td>t__10063</td>\n",
       "    </tr>\n",
       "    <tr>\n",
       "      <th>...</th>\n",
       "      <td>...</td>\n",
       "      <td>...</td>\n",
       "      <td>...</td>\n",
       "      <td>...</td>\n",
       "    </tr>\n",
       "    <tr>\n",
       "      <th>3509930</th>\n",
       "      <td>bc_GCF_003992725</td>\n",
       "      <td>biocyc_pgdb</td>\n",
       "      <td>t__248431</td>\n",
       "      <td>NaN</td>\n",
       "    </tr>\n",
       "    <tr>\n",
       "      <th>3611844</th>\n",
       "      <td>bc_GCF_003990445</td>\n",
       "      <td>biocyc_pgdb</td>\n",
       "      <td>t__214759</td>\n",
       "      <td>NaN</td>\n",
       "    </tr>\n",
       "    <tr>\n",
       "      <th>3638883</th>\n",
       "      <td>bc_GCF_002165375</td>\n",
       "      <td>biocyc_pgdb</td>\n",
       "      <td>t__487735</td>\n",
       "      <td>NaN</td>\n",
       "    </tr>\n",
       "    <tr>\n",
       "      <th>3936688</th>\n",
       "      <td>bc_GCF_900156305</td>\n",
       "      <td>biocyc_pgdb</td>\n",
       "      <td>t__315881</td>\n",
       "      <td>NaN</td>\n",
       "    </tr>\n",
       "    <tr>\n",
       "      <th>4001471</th>\n",
       "      <td>bc_GCF_000318055</td>\n",
       "      <td>biocyc_pgdb</td>\n",
       "      <td>t__560250</td>\n",
       "      <td>NaN</td>\n",
       "    </tr>\n",
       "  </tbody>\n",
       "</table>\n",
       "<p>17505 rows × 4 columns</p>\n",
       "</div>"
      ],
      "text/plain": [
       "                       vertex  vertex_type StrainSelectID StrainSelectID_2019\n",
       "383          bc_GCF_900156605  biocyc_pgdb       t__82328            t__82328\n",
       "412          bc_GCF_000175095  biocyc_pgdb       t__91908            t__91908\n",
       "626          bc_GCF_000204255  biocyc_pgdb       t__78622                 NaN\n",
       "672          bc_GCF_002895085  biocyc_pgdb       t__86926                 NaN\n",
       "876      bc_GCF_000186445-HMP  biocyc_pgdb       t__10063            t__10063\n",
       "...                       ...          ...            ...                 ...\n",
       "3509930      bc_GCF_003992725  biocyc_pgdb      t__248431                 NaN\n",
       "3611844      bc_GCF_003990445  biocyc_pgdb      t__214759                 NaN\n",
       "3638883      bc_GCF_002165375  biocyc_pgdb      t__487735                 NaN\n",
       "3936688      bc_GCF_900156305  biocyc_pgdb      t__315881                 NaN\n",
       "4001471      bc_GCF_000318055  biocyc_pgdb      t__560250                 NaN\n",
       "\n",
       "[17505 rows x 4 columns]"
      ]
     },
     "execution_count": 3,
     "metadata": {},
     "output_type": "execute_result"
    }
   ],
   "source": [
    "vertices[vertices.vertex_type==\"biocyc_pgdb\"]"
   ]
  },
  {
   "cell_type": "code",
   "execution_count": 10,
   "id": "447dfeff-e6be-49f6-8501-b95caf60e69e",
   "metadata": {},
   "outputs": [
    {
     "data": {
      "text/plain": [
       "vertex_type\n",
       "g16               884828\n",
       "gss               878311\n",
       "contig            720657\n",
       "gb_assembly       275232\n",
       "rs_assembly       259195\n",
       "wgs_master_pre    245975\n",
       "patric_genome     234506\n",
       "gold_org          195479\n",
       "si_culture_id     142317\n",
       "brc_cat_id        117202\n",
       "si_grouping_id     24298\n",
       "biocyc_pgdb        17505\n",
       "kegg_genome         6794\n",
       "sg_assembly           10\n",
       "Name: count, dtype: int64"
      ]
     },
     "execution_count": 10,
     "metadata": {},
     "output_type": "execute_result"
    }
   ],
   "source": [
    "vertices.vertex_type.value_counts()"
   ]
  },
  {
   "cell_type": "code",
   "execution_count": 25,
   "id": "a1910c44-e91e-41dd-9f28-9b1c07b2664c",
   "metadata": {},
   "outputs": [
    {
     "data": {
      "text/plain": [
       "vertex_type\n",
       "gb_assembly    275232\n",
       "biocyc_pgdb         7\n",
       "Name: count, dtype: int64"
      ]
     },
     "execution_count": 25,
     "metadata": {},
     "output_type": "execute_result"
    }
   ],
   "source": [
    "vertices[vertices.vertex.str.contains(\"GCA_\")].vertex_type.value_counts()"
   ]
  },
  {
   "cell_type": "code",
   "execution_count": 5,
   "id": "6f91c462-bc73-4280-bd9c-ea03d26faa9a",
   "metadata": {},
   "outputs": [],
   "source": [
    "df = pd.read_parquet(\"../../preds1000/REL_output/preds_strainselect.parquet\")"
   ]
  },
  {
   "cell_type": "code",
   "execution_count": 34,
   "id": "db1c857a-e5ff-43c1-b465-6bdaf177b334",
   "metadata": {},
   "outputs": [
    {
     "data": {
      "text/plain": [
       "(53870,)"
      ]
     },
     "execution_count": 34,
     "metadata": {},
     "output_type": "execute_result"
    }
   ],
   "source": [
    "df.StrainSelectID.unique().shape"
   ]
  },
  {
   "cell_type": "code",
   "execution_count": 7,
   "id": "a09d4e10-a85c-4891-8ff6-721dfc1fcdde",
   "metadata": {},
   "outputs": [
    {
     "data": {
      "text/plain": [
       "vertex_type\n",
       "gss               763849\n",
       "brc_cat_id         10021\n",
       "contig              9266\n",
       "wgs_master_pre      2110\n",
       "biocyc_pgdb         1301\n",
       "si_culture_id        975\n",
       "g16                  727\n",
       "si_grouping_id       187\n",
       "kegg_genome           71\n",
       "Name: count, dtype: int64"
      ]
     },
     "execution_count": 7,
     "metadata": {},
     "output_type": "execute_result"
    }
   ],
   "source": [
    "df.vertex_type.value_counts()"
   ]
  },
  {
   "cell_type": "code",
   "execution_count": 11,
   "id": "463eb7f3-0ef6-49f4-9e27-58fce415f22d",
   "metadata": {},
   "outputs": [
    {
     "data": {
      "text/plain": [
       "{'gb_assembly', 'gold_org', 'patric_genome', 'rs_assembly', 'sg_assembly'}"
      ]
     },
     "execution_count": 11,
     "metadata": {},
     "output_type": "execute_result"
    }
   ],
   "source": [
    "set(vertices.vertex_type.value_counts().index).difference(set(df.vertex_type.value_counts().index))"
   ]
  },
  {
   "cell_type": "code",
   "execution_count": 57,
   "id": "cf36e6df-ce7d-4bff-967d-9707741d0f08",
   "metadata": {},
   "outputs": [],
   "source": [
    "short_df = df[df.text.str.len() < 150]"
   ]
  },
  {
   "cell_type": "code",
   "execution_count": 58,
   "id": "0160664c-c503-403c-bc20-a9c2b83bce83",
   "metadata": {},
   "outputs": [],
   "source": [
    "short_df[short_df.rel==\"STRAIN-DISEASE:ASSOCIATED_WITH\"].to_csv(\"test.csv\")"
   ]
  },
  {
   "cell_type": "code",
   "execution_count": null,
   "id": "fe1ae293-741a-4cf6-8aea-1a26d0fe5866",
   "metadata": {},
   "outputs": [],
   "source": []
  }
 ],
 "metadata": {
  "kernelspec": {
   "display_name": "Python (base)",
   "language": "python",
   "name": "base"
  },
  "language_info": {
   "codemirror_mode": {
    "name": "ipython",
    "version": 3
   },
   "file_extension": ".py",
   "mimetype": "text/x-python",
   "name": "python",
   "nbconvert_exporter": "python",
   "pygments_lexer": "ipython3",
   "version": "3.11.8"
  }
 },
 "nbformat": 4,
 "nbformat_minor": 5
}
