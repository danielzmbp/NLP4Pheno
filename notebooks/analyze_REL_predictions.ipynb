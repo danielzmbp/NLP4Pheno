{
 "cells": [
  {
   "cell_type": "code",
   "execution_count": 1,
   "id": "f48915c3-2af7-431b-96c8-7ac1fae87fef",
   "metadata": {},
   "outputs": [],
   "source": [
    "import pandas as pd\n",
    "pd.set_option('display.max_rows', 300)  # Shows up to 50 rows"
   ]
  },
  {
   "cell_type": "code",
   "execution_count": 2,
   "id": "45a133f6-978f-4d60-b434-2b334a913a54",
   "metadata": {},
   "outputs": [
    {
     "name": "stderr",
     "output_type": "stream",
     "text": [
      "/scratch/slurm_tmpdir/job_23519316/ipykernel_575003/833439689.py:1: DtypeWarning: Columns (3) have mixed types. Specify dtype option on import or set low_memory=False.\n",
      "  vertices = pd.read_csv(\"../../preds1000/strainselect/StrainSelect21_vertices.tab.txt\",sep=\"\\t\")\n"
     ]
    }
   ],
   "source": [
    "vertices = pd.read_csv(\"../../preds1000/strainselect/StrainSelect21_vertices.tab.txt\",sep=\"\\t\")"
   ]
  },
  {
   "cell_type": "code",
   "execution_count": 3,
   "id": "447dfeff-e6be-49f6-8501-b95caf60e69e",
   "metadata": {},
   "outputs": [
    {
     "data": {
      "text/plain": [
       "vertex_type\n",
       "g16               884828\n",
       "gss               878311\n",
       "contig            720657\n",
       "gb_assembly       275232\n",
       "rs_assembly       259195\n",
       "wgs_master_pre    245975\n",
       "patric_genome     234506\n",
       "gold_org          195479\n",
       "si_culture_id     142317\n",
       "brc_cat_id        117202\n",
       "si_grouping_id     24298\n",
       "biocyc_pgdb        17505\n",
       "kegg_genome         6794\n",
       "sg_assembly           10\n",
       "Name: count, dtype: int64"
      ]
     },
     "execution_count": 3,
     "metadata": {},
     "output_type": "execute_result"
    }
   ],
   "source": [
    "vertices.vertex_type.value_counts()"
   ]
  },
  {
   "cell_type": "code",
   "execution_count": 4,
   "id": "a1910c44-e91e-41dd-9f28-9b1c07b2664c",
   "metadata": {},
   "outputs": [
    {
     "data": {
      "text/plain": [
       "vertex_type\n",
       "gb_assembly    275232\n",
       "biocyc_pgdb         7\n",
       "Name: count, dtype: int64"
      ]
     },
     "execution_count": 4,
     "metadata": {},
     "output_type": "execute_result"
    }
   ],
   "source": [
    "vertices[vertices.vertex.str.contains(\"GCA_\")].vertex_type.value_counts()"
   ]
  },
  {
   "cell_type": "code",
   "execution_count": 5,
   "id": "6f91c462-bc73-4280-bd9c-ea03d26faa9a",
   "metadata": {},
   "outputs": [],
   "source": [
    "df = pd.read_parquet(\"../../preds1000/REL_output/preds_strainselect.parquet\")"
   ]
  },
  {
   "cell_type": "code",
   "execution_count": 6,
   "id": "5b4eaa0f-9f64-4c18-a960-23c14da11b32",
   "metadata": {},
   "outputs": [],
   "source": [
    "d = pd.read_parquet(\"../../preds920/REL_output/preds_strainselect.parquet\")"
   ]
  },
  {
   "cell_type": "code",
   "execution_count": 7,
   "id": "db1c857a-e5ff-43c1-b465-6bdaf177b334",
   "metadata": {},
   "outputs": [
    {
     "data": {
      "text/plain": [
       "(53870,)"
      ]
     },
     "execution_count": 7,
     "metadata": {},
     "output_type": "execute_result"
    }
   ],
   "source": [
    "df.StrainSelectID.unique().shape"
   ]
  },
  {
   "cell_type": "code",
   "execution_count": 8,
   "id": "04b994e0-7008-483b-bbab-9b8404e5699e",
   "metadata": {},
   "outputs": [
    {
     "data": {
      "text/plain": [
       "(54579,)"
      ]
     },
     "execution_count": 8,
     "metadata": {},
     "output_type": "execute_result"
    }
   ],
   "source": [
    "d.StrainSelectID.unique().shape"
   ]
  },
  {
   "cell_type": "code",
   "execution_count": 9,
   "id": "a1774f6a-4da0-40bb-98c8-a1e5f67a44a0",
   "metadata": {},
   "outputs": [
    {
     "data": {
      "text/plain": [
       "vertex_type\n",
       "gss               807168\n",
       "brc_cat_id         11854\n",
       "contig             10709\n",
       "wgs_master_pre      2826\n",
       "biocyc_pgdb         1277\n",
       "si_culture_id        786\n",
       "g16                  442\n",
       "si_grouping_id       104\n",
       "Name: count, dtype: int64"
      ]
     },
     "execution_count": 9,
     "metadata": {},
     "output_type": "execute_result"
    }
   ],
   "source": [
    "d.vertex_type.value_counts()"
   ]
  },
  {
   "cell_type": "code",
   "execution_count": 10,
   "id": "a09d4e10-a85c-4891-8ff6-721dfc1fcdde",
   "metadata": {},
   "outputs": [
    {
     "data": {
      "text/plain": [
       "vertex_type\n",
       "gss               763849\n",
       "brc_cat_id         10021\n",
       "contig              9266\n",
       "wgs_master_pre      2110\n",
       "biocyc_pgdb         1301\n",
       "si_culture_id        975\n",
       "g16                  727\n",
       "si_grouping_id       187\n",
       "kegg_genome           71\n",
       "Name: count, dtype: int64"
      ]
     },
     "execution_count": 10,
     "metadata": {},
     "output_type": "execute_result"
    }
   ],
   "source": [
    "df.vertex_type.value_counts()"
   ]
  },
  {
   "cell_type": "code",
   "execution_count": 11,
   "id": "32d78690-66d9-4383-ba12-5947d18b357d",
   "metadata": {},
   "outputs": [
    {
     "data": {
      "text/plain": [
       "{'gb_assembly', 'gold_org', 'patric_genome', 'rs_assembly', 'sg_assembly'}"
      ]
     },
     "execution_count": 11,
     "metadata": {},
     "output_type": "execute_result"
    }
   ],
   "source": [
    "set(vertices.vertex_type.value_counts().index).difference(set(df.vertex_type.value_counts().index))"
   ]
  },
  {
   "cell_type": "code",
   "execution_count": 12,
   "id": "463eb7f3-0ef6-49f4-9e27-58fce415f22d",
   "metadata": {},
   "outputs": [
    {
     "data": {
      "text/plain": [
       "{'gb_assembly',\n",
       " 'gold_org',\n",
       " 'kegg_genome',\n",
       " 'patric_genome',\n",
       " 'rs_assembly',\n",
       " 'sg_assembly'}"
      ]
     },
     "execution_count": 12,
     "metadata": {},
     "output_type": "execute_result"
    }
   ],
   "source": [
    "set(vertices.vertex_type.value_counts().index).difference(set(d.vertex_type.value_counts().index))"
   ]
  },
  {
   "cell_type": "code",
   "execution_count": 13,
   "id": "cf36e6df-ce7d-4bff-967d-9707741d0f08",
   "metadata": {},
   "outputs": [],
   "source": [
    "short_df = df[df.text.str.len() < 150]"
   ]
  },
  {
   "cell_type": "code",
   "execution_count": 16,
   "id": "e09ae071-db11-40e6-bb74-d127a56446c8",
   "metadata": {},
   "outputs": [],
   "source": [
    "re=\"STRAIN-COMPOUND:PRODUCES\""
   ]
  },
  {
   "cell_type": "code",
   "execution_count": 17,
   "id": "0160664c-c503-403c-bc20-a9c2b83bce83",
   "metadata": {},
   "outputs": [],
   "source": [
    "df[df.rel==re].sort_values(\"word_qc\").to_csv(f\"network_files/{re}.csv\")"
   ]
  },
  {
   "cell_type": "code",
   "execution_count": null,
   "id": "1ce24f55-2587-4e4c-a237-5a32ad461983",
   "metadata": {},
   "outputs": [],
   "source": []
  }
 ],
 "metadata": {
  "kernelspec": {
   "display_name": "Python (base)",
   "language": "python",
   "name": "base"
  },
  "language_info": {
   "codemirror_mode": {
    "name": "ipython",
    "version": 3
   },
   "file_extension": ".py",
   "mimetype": "text/x-python",
   "name": "python",
   "nbconvert_exporter": "python",
   "pygments_lexer": "ipython3",
   "version": "3.11.8"
  }
 },
 "nbformat": 4,
 "nbformat_minor": 5
}
